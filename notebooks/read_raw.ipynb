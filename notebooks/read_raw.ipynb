{
 "cells": [
  {
   "cell_type": "code",
   "execution_count": 1,
   "metadata": {},
   "outputs": [
    {
     "name": "stderr",
     "output_type": "stream",
     "text": [
      "<frozen importlib._bootstrap>:219: RuntimeWarning: scipy._lib.messagestream.MessageStream size changed, may indicate binary incompatibility. Expected 56 from C header, got 64 from PyObject\n"
     ]
    }
   ],
   "source": [
    "from skimage.io import imread\n",
    "from skimage.io.collection import alphanumeric_key\n",
    "from dask import delayed\n",
    "from glob import glob\n",
    "import dask.array as da\n",
    "import matplotlib.pyplot as plt\n",
    "import numpy as np\n",
    "import napari\n",
    "from napari import Viewer\n",
    "from napari.utils import nbscreenshot\n",
    "import os\n",
    "\n",
    "from skimage.registration import phase_cross_correlation\n",
    "from skimage.transform import SimilarityTransform\n",
    "import cv2 as cv\n",
    "from skimage import io\n",
    "from PyQt5 import QtCore\n",
    "import cupy as cp \n",
    "\n",
    "import imagej\n",
    "%gui qt \n",
    "%matplotlib inline\n"
   ]
  },
  {
   "cell_type": "code",
   "execution_count": 7,
   "metadata": {},
   "outputs": [],
   "source": [
    "# main_folder = r'E:\\Ed\\PSFCheck\\20220318_Grid\\20220318_M25_1'\n",
    "main_folder = r'E:\\Ed\\PSF_defocus\\20220311_M25_tamron_m25v2mfg2_3rows\\20220311_M25_PSF4'\n",
    "# main_folder = r'E:\\Ed\\PSF_defocus\\20220315_M25_MFGlowindex\\20220315_M25_PSF1'\n",
    "# main_folder = r'E:\\Ed\\Data\\test_flies\\20220322_M25_larvae_05'\n",
    "\n",
    "# folder = r'E:\\Ed\\PSF\\20220124_M25_allcameras\\CAM_Z2'\n",
    "# file_extension = folder + '/' + '*.raw'\n",
    "folder_names = sorted(glob(main_folder+ '/CAM*/'), key=alphanumeric_key)\n",
    "offsets_file = os.path.join(main_folder,\"offsets.csv\")\n",
    "\n",
    "# file_names = sorted(glob(file_extension),key=alphanumeric_key)"
   ]
  },
  {
   "cell_type": "code",
   "execution_count": null,
   "metadata": {},
   "outputs": [],
   "source": [
    "# Load offsets from desired folder \n",
    "main_folder = r'E:\\Ed\\PSF_defocus\\20220318_M25_tamronall24cams_mfgno2\\20220318_M25_PSF2'\n",
    "offsets_file_load = os.path.join(main_folder,\"offsets.csv\")\n",
    "with open(offsets_file_load) as file_name:\n",
    "    offsets = np.loadtxt(file_name, delimiter=\",\")"
   ]
  },
  {
   "cell_type": "code",
   "execution_count": 4,
   "metadata": {},
   "outputs": [],
   "source": [
    "# Read RAW files and return Dask Array\n",
    "def imread_raw(raw_file, width=960, height=600, px_size='uint16'):\n",
    "    raw_img = np.fromfile(raw_file, dtype= px_size)\n",
    "    raw_reshape =np.reshape(raw_img,(1,height,width))\n",
    "    return da.from_array(raw_reshape)\n",
    "\n",
    "# # Read RAW files and return Dask Array\n",
    "# def imread_raw(raw_file, width=960, height=600, px_size='uint8'):\n",
    "#     raw_img = np.fromfile(raw_file, dtype= px_size)\n",
    "#     raw_reshape =np.reshape(raw_img,(1,height,width))\n",
    "#     return da.from_array(raw_reshape)\n",
    "\n",
    "def dask_raw_ds(folder_name,px_depth):\n",
    "    file_extension = folder_name + '/' + '*.raw'\n",
    "    file_names = sorted(glob(file_extension),key=alphanumeric_key)\n",
    "    raw_ds = [ imread_raw(fn,960,600,px_size= px_depth) for fn in file_names]\n",
    "    # dask_raw_ds = da.stack(raw_ds,axis=1)\n",
    "    return raw_ds"
   ]
  },
  {
   "cell_type": "code",
   "execution_count": 5,
   "metadata": {},
   "outputs": [],
   "source": [
    "px_depth = 'uint16'\n",
    "# px_depth = 'uint8'\n",
    "height = 600\n",
    "width =960\n",
    "\n",
    "raw_M25_volume = [dask_raw_ds(fd,px_depth) for fd in folder_names]\n",
    "stack = da.concatenate(raw_M25_volume, axis=1)\n",
    "# stack_max_projection= np.array([ da.max(stack[:,i,:,:],axis=0) for i in range(stack.shape[1])])\n"
   ]
  },
  {
   "cell_type": "code",
   "execution_count": 6,
   "metadata": {},
   "outputs": [
    {
     "data": {
      "text/plain": [
       "<Image layer 'stack' at 0x21a2a7ff5b0>"
      ]
     },
     "execution_count": 6,
     "metadata": {},
     "output_type": "execute_result"
    }
   ],
   "source": [
    "viewer=napari.Viewer()\n",
    "viewer.add_image(stack)"
   ]
  },
  {
   "cell_type": "code",
   "execution_count": 7,
   "metadata": {},
   "outputs": [],
   "source": [
    "def registration(img_stack,ref_index):\n",
    "    t,c,h,w =img_stack.shape\n",
    "    stack_max_projection= np.array([ da.max(img_stack[:,i,:,:],axis=0) for i in range(img_stack.shape[1])])\n",
    "    offset = np.array([phase_cross_correlation(stack_max_projection[ref_index], stack_max_projection[i]) for i in range(stack_max_projection.shape[0])],dtype=object)\n",
    "    offset = offset[0:c,0]\n",
    "    offset_coords = np.stack(offset[0:,],axis=0)\n",
    "    return offset_coords\n",
    "\n",
    "def align_projections(img_stack,offsets):\n",
    "    stack_max_projection= np.array([ da.max(img_stack[:,i,:,:],axis=0) for i in range(img_stack.shape[1])])\n",
    "    shifted= np.zeros_like(stack_max_projection)\n",
    "    for i in range(img_stack.shape[1]):\n",
    "        x_offset,y_offset = offsets[i]\n",
    "        M = np.float32([\n",
    "        [1, 0, y_offset],\n",
    "        [0, 1, x_offset]\n",
    "        ])\n",
    "        stack_max_projection= np.float32(stack_max_projection)\n",
    "        # print(M)\n",
    "        shifted[i] = cv.warpAffine(stack_max_projection[i],M,(stack_max_projection[i].shape[1],stack_max_projection[i].shape[0]))\n",
    "    return shifted\n",
    "\n",
    "def align_stack(img_stack,offsets):\n",
    "    shifted= np.zeros_like(img_stack)\n",
    "    print(img_stack.shape)\n",
    "    width = img_stack.shape[3] \n",
    "    height = img_stack.shape[2]\n",
    "    img_stack= np.float32(img_stack)\n",
    "    for i in range(img_stack.shape[1] ):\n",
    "        x_offset,y_offset = offsets[i,0]\n",
    "        M = np.float32([\n",
    "        [1, 0, y_offset],\n",
    "        [0, 1, x_offset]\n",
    "        ])\n",
    "        \n",
    "        for j in range(img_stack.shape[0]):\n",
    "            shifted[j,i] = cv.warpAffine(img_stack[j,i],M,(width,height))\n",
    "    \n",
    "    return shifted\n",
    "\n",
    "\n",
    "def np_align_stack(image_stack,offsets):\n",
    "    from scipy.ndimage import shift \n",
    "    t,c,h,w = image_stack.shape\n",
    "    \n",
    "    shift_stack = np.zeros_like(image_stack)\n",
    "    columns = np.zeros((offsets.shape[0],1))\n",
    "    shift_stack_coord = np.hstack((columns,offsets))\n",
    "    for i in range(c):\n",
    "        shift_stack[:,i,:,:] = shift(image_stack[:,i,:,:],shift_stack_coord[i])\n",
    "    return shift_stack\n",
    "\n",
    "## Problem with this functino is that it doesnt de-allocate the memory from GPU so it will crash\n",
    "# def cp_align_stack(np_image_stack,offsets):\n",
    "#     import cupy as cp\n",
    "#     from cupyx.scipy.ndimage import shift \n",
    "#     image_stack = cp.array(np_image_stack)\n",
    "#     t,c,h,w = image_stack.shape\n",
    "#     shift_stack = cp.zeros_like(image_stack)\n",
    "#     columns = cp.zeros((offsets.shape[0],1))\n",
    "#     shift_stack_coord = cp.hstack((columns,offsets))\n",
    "#     for i in range(c):\n",
    "#         shift_stack[:,i,:,:] = shift(image_stack[:,i,:,:],shift_stack_coord[i])\n",
    "#     shift_stack = shift_stack.get()\n",
    "#     mempool = cp.get_default_memory_pool()\n",
    "#     pinned_mempool = cp.get_default_pinned_memory_pool()\n",
    "#     mempool.free_all_blocks()\n",
    "#     pinned_mempool.free_all_blocks()\n",
    "#     return shift_stack\n",
    "\n",
    "def cp_align(np_image_stack, offsets):\n",
    "    from cupyx.scipy.ndimage import shift\n",
    "    t,c,h,w = np_image_stack.shape\n",
    "    shift_stack_cam = cp.zeros((c,h,w))\n",
    "    shift_stack_output = []\n",
    "    columns = cp.zeros((offsets.shape[0],1))\n",
    "    shift_stack_coord = cp.hstack((columns,offsets))\n",
    "    \n",
    "    for i in range(c):\n",
    "        cam_stack = cp.array(np_image_stack[:,i,:,:])\n",
    "        shift_stack_cam= shift(cam_stack,shift_stack_coord[i])\n",
    "        shift_stack_output.append(cp.asnumpy(shift_stack_cam))\n",
    "        # TODO: Check  this is proper way of transfering from GPU to CPU\n",
    "        shift_stack_cam = None\n",
    "        cam_stack = None\n",
    "        # print(\"post\")\n",
    "    shift_stack_coord = None\n",
    "    aligned_stack = np.array(shift_stack_output)\n",
    "    return np.moveaxis(aligned_stack,0,1)\n",
    "    # return shift_stack_output\n",
    "\n",
    "def cuda_mem_info(device_id =0):\n",
    "    with cp.cuda.Device(device_id):\n",
    "        mempool = cp.get_default_memory_pool()\n",
    "        pinned_mempool = cp.get_default_pinned_memory_pool()\n",
    "\n",
    "        print(mempool.used_bytes())              # \n",
    "        print(mempool.total_bytes())             #\n",
    "        print(pinned_mempool.n_free_blocks())    #\n",
    "\n",
    "def cuda_clear(device_id=0):\n",
    "    with cp.cuda.Device(device_id):\n",
    "        mempool = cp.get_default_memory_pool()\n",
    "        pinned_mempool = cp.get_default_pinned_memory_pool()\n",
    "        mempool.free_all_blocks()\n",
    "        pinned_mempool.free_all_blocks()\n",
    "        print(mempool.used_bytes())              # \n",
    "        print(mempool.total_bytes())             #\n",
    "        print(pinned_mempool.n_free_blocks())    #"
   ]
  },
  {
   "cell_type": "code",
   "execution_count": 8,
   "metadata": {},
   "outputs": [],
   "source": [
    "# viewer=napari.Viewer()\n",
    "# viewer.add_image(stack)"
   ]
  },
  {
   "cell_type": "code",
   "execution_count": 9,
   "metadata": {},
   "outputs": [],
   "source": [
    "\n",
    "def start_imagej():\n",
    "    global ij\n",
    "    ij = imagej.init(r'C:\\Users\\Callisto\\Documents\\edhirata\\software\\Fiji.app',headless=False)\n",
    "    ij.ui().showUI()\n",
    "    print(ij.getVersion())\n",
    "\n",
    "QtCore.QTimer.singleShot(0, start_imagej)"
   ]
  },
  {
   "cell_type": "code",
   "execution_count": 10,
   "metadata": {},
   "outputs": [
    {
     "name": "stdout",
     "output_type": "stream",
     "text": [
      "2.3.0/1.53f\n"
     ]
    },
    {
     "data": {
      "text/plain": [
       "<Image layer 'Image' at 0x21bb2436790>"
      ]
     },
     "execution_count": 10,
     "metadata": {},
     "output_type": "execute_result"
    }
   ],
   "source": [
    "# Align the files\n",
    "aligned_volume_cp = cp_align(stack,offsets)\n",
    "viewer.add_image(np.array(aligned_volume_cp))"
   ]
  },
  {
   "cell_type": "code",
   "execution_count": 8,
   "metadata": {},
   "outputs": [],
   "source": [
    "# def start_imagej():\n",
    "#     global ij\n",
    "#     ij = imagej.init(headless=False)\n",
    "#     ij.ui().showUI()\n",
    "#     print(ij.getVersion())\n",
    "\n",
    "# QtCore.QTimer.singleShot(0, start_imagej)"
   ]
  },
  {
   "cell_type": "code",
   "execution_count": 11,
   "metadata": {},
   "outputs": [],
   "source": [
    "ij_stack2  = ij.py.to_java(np.array(stack))\n",
    "ij.ui().show('stack2',ij_stack2)"
   ]
  },
  {
   "cell_type": "code",
   "execution_count": null,
   "metadata": {},
   "outputs": [],
   "source": [
    "#Get the Offsets and save in folder\n",
    "offsets = registration(stack,11)\n",
    "#Save the Offsets into the folder\n",
    "np.savetxt(offsets_file, offsets, delimiter=',')"
   ]
  },
  {
   "cell_type": "code",
   "execution_count": null,
   "metadata": {},
   "outputs": [],
   "source": [
    "# Align the files\n",
    "aligned_volume_cp = cp_align(stack,offsets)\n",
    "viewer.add_image(np.array(aligned_volume_cp))\n",
    "ij_stack2  = ij.py.to_java(np.array(aligned_volume_cp,dtype='uint16'))\n",
    "ij.ui().show('aligned_stack', ij_stack2)"
   ]
  },
  {
   "cell_type": "code",
   "execution_count": null,
   "metadata": {},
   "outputs": [],
   "source": [
    "aligned_volume_cp.shape\n",
    "cuda_mem_info()\n",
    "cuda_clear()"
   ]
  },
  {
   "cell_type": "code",
   "execution_count": 11,
   "metadata": {},
   "outputs": [],
   "source": [
    "ij_stack3  = ij.py.to_java(np.array(stack,dtype='uint16'))\n",
    "ij.ui().show('aligned_stack2', ij_stack3)"
   ]
  },
  {
   "cell_type": "markdown",
   "metadata": {},
   "source": []
  },
  {
   "cell_type": "markdown",
   "metadata": {},
   "source": [
    "## Lazy Loading"
   ]
  },
  {
   "cell_type": "code",
   "execution_count": 4,
   "metadata": {},
   "outputs": [],
   "source": [
    "from dask import delayed\n",
    "import dask"
   ]
  },
  {
   "cell_type": "code",
   "execution_count": 15,
   "metadata": {},
   "outputs": [],
   "source": [
    "main_folder = r'E:\\Ed\\Data\\20220412_celegans\\20220412_M25_OH125265_2_L1-4a' # 5 curled up some slow movement\n",
    "folder_names = sorted(glob(main_folder + '/CAM*/'), key=alphanumeric_key)"
   ]
  },
  {
   "cell_type": "code",
   "execution_count": 39,
   "metadata": {},
   "outputs": [],
   "source": [
    "@dask.delayed\n",
    "# Read RAW files and return Dask Array\n",
    "def lazy_imread_raw(raw_file, width=960, height=600, px_size='uint8'):\n",
    "    raw_img = np.fromfile(raw_file, dtype= px_size)\n",
    "    raw_reshape =np.reshape(raw_img,(1,height,width))\n",
    "    return raw_reshape\n",
    "\n"
   ]
  },
  {
   "cell_type": "code",
   "execution_count": 40,
   "metadata": {},
   "outputs": [
    {
     "name": "stdout",
     "output_type": "stream",
     "text": [
      "CPU times: total: 2.58 s\n",
      "Wall time: 2.57 s\n"
     ]
    },
    {
     "data": {
      "text/html": [
       "<table>\n",
       "    <tr>\n",
       "        <td>\n",
       "            <table>\n",
       "                <thead>\n",
       "                    <tr>\n",
       "                        <td> </td>\n",
       "                        <th> Array </th>\n",
       "                        <th> Chunk </th>\n",
       "                    </tr>\n",
       "                </thead>\n",
       "                <tbody>\n",
       "                    \n",
       "                    <tr>\n",
       "                        <th> Bytes </th>\n",
       "                        <td> 6.71 GiB </td>\n",
       "                        <td> 562.50 kiB </td>\n",
       "                    </tr>\n",
       "                    \n",
       "                    <tr>\n",
       "                        <th> Shape </th>\n",
       "                        <td> (500, 25, 600, 960) </td>\n",
       "                        <td> (1, 1, 600, 960) </td>\n",
       "                    </tr>\n",
       "                    <tr>\n",
       "                        <th> Count </th>\n",
       "                        <td> 50000 Tasks </td>\n",
       "                        <td> 12500 Chunks </td>\n",
       "                    </tr>\n",
       "                    <tr>\n",
       "                    <th> Type </th>\n",
       "                    <td> uint8 </td>\n",
       "                    <td> numpy.ndarray </td>\n",
       "                    </tr>\n",
       "                </tbody>\n",
       "            </table>\n",
       "        </td>\n",
       "        <td>\n",
       "        <svg width=\"451\" height=\"142\" style=\"stroke:rgb(0,0,0);stroke-width:1\" >\n",
       "\n",
       "  <!-- Horizontal lines -->\n",
       "  <line x1=\"0\" y1=\"0\" x2=\"62\" y2=\"0\" style=\"stroke-width:2\" />\n",
       "  <line x1=\"0\" y1=\"25\" x2=\"62\" y2=\"25\" style=\"stroke-width:2\" />\n",
       "\n",
       "  <!-- Vertical lines -->\n",
       "  <line x1=\"0\" y1=\"0\" x2=\"0\" y2=\"25\" style=\"stroke-width:2\" />\n",
       "  <line x1=\"1\" y1=\"0\" x2=\"1\" y2=\"25\" />\n",
       "  <line x1=\"3\" y1=\"0\" x2=\"3\" y2=\"25\" />\n",
       "  <line x1=\"5\" y1=\"0\" x2=\"5\" y2=\"25\" />\n",
       "  <line x1=\"7\" y1=\"0\" x2=\"7\" y2=\"25\" />\n",
       "  <line x1=\"9\" y1=\"0\" x2=\"9\" y2=\"25\" />\n",
       "  <line x1=\"11\" y1=\"0\" x2=\"11\" y2=\"25\" />\n",
       "  <line x1=\"13\" y1=\"0\" x2=\"13\" y2=\"25\" />\n",
       "  <line x1=\"15\" y1=\"0\" x2=\"15\" y2=\"25\" />\n",
       "  <line x1=\"17\" y1=\"0\" x2=\"17\" y2=\"25\" />\n",
       "  <line x1=\"19\" y1=\"0\" x2=\"19\" y2=\"25\" />\n",
       "  <line x1=\"21\" y1=\"0\" x2=\"21\" y2=\"25\" />\n",
       "  <line x1=\"23\" y1=\"0\" x2=\"23\" y2=\"25\" />\n",
       "  <line x1=\"25\" y1=\"0\" x2=\"25\" y2=\"25\" />\n",
       "  <line x1=\"27\" y1=\"0\" x2=\"27\" y2=\"25\" />\n",
       "  <line x1=\"29\" y1=\"0\" x2=\"29\" y2=\"25\" />\n",
       "  <line x1=\"31\" y1=\"0\" x2=\"31\" y2=\"25\" />\n",
       "  <line x1=\"33\" y1=\"0\" x2=\"33\" y2=\"25\" />\n",
       "  <line x1=\"35\" y1=\"0\" x2=\"35\" y2=\"25\" />\n",
       "  <line x1=\"37\" y1=\"0\" x2=\"37\" y2=\"25\" />\n",
       "  <line x1=\"39\" y1=\"0\" x2=\"39\" y2=\"25\" />\n",
       "  <line x1=\"41\" y1=\"0\" x2=\"41\" y2=\"25\" />\n",
       "  <line x1=\"42\" y1=\"0\" x2=\"42\" y2=\"25\" />\n",
       "  <line x1=\"44\" y1=\"0\" x2=\"44\" y2=\"25\" />\n",
       "  <line x1=\"46\" y1=\"0\" x2=\"46\" y2=\"25\" />\n",
       "  <line x1=\"48\" y1=\"0\" x2=\"48\" y2=\"25\" />\n",
       "  <line x1=\"50\" y1=\"0\" x2=\"50\" y2=\"25\" />\n",
       "  <line x1=\"52\" y1=\"0\" x2=\"52\" y2=\"25\" />\n",
       "  <line x1=\"54\" y1=\"0\" x2=\"54\" y2=\"25\" />\n",
       "  <line x1=\"56\" y1=\"0\" x2=\"56\" y2=\"25\" />\n",
       "  <line x1=\"58\" y1=\"0\" x2=\"58\" y2=\"25\" />\n",
       "  <line x1=\"60\" y1=\"0\" x2=\"60\" y2=\"25\" />\n",
       "  <line x1=\"62\" y1=\"0\" x2=\"62\" y2=\"25\" style=\"stroke-width:2\" />\n",
       "\n",
       "  <!-- Colored Rectangle -->\n",
       "  <polygon points=\"0.0,0.0 62.5,0.0 62.5,25.412616514582485 0.0,25.412616514582485\" style=\"fill:#8B4903A0;stroke-width:0\"/>\n",
       "\n",
       "  <!-- Text -->\n",
       "  <text x=\"31.250000\" y=\"45.412617\" font-size=\"1.0rem\" font-weight=\"100\" text-anchor=\"middle\" >500</text>\n",
       "  <text x=\"82.500000\" y=\"12.706308\" font-size=\"1.0rem\" font-weight=\"100\" text-anchor=\"middle\" transform=\"rotate(0,82.500000,12.706308)\">1</text>\n",
       "\n",
       "\n",
       "  <!-- Horizontal lines -->\n",
       "  <line x1=\"132\" y1=\"0\" x2=\"149\" y2=\"17\" style=\"stroke-width:2\" />\n",
       "  <line x1=\"132\" y1=\"75\" x2=\"149\" y2=\"92\" style=\"stroke-width:2\" />\n",
       "\n",
       "  <!-- Vertical lines -->\n",
       "  <line x1=\"132\" y1=\"0\" x2=\"132\" y2=\"75\" style=\"stroke-width:2\" />\n",
       "  <line x1=\"132\" y1=\"0\" x2=\"132\" y2=\"75\" />\n",
       "  <line x1=\"133\" y1=\"1\" x2=\"133\" y2=\"76\" />\n",
       "  <line x1=\"134\" y1=\"2\" x2=\"134\" y2=\"77\" />\n",
       "  <line x1=\"134\" y1=\"2\" x2=\"134\" y2=\"77\" />\n",
       "  <line x1=\"135\" y1=\"3\" x2=\"135\" y2=\"78\" />\n",
       "  <line x1=\"136\" y1=\"4\" x2=\"136\" y2=\"79\" />\n",
       "  <line x1=\"137\" y1=\"5\" x2=\"137\" y2=\"80\" />\n",
       "  <line x1=\"137\" y1=\"5\" x2=\"137\" y2=\"80\" />\n",
       "  <line x1=\"138\" y1=\"6\" x2=\"138\" y2=\"81\" />\n",
       "  <line x1=\"139\" y1=\"7\" x2=\"139\" y2=\"82\" />\n",
       "  <line x1=\"139\" y1=\"7\" x2=\"139\" y2=\"82\" />\n",
       "  <line x1=\"140\" y1=\"8\" x2=\"140\" y2=\"83\" />\n",
       "  <line x1=\"141\" y1=\"9\" x2=\"141\" y2=\"84\" />\n",
       "  <line x1=\"142\" y1=\"10\" x2=\"142\" y2=\"85\" />\n",
       "  <line x1=\"142\" y1=\"10\" x2=\"142\" y2=\"85\" />\n",
       "  <line x1=\"143\" y1=\"11\" x2=\"143\" y2=\"86\" />\n",
       "  <line x1=\"144\" y1=\"12\" x2=\"144\" y2=\"87\" />\n",
       "  <line x1=\"144\" y1=\"12\" x2=\"144\" y2=\"87\" />\n",
       "  <line x1=\"145\" y1=\"13\" x2=\"145\" y2=\"88\" />\n",
       "  <line x1=\"146\" y1=\"14\" x2=\"146\" y2=\"89\" />\n",
       "  <line x1=\"147\" y1=\"15\" x2=\"147\" y2=\"90\" />\n",
       "  <line x1=\"147\" y1=\"15\" x2=\"147\" y2=\"90\" />\n",
       "  <line x1=\"148\" y1=\"16\" x2=\"148\" y2=\"91\" />\n",
       "  <line x1=\"149\" y1=\"17\" x2=\"149\" y2=\"92\" />\n",
       "  <line x1=\"149\" y1=\"17\" x2=\"149\" y2=\"92\" style=\"stroke-width:2\" />\n",
       "\n",
       "  <!-- Colored Rectangle -->\n",
       "  <polygon points=\"132.0,0.0 149.97100252193027,17.971002521930277 149.97100252193027,92.97100252193027 132.0,75.0\" style=\"fill:#ECB172A0;stroke-width:0\"/>\n",
       "\n",
       "  <!-- Horizontal lines -->\n",
       "  <line x1=\"132\" y1=\"0\" x2=\"252\" y2=\"0\" style=\"stroke-width:2\" />\n",
       "  <line x1=\"132\" y1=\"0\" x2=\"252\" y2=\"0\" />\n",
       "  <line x1=\"133\" y1=\"1\" x2=\"253\" y2=\"1\" />\n",
       "  <line x1=\"134\" y1=\"2\" x2=\"254\" y2=\"2\" />\n",
       "  <line x1=\"134\" y1=\"2\" x2=\"254\" y2=\"2\" />\n",
       "  <line x1=\"135\" y1=\"3\" x2=\"255\" y2=\"3\" />\n",
       "  <line x1=\"136\" y1=\"4\" x2=\"256\" y2=\"4\" />\n",
       "  <line x1=\"137\" y1=\"5\" x2=\"257\" y2=\"5\" />\n",
       "  <line x1=\"137\" y1=\"5\" x2=\"257\" y2=\"5\" />\n",
       "  <line x1=\"138\" y1=\"6\" x2=\"258\" y2=\"6\" />\n",
       "  <line x1=\"139\" y1=\"7\" x2=\"259\" y2=\"7\" />\n",
       "  <line x1=\"139\" y1=\"7\" x2=\"259\" y2=\"7\" />\n",
       "  <line x1=\"140\" y1=\"8\" x2=\"260\" y2=\"8\" />\n",
       "  <line x1=\"141\" y1=\"9\" x2=\"261\" y2=\"9\" />\n",
       "  <line x1=\"142\" y1=\"10\" x2=\"262\" y2=\"10\" />\n",
       "  <line x1=\"142\" y1=\"10\" x2=\"262\" y2=\"10\" />\n",
       "  <line x1=\"143\" y1=\"11\" x2=\"263\" y2=\"11\" />\n",
       "  <line x1=\"144\" y1=\"12\" x2=\"264\" y2=\"12\" />\n",
       "  <line x1=\"144\" y1=\"12\" x2=\"264\" y2=\"12\" />\n",
       "  <line x1=\"145\" y1=\"13\" x2=\"265\" y2=\"13\" />\n",
       "  <line x1=\"146\" y1=\"14\" x2=\"266\" y2=\"14\" />\n",
       "  <line x1=\"147\" y1=\"15\" x2=\"267\" y2=\"15\" />\n",
       "  <line x1=\"147\" y1=\"15\" x2=\"267\" y2=\"15\" />\n",
       "  <line x1=\"148\" y1=\"16\" x2=\"268\" y2=\"16\" />\n",
       "  <line x1=\"149\" y1=\"17\" x2=\"269\" y2=\"17\" />\n",
       "  <line x1=\"149\" y1=\"17\" x2=\"269\" y2=\"17\" style=\"stroke-width:2\" />\n",
       "\n",
       "  <!-- Vertical lines -->\n",
       "  <line x1=\"132\" y1=\"0\" x2=\"149\" y2=\"17\" style=\"stroke-width:2\" />\n",
       "  <line x1=\"252\" y1=\"0\" x2=\"269\" y2=\"17\" style=\"stroke-width:2\" />\n",
       "\n",
       "  <!-- Colored Rectangle -->\n",
       "  <polygon points=\"132.0,0.0 252.0,0.0 269.9710025219303,17.971002521930277 149.97100252193027,17.971002521930277\" style=\"fill:#ECB172A0;stroke-width:0\"/>\n",
       "\n",
       "  <!-- Horizontal lines -->\n",
       "  <line x1=\"149\" y1=\"17\" x2=\"269\" y2=\"17\" style=\"stroke-width:2\" />\n",
       "  <line x1=\"149\" y1=\"92\" x2=\"269\" y2=\"92\" style=\"stroke-width:2\" />\n",
       "\n",
       "  <!-- Vertical lines -->\n",
       "  <line x1=\"149\" y1=\"17\" x2=\"149\" y2=\"92\" style=\"stroke-width:2\" />\n",
       "  <line x1=\"269\" y1=\"17\" x2=\"269\" y2=\"92\" style=\"stroke-width:2\" />\n",
       "\n",
       "  <!-- Colored Rectangle -->\n",
       "  <polygon points=\"149.97100252193027,17.971002521930277 269.97100252193025,17.971002521930277 269.97100252193025,92.97100252193027 149.97100252193027,92.97100252193027\" style=\"fill:#ECB172A0;stroke-width:0\"/>\n",
       "\n",
       "  <!-- Text -->\n",
       "  <text x=\"209.971003\" y=\"112.971003\" font-size=\"1.0rem\" font-weight=\"100\" text-anchor=\"middle\" >960</text>\n",
       "  <text x=\"289.971003\" y=\"55.471003\" font-size=\"1.0rem\" font-weight=\"100\" text-anchor=\"middle\" transform=\"rotate(-90,289.971003,55.471003)\">600</text>\n",
       "  <text x=\"130.985501\" y=\"103.985501\" font-size=\"1.0rem\" font-weight=\"100\" text-anchor=\"middle\" transform=\"rotate(45,130.985501,103.985501)\">25</text>\n",
       "</svg>\n",
       "        </td>\n",
       "    </tr>\n",
       "</table>"
      ],
      "text/plain": [
       "dask.array<concatenate, shape=(500, 25, 600, 960), dtype=uint8, chunksize=(1, 1, 600, 960), chunktype=numpy.ndarray>"
      ]
     },
     "execution_count": 40,
     "metadata": {},
     "output_type": "execute_result"
    }
   ],
   "source": [
    "%%time\n",
    "height =600\n",
    "width = 960 \n",
    "da_stack= []\n",
    "\n",
    "for folder_name in folder_names:\n",
    "    file_extension = folder_name + '/' + '*.raw'\n",
    "    file_names = sorted(glob(file_extension),key=alphanumeric_key)\n",
    "    sample =np.fromfile(file_names[0],dtype='uint8')\n",
    "    raw_reshape =np.reshape(sample,(1,height,width))\n",
    "    lazy_arrays = [lazy_imread_raw(fn) for fn in file_names]\n",
    "    dask_arrays = [da.from_delayed(delayed_reader, shape=raw_reshape.shape,dtype=raw_reshape.dtype) for delayed_reader in lazy_arrays]\n",
    "    # stack = da.concatenate(dask_arrays, axis=1)\n",
    "    da_stack.append(dask_arrays)\n",
    "stack = da.concatenate(da_stack,axis=1)\n",
    "stack"
   ]
  },
  {
   "cell_type": "code",
   "execution_count": 42,
   "metadata": {},
   "outputs": [
    {
     "data": {
      "text/plain": [
       "Viewer(axes=Axes(visible=False, labels=True, colored=True, dashed=False, arrows=True), camera=Camera(center=(0.0, 299.5, 479.5), zoom=1.2429166666666667, angles=(0.0, 0.0, 90.0), perspective=0.0, interactive=True), cursor=Cursor(position=(1.0, 1.0, 0.0, 0.0), scaled=True, size=1, style=<CursorStyle.STANDARD: 'standard'>), dims=Dims(ndim=4, ndisplay=2, last_used=0, range=((0.0, 500.0, 1.0), (0.0, 25.0, 1.0), (0.0, 600.0, 1.0), (0.0, 960.0, 1.0)), current_step=(250, 12, 300, 480), order=(0, 1, 2, 3), axis_labels=('0', '1', '2', '3')), grid=GridCanvas(stride=1, shape=(-1, -1), enabled=False), layers=[<Image layer 'stack' at 0x165b9ffda00>], scale_bar=ScaleBar(visible=False, colored=False, ticks=True, position=<Position.BOTTOM_RIGHT: 'bottom_right'>, font_size=10.0, unit=None), text_overlay=TextOverlay(visible=False, color=array([0.5, 0.5, 0.5, 1. ]), font_size=10.0, position=<TextOverlayPosition.TOP_LEFT: 'top_left'>, text=''), overlays=Overlays(interaction_box=InteractionBox(points=None, show=False, show_handle=False, show_vertices=False, selection_box_drag=None, selection_box_final=None, transform_start=<napari.utils.transforms.transforms.Affine object at 0x00000165E4D45550>, transform_drag=<napari.utils.transforms.transforms.Affine object at 0x00000165E4D455B0>, transform_final=<napari.utils.transforms.transforms.Affine object at 0x00000165E4D45610>, transform=<napari.utils.transforms.transforms.Affine object at 0x00000165E4D45670>, allow_new_selection=True, selected_vertex=None)), help='', status='Ready', tooltip=Tooltip(visible=False, text=''), theme='dark', title='napari', mouse_move_callbacks=[<function InteractionBoxMouseBindings.initialize_mouse_events.<locals>.mouse_move at 0x00000165BA03C310>], mouse_drag_callbacks=[<function InteractionBoxMouseBindings.initialize_mouse_events.<locals>.mouse_drag at 0x00000165BA026790>], mouse_double_click_callbacks=[], mouse_wheel_callbacks=[<function dims_scroll at 0x00000165B727ADC0>], _persisted_mouse_event={}, _mouse_drag_gen={}, _mouse_wheel_gen={}, keymap={'Shift': <function InteractionBoxMouseBindings.initialize_key_events.<locals>.hold_to_lock_aspect_ratio at 0x00000165BA0263A0>, 'Control-Shift-R': <function InteractionBoxMouseBindings._reset_active_layer_affine at 0x00000165BA026EE0>, 'Control-Shift-A': <function InteractionBoxMouseBindings._transform_active_layer at 0x00000165BA026CA0>})"
      ]
     },
     "execution_count": 42,
     "metadata": {},
     "output_type": "execute_result"
    },
    {
     "name": "stderr",
     "output_type": "stream",
     "text": [
      "Exception in callback BaseAsyncIOLoop._handle_events(7104, 1)\n",
      "handle: <Handle BaseAsyncIOLoop._handle_events(7104, 1)>\n",
      "Traceback (most recent call last):\n",
      "  File \"C:\\Users\\Callisto\\Anaconda3\\envs\\napari-pymmcore\\lib\\asyncio\\events.py\", line 81, in _run\n",
      "    self._context.run(self._callback, *self._args)\n",
      "  File \"C:\\Users\\Callisto\\Anaconda3\\envs\\napari-pymmcore\\lib\\site-packages\\tornado\\platform\\asyncio.py\", line 189, in _handle_events\n",
      "    handler_func(fileobj, events)\n",
      "  File \"C:\\Users\\Callisto\\Anaconda3\\envs\\napari-pymmcore\\lib\\site-packages\\zmq\\eventloop\\zmqstream.py\", line 452, in _handle_events\n",
      "    self._handle_recv()\n",
      "  File \"C:\\Users\\Callisto\\Anaconda3\\envs\\napari-pymmcore\\lib\\site-packages\\zmq\\eventloop\\zmqstream.py\", line 481, in _handle_recv\n",
      "    self._run_callback(callback, msg)\n",
      "  File \"C:\\Users\\Callisto\\Anaconda3\\envs\\napari-pymmcore\\lib\\site-packages\\zmq\\eventloop\\zmqstream.py\", line 431, in _run_callback\n",
      "    callback(*args, **kwargs)\n",
      "  File \"C:\\Users\\Callisto\\Anaconda3\\envs\\napari-pymmcore\\lib\\site-packages\\jupyter_client\\threaded.py\", line 121, in _handle_recv\n",
      "    msg_list = self.ioloop._asyncio_event_loop.run_until_complete(get_msg(future_msg))\n",
      "  File \"C:\\Users\\Callisto\\Anaconda3\\envs\\napari-pymmcore\\lib\\asyncio\\base_events.py\", line 592, in run_until_complete\n",
      "    self._check_running()\n",
      "  File \"C:\\Users\\Callisto\\Anaconda3\\envs\\napari-pymmcore\\lib\\asyncio\\base_events.py\", line 554, in _check_running\n",
      "    raise RuntimeError(\n",
      "RuntimeError: Cannot run the event loop while another loop is running\n"
     ]
    }
   ],
   "source": [
    "napari.view_image(stack,multiscale=False)"
   ]
  },
  {
   "cell_type": "code",
   "execution_count": 12,
   "metadata": {},
   "outputs": [],
   "source": [
    "@dask.delayed\n",
    "def load_dataset(main_folder,num_cams=25,px_depth='uint16'):\n",
    "    # px_depth = 'uint16'\n",
    "    # px_depth = 'uint8'\n",
    "    folder_names = sorted(glob(main_folder + '/CAM*/'), key=alphanumeric_key)\n",
    "    offset = np.floor(num_cams/2).astype(np.uint8)\n",
    "    raw_M25_volume = [dask_raw_ds(fd,px_depth) for fd in folder_names[12-offset:offset+12]]\n",
    "    stack = da.concatenate(raw_M25_volume, axis=1)\n",
    "    return stack\n",
    "\n",
    "\n",
    "    \n",
    "@dask.delayed\n",
    "def dask_raw_ds(folder_name,px_depth):\n",
    "    file_extension = folder_name + '/' + '*.raw'\n",
    "    file_names = sorted(glob(file_extension),key=alphanumeric_key)\n",
    "    raw_ds = [ imread_raw(fn,960,600,px_size= px_depth) for fn in file_names]\n",
    "    raw_ds = [da.from_delayed(delayed_reader,shape=sample.shape,dtype=sample.dtype)for delayed_reader in raw_ds]\n",
    "    # dask_raw_ds = da.stack(raw_ds,axis=1)\n",
    "    return raw_ds"
   ]
  },
  {
   "cell_type": "code",
   "execution_count": 14,
   "metadata": {},
   "outputs": [
    {
     "ename": "TypeError",
     "evalue": "Truth of Delayed objects is not supported",
     "output_type": "error",
     "traceback": [
      "\u001b[1;31m---------------------------------------------------------------------------\u001b[0m",
      "\u001b[1;31mTypeError\u001b[0m                                 Traceback (most recent call last)",
      "\u001b[1;32mc:\\Users\\Callisto\\Documents\\edhirata\\tutorials\\M25_napari\\notebooks\\read_raw.ipynb Cell 23'\u001b[0m in \u001b[0;36m<module>\u001b[1;34m\u001b[0m\n\u001b[0;32m      <a href='vscode-notebook-cell:/c%3A/Users/Callisto/Documents/edhirata/tutorials/M25_napari/notebooks/read_raw.ipynb#ch0000057?line=0'>1</a>\u001b[0m viewer\u001b[39m=\u001b[39mnapari\u001b[39m.\u001b[39mViewer()\n\u001b[1;32m----> <a href='vscode-notebook-cell:/c%3A/Users/Callisto/Documents/edhirata/tutorials/M25_napari/notebooks/read_raw.ipynb#ch0000057?line=1'>2</a>\u001b[0m viewer\u001b[39m.\u001b[39;49madd_image(stack)\n",
      "File \u001b[1;32m~\\Anaconda3\\envs\\napari-pymmcore\\lib\\site-packages\\napari\\components\\viewer_model.py:731\u001b[0m, in \u001b[0;36mViewerModel.add_image\u001b[1;34m(self, data, channel_axis, rgb, colormap, contrast_limits, gamma, interpolation, rendering, iso_threshold, attenuation, name, metadata, scale, translate, rotate, shear, affine, opacity, blending, visible, multiscale, cache, experimental_slicing_plane, experimental_clipping_planes)\u001b[0m\n\u001b[0;32m    <a href='file:///c%3A/Users/Callisto/Anaconda3/envs/napari-pymmcore/lib/site-packages/napari/components/viewer_model.py?line=722'>723</a>\u001b[0m     \u001b[39mif\u001b[39;00m k \u001b[39mnot\u001b[39;00m \u001b[39min\u001b[39;00m iterable_kwargs \u001b[39mand\u001b[39;00m is_sequence(v):\n\u001b[0;32m    <a href='file:///c%3A/Users/Callisto/Anaconda3/envs/napari-pymmcore/lib/site-packages/napari/components/viewer_model.py?line=723'>724</a>\u001b[0m         \u001b[39mraise\u001b[39;00m \u001b[39mTypeError\u001b[39;00m(\n\u001b[0;32m    <a href='file:///c%3A/Users/Callisto/Anaconda3/envs/napari-pymmcore/lib/site-packages/napari/components/viewer_model.py?line=724'>725</a>\u001b[0m             trans\u001b[39m.\u001b[39m_(\n\u001b[0;32m    <a href='file:///c%3A/Users/Callisto/Anaconda3/envs/napari-pymmcore/lib/site-packages/napari/components/viewer_model.py?line=725'>726</a>\u001b[0m                 \u001b[39m\"\u001b[39m\u001b[39mReceived sequence for argument \u001b[39m\u001b[39m'\u001b[39m\u001b[39m{argument}\u001b[39;00m\u001b[39m'\u001b[39m\u001b[39m, did you mean to specify a \u001b[39m\u001b[39m'\u001b[39m\u001b[39mchannel_axis\u001b[39m\u001b[39m'\u001b[39m\u001b[39m? \u001b[39m\u001b[39m\"\u001b[39m,\n\u001b[1;32m   (...)\u001b[0m\n\u001b[0;32m    <a href='file:///c%3A/Users/Callisto/Anaconda3/envs/napari-pymmcore/lib/site-packages/napari/components/viewer_model.py?line=728'>729</a>\u001b[0m             )\n\u001b[0;32m    <a href='file:///c%3A/Users/Callisto/Anaconda3/envs/napari-pymmcore/lib/site-packages/napari/components/viewer_model.py?line=729'>730</a>\u001b[0m         )\n\u001b[1;32m--> <a href='file:///c%3A/Users/Callisto/Anaconda3/envs/napari-pymmcore/lib/site-packages/napari/components/viewer_model.py?line=730'>731</a>\u001b[0m layer \u001b[39m=\u001b[39m Image(data, \u001b[39m*\u001b[39;49m\u001b[39m*\u001b[39;49mkwargs)\n\u001b[0;32m    <a href='file:///c%3A/Users/Callisto/Anaconda3/envs/napari-pymmcore/lib/site-packages/napari/components/viewer_model.py?line=731'>732</a>\u001b[0m \u001b[39mself\u001b[39m\u001b[39m.\u001b[39mlayers\u001b[39m.\u001b[39mappend(layer)\n\u001b[0;32m    <a href='file:///c%3A/Users/Callisto/Anaconda3/envs/napari-pymmcore/lib/site-packages/napari/components/viewer_model.py?line=733'>734</a>\u001b[0m \u001b[39mreturn\u001b[39;00m layer\n",
      "File \u001b[1;32m~\\Anaconda3\\envs\\napari-pymmcore\\lib\\site-packages\\napari\\layers\\image\\image.py:233\u001b[0m, in \u001b[0;36m_ImageBase.__init__\u001b[1;34m(self, data, rgb, colormap, contrast_limits, gamma, interpolation, rendering, iso_threshold, attenuation, name, metadata, scale, translate, rotate, shear, affine, opacity, blending, visible, multiscale, cache, experimental_slicing_plane, experimental_clipping_planes)\u001b[0m\n\u001b[0;32m    <a href='file:///c%3A/Users/Callisto/Anaconda3/envs/napari-pymmcore/lib/site-packages/napari/layers/image/image.py?line=229'>230</a>\u001b[0m \u001b[39mif\u001b[39;00m \u001b[39misinstance\u001b[39m(data, types\u001b[39m.\u001b[39mGeneratorType):\n\u001b[0;32m    <a href='file:///c%3A/Users/Callisto/Anaconda3/envs/napari-pymmcore/lib/site-packages/napari/layers/image/image.py?line=230'>231</a>\u001b[0m     data \u001b[39m=\u001b[39m \u001b[39mlist\u001b[39m(data)\n\u001b[1;32m--> <a href='file:///c%3A/Users/Callisto/Anaconda3/envs/napari-pymmcore/lib/site-packages/napari/layers/image/image.py?line=232'>233</a>\u001b[0m \u001b[39mif\u001b[39;00m \u001b[39mgetattr\u001b[39;49m(data, \u001b[39m'\u001b[39;49m\u001b[39mndim\u001b[39;49m\u001b[39m'\u001b[39;49m, \u001b[39m2\u001b[39;49m) \u001b[39m<\u001b[39;49m \u001b[39m2\u001b[39;49m:\n\u001b[0;32m    <a href='file:///c%3A/Users/Callisto/Anaconda3/envs/napari-pymmcore/lib/site-packages/napari/layers/image/image.py?line=233'>234</a>\u001b[0m     \u001b[39mraise\u001b[39;00m \u001b[39mValueError\u001b[39;00m(\n\u001b[0;32m    <a href='file:///c%3A/Users/Callisto/Anaconda3/envs/napari-pymmcore/lib/site-packages/napari/layers/image/image.py?line=234'>235</a>\u001b[0m         trans\u001b[39m.\u001b[39m_(\u001b[39m'\u001b[39m\u001b[39mImage data must have at least 2 dimensions.\u001b[39m\u001b[39m'\u001b[39m)\n\u001b[0;32m    <a href='file:///c%3A/Users/Callisto/Anaconda3/envs/napari-pymmcore/lib/site-packages/napari/layers/image/image.py?line=235'>236</a>\u001b[0m     )\n\u001b[0;32m    <a href='file:///c%3A/Users/Callisto/Anaconda3/envs/napari-pymmcore/lib/site-packages/napari/layers/image/image.py?line=237'>238</a>\u001b[0m \u001b[39m# Determine if data is a multiscale\u001b[39;00m\n",
      "File \u001b[1;32m~\\Anaconda3\\envs\\napari-pymmcore\\lib\\site-packages\\dask\\delayed.py:597\u001b[0m, in \u001b[0;36mDelayed.__bool__\u001b[1;34m(self)\u001b[0m\n\u001b[0;32m    <a href='file:///c%3A/Users/Callisto/Anaconda3/envs/napari-pymmcore/lib/site-packages/dask/delayed.py?line=595'>596</a>\u001b[0m \u001b[39mdef\u001b[39;00m \u001b[39m__bool__\u001b[39m(\u001b[39mself\u001b[39m):\n\u001b[1;32m--> <a href='file:///c%3A/Users/Callisto/Anaconda3/envs/napari-pymmcore/lib/site-packages/dask/delayed.py?line=596'>597</a>\u001b[0m     \u001b[39mraise\u001b[39;00m \u001b[39mTypeError\u001b[39;00m(\u001b[39m\"\u001b[39m\u001b[39mTruth of Delayed objects is not supported\u001b[39m\u001b[39m\"\u001b[39m)\n",
      "\u001b[1;31mTypeError\u001b[0m: Truth of Delayed objects is not supported"
     ]
    },
    {
     "name": "stderr",
     "output_type": "stream",
     "text": [
      "Exception in callback BaseAsyncIOLoop._handle_events(4724, 1)\n",
      "handle: <Handle BaseAsyncIOLoop._handle_events(4724, 1)>\n",
      "Traceback (most recent call last):\n",
      "  File \"C:\\Users\\Callisto\\Anaconda3\\envs\\napari-pymmcore\\lib\\asyncio\\events.py\", line 81, in _run\n",
      "    self._context.run(self._callback, *self._args)\n",
      "  File \"C:\\Users\\Callisto\\Anaconda3\\envs\\napari-pymmcore\\lib\\site-packages\\tornado\\platform\\asyncio.py\", line 189, in _handle_events\n",
      "    handler_func(fileobj, events)\n",
      "  File \"C:\\Users\\Callisto\\Anaconda3\\envs\\napari-pymmcore\\lib\\site-packages\\zmq\\eventloop\\zmqstream.py\", line 452, in _handle_events\n",
      "    self._handle_recv()\n",
      "  File \"C:\\Users\\Callisto\\Anaconda3\\envs\\napari-pymmcore\\lib\\site-packages\\zmq\\eventloop\\zmqstream.py\", line 481, in _handle_recv\n",
      "    self._run_callback(callback, msg)\n",
      "  File \"C:\\Users\\Callisto\\Anaconda3\\envs\\napari-pymmcore\\lib\\site-packages\\zmq\\eventloop\\zmqstream.py\", line 431, in _run_callback\n",
      "    callback(*args, **kwargs)\n",
      "  File \"C:\\Users\\Callisto\\Anaconda3\\envs\\napari-pymmcore\\lib\\site-packages\\jupyter_client\\threaded.py\", line 121, in _handle_recv\n",
      "    msg_list = self.ioloop._asyncio_event_loop.run_until_complete(get_msg(future_msg))\n",
      "  File \"C:\\Users\\Callisto\\Anaconda3\\envs\\napari-pymmcore\\lib\\asyncio\\base_events.py\", line 592, in run_until_complete\n",
      "    self._check_running()\n",
      "  File \"C:\\Users\\Callisto\\Anaconda3\\envs\\napari-pymmcore\\lib\\asyncio\\base_events.py\", line 554, in _check_running\n",
      "    raise RuntimeError(\n",
      "RuntimeError: Cannot run the event loop while another loop is running\n"
     ]
    }
   ],
   "source": [
    "viewer=napari.Viewer()\n",
    "viewer.add_image(stack)"
   ]
  },
  {
   "cell_type": "markdown",
   "metadata": {},
   "source": []
  },
  {
   "cell_type": "markdown",
   "metadata": {},
   "source": [
    "## Testing Grounds "
   ]
  },
  {
   "cell_type": "markdown",
   "metadata": {},
   "source": [
    "#### Test the CUPY library to shift array"
   ]
  },
  {
   "cell_type": "code",
   "execution_count": null,
   "metadata": {},
   "outputs": [],
   "source": [
    "# ij_stack2  = ij.py.to_java(np.array(stack))\n",
    "# ij.ui().show('aligned_stack2',ij_stack2)\n",
    "# offsets = registration(stack,12)\n",
    "# #Save the Offsets into the folder\n",
    "# np.savetxt(offsets_file, offsets, delimiter=',')\n",
    "\n",
    "# mip_stack = align_projections(stack,offsets)\n",
    "# #STACK IN IMAGEJ\n",
    "# ij_stack  = ij.py.to_java(np.array(mip_stack))\n",
    "# ij.ui().show('MIP_stack',ij_stack)"
   ]
  },
  {
   "cell_type": "code",
   "execution_count": null,
   "metadata": {},
   "outputs": [],
   "source": [
    "#Save the Offsets into the folder\n",
    "np.savetxt(offsets_file, offsets, delimiter=',')"
   ]
  },
  {
   "cell_type": "code",
   "execution_count": null,
   "metadata": {},
   "outputs": [],
   "source": [
    "ij_stack2  = ij.py.to_java(np.array(stack))\n",
    "ij.ui().show('stack2',ij_stack2)"
   ]
  },
  {
   "cell_type": "code",
   "execution_count": null,
   "metadata": {},
   "outputs": [],
   "source": [
    "def start_imagej():\n",
    "    global ij\n",
    "    ij = imagej.init(headless=False)\n",
    "    ij.ui().showUI()\n",
    "    print(ij.getVersion())\n",
    "\n",
    "QtCore.QTimer.singleShot(0, start_imagej)"
   ]
  },
  {
   "cell_type": "code",
   "execution_count": null,
   "metadata": {},
   "outputs": [
    {
     "name": "stdout",
     "output_type": "stream",
     "text": [
      "2.3.0/Inactive\n"
     ]
    },
    {
     "name": "stderr",
     "output_type": "stream",
     "text": [
      "[java.lang.Enum.toString] [INFO] Found 10 JHotDraw adapters.\n",
      "[java.lang.Enum.toString] [INFO] Found 10 JHotDraw adapters.\n"
     ]
    }
   ],
   "source": [
    "offsets = registration(stack,12)\n",
    "mip_stack = align_projections(stack,offsets)\n",
    "#STACK IN IMAGEJ\n",
    "ij_stack  = ij.py.to_java(np.array(mip_stack))\n",
    "ij.ui().show('stack',ij_stack)\n",
    "\n",
    "\n",
    "ij_stack2  = ij.py.to_java(np.array(stack))\n",
    "ij.ui().show('stack2',ij_stack2)\n"
   ]
  },
  {
   "cell_type": "code",
   "execution_count": null,
   "metadata": {},
   "outputs": [
    {
     "name": "stdout",
     "output_type": "stream",
     "text": [
      "[MIP_stack, aligned_stack]\n"
     ]
    },
    {
     "ename": "NameError",
     "evalue": "name 'autoclass' is not defined",
     "output_type": "error",
     "traceback": [
      "\u001b[1;31m---------------------------------------------------------------------------\u001b[0m\n",
      "\u001b[1;31mNameError\u001b[0m                                 Traceback (most recent call last)\n",
      "\u001b[1;32m~\\AppData\\Local\\Temp/ipykernel_28756/2743439907.py\u001b[0m in \u001b[0;36m<module>\u001b[1;34m\u001b[0m\n",
      "\u001b[0;32m      1\u001b[0m \u001b[0ma\u001b[0m \u001b[1;33m=\u001b[0m \u001b[0mij\u001b[0m\u001b[1;33m.\u001b[0m\u001b[0mwindow\u001b[0m\u001b[1;33m(\u001b[0m\u001b[1;33m)\u001b[0m\u001b[1;33m.\u001b[0m\u001b[0mgetOpenWindows\u001b[0m\u001b[1;33m(\u001b[0m\u001b[1;33m)\u001b[0m\u001b[1;33m\u001b[0m\u001b[1;33m\u001b[0m\u001b[0m\n",
      "\u001b[0;32m      2\u001b[0m \u001b[0mprint\u001b[0m\u001b[1;33m(\u001b[0m\u001b[0ma\u001b[0m\u001b[1;33m)\u001b[0m\u001b[1;33m\u001b[0m\u001b[1;33m\u001b[0m\u001b[0m\n",
      "\u001b[1;32m----> 3\u001b[1;33m \u001b[0mWindowManager\u001b[0m \u001b[1;33m=\u001b[0m \u001b[0mautoclass\u001b[0m\u001b[1;33m(\u001b[0m\u001b[1;34m'ij.WindowManager'\u001b[0m\u001b[1;33m)\u001b[0m\u001b[1;33m\u001b[0m\u001b[1;33m\u001b[0m\u001b[0m\n",
      "\u001b[0m\u001b[0;32m      4\u001b[0m \u001b[0mimp\u001b[0m \u001b[1;33m=\u001b[0m \u001b[0mWindowManager\u001b[0m\u001b[1;33m.\u001b[0m\u001b[0mgetCurrentImage\u001b[0m\u001b[1;33m(\u001b[0m\u001b[1;33m)\u001b[0m\u001b[1;33m\u001b[0m\u001b[1;33m\u001b[0m\u001b[0m\n",
      "\n",
      "\u001b[1;31mNameError\u001b[0m: name 'autoclass' is not defined"
     ]
    }
   ],
   "source": [
    "a = ij.window().getOpenWindows()\n",
    "print(a)\n",
    "\n",
    "# ij.from_java()"
   ]
  },
  {
   "cell_type": "code",
   "execution_count": null,
   "metadata": {},
   "outputs": [],
   "source": [
    "viewer=napari.Viewer()\n",
    "def start_imagej():\n",
    "    global ij\n",
    "    ij = imagej.init(r'C:\\Users\\Callisto\\Documents\\edhirata\\software\\Fiji.app',headless=False)\n",
    "    ij.ui().showUI()\n",
    "    print(ij.getVersion())\n",
    "\n",
    "QtCore.QTimer.singleShot(0, start_imagej)"
   ]
  },
  {
   "cell_type": "code",
   "execution_count": null,
   "metadata": {},
   "outputs": [
    {
     "name": "stdout",
     "output_type": "stream",
     "text": [
      "2.3.0/1.53f\n"
     ]
    },
    {
     "data": {
      "text/plain": [
       "<Image layer 'a' at 0x1c75d95f970>"
      ]
     },
     "metadata": {},
     "output_type": "display_data"
    }
   ],
   "source": [
    "\n",
    "def cp_align(np_image_stack, offsets):\n",
    "    from cupyx.scipy.ndimage import shift\n",
    "    t,c,h,w = np_image_stack.shape\n",
    "    shift_stack_cam = cp.zeros((c,h,w))\n",
    "    shift_stack_output = []\n",
    "    columns = cp.zeros((offsets.shape[0],1))\n",
    "    shift_stack_coord = cp.hstack((columns,offsets))\n",
    "    \n",
    "    for i in range(c):\n",
    "        cam_stack = cp.array(np_image_stack[:,i,:,:])\n",
    "        shift_stack_cam= shift(cam_stack,shift_stack_coord[i])\n",
    "        shift_stack_output.append(cp.asnumpy(shift_stack_cam))\n",
    "        # TODO: Check  this is proper way of transfering from GPU to CPU\n",
    "        shift_stack_cam = None\n",
    "        cam_stack = None\n",
    "        # print(\"post\")\n",
    "    shift_stack_coord = None\n",
    "    # return shift_stack_output\n",
    "    aligned_stack = np.array(shift_stack_output)\n",
    "    return np.moveaxis(aligned_stack,0,1)\n",
    "    \n",
    "a = cp_align(stack,offsets)\n",
    "viewer.add_image(a)"
   ]
  },
  {
   "cell_type": "code",
   "execution_count": null,
   "metadata": {},
   "outputs": [],
   "source": [
    "ij_stack3  = ij.py.to_java(np.array(a))\n",
    "ij.ui().show('aligned',ij_stack3)"
   ]
  },
  {
   "cell_type": "code",
   "execution_count": null,
   "metadata": {},
   "outputs": [
    {
     "name": "stdout",
     "output_type": "stream",
     "text": [
      "6480000000\n",
      "6480000000\n",
      "3\n"
     ]
    }
   ],
   "source": [
    "import cupy as cp\n",
    "mempool = cp.get_default_memory_pool()\n",
    "pinned_mempool = cp.get_default_pinned_memory_pool()\n",
    "mempool.free_all_blocks()\n",
    "pinned_mempool.free_all_blocks()\n",
    "\n",
    "# You can access statistics of these memory pools.\n",
    "print(mempool.used_bytes())              # 0\n",
    "print(mempool.total_bytes())             # 0\n",
    "print(pinned_mempool.n_free_blocks())    # 0\n",
    "\n",
    "\n"
   ]
  },
  {
   "cell_type": "code",
   "execution_count": null,
   "metadata": {},
   "outputs": [],
   "source": [
    "mempool.free_all_blocks()\n",
    "pinned_mempool.free_all_blocks()"
   ]
  },
  {
   "cell_type": "code",
   "execution_count": null,
   "metadata": {},
   "outputs": [
    {
     "ename": "ValueError",
     "evalue": "all the input arrays must have same number of dimensions, but the array at index 0 has 2 dimension(s) and the array at index 1 has 1 dimension(s)",
     "output_type": "error",
     "traceback": [
      "\u001b[1;31m---------------------------------------------------------------------------\u001b[0m\n",
      "\n",
      "\u001b[1;31mValueError\u001b[0m                                Traceback (most recent call last)\n",
      "\n",
      "\u001b[1;32m~\\AppData\\Local\\Temp/ipykernel_19596/1441189416.py\u001b[0m in \u001b[0;36m<module>\u001b[1;34m\u001b[0m\n",
      "\n",
      "\u001b[1;32m----> 1\u001b[1;33m \u001b[0maligned_volume\u001b[0m \u001b[1;33m=\u001b[0m \u001b[0mcupy_align_stack\u001b[0m\u001b[1;33m(\u001b[0m\u001b[0mstack\u001b[0m\u001b[1;33m,\u001b[0m\u001b[0moffsets\u001b[0m\u001b[1;33m)\u001b[0m\u001b[1;33m\u001b[0m\u001b[1;33m\u001b[0m\u001b[0m\n",
      "\n",
      "\u001b[0m\n",
      "\n",
      "\u001b[1;32m~\\AppData\\Local\\Temp/ipykernel_19596/4243354986.py\u001b[0m in \u001b[0;36mcupy_align_stack\u001b[1;34m(image_stack, offsets)\u001b[0m\n",
      "\n",
      "\u001b[0;32m     45\u001b[0m     \u001b[0mshift_stack\u001b[0m \u001b[1;33m=\u001b[0m \u001b[0mnp\u001b[0m\u001b[1;33m.\u001b[0m\u001b[0mzeros_like\u001b[0m\u001b[1;33m(\u001b[0m\u001b[0mimage_stack\u001b[0m\u001b[1;33m)\u001b[0m\u001b[1;33m\u001b[0m\u001b[1;33m\u001b[0m\u001b[0m\n",
      "\n",
      "\u001b[0;32m     46\u001b[0m     \u001b[0mcolumns\u001b[0m \u001b[1;33m=\u001b[0m \u001b[0mnp\u001b[0m\u001b[1;33m.\u001b[0m\u001b[0mzeros\u001b[0m\u001b[1;33m(\u001b[0m\u001b[1;33m(\u001b[0m\u001b[0moffsets\u001b[0m\u001b[1;33m.\u001b[0m\u001b[0mshape\u001b[0m\u001b[1;33m[\u001b[0m\u001b[1;36m0\u001b[0m\u001b[1;33m]\u001b[0m\u001b[1;33m,\u001b[0m\u001b[1;36m1\u001b[0m\u001b[1;33m)\u001b[0m\u001b[1;33m)\u001b[0m\u001b[1;33m\u001b[0m\u001b[1;33m\u001b[0m\u001b[0m\n",
      "\n",
      "\u001b[1;32m---> 47\u001b[1;33m     \u001b[0mshift_stack_coord\u001b[0m \u001b[1;33m=\u001b[0m \u001b[0mnp\u001b[0m\u001b[1;33m.\u001b[0m\u001b[0mhstack\u001b[0m\u001b[1;33m(\u001b[0m\u001b[1;33m(\u001b[0m\u001b[0mcolumns\u001b[0m\u001b[1;33m,\u001b[0m\u001b[0moffsets\u001b[0m\u001b[1;33m[\u001b[0m\u001b[1;36m0\u001b[0m\u001b[1;33m:\u001b[0m\u001b[1;33m,\u001b[0m\u001b[1;33m]\u001b[0m\u001b[1;33m)\u001b[0m\u001b[1;33m)\u001b[0m\u001b[1;33m\u001b[0m\u001b[1;33m\u001b[0m\u001b[0m\n",
      "\n",
      "\u001b[0m\u001b[0;32m     48\u001b[0m     \u001b[1;32mfor\u001b[0m \u001b[0mi\u001b[0m \u001b[1;32min\u001b[0m \u001b[0mrange\u001b[0m\u001b[1;33m(\u001b[0m\u001b[0mimage_stack\u001b[0m\u001b[1;33m.\u001b[0m\u001b[0mshape\u001b[0m\u001b[1;33m[\u001b[0m\u001b[1;36m0\u001b[0m\u001b[1;33m]\u001b[0m\u001b[1;33m)\u001b[0m\u001b[1;33m:\u001b[0m\u001b[1;33m\u001b[0m\u001b[1;33m\u001b[0m\u001b[0m\n",
      "\n",
      "\u001b[0;32m     49\u001b[0m         \u001b[0mshift_stack\u001b[0m\u001b[1;33m[\u001b[0m\u001b[1;33m:\u001b[0m\u001b[1;33m,\u001b[0m\u001b[0mi\u001b[0m\u001b[1;33m,\u001b[0m\u001b[1;33m:\u001b[0m\u001b[1;33m,\u001b[0m\u001b[1;33m:\u001b[0m\u001b[1;33m]\u001b[0m \u001b[1;33m=\u001b[0m \u001b[0mshift\u001b[0m\u001b[1;33m(\u001b[0m\u001b[0mimage_stack\u001b[0m\u001b[1;33m[\u001b[0m\u001b[1;33m:\u001b[0m\u001b[1;33m,\u001b[0m\u001b[0mi\u001b[0m\u001b[1;33m,\u001b[0m\u001b[1;33m:\u001b[0m\u001b[1;33m,\u001b[0m\u001b[1;33m:\u001b[0m\u001b[1;33m]\u001b[0m\u001b[1;33m,\u001b[0m\u001b[0mshift_stack_coord\u001b[0m\u001b[1;33m[\u001b[0m\u001b[0mi\u001b[0m\u001b[1;33m]\u001b[0m\u001b[1;33m)\u001b[0m\u001b[1;33m\u001b[0m\u001b[1;33m\u001b[0m\u001b[0m\n",
      "\n",
      "\n",
      "\n",
      "\u001b[1;32m<__array_function__ internals>\u001b[0m in \u001b[0;36mhstack\u001b[1;34m(*args, **kwargs)\u001b[0m\n",
      "\n",
      "\n",
      "\n",
      "\u001b[1;32m~\\Anaconda3\\envs\\pyimagej\\lib\\site-packages\\numpy\\core\\shape_base.py\u001b[0m in \u001b[0;36mhstack\u001b[1;34m(tup)\u001b[0m\n",
      "\n",
      "\u001b[0;32m    343\u001b[0m         \u001b[1;32mreturn\u001b[0m \u001b[0m_nx\u001b[0m\u001b[1;33m.\u001b[0m\u001b[0mconcatenate\u001b[0m\u001b[1;33m(\u001b[0m\u001b[0marrs\u001b[0m\u001b[1;33m,\u001b[0m \u001b[1;36m0\u001b[0m\u001b[1;33m)\u001b[0m\u001b[1;33m\u001b[0m\u001b[1;33m\u001b[0m\u001b[0m\n",
      "\n",
      "\u001b[0;32m    344\u001b[0m     \u001b[1;32melse\u001b[0m\u001b[1;33m:\u001b[0m\u001b[1;33m\u001b[0m\u001b[1;33m\u001b[0m\u001b[0m\n",
      "\n",
      "\u001b[1;32m--> 345\u001b[1;33m         \u001b[1;32mreturn\u001b[0m \u001b[0m_nx\u001b[0m\u001b[1;33m.\u001b[0m\u001b[0mconcatenate\u001b[0m\u001b[1;33m(\u001b[0m\u001b[0marrs\u001b[0m\u001b[1;33m,\u001b[0m \u001b[1;36m1\u001b[0m\u001b[1;33m)\u001b[0m\u001b[1;33m\u001b[0m\u001b[1;33m\u001b[0m\u001b[0m\n",
      "\n",
      "\u001b[0m\u001b[0;32m    346\u001b[0m \u001b[1;33m\u001b[0m\u001b[0m\n",
      "\n",
      "\u001b[0;32m    347\u001b[0m \u001b[1;33m\u001b[0m\u001b[0m\n",
      "\n",
      "\n",
      "\n",
      "\u001b[1;32m<__array_function__ internals>\u001b[0m in \u001b[0;36mconcatenate\u001b[1;34m(*args, **kwargs)\u001b[0m\n",
      "\n",
      "\n",
      "\n",
      "\u001b[1;31mValueError\u001b[0m: all the input arrays must have same number of dimensions, but the array at index 0 has 2 dimension(s) and the array at index 1 has 1 dimension(s)"
     ]
    }
   ],
   "source": [
    "aligned_volume = cupy_align_stack(stack,offsets)"
   ]
  },
  {
   "cell_type": "code",
   "execution_count": null,
   "metadata": {},
   "outputs": [],
   "source": []
  },
  {
   "cell_type": "code",
   "execution_count": null,
   "metadata": {},
   "outputs": [
    {
     "name": "stdout",
     "output_type": "stream",
     "text": [
      "[[   0.  162.  442.]\n",
      " [   0.  235.  476.]\n",
      " [   0.  -10. -166.]\n",
      " [   0. -140. -174.]\n",
      " [   0. -127.   66.]\n",
      " [   0.  262.  325.]\n",
      " [   0.  153.  338.]\n",
      " [   0.  295.  462.]\n",
      " [   0. -293. -173.]\n",
      " [   0.   81.   41.]\n",
      " [   0.  -94.  253.]\n",
      " [   0.  -70. -273.]\n",
      " [   0.    0.    0.]\n",
      " [   0. -239.  443.]\n",
      " [   0.  147.  198.]\n",
      " [   0.  272. -284.]\n",
      " [   0.   20. -189.]\n",
      " [   0. -270.  179.]\n",
      " [   0.  136.  433.]\n",
      " [   0. -192. -280.]\n",
      " [   0.   21. -141.]\n",
      " [   0.  -57. -188.]\n",
      " [   0. -211. -337.]\n",
      " [   0.  130. -460.]\n",
      " [   0.  203.   24.]]\n",
      "(25, 3)\n",
      "(25, 1)\n",
      "(25, 2)\n"
     ]
    }
   ],
   "source": [
    "image_stack = stack \n",
    "t,c,h,w = image_stack.shape\n",
    "shift_stack = np.zeros_like(image_stack)\n",
    "columns = np.zeros((offsets.shape[0],1))\n",
    "# print(shift_stack_coord)\n",
    "# print(shift_stack_coord.shape)\n",
    "# print(columns.shape)\n",
    "# print(offsets.shape)\n",
    "aligned_volume = np_align_stack(stack,offsets)\n"
   ]
  },
  {
   "cell_type": "code",
   "execution_count": null,
   "metadata": {},
   "outputs": [
    {
     "data": {
      "text/plain": [
       "array([   0.,  -10., -166.])"
      ]
     },
     "metadata": {},
     "output_type": "display_data"
    }
   ],
   "source": []
  },
  {
   "cell_type": "code",
   "execution_count": null,
   "metadata": {},
   "outputs": [
    {
     "name": "stdout",
     "output_type": "stream",
     "text": [
      "[[   0.  162.  442.]\n",
      " [   0.  235.  476.]\n",
      " [   0.  -10. -166.]\n",
      " [   0. -140. -174.]\n",
      " [   0. -127.   66.]\n",
      " [   0.  262.  325.]\n",
      " [   0.  153.  338.]\n",
      " [   0.  295.  462.]\n",
      " [   0. -293. -173.]\n",
      " [   0.   81.   41.]\n",
      " [   0.  -94.  253.]\n",
      " [   0.  -70. -273.]\n",
      " [   0.    0.    0.]\n",
      " [   0. -239.  443.]\n",
      " [   0.  147.  198.]\n",
      " [   0.  272. -284.]\n",
      " [   0.   20. -189.]\n",
      " [   0. -270.  179.]\n",
      " [   0.  136.  433.]\n",
      " [   0. -192. -280.]\n",
      " [   0.   21. -141.]\n",
      " [   0.  -57. -188.]\n",
      " [   0. -211. -337.]\n",
      " [   0.  130. -460.]\n",
      " [   0.  203.   24.]]\n"
     ]
    }
   ],
   "source": []
  },
  {
   "cell_type": "code",
   "execution_count": null,
   "metadata": {},
   "outputs": [
    {
     "name": "stdout",
     "output_type": "stream",
     "text": [
      "(257, 3, 600, 960)\n",
      "(257, 600, 960)\n",
      "[array([22., -3.]) array([0., 0.]) array([-9., -4.])]\n"
     ]
    }
   ],
   "source": [
    "import cupy as cp \n",
    "from cupyx.scipy.ndimage import shift \n",
    "t,c,h,w = stack.shape\n",
    "test_stack = stack[:,10:13,:,:]\n",
    "print(test_stack.shape)\n",
    "c_1_np = np.array(test_stack[:,0,:,:]).astype(np.float32)\n",
    "c_1 =cp.asarray(test_stack[:,0,:,:]).astype(np.float32)\n",
    "print(c_1.shape)\n",
    "offsets=registration(test_stack,1)\n",
    "print(offsets)\n",
    "x_offset,y_offset = offsets[0]\n",
    "# shift_arr= cp.array([0,y_offset,x_offset])\n",
    "shift_arr = shift(c_1[0,:,:].astype(float),offsets[0])\n",
    "shift_arr_np = cp.asnumpy(shift_arr)"
   ]
  },
  {
   "cell_type": "code",
   "execution_count": null,
   "metadata": {},
   "outputs": [
    {
     "data": {
      "text/plain": [
       "<matplotlib.image.AxesImage at 0x1e10cb55ee0>"
      ]
     },
     "metadata": {},
     "output_type": "display_data"
    },
    {
     "data": {
      "image/png": "[encoded data removed]",
      "text/plain": [
       "<Figure size 432x288 with 1 Axes>"
      ]
     },
     "metadata": {},
     "output_type": "display_data"
    },
    {
     "data": {
      "image/png": "[encoded data removed]",
      "text/plain": [
       "<Figure size 432x288 with 1 Axes>"
      ]
     },
     "metadata": {},
     "output_type": "display_data"
    }
   ],
   "source": [
    "plt.figure()\n",
    "plt.imshow(shift_arr_np)\n",
    "plt.figure()\n",
    "plt.imshow(c_1_np[0,:,:])"
   ]
  },
  {
   "cell_type": "code",
   "execution_count": null,
   "metadata": {},
   "outputs": [
    {
     "data": {
      "text/plain": [
       "array([array([22., -3.]), array([0., 0.]), array([-9., -4.])],\n",
       "      dtype=object)"
      ]
     },
     "metadata": {},
     "output_type": "display_data"
    }
   ],
   "source": [
    "offsets"
   ]
  },
  {
   "cell_type": "code",
   "execution_count": null,
   "metadata": {},
   "outputs": [
    {
     "name": "stdout",
     "output_type": "stream",
     "text": [
      "2.3.0/1.53f\n"
     ]
    }
   ],
   "source": [
    "def start_imagej():\n",
    "    global ij\n",
    "    ij = imagej.init(headless=False)\n",
    "    ij.ui().showUI()\n",
    "    print(ij.getVersion())\n",
    "\n",
    "QtCore.QTimer.singleShot(0, start_imagej)"
   ]
  },
  {
   "cell_type": "code",
   "execution_count": null,
   "metadata": {},
   "outputs": [
    {
     "name": "stdout",
     "output_type": "stream",
     "text": [
      "2.3.0/1.53f\n"
     ]
    }
   ],
   "source": [
    "#STACK IN IMAGEJ\n",
    "ij_stack  = ij.py.to_java(np.array())\n",
    "ij.ui().show('stack',ij_stack)\n"
   ]
  },
  {
   "cell_type": "code",
   "execution_count": null,
   "metadata": {},
   "outputs": [
    {
     "name": "stdout",
     "output_type": "stream",
     "text": [
      "(212, 3, 600, 960)\n",
      "(212, 600, 960)\n",
      "<class 'numpy.ndarray'>\n"
     ]
    }
   ],
   "source": [
    "# Testing ImageJ to load the stack\n",
    "t,c,h,w = stack.shape\n",
    "test_stack = stack[:,10:13,:,:]\n",
    "print(test_stack.shape)\n",
    "c_1 =np.array(test_stack[:,0,:,:])\n",
    "print(c_1.shape)\n",
    "print(type(c_1))\n",
    "c_1  = ij.py.to_java(c_1)\n",
    "ij.ui().show('testing',c_1)\n",
    "\n",
    "test_stack = np.array(test_stack)\n",
    "test_stack  = ij.py.to_java(test_stack)\n",
    "ij.ui().show('stack',test_stack)\n"
   ]
  },
  {
   "cell_type": "code",
   "execution_count": null,
   "metadata": {},
   "outputs": [
    {
     "name": "stdout",
     "output_type": "stream",
     "text": [
      "asdfasdf\n"
     ]
    }
   ],
   "source": [
    "test = ['hello','many','ties']\n",
    "\n",
    "if 'hello' in test:\n",
    "    print(\"asdfasdf\")\n"
   ]
  },
  {
   "cell_type": "code",
   "execution_count": null,
   "metadata": {},
   "outputs": [],
   "source": [
    "stack.shape\n",
    "test_stack = stack[:,10:13,:,:]\n",
    "offsets=registration(test_stack,1)\n",
    "# aligned_volume = align_stack(test_stack,offsets)"
   ]
  },
  {
   "cell_type": "code",
   "execution_count": null,
   "metadata": {},
   "outputs": [
    {
     "data": {
      "text/plain": [
       "<Image layer 'aligned_volume' at 0x22a76c40df0>"
      ]
     },
     "metadata": {},
     "output_type": "display_data"
    }
   ],
   "source": [
    "viewer = napari.Viewer()\n",
    "# viewer.add_image(aligned_max_projections)\n",
    "viewer.add_image(aligned_volume)"
   ]
  },
  {
   "cell_type": "code",
   "execution_count": null,
   "metadata": {},
   "outputs": [
    {
     "name": "stdout",
     "output_type": "stream",
     "text": [
      "(257, 25, 600, 960)\n"
     ]
    }
   ],
   "source": [
    "offsets = registration(stack,1)\n",
    "aligned_max_projections = align_projections(stack,offsets)\n",
    "aligned_volume = align_stack(stack,offsets)\n"
   ]
  },
  {
   "cell_type": "code",
   "execution_count": null,
   "metadata": {},
   "outputs": [],
   "source": []
  },
  {
   "cell_type": "code",
   "execution_count": null,
   "metadata": {},
   "outputs": [],
   "source": [
    "#STACK IN IMAGEJ\n",
    "ij_stack  = ij.py.to_java(np.array(aligned_volume))\n",
    "ij.ui().show('stackvol',ij_stack)"
   ]
  },
  {
   "cell_type": "code",
   "execution_count": null,
   "metadata": {},
   "outputs": [
    {
     "data": {
      "text/plain": [
       "<Image layer 'aligned_volume' at 0x24caea05220>"
      ]
     },
     "metadata": {},
     "output_type": "display_data"
    },
    {
     "name": "stderr",
     "output_type": "stream",
     "text": [
      "Exception in callback BaseAsyncIOLoop._handle_events(6824, 1)\n",
      "handle: <Handle BaseAsyncIOLoop._handle_events(6824, 1)>\n",
      "Traceback (most recent call last):\n",
      "  File \"C:\\Users\\Callisto\\Anaconda3\\envs\\napari-env\\lib\\asyncio\\events.py\", line 80, in _run\n",
      "    self._context.run(self._callback, *self._args)\n",
      "  File \"C:\\Users\\Callisto\\Anaconda3\\envs\\napari-env\\lib\\site-packages\\tornado\\platform\\asyncio.py\", line 189, in _handle_events\n",
      "    handler_func(fileobj, events)\n",
      "  File \"C:\\Users\\Callisto\\Anaconda3\\envs\\napari-env\\lib\\site-packages\\zmq\\eventloop\\zmqstream.py\", line 452, in _handle_events\n",
      "    self._handle_recv()\n",
      "  File \"C:\\Users\\Callisto\\Anaconda3\\envs\\napari-env\\lib\\site-packages\\zmq\\eventloop\\zmqstream.py\", line 481, in _handle_recv\n",
      "    self._run_callback(callback, msg)\n",
      "  File \"C:\\Users\\Callisto\\Anaconda3\\envs\\napari-env\\lib\\site-packages\\zmq\\eventloop\\zmqstream.py\", line 431, in _run_callback\n",
      "    callback(*args, **kwargs)\n",
      "  File \"C:\\Users\\Callisto\\Anaconda3\\envs\\napari-env\\lib\\site-packages\\jupyter_client\\threaded.py\", line 121, in _handle_recv\n",
      "    msg_list = self.ioloop._asyncio_event_loop.run_until_complete(get_msg(future_msg))\n",
      "  File \"C:\\Users\\Callisto\\Anaconda3\\envs\\napari-env\\lib\\asyncio\\base_events.py\", line 618, in run_until_complete\n",
      "    self._check_running()\n",
      "  File \"C:\\Users\\Callisto\\Anaconda3\\envs\\napari-env\\lib\\asyncio\\base_events.py\", line 580, in _check_running\n",
      "    raise RuntimeError(\n",
      "RuntimeError: Cannot run the event loop while another loop is running\n"
     ]
    }
   ],
   "source": [
    "viewer = napari.Viewer()\n",
    "# viewer.add_image(aligned_max_projections)\n",
    "viewer.add_image(aligned_volume)"
   ]
  },
  {
   "cell_type": "code",
   "execution_count": null,
   "metadata": {},
   "outputs": [
    {
     "name": "stderr",
     "output_type": "stream",
     "text": [
      "C:\\Users\\Callisto\\AppData\\Local\\Temp/ipykernel_33640/3214926037.py:5: UserWarning: E:\\Ed\\PSF\\20220204_M25_defocusCam1\\aligned_dataset\\aligned_stack.tif is a low contrast image\n",
      "  io.imsave(output_filename,aligned_volume)\n"
     ]
    }
   ],
   "source": [
    "directory = 'aligned_dataset'\n",
    "path_aligned = os.path.join(main_folder,directory)\n",
    "os.mkdir(path_aligned)\n",
    "output_filename = os.path.join(path_aligned,'aligned_stack.tif')\n",
    "io.imsave(output_filename,aligned_volume)"
   ]
  },
  {
   "cell_type": "code",
   "execution_count": null,
   "metadata": {},
   "outputs": [
    {
     "name": "stderr",
     "output_type": "stream",
     "text": [
      "Exception in callback BaseAsyncIOLoop._handle_events(6360, 1)\n",
      "handle: <Handle BaseAsyncIOLoop._handle_events(6360, 1)>\n",
      "Traceback (most recent call last):\n",
      "  File \"C:\\Users\\Callisto\\Anaconda3\\envs\\napari-env\\lib\\asyncio\\events.py\", line 80, in _run\n",
      "    self._context.run(self._callback, *self._args)\n",
      "  File \"C:\\Users\\Callisto\\Anaconda3\\envs\\napari-env\\lib\\site-packages\\tornado\\platform\\asyncio.py\", line 189, in _handle_events\n",
      "    handler_func(fileobj, events)\n",
      "  File \"C:\\Users\\Callisto\\Anaconda3\\envs\\napari-env\\lib\\site-packages\\zmq\\eventloop\\zmqstream.py\", line 452, in _handle_events\n",
      "    self._handle_recv()\n",
      "  File \"C:\\Users\\Callisto\\Anaconda3\\envs\\napari-env\\lib\\site-packages\\zmq\\eventloop\\zmqstream.py\", line 481, in _handle_recv\n",
      "    self._run_callback(callback, msg)\n",
      "  File \"C:\\Users\\Callisto\\Anaconda3\\envs\\napari-env\\lib\\site-packages\\zmq\\eventloop\\zmqstream.py\", line 431, in _run_callback\n",
      "    callback(*args, **kwargs)\n",
      "  File \"C:\\Users\\Callisto\\Anaconda3\\envs\\napari-env\\lib\\site-packages\\jupyter_client\\threaded.py\", line 121, in _handle_recv\n",
      "    msg_list = self.ioloop._asyncio_event_loop.run_until_complete(get_msg(future_msg))\n",
      "  File \"C:\\Users\\Callisto\\Anaconda3\\envs\\napari-env\\lib\\asyncio\\base_events.py\", line 618, in run_until_complete\n",
      "    self._check_running()\n",
      "  File \"C:\\Users\\Callisto\\Anaconda3\\envs\\napari-env\\lib\\asyncio\\base_events.py\", line 580, in _check_running\n",
      "    raise RuntimeError(\n",
      "RuntimeError: Cannot run the event loop while another loop is running\n"
     ]
    }
   ],
   "source": []
  }
 ],
 "metadata": {
  "interpreter": {
   "hash": "f50b1b136b84281a212ea9a5d6d43809733f4203708b5ddd6edbf2eda8994f89"
  },
  "kernelspec": {
   "display_name": "Python 3.9.9 64-bit ('napari-env': conda)",
   "language": "python",
   "name": "python3"
  },
  "language_info": {
   "codemirror_mode": {
    "name": "ipython",
    "version": 3
   },
   "file_extension": ".py",
   "mimetype": "text/x-python",
   "name": "python",
   "nbconvert_exporter": "python",
   "pygments_lexer": "ipython3",
   "version": "3.8.12"
  },
  "orig_nbformat": 4
 },
 "nbformat": 4,
 "nbformat_minor": 2
}
