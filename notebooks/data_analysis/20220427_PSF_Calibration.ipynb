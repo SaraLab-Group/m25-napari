{
 "cells": [
  {
   "cell_type": "code",
   "execution_count": 1,
   "metadata": {},
   "outputs": [
    {
     "name": "stdout",
     "output_type": "stream",
     "text": [
      "The Zen of Python, by Tim Peters\n",
      "\n",
      "Beautiful is better than ugly.\n",
      "Explicit is better than implicit.\n",
      "Simple is better than complex.\n",
      "Complex is better than complicated.\n",
      "Flat is better than nested.\n",
      "Sparse is better than dense.\n",
      "Readability counts.\n",
      "Special cases aren't special enough to break the rules.\n",
      "Although practicality beats purity.\n",
      "Errors should never pass silently.\n",
      "Unless explicitly silenced.\n",
      "In the face of ambiguity, refuse the temptation to guess.\n",
      "There should be one-- and preferably only one --obvious way to do it.\n",
      "Although that way may not be obvious at first unless you're Dutch.\n",
      "Now is better than never.\n",
      "Although never is often better than *right* now.\n",
      "If the implementation is hard to explain, it's a bad idea.\n",
      "If the implementation is easy to explain, it may be a good idea.\n",
      "Namespaces are one honking great idea -- let's do more of those!\n"
     ]
    }
   ],
   "source": [
    "from visualizer import calibration\n",
    "import visual\n",
    "\n",
    "from skimage.io import imread\n",
    "from skimage.io.collection import alphanumeric_key\n",
    "from dask import delayed\n",
    "from glob import glob\n",
    "import dask.array as da\n",
    "import matplotlib.pyplot as plt\n",
    "import numpy as np\n",
    "import napari\n",
    "from napari import Viewer\n",
    "import os\n",
    "from PyQt5 import QtCore\n",
    "from skimage.registration import phase_cross_correlation\n",
    "import cv2 as cv\n",
    "from skimage import io\n",
    "\n",
    "import cupy as cp \n",
    "import imagej\n",
    "\n",
    "%gui qt \n",
    "%matplotlib inline\n",
    "plt.style.use('dark_background')\n"
   ]
  },
  {
   "cell_type": "code",
   "execution_count": 2,
   "metadata": {},
   "outputs": [
    {
     "ename": "NameError",
     "evalue": "name 'loading_path' is not defined",
     "output_type": "error",
     "traceback": [
      "\u001b[1;31m---------------------------------------------------------------------------\u001b[0m",
      "\u001b[1;31mNameError\u001b[0m                                 Traceback (most recent call last)",
      "\u001b[1;32mc:\\Users\\yoshi\\Documents\\M25\\m25-napari\\notebooks\\data_analysis\\20220427_PSF_Calibration.ipynb Cell 2'\u001b[0m in \u001b[0;36m<cell line: 2>\u001b[1;34m()\u001b[0m\n\u001b[0;32m      <a href='vscode-notebook-cell:/c%3A/Users/yoshi/Documents/M25/m25-napari/notebooks/data_analysis/20220427_PSF_Calibration.ipynb#ch0000025?line=0'>1</a>\u001b[0m main_folder \u001b[39m=\u001b[39m \u001b[39mr\u001b[39m\u001b[39m'\u001b[39m\u001b[39mH:\u001b[39m\u001b[39m\\\u001b[39m\u001b[39mTest\u001b[39m\u001b[39m\\\u001b[39m\u001b[39mCElegansOH1_5\u001b[39m\u001b[39m'\u001b[39m\n\u001b[1;32m----> <a href='vscode-notebook-cell:/c%3A/Users/yoshi/Documents/M25/m25-napari/notebooks/data_analysis/20220427_PSF_Calibration.ipynb#ch0000025?line=1'>2</a>\u001b[0m stack \u001b[39m=\u001b[39m calibration\u001b[39m.\u001b[39mlazy_dask_stack(loading_path,num_cams\u001b[39m=\u001b[39m\u001b[39m25\u001b[39m, px_depth\u001b[39m=\u001b[39m\u001b[39m'\u001b[39m\u001b[39muint16\u001b[39m\u001b[39m'\u001b[39m, height\u001b[39m=\u001b[39m\u001b[39mself\u001b[39m\u001b[39m.\u001b[39mM25app\u001b[39m.\u001b[39mvert, width \u001b[39m=\u001b[39m\u001b[39mself\u001b[39m\u001b[39m.\u001b[39mM25app\u001b[39m.\u001b[39mhorz)\n",
      "\u001b[1;31mNameError\u001b[0m: name 'loading_path' is not defined"
     ]
    }
   ],
   "source": [
    "loading_path = r'H:\\Test\\CElegansOH1_5'\n",
    "stack = calibration.lazy_dask_stack(loading_path,num_cams=25, px_depth='uint16', height=self.M25app.vert, width =self.M25app.horz)"
   ]
  },
  {
   "cell_type": "code",
   "execution_count": null,
   "metadata": {},
   "outputs": [],
   "source": []
  },
  {
   "cell_type": "code",
   "execution_count": 2,
   "metadata": {},
   "outputs": [],
   "source": [
    "# main_folder = r'H:\\Test\\20220503_M25_200nm'\n",
    "main_folder = r'H:\\Test\\20220503_M25_1um_yg'\n",
    "folder_names = sorted(glob(main_folder + '/CAM*/'), key=alphanumeric_key)\n",
    "offsets_file = os.path.join(main_folder,\"offsets.csv\")\n",
    "\n",
    "\n",
    "\n",
    "# stack= calibration.load_dataset(main_folder,num_cams=25,px_depth='uint8',width=808,height=608)\n",
    "\n",
    "stack = calibration.load_dataset(main_folder,num_cams=25,px_depth='uint16',width=808,height=608)\n"
   ]
  },
  {
   "cell_type": "code",
   "execution_count": 3,
   "metadata": {},
   "outputs": [
    {
     "name": "stdout",
     "output_type": "stream",
     "text": [
      "3.8095238095238096e-07\n",
      "0.3333333333333333\n",
      "5.25\n"
     ]
    }
   ],
   "source": [
    "#Scope Parameters\n",
    "# FOV = 50e-6\n",
    "cam_px =6.0e-6\n",
    "totalmag = 15.75\n",
    "px_size_img = cam_px/totalmag\n",
    "zstep = 2e-6\n",
    "z_scale = zstep/px_size_img\n",
    "\n",
    "print(px_size_img)\n",
    "print(zstep/cam_px)\n",
    "print(z_scale)"
   ]
  },
  {
   "cell_type": "code",
   "execution_count": null,
   "metadata": {},
   "outputs": [
    {
     "ename": "FileNotFoundError",
     "evalue": "[Errno 2] No such file or directory: 'D:\\\\Test\\\\20220428_M25_PSF_200nm_2\\\\offsets.csv'",
     "output_type": "error",
     "traceback": [
      "\u001b[1;31m---------------------------------------------------------------------------\u001b[0m",
      "\u001b[1;31mFileNotFoundError\u001b[0m                         Traceback (most recent call last)",
      "\u001b[1;32mc:\\Users\\yoshi\\Documents\\M25\\m25-napari\\notebooks\\data_analysis\\20220427_PSF_Calibration.ipynb Cell 4'\u001b[0m in \u001b[0;36m<cell line: 6>\u001b[1;34m()\u001b[0m\n\u001b[0;32m      <a href='vscode-notebook-cell:/c%3A/Users/yoshi/Documents/M25/m25-napari/notebooks/data_analysis/20220427_PSF_Calibration.ipynb#ch0000003?line=2'>3</a>\u001b[0m main_folder \u001b[39m=\u001b[39m \u001b[39mr\u001b[39m\u001b[39m'\u001b[39m\u001b[39mD:\u001b[39m\u001b[39m\\\u001b[39m\u001b[39mTest\u001b[39m\u001b[39m\\\u001b[39m\u001b[39m20220428_M25_PSF_200nm_2\u001b[39m\u001b[39m'\u001b[39m\n\u001b[0;32m      <a href='vscode-notebook-cell:/c%3A/Users/yoshi/Documents/M25/m25-napari/notebooks/data_analysis/20220427_PSF_Calibration.ipynb#ch0000003?line=4'>5</a>\u001b[0m offsets_file_load \u001b[39m=\u001b[39m os\u001b[39m.\u001b[39mpath\u001b[39m.\u001b[39mjoin(main_folder,\u001b[39m\"\u001b[39m\u001b[39moffsets.csv\u001b[39m\u001b[39m\"\u001b[39m)\n\u001b[1;32m----> <a href='vscode-notebook-cell:/c%3A/Users/yoshi/Documents/M25/m25-napari/notebooks/data_analysis/20220427_PSF_Calibration.ipynb#ch0000003?line=5'>6</a>\u001b[0m \u001b[39mwith\u001b[39;00m \u001b[39mopen\u001b[39;49m(offsets_file_load) \u001b[39mas\u001b[39;00m file_name:\n\u001b[0;32m      <a href='vscode-notebook-cell:/c%3A/Users/yoshi/Documents/M25/m25-napari/notebooks/data_analysis/20220427_PSF_Calibration.ipynb#ch0000003?line=6'>7</a>\u001b[0m     offsets \u001b[39m=\u001b[39m np\u001b[39m.\u001b[39mloadtxt(file_name, delimiter\u001b[39m=\u001b[39m\u001b[39m\"\u001b[39m\u001b[39m,\u001b[39m\u001b[39m\"\u001b[39m)\n",
      "\u001b[1;31mFileNotFoundError\u001b[0m: [Errno 2] No such file or directory: 'D:\\\\Test\\\\20220428_M25_PSF_200nm_2\\\\offsets.csv'"
     ]
    }
   ],
   "source": [
    "# Load offsets from desired folder \n",
    "# main_folder = r'E:\\Ed\\Data\\20220324_drosophila_egg\\20220324_M25_PSF2-16bit'\n",
    "main_folder = r'D:\\Test\\20220428_M25_PSF_200nm_2'\n",
    "\n",
    "offsets_file_load = os.path.join(main_folder,\"offsets.csv\")\n",
    "with open(offsets_file_load) as file_name:\n",
    "    offsets = np.loadtxt(file_name, delimiter=\",\")"
   ]
  },
  {
   "cell_type": "markdown",
   "metadata": {},
   "source": [
    "### Get Calibration from Bead's Files"
   ]
  },
  {
   "cell_type": "code",
   "execution_count": 4,
   "metadata": {},
   "outputs": [],
   "source": [
    "# Generate our own shifted datset\n",
    "with cp.cuda.Device(0):\n",
    "    # test = stack[:,11:15,:,:]\n",
    "    test = stack\n",
    "    t,c,h,w  = test.shape\n",
    "    np_mip =[]\n",
    "    for i in range(c):\n",
    "        cp_stack = cp.array(test[:,i,:,:])\n",
    "        cp_mip = cp.max(cp_stack, axis=0)\n",
    "        np_mip.append(cp.asnumpy(cp_mip))\n",
    "        cp_mip = None\n",
    "        cp_stack=None\n",
    "    np_mip = np.array(np_mip)\n",
    "    np_mip = np.expand_dims(np_mip,axis=0)\n",
    "    "
   ]
  },
  {
   "cell_type": "code",
   "execution_count": 5,
   "metadata": {},
   "outputs": [
    {
     "data": {
      "text/plain": [
       "<Image layer 'mip' at 0x1f55f5d3580>"
      ]
     },
     "execution_count": 5,
     "metadata": {},
     "output_type": "execute_result"
    }
   ],
   "source": [
    "# Show the maximum intensity projection\n",
    "viewer = napari.Viewer()\n",
    "viewer.add_image(np_mip, name='mip')"
   ]
  },
  {
   "cell_type": "code",
   "execution_count": 7,
   "metadata": {},
   "outputs": [
    {
     "name": "stdout",
     "output_type": "stream",
     "text": [
      "[[  0.          12.         122.52152243 371.56263532]\n",
      " [  0.          12.         122.52152243 430.42760772]\n",
      " [  0.          12.         182.63894106 430.42760772]\n",
      " [  0.          12.         182.63894106 371.56263532]]\n",
      "[[123 372]\n",
      " [183 430]]\n",
      "(2, 2)\n"
     ]
    }
   ],
   "source": [
    "#Go to napari and make a square for alignment\n",
    "crop_region =viewer.layers['Shapes'].data[0]\n",
    "template = calibration.create_box_ndarray(crop_region)\n",
    "template_box = template[0:4,2:4]\n",
    "print(crop_region)\n",
    "print(template_box)\n",
    "print(template_box.shape)\n"
   ]
  },
  {
   "cell_type": "code",
   "execution_count": 8,
   "metadata": {},
   "outputs": [
    {
     "data": {
      "text/plain": [
       "<Image layer 'crop' at 0x1f64551dd00>"
      ]
     },
     "execution_count": 8,
     "metadata": {},
     "output_type": "execute_result"
    }
   ],
   "source": [
    "# Since OpenCV Match Template takes in uint8 || float32. We can change from uint16 to uint8 easily\n",
    "np_mip_8bit =visual.im_bit_convert(np_mip,bit=8,norm=True)\n",
    "min_val, max_val = template_box\n",
    "t,c = template[0,0:2]\n",
    "crop_img = np_mip_8bit[t,c, min_val[0]:max_val[0],min_val[1]:max_val[1]]\n",
    "viewer.add_image(crop_img,name='crop')"
   ]
  },
  {
   "cell_type": "code",
   "execution_count": 9,
   "metadata": {},
   "outputs": [
    {
     "name": "stdout",
     "output_type": "stream",
     "text": [
      "2 4\n",
      "[(0, 0), (-35, -33), (-97, -16), (-16, -94), (-29, -68), (72, -14), (12, -11), (28, -49), (-16, -101), (-14, -26), (7, 2), (16, -56), (35, -50), (-3, -63), (27, -45), (13, -46), (20, -54), (34, -62), (-8, -47), (16, -53), (24, -37), (60, -12), (56, -43), (16, -33), (38, -49)]\n"
     ]
    }
   ],
   "source": [
    "coord =[]\n",
    "w,h = template.shape  \n",
    "methods = 'cv.TM_CCOEFF'\n",
    "print(w,h)\n",
    "t,c,h,w = np_mip_8bit.shape\n",
    "\n",
    "for i in range(c):\n",
    "    method = eval(methods) # This method parses expression and runs ()\n",
    "    # Apply template Matching\n",
    "    # Slide through image and compare template patches.\n",
    "    # Comparison of best matches is foudn as global minn in SQDIFF or max in CCORR or CCOEF.\n",
    "    res = cv.matchTemplate(np_mip_8bit[0,i,:,:],crop_img,method)\n",
    "    min_val, max_val, min_loc, max_loc = cv.minMaxLoc(res)\n",
    "    # If the method is TM_SQDIFF or TM_SQDIFF_NORMED, take minimum\n",
    "    if method in [cv.TM_SQDIFF, cv.TM_SQDIFF_NORMED]:\n",
    "        top_left = min_loc\n",
    "    else:\n",
    "        top_left = max_loc\n",
    "        \n",
    "    bottom_right = (top_left[0] + w, top_left[1] + h)\n",
    "    #Output would contain the Top left corner and bottom right in case of need to use this rectangle\n",
    "    coord.append(((top_left[1],top_left[0]),(bottom_right[1],bottom_right[0])))\n",
    "\n",
    "#For the bead calibration we only use the TL points for alignment\n",
    "TL_coords = np.array(coord)\n",
    "TL_coords= TL_coords[0:25,0]\n",
    "\n",
    "#Coordinates need to then be subtracted to the reference frame (i.e t,c for which rectangle was drawn)\n",
    "res = []\n",
    "ref_cam_index = 0\n",
    "# diff =[]\n",
    "for i,coordinate in enumerate(TL_coords):\n",
    "    val = tuple(map(lambda i, j: i - j, TL_coords[ref_cam_index],coordinate))\n",
    "    res.append(val)\n",
    "    #If previous values available we can find teh difference between them\n",
    "    # diff.append(tuple(map(lambda i, j: i + j, val,shift_stack_coord[i])))\n",
    "# print(diff)\n",
    "print(res)\n",
    "# print(shift_stack_coord)\n",
    "offset_coordinates = np.array(res)\n",
    "\n",
    "#Save the Offsets in the folder\n",
    "np.savetxt(offsets_file, offset_coordinates, delimiter=',')"
   ]
  },
  {
   "cell_type": "code",
   "execution_count": 10,
   "metadata": {},
   "outputs": [
    {
     "name": "stdout",
     "output_type": "stream",
     "text": [
      "(25, 3)\n",
      "(1, 25, 608, 808)\n"
     ]
    },
    {
     "data": {
      "text/plain": [
       "<Image layer 'MIP_aligned' at 0x1f650b2a400>"
      ]
     },
     "execution_count": 10,
     "metadata": {},
     "output_type": "execute_result"
    }
   ],
   "source": [
    "#Aligning Max Projection to check if coordinates are good\n",
    "\n",
    "from cupyx.scipy.ndimage import shift\n",
    "import cupy as cp\n",
    "# Generate our own shifted datset\n",
    "with cp.cuda.Device(0):\n",
    "    mip_aligned = []\n",
    "    t,c,h,w = stack.shape\n",
    "    shift_stack_cam = cp.zeros((c,h,w))\n",
    "    columns = cp.zeros((offset_coordinates.shape[0],1))\n",
    "    shift_stack_coord = cp.hstack((columns,offset_coordinates))\n",
    "    print(shift_stack_coord.shape)\n",
    "    print(np_mip.shape)\n",
    "    for i in range(c):\n",
    "        cp_stack = cp.array(np_mip[:,i,:,:])\n",
    "        shift_stack_cam= shift(cp_stack,shift_stack_coord[i])\n",
    "        mip_aligned.append(cp.asnumpy(shift_stack_cam))\n",
    "        cp_stack = None\n",
    "    mip_aligned = np.array(mip_aligned)\n",
    "mip_aligned =  np.moveaxis(mip_aligned,0,1)\n",
    "\n",
    "#Convert to Dask Array\n",
    "mip_aligned = da.from_array(mip_aligned)\n",
    "viewer.add_image(mip_aligned, name='MIP_aligned',scale = [z_scale,1,1])"
   ]
  },
  {
   "cell_type": "code",
   "execution_count": 22,
   "metadata": {},
   "outputs": [
    {
     "name": "stdout",
     "output_type": "stream",
     "text": [
      "(25, 3)\n",
      "(160, 25, 608, 808)\n"
     ]
    }
   ],
   "source": [
    "#Aligning all the stack\n",
    "from cupyx.scipy.ndimage import shift\n",
    "import cupy as cp\n",
    "# Generate our own shifted datset\n",
    "with cp.cuda.Device(0):\n",
    "    stack_aligned = []\n",
    "    t,c,h,w = stack.shape\n",
    "    shift_stack_cam = cp.zeros((c,h,w))\n",
    "    columns = cp.zeros((offset_coordinates.shape[0],1))\n",
    "    shift_stack_coord = cp.hstack((columns,offset_coordinates))\n",
    "    print(shift_stack_coord.shape)\n",
    "    print(stack.shape)\n",
    "    for i in range(c):\n",
    "        cp_stack = cp.array(stack[:,i,:,:])\n",
    "        shift_stack_cam= shift(cp_stack,shift_stack_coord[i])\n",
    "        stack_aligned.append(cp.asnumpy(shift_stack_cam))\n",
    "        cp_stack = None\n",
    "    stack_aligned = np.array(stack_aligned)\n",
    "stack_aligned =  np.moveaxis(stack_aligned,0,1)\n",
    "\n",
    "#Convert to Dask Array\n",
    "stack_aligned = da.from_array(stack_aligned)\n"
   ]
  },
  {
   "cell_type": "code",
   "execution_count": 11,
   "metadata": {},
   "outputs": [
    {
     "data": {
      "text/plain": [
       "<Image layer 'test' at 0x17efb8f2ee0>"
      ]
     },
     "execution_count": 11,
     "metadata": {},
     "output_type": "execute_result"
    }
   ],
   "source": [
    "viewer.add_image(stack_aligned, name='test',scale = [z_scale,1,1])"
   ]
  },
  {
   "cell_type": "markdown",
   "metadata": {},
   "source": [
    "### Align Datasets with Known Offsets\n"
   ]
  },
  {
   "cell_type": "code",
   "execution_count": 6,
   "metadata": {},
   "outputs": [
    {
     "name": "stdout",
     "output_type": "stream",
     "text": [
      "(24, 3)\n",
      "(42, 25, 608, 808)\n"
     ]
    },
    {
     "ename": "IndexError",
     "evalue": "Index 24 is out of bounds for axis 0 with size 24",
     "output_type": "error",
     "traceback": [
      "\u001b[1;31m---------------------------------------------------------------------------\u001b[0m",
      "\u001b[1;31mIndexError\u001b[0m                                Traceback (most recent call last)",
      "\u001b[1;32mc:\\Users\\yoshi\\Documents\\M25\\m25-napari\\notebooks\\data_analysis\\20220427_PSF_Calibration.ipynb Cell 18'\u001b[0m in \u001b[0;36m<cell line: 6>\u001b[1;34m()\u001b[0m\n\u001b[0;32m     <a href='vscode-notebook-cell:/c%3A/Users/yoshi/Documents/M25/m25-napari/notebooks/data_analysis/20220427_PSF_Calibration.ipynb#ch0000017?line=13'>14</a>\u001b[0m \u001b[39mfor\u001b[39;00m i \u001b[39min\u001b[39;00m \u001b[39mrange\u001b[39m(c):\n\u001b[0;32m     <a href='vscode-notebook-cell:/c%3A/Users/yoshi/Documents/M25/m25-napari/notebooks/data_analysis/20220427_PSF_Calibration.ipynb#ch0000017?line=14'>15</a>\u001b[0m     cp_stack \u001b[39m=\u001b[39m cp\u001b[39m.\u001b[39marray(stack[:,i,:,:])\n\u001b[1;32m---> <a href='vscode-notebook-cell:/c%3A/Users/yoshi/Documents/M25/m25-napari/notebooks/data_analysis/20220427_PSF_Calibration.ipynb#ch0000017?line=15'>16</a>\u001b[0m     shift_stack_cam\u001b[39m=\u001b[39m shift(cp_stack,shift_stack_coord[i])\n\u001b[0;32m     <a href='vscode-notebook-cell:/c%3A/Users/yoshi/Documents/M25/m25-napari/notebooks/data_analysis/20220427_PSF_Calibration.ipynb#ch0000017?line=16'>17</a>\u001b[0m     stack_aligned\u001b[39m.\u001b[39mappend(cp\u001b[39m.\u001b[39masnumpy(shift_stack_cam))\n\u001b[0;32m     <a href='vscode-notebook-cell:/c%3A/Users/yoshi/Documents/M25/m25-napari/notebooks/data_analysis/20220427_PSF_Calibration.ipynb#ch0000017?line=17'>18</a>\u001b[0m     cp_stack \u001b[39m=\u001b[39m \u001b[39mNone\u001b[39;00m\n",
      "File \u001b[1;32mcupy\\_core\\core.pyx:1437\u001b[0m, in \u001b[0;36mcupy._core.core.ndarray.__getitem__\u001b[1;34m()\u001b[0m\n",
      "File \u001b[1;32mcupy\\_core\\_routines_indexing.pyx:33\u001b[0m, in \u001b[0;36mcupy._core._routines_indexing._ndarray_getitem\u001b[1;34m()\u001b[0m\n",
      "File \u001b[1;32mcupy\\_core\\_routines_indexing.pyx:433\u001b[0m, in \u001b[0;36mcupy._core._routines_indexing._view_getitem\u001b[1;34m()\u001b[0m\n",
      "\u001b[1;31mIndexError\u001b[0m: Index 24 is out of bounds for axis 0 with size 24"
     ]
    }
   ],
   "source": [
    "from cupyx.scipy.ndimage import shift\n",
    "import cupy as cp\n",
    "# Generate our own shifted datset\n",
    "\n",
    "offset_coordinates = offsets\n",
    "with cp.cuda.Device(0):\n",
    "    stack_aligned = []\n",
    "    t,c,h,w = stack.shape\n",
    "    shift_stack_cam = cp.zeros((c,h,w))\n",
    "    columns = cp.zeros((offset_coordinates.shape[0],1))\n",
    "    shift_stack_coord = cp.hstack((columns,offset_coordinates))\n",
    "    print(shift_stack_coord.shape)\n",
    "    print(stack.shape)\n",
    "    for i in range(c):\n",
    "        cp_stack = cp.array(stack[:,i,:,:])\n",
    "        shift_stack_cam= shift(cp_stack,shift_stack_coord[i])\n",
    "        stack_aligned.append(cp.asnumpy(shift_stack_cam))\n",
    "        cp_stack = None\n",
    "    stack_aligned = np.array(stack_aligned)\n",
    "stack_aligned =  np.moveaxis(stack_aligned,0,1)"
   ]
  },
  {
   "cell_type": "code",
   "execution_count": null,
   "metadata": {},
   "outputs": [
    {
     "name": "stdout",
     "output_type": "stream",
     "text": [
      "dask.array<array, shape=(46, 24, 608, 808), dtype=uint8, chunksize=(46, 24, 304, 202), chunktype=numpy.ndarray>\n"
     ]
    }
   ],
   "source": [
    "#Convert numpy to dask?\n",
    "da_stack_align = da.from_array(stack_aligned)\n",
    "print(da_stack_align)"
   ]
  },
  {
   "cell_type": "code",
   "execution_count": 7,
   "metadata": {},
   "outputs": [],
   "source": [
    "viewer= napari.Viewer()"
   ]
  },
  {
   "cell_type": "code",
   "execution_count": 10,
   "metadata": {},
   "outputs": [
    {
     "ename": "NameError",
     "evalue": "name 'z_scale' is not defined",
     "output_type": "error",
     "traceback": [
      "\u001b[1;31m---------------------------------------------------------------------------\u001b[0m",
      "\u001b[1;31mNameError\u001b[0m                                 Traceback (most recent call last)",
      "\u001b[1;32mc:\\Users\\yoshi\\Documents\\M25\\m25-napari\\notebooks\\data_analysis\\20220427_PSF_Calibration.ipynb Cell 20'\u001b[0m in \u001b[0;36m<cell line: 1>\u001b[1;34m()\u001b[0m\n\u001b[1;32m----> <a href='vscode-notebook-cell:/c%3A/Users/yoshi/Documents/M25/m25-napari/notebooks/data_analysis/20220427_PSF_Calibration.ipynb#ch0000020?line=0'>1</a>\u001b[0m viewer\u001b[39m.\u001b[39madd_image(da_stack_align, name\u001b[39m=\u001b[39m\u001b[39m'\u001b[39m\u001b[39mdask_align\u001b[39m\u001b[39m'\u001b[39m,scale\u001b[39m=\u001b[39m[z_scale,\u001b[39m1\u001b[39m,\u001b[39m1\u001b[39m])\n",
      "\u001b[1;31mNameError\u001b[0m: name 'z_scale' is not defined"
     ]
    }
   ],
   "source": [
    "viewer.add_image(da_stack_align, name='dask_align',scale=[z_scale,1,1])"
   ]
  },
  {
   "cell_type": "markdown",
   "metadata": {},
   "source": [
    "### Image J Part"
   ]
  },
  {
   "cell_type": "code",
   "execution_count": 23,
   "metadata": {},
   "outputs": [],
   "source": [
    "\n",
    "def start_imagej():\n",
    "    import imagej\n",
    "    global ij\n",
    "    ij = imagej.init( mode='interactive')\n",
    "    # path = r'C:\\Users\\yoshi\\Documents\\fiji-win64\\Fiji.app'\n",
    "    # ij = imagej.init(path,mode='interactive')\n",
    "    ij.ui().showUI()\n",
    "    print(ij.getVersion())\n",
    "\n",
    "QtCore.QTimer.singleShot(0, start_imagej)"
   ]
  },
  {
   "cell_type": "code",
   "execution_count": 8,
   "metadata": {},
   "outputs": [],
   "source": [
    "# def start_imagej():\n",
    "#     global ij\n",
    "#     ij = imagej.init(headless=False)\n",
    "#     ij.ui().showUI()\n",
    "#     print(ij.getVersion())\n",
    "\n",
    "# QtCore.QTimer.singleShot(0, start_imagej)"
   ]
  },
  {
   "cell_type": "code",
   "execution_count": 1,
   "metadata": {},
   "outputs": [
    {
     "ename": "NameError",
     "evalue": "name 'napari' is not defined",
     "output_type": "error",
     "traceback": [
      "\u001b[1;31m---------------------------------------------------------------------------\u001b[0m",
      "\u001b[1;31mNameError\u001b[0m                                 Traceback (most recent call last)",
      "\u001b[1;32mc:\\Users\\yoshi\\Documents\\M25\\m25-napari\\notebooks\\data_analysis\\20220427_PSF_Calibration.ipynb Cell 24'\u001b[0m in \u001b[0;36m<cell line: 1>\u001b[1;34m()\u001b[0m\n\u001b[1;32m----> <a href='vscode-notebook-cell:/c%3A/Users/yoshi/Documents/M25/m25-napari/notebooks/data_analysis/20220427_PSF_Calibration.ipynb#ch0000034?line=0'>1</a>\u001b[0m viewer\u001b[39m=\u001b[39m napari\u001b[39m.\u001b[39mViewer()\n",
      "\u001b[1;31mNameError\u001b[0m: name 'napari' is not defined"
     ]
    }
   ],
   "source": [
    "# viewer= napari.Viewer()"
   ]
  },
  {
   "cell_type": "code",
   "execution_count": 9,
   "metadata": {},
   "outputs": [],
   "source": [
    "# # Align the files\n",
    "# ij_stack2  = ij.py.to_java(np.array(stack,dtype='uint8'))\n",
    "# ij.ui().show('aligned_stack', ij_stack2)"
   ]
  },
  {
   "cell_type": "code",
   "execution_count": 25,
   "metadata": {},
   "outputs": [],
   "source": [
    "# Align the files\n",
    "ij_stack2  = ij.py.to_java(np.array(stack_aligned,dtype='uint16'))\n",
    "ij.ui().show('aligned_stack', ij_stack2)"
   ]
  },
  {
   "cell_type": "code",
   "execution_count": null,
   "metadata": {},
   "outputs": [],
   "source": [
    "                aligned_volume_cp.shape\n",
    "cuda_mem_info()\n",
    "cuda_clear()"
   ]
  }
 ],
 "metadata": {
  "interpreter": {
   "hash": "f50b1b136b84281a212ea9a5d6d43809733f4203708b5ddd6edbf2eda8994f89"
  },
  "kernelspec": {
   "display_name": "Python 3.9.9 64-bit ('napari-env': conda)",
   "language": "python",
   "name": "python3"
  },
  "language_info": {
   "codemirror_mode": {
    "name": "ipython",
    "version": 3
   },
   "file_extension": ".py",
   "mimetype": "text/x-python",
   "name": "python",
   "nbconvert_exporter": "python",
   "pygments_lexer": "ipython3",
   "version": "3.8.13"
  },
  "orig_nbformat": 4
 },
 "nbformat": 4,
 "nbformat_minor": 2
}
