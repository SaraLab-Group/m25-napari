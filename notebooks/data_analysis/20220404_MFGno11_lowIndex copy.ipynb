{
 "cells": [
  {
   "cell_type": "code",
   "execution_count": 5,
   "metadata": {},
   "outputs": [],
   "source": [
    "from visualizer import calibration\n",
    "#TODO: import from waveorder\n",
    "import visual \n",
    "\n",
    "from PyQt5 import QtCore\n",
    "\n",
    "from skimage.io import imread\n",
    "from skimage.io.collection import alphanumeric_key\n",
    "from dask import delayed\n",
    "from glob import glob\n",
    "import dask.array as da\n",
    "import matplotlib.pyplot as plt\n",
    "import numpy as np\n",
    "import napari\n",
    "from napari import Viewer\n",
    "import os\n",
    "\n",
    "from skimage.registration import phase_cross_correlation\n",
    "import cv2 as cv\n",
    "from skimage import io\n",
    "\n",
    "import cupy as cp \n",
    "import imagej\n",
    "\n",
    "%gui qt \n",
    "%matplotlib inline\n",
    "plt.style.use('dark_background')\n"
   ]
  },
  {
   "cell_type": "code",
   "execution_count": 6,
   "metadata": {},
   "outputs": [],
   "source": [
    "main_folder = r'E:\\Ed\\PSF_defocus\\20220404_M25_tamronArray_mfgno11\\20220404_M25_PSF1'\n",
    "\n",
    "# folder = r'E:\\Ed\\PSF\\20220124_M25_allcameras\\CAM_Z2'\n",
    "# file_extension = folder + '/' + '*.raw'\n",
    "folder_names = sorted(glob(main_folder + '/CAM*/'), key=alphanumeric_key)\n",
    "offsets_file = os.path.join(main_folder,\"offsets.csv\")\n",
    "\n",
    "# file_names = sorted(glob(file_extension),key=alphanumeric_key)"
   ]
  },
  {
   "cell_type": "code",
   "execution_count": 7,
   "metadata": {},
   "outputs": [
    {
     "name": "stdout",
     "output_type": "stream",
     "text": [
      "1.5626666666666666e-07\n",
      "0.341296928327645\n",
      "12.79863481228669\n"
     ]
    }
   ],
   "source": [
    "#Scope Parameters\n",
    "# FOV = 50e-6\n",
    "cam_px = 5.86e-6\n",
    "totalmag = 37.5\n",
    "px_size_img = cam_px/totalmag\n",
    "zstep = 2e-6\n",
    "z_scale = zstep/px_size_img\n",
    "\n",
    "print(px_size_img)\n",
    "print(zstep/cam_px)\n",
    "print(z_scale)"
   ]
  },
  {
   "cell_type": "code",
   "execution_count": 8,
   "metadata": {},
   "outputs": [
    {
     "name": "stdout",
     "output_type": "stream",
     "text": [
      "8bit\n"
     ]
    }
   ],
   "source": [
    "try:\n",
    "    print(\"8bit\")\n",
    "    stack= calibration.load_dataset(main_folder,'uint8')\n",
    "except: \n",
    "    print(\"16bit\")\n",
    "    stack = calibration.load_dataset(main_folder,'uint16')"
   ]
  },
  {
   "cell_type": "code",
   "execution_count": 5,
   "metadata": {},
   "outputs": [],
   "source": [
    "# Load offsets from desired folder \n",
    "# main_folder = r'E:\\Ed\\Data\\20220324_drosophila_egg\\20220324_M25_PSF2-16bit'\n",
    "main_folder = r'E:\\Ed\\Data\\20220324_drosophila_egg\\20220324_M25_PSF1'\n",
    "offsets_file_load = os.path.join(main_folder,\"offsets.csv\")\n",
    "with open(offsets_file_load) as file_name:\n",
    "    offsets = np.loadtxt(file_name, delimiter=\",\")"
   ]
  },
  {
   "cell_type": "code",
   "execution_count": null,
   "metadata": {},
   "outputs": [],
   "source": [
    "# px_depth = 'uint16'\n",
    "# # px_depth = 'uint8'\n",
    "\n",
    "# raw_M25_volume = [calibration.dask_raw_ds(fd,px_depth) for fd in folder_names]\n",
    "# stack = da.concatenate(raw_M25_volume, axis=1)\n",
    "# stack_max_projection= np.array([ da.max(stack[:,i,:,:],axis=0) for i in range(stack.shape[1])])\n"
   ]
  },
  {
   "cell_type": "code",
   "execution_count": 39,
   "metadata": {},
   "outputs": [
    {
     "data": {
      "text/plain": [
       "<Image layer 'stack' at 0x1e5252c7430>"
      ]
     },
     "execution_count": 39,
     "metadata": {},
     "output_type": "execute_result"
    }
   ],
   "source": [
    "# viewer=napari.Viewer()\n",
    "viewer.add_image(stack,scale=[z_scale,1,1])"
   ]
  },
  {
   "cell_type": "markdown",
   "metadata": {},
   "source": [
    "### Get Calibration from Bead's Files"
   ]
  },
  {
   "cell_type": "code",
   "execution_count": 9,
   "metadata": {},
   "outputs": [],
   "source": [
    "# Generate our own shifted datset\n",
    "with cp.cuda.Device(0):\n",
    "    # test = stack[:,11:15,:,:]\n",
    "    test = stack\n",
    "    t,c,h,w  = test.shape\n",
    "    np_mip =[]\n",
    "    for i in range(c):\n",
    "        cp_stack = cp.array(test[:,i,:,:])\n",
    "        cp_mip = cp.max(cp_stack, axis=0)\n",
    "        np_mip.append(cp.asnumpy(cp_mip))\n",
    "        cp_mip = None\n",
    "        cp_stack=None\n",
    "    np_mip = np.array(np_mip)\n",
    "    np_mip = np.expand_dims(np_mip,axis=0)\n",
    "    "
   ]
  },
  {
   "cell_type": "code",
   "execution_count": 10,
   "metadata": {},
   "outputs": [
    {
     "data": {
      "text/plain": [
       "<Image layer 'mip' at 0x1a44a181dc0>"
      ]
     },
     "execution_count": 10,
     "metadata": {},
     "output_type": "execute_result"
    }
   ],
   "source": [
    "# Show the maximum intensity projection\n",
    "viewer = napari.Viewer()\n",
    "viewer.add_image(np_mip, name='mip')"
   ]
  },
  {
   "cell_type": "code",
   "execution_count": 11,
   "metadata": {},
   "outputs": [
    {
     "name": "stdout",
     "output_type": "stream",
     "text": [
      "[[  0.          12.         279.26535445 357.23111538]\n",
      " [  0.          12.         279.26535445 452.80747584]\n",
      " [  0.          12.         386.03534271 452.80747584]\n",
      " [  0.          12.         386.03534271 357.23111538]]\n",
      "[[279 357]\n",
      " [386 453]]\n",
      "(2, 2)\n"
     ]
    }
   ],
   "source": [
    "#Go to napari and make a square for alignment\n",
    "crop_region =viewer.layers['Shapes'].data[0]\n",
    "template = calibration.create_box_ndarray(crop_region)\n",
    "template_box = template[0:4,2:4]\n",
    "print(crop_region)\n",
    "print(template_box)\n",
    "print(template_box.shape)\n"
   ]
  },
  {
   "cell_type": "code",
   "execution_count": 12,
   "metadata": {},
   "outputs": [
    {
     "data": {
      "text/plain": [
       "<Image layer 'crop' at 0x1a47aad9a00>"
      ]
     },
     "execution_count": 12,
     "metadata": {},
     "output_type": "execute_result"
    }
   ],
   "source": [
    "# Since OpenCV Match Template takes in uint8 || float32. We can change from uint16 to uint8 easily\n",
    "np_mip_8bit =visual.im_bit_convert(np_mip,bit=8)\n",
    "min_val, max_val = template_box\n",
    "t,c = template[0,0:2]\n",
    "crop_img = np_mip_8bit[t,c, min_val[0]:max_val[0],min_val[1]:max_val[1]]\n",
    "viewer.add_image(crop_img,name='crop')"
   ]
  },
  {
   "cell_type": "code",
   "execution_count": 13,
   "metadata": {},
   "outputs": [
    {
     "data": {
      "text/plain": [
       "(600, 960)"
      ]
     },
     "execution_count": 13,
     "metadata": {},
     "output_type": "execute_result"
    }
   ],
   "source": [
    "np_mip_8bit[0,i,:,:].shape"
   ]
  },
  {
   "cell_type": "code",
   "execution_count": 14,
   "metadata": {},
   "outputs": [
    {
     "name": "stdout",
     "output_type": "stream",
     "text": [
      "2 4\n",
      "[(0, 0), (-23, -19), (-39, -190), (-42, -181), (-7, -210), (-19, -108), (3, -90), (7, -88), (-9, -104), (43, -134), (32, -24), (10, -36), (25, -40), (53, -56), (47, -67), (23, -26), (56, -69), (38, -88), (16, -100), (59, -94), (103, -53), (60, -30), (64, -81), (55, -93), (84, -76)]\n"
     ]
    }
   ],
   "source": [
    "coord =[]\n",
    "w,h = template.shape  \n",
    "methods = 'cv.TM_CCOEFF'\n",
    "print(w,h)\n",
    "t,c,h,w = np_mip_8bit.shape\n",
    "\n",
    "for i in range(c):\n",
    "    method = eval(methods) # This method parses expression and runs ()\n",
    "    # Apply template Matching\n",
    "    # Slide through image and compare template patches.\n",
    "    # Comparison of best matches is foudn as global minn in SQDIFF or max in CCORR or CCOEF.\n",
    "    res = cv.matchTemplate(np_mip_8bit[0,i,:,:],crop_img,method)\n",
    "    min_val, max_val, min_loc, max_loc = cv.minMaxLoc(res)\n",
    "    # If the method is TM_SQDIFF or TM_SQDIFF_NORMED, take minimum\n",
    "    if method in [cv.TM_SQDIFF, cv.TM_SQDIFF_NORMED]:\n",
    "        top_left = min_loc\n",
    "    else:\n",
    "        top_left = max_loc\n",
    "        \n",
    "    bottom_right = (top_left[0] + w, top_left[1] + h)\n",
    "    #Output would contain the Top left corner and bottom right in case of need to use this rectangle\n",
    "    coord.append(((top_left[1],top_left[0]),(bottom_right[1],bottom_right[0])))\n",
    "\n",
    "#For the bead calibration we only use the TL points for alignment\n",
    "TL_coords = np.array(coord)\n",
    "TL_coords= TL_coords[0:25,0]\n",
    "\n",
    "#Coordinates need to then be subtracted to the reference frame (i.e t,c for which rectangle was drawn)\n",
    "res = []\n",
    "ref_cam_index = 0\n",
    "# diff =[]\n",
    "for i,coordinate in enumerate(TL_coords):\n",
    "    val = tuple(map(lambda i, j: i - j, TL_coords[ref_cam_index],coordinate))\n",
    "    res.append(val)\n",
    "    #If previous values available we can find teh difference between them\n",
    "    # diff.append(tuple(map(lambda i, j: i + j, val,shift_stack_coord[i])))\n",
    "# print(diff)\n",
    "print(res)\n",
    "# print(shift_stack_coord)\n",
    "offset_coordinates = np.array(res)\n",
    "\n",
    "#Save the Offsets in the folder\n",
    "np.savetxt(offsets_file, offset_coordinates, delimiter=',')"
   ]
  },
  {
   "cell_type": "code",
   "execution_count": 18,
   "metadata": {},
   "outputs": [
    {
     "name": "stdout",
     "output_type": "stream",
     "text": [
      "(25, 3)\n",
      "(1, 25, 600, 960)\n"
     ]
    },
    {
     "data": {
      "text/plain": [
       "<Image layer 'MIP_aligned' at 0x1a461ee1ac0>"
      ]
     },
     "execution_count": 18,
     "metadata": {},
     "output_type": "execute_result"
    }
   ],
   "source": [
    "#Aligning Max Projection to check if coordinates are good\n",
    "\n",
    "from cupyx.scipy.ndimage import shift\n",
    "import cupy as cp\n",
    "# Generate our own shifted datset\n",
    "with cp.cuda.Device(0):\n",
    "    mip_aligned = []\n",
    "    t,c,h,w = stack.shape\n",
    "    shift_stack_cam = cp.zeros((c,h,w))\n",
    "    columns = cp.zeros((offset_coordinates.shape[0],1))\n",
    "    shift_stack_coord = cp.hstack((columns,offset_coordinates))\n",
    "    print(shift_stack_coord.shape)\n",
    "    print(np_mip.shape)\n",
    "    for i in range(c):\n",
    "        cp_stack = cp.array(np_mip[:,i,:,:])\n",
    "        shift_stack_cam= shift(cp_stack,shift_stack_coord[i])\n",
    "        mip_aligned.append(cp.asnumpy(shift_stack_cam))\n",
    "        cp_stack = None\n",
    "    mip_aligned = np.array(mip_aligned)\n",
    "mip_aligned =  np.moveaxis(mip_aligned,0,1)\n",
    "\n",
    "#Convert to Dask Array\n",
    "mip_aligned = da.from_array(mip_aligned)\n",
    "viewer.add_image(mip_aligned, name='MIP_aligned',scale = [z_scale,1,1])"
   ]
  },
  {
   "cell_type": "code",
   "execution_count": 22,
   "metadata": {},
   "outputs": [
    {
     "name": "stdout",
     "output_type": "stream",
     "text": [
      "(25, 3)\n",
      "(385, 25, 600, 960)\n"
     ]
    },
    {
     "data": {
      "text/plain": [
       "<Image layer 'stack_aligned' at 0x1a58d10a7c0>"
      ]
     },
     "execution_count": 22,
     "metadata": {},
     "output_type": "execute_result"
    }
   ],
   "source": [
    "from cupyx.scipy.ndimage import shift\n",
    "import cupy as cp\n",
    "# Generate our own shifted datset\n",
    "with cp.cuda.Device(0):\n",
    "    stack_aligned = []\n",
    "    t,c,h,w = stack.shape\n",
    "    shift_stack_cam = cp.zeros((c,h,w))\n",
    "    columns = cp.zeros((offset_coordinates.shape[0],1))\n",
    "    shift_stack_coord = cp.hstack((columns,offset_coordinates))\n",
    "    print(shift_stack_coord.shape)\n",
    "    print(stack.shape)\n",
    "    for i in range(c):\n",
    "        cp_stack = cp.array(stack[:,i,:,:])\n",
    "        shift_stack_cam= shift(cp_stack,shift_stack_coord[i])\n",
    "        stack_aligned.append(cp.asnumpy(shift_stack_cam))\n",
    "        cp_stack = None\n",
    "    stack_aligned = np.array(stack_aligned)\n",
    "stack_aligned =  np.moveaxis(stack_aligned,0,1)\n",
    "\n",
    "#Convert to Dask Array\n",
    "da_stack_aligned = da.from_array(stack_aligned)\n",
    "viewer.add_image(da_stack_aligned, name='stack_aligned',scale = [z_scale,1,1])\n"
   ]
  },
  {
   "cell_type": "markdown",
   "metadata": {},
   "source": [
    "### Align Datasets with Known Offsets\n"
   ]
  },
  {
   "cell_type": "code",
   "execution_count": 13,
   "metadata": {},
   "outputs": [
    {
     "name": "stdout",
     "output_type": "stream",
     "text": [
      "(25, 3)\n",
      "(20, 25, 600, 960)\n"
     ]
    }
   ],
   "source": [
    "from cupyx.scipy.ndimage import shift\n",
    "import cupy as cp\n",
    "# Generate our own shifted datset\n",
    "\n",
    "offset_coordinates = offsets\n",
    "with cp.cuda.Device(0):\n",
    "    stack_aligned = []\n",
    "    t,c,h,w = stack.shape\n",
    "    shift_stack_cam = cp.zeros((c,h,w))\n",
    "    columns = cp.zeros((offset_coordinates.shape[0],1))\n",
    "    shift_stack_coord = cp.hstack((columns,offset_coordinates))\n",
    "    print(shift_stack_coord.shape)\n",
    "    print(stack.shape)\n",
    "    for i in range(c):\n",
    "        cp_stack = cp.array(stack[:,i,:,:])\n",
    "        shift_stack_cam= shift(cp_stack,shift_stack_coord[i])\n",
    "        stack_aligned.append(cp.asnumpy(shift_stack_cam))\n",
    "        cp_stack = None\n",
    "    stack_aligned = np.array(stack_aligned)\n",
    "stack_aligned =  np.moveaxis(stack_aligned,0,1)"
   ]
  },
  {
   "cell_type": "code",
   "execution_count": 14,
   "metadata": {},
   "outputs": [
    {
     "name": "stdout",
     "output_type": "stream",
     "text": [
      "dask.array<array, shape=(20, 25, 600, 960), dtype=uint16, chunksize=(20, 25, 300, 320), chunktype=numpy.ndarray>\n"
     ]
    }
   ],
   "source": [
    "#Convert numpy to dask?\n",
    "da_stack_align = da.from_array(stack_aligned)\n",
    "print(da_stack_align)"
   ]
  },
  {
   "cell_type": "code",
   "execution_count": 16,
   "metadata": {},
   "outputs": [
    {
     "name": "stderr",
     "output_type": "stream",
     "text": [
      "Exception in callback BaseAsyncIOLoop._handle_events(6720, 1)\n",
      "handle: <Handle BaseAsyncIOLoop._handle_events(6720, 1)>\n",
      "Traceback (most recent call last):\n",
      "  File \"C:\\Users\\Callisto\\Anaconda3\\envs\\napari-pymmcore\\lib\\asyncio\\events.py\", line 81, in _run\n",
      "    self._context.run(self._callback, *self._args)\n",
      "  File \"C:\\Users\\Callisto\\Anaconda3\\envs\\napari-pymmcore\\lib\\site-packages\\tornado\\platform\\asyncio.py\", line 189, in _handle_events\n",
      "    handler_func(fileobj, events)\n",
      "  File \"C:\\Users\\Callisto\\Anaconda3\\envs\\napari-pymmcore\\lib\\site-packages\\zmq\\eventloop\\zmqstream.py\", line 452, in _handle_events\n",
      "    self._handle_recv()\n",
      "  File \"C:\\Users\\Callisto\\Anaconda3\\envs\\napari-pymmcore\\lib\\site-packages\\zmq\\eventloop\\zmqstream.py\", line 481, in _handle_recv\n",
      "    self._run_callback(callback, msg)\n",
      "  File \"C:\\Users\\Callisto\\Anaconda3\\envs\\napari-pymmcore\\lib\\site-packages\\zmq\\eventloop\\zmqstream.py\", line 431, in _run_callback\n",
      "    callback(*args, **kwargs)\n",
      "  File \"C:\\Users\\Callisto\\Anaconda3\\envs\\napari-pymmcore\\lib\\site-packages\\jupyter_client\\threaded.py\", line 121, in _handle_recv\n",
      "    msg_list = self.ioloop._asyncio_event_loop.run_until_complete(get_msg(future_msg))\n",
      "  File \"C:\\Users\\Callisto\\Anaconda3\\envs\\napari-pymmcore\\lib\\asyncio\\base_events.py\", line 592, in run_until_complete\n",
      "    self._check_running()\n",
      "  File \"C:\\Users\\Callisto\\Anaconda3\\envs\\napari-pymmcore\\lib\\asyncio\\base_events.py\", line 554, in _check_running\n",
      "    raise RuntimeError(\n",
      "RuntimeError: Cannot run the event loop while another loop is running\n"
     ]
    }
   ],
   "source": [
    "viewer= napari.Viewer()"
   ]
  },
  {
   "cell_type": "code",
   "execution_count": 17,
   "metadata": {},
   "outputs": [
    {
     "name": "stderr",
     "output_type": "stream",
     "text": [
      "C:\\Users\\Callisto\\Anaconda3\\envs\\napari-pymmcore\\lib\\weakref.py:354: RuntimeWarning: coroutine 'get_msg' was never awaited\n",
      "  self._pending_removals = []\n",
      "RuntimeWarning: Enable tracemalloc to get the object allocation traceback\n"
     ]
    },
    {
     "data": {
      "text/plain": [
       "<Image layer 'dask_align' at 0x18fa1864c40>"
      ]
     },
     "execution_count": 17,
     "metadata": {},
     "output_type": "execute_result"
    }
   ],
   "source": [
    "viewer.add_image(da_stack_align, name='dask_align',scale=[z_scale,1,1])"
   ]
  },
  {
   "cell_type": "code",
   "execution_count": 20,
   "metadata": {},
   "outputs": [],
   "source": [
    "# Align the files\n",
    "ij_stack2  = ij.py.to_java(np.array(da_stack_align,dtype='uint16'))\n",
    "ij.ui().show('PSF', ij_stack2)"
   ]
  },
  {
   "cell_type": "markdown",
   "metadata": {},
   "source": [
    "### CROP PSF TO ANALYZE\n"
   ]
  },
  {
   "cell_type": "code",
   "execution_count": 23,
   "metadata": {},
   "outputs": [
    {
     "name": "stdout",
     "output_type": "stream",
     "text": [
      "[[192.          12.         346.22491219 314.85478602]\n",
      " [192.          12.         346.22491219 420.44183099]\n",
      " [192.          12.         429.58310559 420.44183099]\n",
      " [192.          12.         429.58310559 314.85478602]]\n",
      "[[346 315]\n",
      " [430 420]]\n",
      "(2, 2)\n"
     ]
    }
   ],
   "source": [
    "#Go to napari and make a square for alignment\n",
    "crop_region =viewer.layers['Shapes'].data[0]\n",
    "template = calibration.create_box_ndarray(crop_region)\n",
    "template_box = template[0:4,2:4]\n",
    "print(crop_region)\n",
    "print(template_box)\n",
    "print(template_box.shape)"
   ]
  },
  {
   "cell_type": "code",
   "execution_count": 25,
   "metadata": {},
   "outputs": [
    {
     "name": "stdout",
     "output_type": "stream",
     "text": [
      "192 12\n"
     ]
    },
    {
     "data": {
      "text/plain": [
       "<Image layer 'crop' at 0x1a47ac28070>"
      ]
     },
     "execution_count": 25,
     "metadata": {},
     "output_type": "execute_result"
    }
   ],
   "source": [
    "# Since OpenCV Match Template takes in uint8 || float32. We can change from uint16 to uint8 easily\n",
    "# np_mip_8bit =visual.im_bit_convert(np_mip,bit=8)\n",
    "min_val, max_val = template_box\n",
    "t,c = template[0,0:2]\n",
    "print(t,c)\n",
    "crop_img = da_stack_aligned[:,:, min_val[0]:max_val[0],min_val[1]:max_val[1]]\n",
    "# crop_img = np_mip_8bit[t,c, min_val[0]:max_val[0],min_val[1]:max_val[1]]\n",
    "viewer.add_image(crop_img,name='crop')"
   ]
  },
  {
   "cell_type": "code",
   "execution_count": 17,
   "metadata": {},
   "outputs": [
    {
     "data": {
      "text/html": [
       "<table>\n",
       "    <tr>\n",
       "        <td>\n",
       "            <table>\n",
       "                <thead>\n",
       "                    <tr>\n",
       "                        <td> </td>\n",
       "                        <th> Array </th>\n",
       "                        <th> Chunk </th>\n",
       "                    </tr>\n",
       "                </thead>\n",
       "                <tbody>\n",
       "                    \n",
       "                    <tr>\n",
       "                        <th> Bytes </th>\n",
       "                        <td> 1.10 MiB </td>\n",
       "                        <td> 512.70 kiB </td>\n",
       "                    </tr>\n",
       "                    \n",
       "                    <tr>\n",
       "                        <th> Shape </th>\n",
       "                        <td> (385, 25, 10, 12) </td>\n",
       "                        <td> (175, 25, 10, 12) </td>\n",
       "                    </tr>\n",
       "                    <tr>\n",
       "                        <th> Count </th>\n",
       "                        <td> 75 Tasks </td>\n",
       "                        <td> 3 Chunks </td>\n",
       "                    </tr>\n",
       "                    <tr>\n",
       "                    <th> Type </th>\n",
       "                    <td> uint8 </td>\n",
       "                    <td> numpy.ndarray </td>\n",
       "                    </tr>\n",
       "                </tbody>\n",
       "            </table>\n",
       "        </td>\n",
       "        <td>\n",
       "        <svg width=\"482\" height=\"101\" style=\"stroke:rgb(0,0,0);stroke-width:1\" >\n",
       "\n",
       "  <!-- Horizontal lines -->\n",
       "  <line x1=\"0\" y1=\"0\" x2=\"120\" y2=\"0\" style=\"stroke-width:2\" />\n",
       "  <line x1=\"0\" y1=\"25\" x2=\"120\" y2=\"25\" style=\"stroke-width:2\" />\n",
       "\n",
       "  <!-- Vertical lines -->\n",
       "  <line x1=\"0\" y1=\"0\" x2=\"0\" y2=\"25\" style=\"stroke-width:2\" />\n",
       "  <line x1=\"54\" y1=\"0\" x2=\"54\" y2=\"25\" />\n",
       "  <line x1=\"109\" y1=\"0\" x2=\"109\" y2=\"25\" />\n",
       "  <line x1=\"120\" y1=\"0\" x2=\"120\" y2=\"25\" style=\"stroke-width:2\" />\n",
       "\n",
       "  <!-- Colored Rectangle -->\n",
       "  <polygon points=\"0.0,0.0 120.0,0.0 120.0,25.412616514582485 0.0,25.412616514582485\" style=\"fill:#ECB172A0;stroke-width:0\"/>\n",
       "\n",
       "  <!-- Text -->\n",
       "  <text x=\"60.000000\" y=\"45.412617\" font-size=\"1.0rem\" font-weight=\"100\" text-anchor=\"middle\" >385</text>\n",
       "  <text x=\"140.000000\" y=\"12.706308\" font-size=\"1.0rem\" font-weight=\"100\" text-anchor=\"middle\" transform=\"rotate(0,140.000000,12.706308)\">1</text>\n",
       "\n",
       "\n",
       "  <!-- Horizontal lines -->\n",
       "  <line x1=\"190\" y1=\"0\" x2=\"211\" y2=\"21\" style=\"stroke-width:2\" />\n",
       "  <line x1=\"190\" y1=\"30\" x2=\"211\" y2=\"51\" style=\"stroke-width:2\" />\n",
       "\n",
       "  <!-- Vertical lines -->\n",
       "  <line x1=\"190\" y1=\"0\" x2=\"190\" y2=\"30\" style=\"stroke-width:2\" />\n",
       "  <line x1=\"211\" y1=\"21\" x2=\"211\" y2=\"51\" style=\"stroke-width:2\" />\n",
       "\n",
       "  <!-- Colored Rectangle -->\n",
       "  <polygon points=\"190.0,0.0 211.2293144659917,21.229314465991706 211.2293144659917,51.76473067114562 190.0,30.535416205153915\" style=\"fill:#ECB172A0;stroke-width:0\"/>\n",
       "\n",
       "  <!-- Horizontal lines -->\n",
       "  <line x1=\"190\" y1=\"0\" x2=\"221\" y2=\"0\" style=\"stroke-width:2\" />\n",
       "  <line x1=\"211\" y1=\"21\" x2=\"242\" y2=\"21\" style=\"stroke-width:2\" />\n",
       "\n",
       "  <!-- Vertical lines -->\n",
       "  <line x1=\"190\" y1=\"0\" x2=\"211\" y2=\"21\" style=\"stroke-width:2\" />\n",
       "  <line x1=\"221\" y1=\"0\" x2=\"242\" y2=\"21\" style=\"stroke-width:2\" />\n",
       "\n",
       "  <!-- Colored Rectangle -->\n",
       "  <polygon points=\"190.0,0.0 221.61959862958727,0.0 242.84891309557898,21.229314465991706 211.2293144659917,21.229314465991706\" style=\"fill:#ECB172A0;stroke-width:0\"/>\n",
       "\n",
       "  <!-- Horizontal lines -->\n",
       "  <line x1=\"211\" y1=\"21\" x2=\"242\" y2=\"21\" style=\"stroke-width:2\" />\n",
       "  <line x1=\"211\" y1=\"51\" x2=\"242\" y2=\"51\" style=\"stroke-width:2\" />\n",
       "\n",
       "  <!-- Vertical lines -->\n",
       "  <line x1=\"211\" y1=\"21\" x2=\"211\" y2=\"51\" style=\"stroke-width:2\" />\n",
       "  <line x1=\"242\" y1=\"21\" x2=\"242\" y2=\"51\" style=\"stroke-width:2\" />\n",
       "\n",
       "  <!-- Colored Rectangle -->\n",
       "  <polygon points=\"211.2293144659917,21.229314465991706 242.84891309557898,21.229314465991706 242.84891309557898,51.76473067114562 211.2293144659917,51.76473067114562\" style=\"fill:#ECB172A0;stroke-width:0\"/>\n",
       "\n",
       "  <!-- Text -->\n",
       "  <text x=\"227.039114\" y=\"71.764731\" font-size=\"1.0rem\" font-weight=\"100\" text-anchor=\"middle\" >12</text>\n",
       "  <text x=\"262.848913\" y=\"36.497023\" font-size=\"1.0rem\" font-weight=\"100\" text-anchor=\"middle\" transform=\"rotate(0,262.848913,36.497023)\">10</text>\n",
       "  <text x=\"190.614657\" y=\"61.150073\" font-size=\"1.0rem\" font-weight=\"100\" text-anchor=\"middle\" transform=\"rotate(45,190.614657,61.150073)\">25</text>\n",
       "</svg>\n",
       "        </td>\n",
       "    </tr>\n",
       "</table>"
      ],
      "text/plain": [
       "dask.array<getitem, shape=(385, 25, 10, 12), dtype=uint8, chunksize=(175, 25, 10, 12), chunktype=numpy.ndarray>"
      ]
     },
     "execution_count": 17,
     "metadata": {},
     "output_type": "execute_result"
    }
   ],
   "source": [
    "crop_img"
   ]
  },
  {
   "cell_type": "markdown",
   "metadata": {},
   "source": [
    "### Image J Part"
   ]
  },
  {
   "cell_type": "code",
   "execution_count": 26,
   "metadata": {},
   "outputs": [
    {
     "name": "stdout",
     "output_type": "stream",
     "text": [
      "2.1.0/1.53c\n"
     ]
    }
   ],
   "source": [
    "def start_imagej():\n",
    "    import imagej\n",
    "    global ij\n",
    "    ij = imagej.init('net.imagej:imageJ:2.1.0',mode='interactive')\n",
    "    ij.ui().showUI()\n",
    "    print(ij.getVersion())\n",
    "\n",
    "QtCore.QTimer.singleShot(0, start_imagej)"
   ]
  },
  {
   "cell_type": "code",
   "execution_count": 27,
   "metadata": {},
   "outputs": [],
   "source": [
    "# Align the files\n",
    "ij_stack2  = ij.py.to_java(np.array(crop_img,dtype='uint8'))\n",
    "ij.ui().show('PSF', ij_stack2)"
   ]
  },
  {
   "cell_type": "code",
   "execution_count": 49,
   "metadata": {},
   "outputs": [],
   "source": [
    "b =ij.WindowManager.getWindow('PSF-2')"
   ]
  },
  {
   "cell_type": "code",
   "execution_count": 53,
   "metadata": {},
   "outputs": [
    {
     "name": "stdout",
     "output_type": "stream",
     "text": [
      "(385, 9, 8, 25)\n"
     ]
    },
    {
     "ename": "TypeError",
     "evalue": "invalid indexer array, does not have integer dtype: array(None, dtype=object)",
     "output_type": "error",
     "traceback": [
      "\u001b[1;31m---------------------------------------------------------------------------\u001b[0m",
      "\u001b[1;31mTypeError\u001b[0m                                 Traceback (most recent call last)",
      "\u001b[1;32mc:\\Users\\Callisto\\Documents\\edhirata\\tutorials\\M25_napari\\notebooks\\test_cropPSF.ipynb Cell 31'\u001b[0m in \u001b[0;36m<module>\u001b[1;34m\u001b[0m\n\u001b[0;32m      <a href='vscode-notebook-cell:/c%3A/Users/Callisto/Documents/edhirata/tutorials/M25_napari/notebooks/test_cropPSF.ipynb#ch0000039?line=2'>3</a>\u001b[0m anp \u001b[39m=\u001b[39m ij\u001b[39m.\u001b[39mpy\u001b[39m.\u001b[39mfrom_java(a)\n\u001b[0;32m      <a href='vscode-notebook-cell:/c%3A/Users/Callisto/Documents/edhirata/tutorials/M25_napari/notebooks/test_cropPSF.ipynb#ch0000039?line=3'>4</a>\u001b[0m \u001b[39mprint\u001b[39m(anp\u001b[39m.\u001b[39mshape)\n\u001b[1;32m----> <a href='vscode-notebook-cell:/c%3A/Users/Callisto/Documents/edhirata/tutorials/M25_napari/notebooks/test_cropPSF.ipynb#ch0000039?line=4'>5</a>\u001b[0m anp2 \u001b[39m=\u001b[39m anp[:,:,:,np\u001b[39m.\u001b[39;49mnewaxis]\n\u001b[0;32m      <a href='vscode-notebook-cell:/c%3A/Users/Callisto/Documents/edhirata/tutorials/M25_napari/notebooks/test_cropPSF.ipynb#ch0000039?line=5'>6</a>\u001b[0m \u001b[39mprint\u001b[39m(anp2\u001b[39m.\u001b[39mshape)\n\u001b[0;32m      <a href='vscode-notebook-cell:/c%3A/Users/Callisto/Documents/edhirata/tutorials/M25_napari/notebooks/test_cropPSF.ipynb#ch0000039?line=6'>7</a>\u001b[0m anp2 \u001b[39m=\u001b[39m np\u001b[39m.\u001b[39mswapaxes(anp,\u001b[39m1\u001b[39m,\u001b[39m4\u001b[39m)\n",
      "File \u001b[1;32m~\\Anaconda3\\envs\\napari-pymmcore\\lib\\site-packages\\xarray\\core\\dataarray.py:741\u001b[0m, in \u001b[0;36mDataArray.__getitem__\u001b[1;34m(self, key)\u001b[0m\n\u001b[0;32m    <a href='file:///c%3A/Users/Callisto/Anaconda3/envs/napari-pymmcore/lib/site-packages/xarray/core/dataarray.py?line=737'>738</a>\u001b[0m     \u001b[39mreturn\u001b[39;00m \u001b[39mself\u001b[39m\u001b[39m.\u001b[39m_getitem_coord(key)\n\u001b[0;32m    <a href='file:///c%3A/Users/Callisto/Anaconda3/envs/napari-pymmcore/lib/site-packages/xarray/core/dataarray.py?line=738'>739</a>\u001b[0m \u001b[39melse\u001b[39;00m:\n\u001b[0;32m    <a href='file:///c%3A/Users/Callisto/Anaconda3/envs/napari-pymmcore/lib/site-packages/xarray/core/dataarray.py?line=739'>740</a>\u001b[0m     \u001b[39m# xarray-style array indexing\u001b[39;00m\n\u001b[1;32m--> <a href='file:///c%3A/Users/Callisto/Anaconda3/envs/napari-pymmcore/lib/site-packages/xarray/core/dataarray.py?line=740'>741</a>\u001b[0m     \u001b[39mreturn\u001b[39;00m \u001b[39mself\u001b[39;49m\u001b[39m.\u001b[39;49misel(indexers\u001b[39m=\u001b[39;49m\u001b[39mself\u001b[39;49m\u001b[39m.\u001b[39;49m_item_key_to_dict(key))\n",
      "File \u001b[1;32m~\\Anaconda3\\envs\\napari-pymmcore\\lib\\site-packages\\xarray\\core\\dataarray.py:1197\u001b[0m, in \u001b[0;36mDataArray.isel\u001b[1;34m(self, indexers, drop, missing_dims, **indexers_kwargs)\u001b[0m\n\u001b[0;32m   <a href='file:///c%3A/Users/Callisto/Anaconda3/envs/napari-pymmcore/lib/site-packages/xarray/core/dataarray.py?line=1193'>1194</a>\u001b[0m indexers \u001b[39m=\u001b[39m either_dict_or_kwargs(indexers, indexers_kwargs, \u001b[39m\"\u001b[39m\u001b[39misel\u001b[39m\u001b[39m\"\u001b[39m)\n\u001b[0;32m   <a href='file:///c%3A/Users/Callisto/Anaconda3/envs/napari-pymmcore/lib/site-packages/xarray/core/dataarray.py?line=1195'>1196</a>\u001b[0m \u001b[39mif\u001b[39;00m \u001b[39many\u001b[39m(is_fancy_indexer(idx) \u001b[39mfor\u001b[39;00m idx \u001b[39min\u001b[39;00m indexers\u001b[39m.\u001b[39mvalues()):\n\u001b[1;32m-> <a href='file:///c%3A/Users/Callisto/Anaconda3/envs/napari-pymmcore/lib/site-packages/xarray/core/dataarray.py?line=1196'>1197</a>\u001b[0m     ds \u001b[39m=\u001b[39m \u001b[39mself\u001b[39;49m\u001b[39m.\u001b[39;49m_to_temp_dataset()\u001b[39m.\u001b[39;49m_isel_fancy(\n\u001b[0;32m   <a href='file:///c%3A/Users/Callisto/Anaconda3/envs/napari-pymmcore/lib/site-packages/xarray/core/dataarray.py?line=1197'>1198</a>\u001b[0m         indexers, drop\u001b[39m=\u001b[39;49mdrop, missing_dims\u001b[39m=\u001b[39;49mmissing_dims\n\u001b[0;32m   <a href='file:///c%3A/Users/Callisto/Anaconda3/envs/napari-pymmcore/lib/site-packages/xarray/core/dataarray.py?line=1198'>1199</a>\u001b[0m     )\n\u001b[0;32m   <a href='file:///c%3A/Users/Callisto/Anaconda3/envs/napari-pymmcore/lib/site-packages/xarray/core/dataarray.py?line=1199'>1200</a>\u001b[0m     \u001b[39mreturn\u001b[39;00m \u001b[39mself\u001b[39m\u001b[39m.\u001b[39m_from_temp_dataset(ds)\n\u001b[0;32m   <a href='file:///c%3A/Users/Callisto/Anaconda3/envs/napari-pymmcore/lib/site-packages/xarray/core/dataarray.py?line=1201'>1202</a>\u001b[0m \u001b[39m# Much faster algorithm for when all indexers are ints, slices, one-dimensional\u001b[39;00m\n\u001b[0;32m   <a href='file:///c%3A/Users/Callisto/Anaconda3/envs/napari-pymmcore/lib/site-packages/xarray/core/dataarray.py?line=1202'>1203</a>\u001b[0m \u001b[39m# lists, or zero or one-dimensional np.ndarray's\u001b[39;00m\n",
      "File \u001b[1;32m~\\Anaconda3\\envs\\napari-pymmcore\\lib\\site-packages\\xarray\\core\\dataset.py:2410\u001b[0m, in \u001b[0;36mDataset._isel_fancy\u001b[1;34m(self, indexers, drop, missing_dims)\u001b[0m\n\u001b[0;32m   <a href='file:///c%3A/Users/Callisto/Anaconda3/envs/napari-pymmcore/lib/site-packages/xarray/core/dataset.py?line=2406'>2407</a>\u001b[0m     \u001b[39mcontinue\u001b[39;00m  \u001b[39m# drop this variable\u001b[39;00m\n\u001b[0;32m   <a href='file:///c%3A/Users/Callisto/Anaconda3/envs/napari-pymmcore/lib/site-packages/xarray/core/dataset.py?line=2408'>2409</a>\u001b[0m \u001b[39mif\u001b[39;00m name \u001b[39min\u001b[39;00m \u001b[39mself\u001b[39m\u001b[39m.\u001b[39mxindexes:\n\u001b[1;32m-> <a href='file:///c%3A/Users/Callisto/Anaconda3/envs/napari-pymmcore/lib/site-packages/xarray/core/dataset.py?line=2409'>2410</a>\u001b[0m     new_var, new_index \u001b[39m=\u001b[39m isel_variable_and_index(\n\u001b[0;32m   <a href='file:///c%3A/Users/Callisto/Anaconda3/envs/napari-pymmcore/lib/site-packages/xarray/core/dataset.py?line=2410'>2411</a>\u001b[0m         name, var, \u001b[39mself\u001b[39;49m\u001b[39m.\u001b[39;49mxindexes[name], var_indexers\n\u001b[0;32m   <a href='file:///c%3A/Users/Callisto/Anaconda3/envs/napari-pymmcore/lib/site-packages/xarray/core/dataset.py?line=2411'>2412</a>\u001b[0m     )\n\u001b[0;32m   <a href='file:///c%3A/Users/Callisto/Anaconda3/envs/napari-pymmcore/lib/site-packages/xarray/core/dataset.py?line=2412'>2413</a>\u001b[0m     \u001b[39mif\u001b[39;00m new_index \u001b[39mis\u001b[39;00m \u001b[39mnot\u001b[39;00m \u001b[39mNone\u001b[39;00m:\n\u001b[0;32m   <a href='file:///c%3A/Users/Callisto/Anaconda3/envs/napari-pymmcore/lib/site-packages/xarray/core/dataset.py?line=2413'>2414</a>\u001b[0m         indexes[name] \u001b[39m=\u001b[39m new_index\n",
      "File \u001b[1;32m~\\Anaconda3\\envs\\napari-pymmcore\\lib\\site-packages\\xarray\\core\\indexes.py:528\u001b[0m, in \u001b[0;36misel_variable_and_index\u001b[1;34m(name, variable, index, indexers)\u001b[0m\n\u001b[0;32m    <a href='file:///c%3A/Users/Callisto/Anaconda3/envs/napari-pymmcore/lib/site-packages/xarray/core/indexes.py?line=522'>523</a>\u001b[0m \u001b[39mif\u001b[39;00m \u001b[39mlen\u001b[39m(variable\u001b[39m.\u001b[39mdims) \u001b[39m>\u001b[39m \u001b[39m1\u001b[39m:\n\u001b[0;32m    <a href='file:///c%3A/Users/Callisto/Anaconda3/envs/napari-pymmcore/lib/site-packages/xarray/core/indexes.py?line=523'>524</a>\u001b[0m     \u001b[39mraise\u001b[39;00m \u001b[39mNotImplementedError\u001b[39;00m(\n\u001b[0;32m    <a href='file:///c%3A/Users/Callisto/Anaconda3/envs/napari-pymmcore/lib/site-packages/xarray/core/indexes.py?line=524'>525</a>\u001b[0m         \u001b[39m\"\u001b[39m\u001b[39mindexing multi-dimensional variable with indexes is not supported yet\u001b[39m\u001b[39m\"\u001b[39m\n\u001b[0;32m    <a href='file:///c%3A/Users/Callisto/Anaconda3/envs/napari-pymmcore/lib/site-packages/xarray/core/indexes.py?line=525'>526</a>\u001b[0m     )\n\u001b[1;32m--> <a href='file:///c%3A/Users/Callisto/Anaconda3/envs/napari-pymmcore/lib/site-packages/xarray/core/indexes.py?line=527'>528</a>\u001b[0m new_variable \u001b[39m=\u001b[39m variable\u001b[39m.\u001b[39;49misel(indexers)\n\u001b[0;32m    <a href='file:///c%3A/Users/Callisto/Anaconda3/envs/napari-pymmcore/lib/site-packages/xarray/core/indexes.py?line=529'>530</a>\u001b[0m \u001b[39mif\u001b[39;00m new_variable\u001b[39m.\u001b[39mdims \u001b[39m!=\u001b[39m (name,):\n\u001b[0;32m    <a href='file:///c%3A/Users/Callisto/Anaconda3/envs/napari-pymmcore/lib/site-packages/xarray/core/indexes.py?line=530'>531</a>\u001b[0m     \u001b[39m# can't preserve a index if result has new dimensions\u001b[39;00m\n\u001b[0;32m    <a href='file:///c%3A/Users/Callisto/Anaconda3/envs/napari-pymmcore/lib/site-packages/xarray/core/indexes.py?line=531'>532</a>\u001b[0m     \u001b[39mreturn\u001b[39;00m new_variable, \u001b[39mNone\u001b[39;00m\n",
      "File \u001b[1;32m~\\Anaconda3\\envs\\napari-pymmcore\\lib\\site-packages\\xarray\\core\\variable.py:1186\u001b[0m, in \u001b[0;36mVariable.isel\u001b[1;34m(self, indexers, missing_dims, **indexers_kwargs)\u001b[0m\n\u001b[0;32m   <a href='file:///c%3A/Users/Callisto/Anaconda3/envs/napari-pymmcore/lib/site-packages/xarray/core/variable.py?line=1182'>1183</a>\u001b[0m indexers \u001b[39m=\u001b[39m drop_dims_from_indexers(indexers, \u001b[39mself\u001b[39m\u001b[39m.\u001b[39mdims, missing_dims)\n\u001b[0;32m   <a href='file:///c%3A/Users/Callisto/Anaconda3/envs/napari-pymmcore/lib/site-packages/xarray/core/variable.py?line=1184'>1185</a>\u001b[0m key \u001b[39m=\u001b[39m \u001b[39mtuple\u001b[39m(indexers\u001b[39m.\u001b[39mget(dim, \u001b[39mslice\u001b[39m(\u001b[39mNone\u001b[39;00m)) \u001b[39mfor\u001b[39;00m dim \u001b[39min\u001b[39;00m \u001b[39mself\u001b[39m\u001b[39m.\u001b[39mdims)\n\u001b[1;32m-> <a href='file:///c%3A/Users/Callisto/Anaconda3/envs/napari-pymmcore/lib/site-packages/xarray/core/variable.py?line=1185'>1186</a>\u001b[0m \u001b[39mreturn\u001b[39;00m \u001b[39mself\u001b[39;49m[key]\n",
      "File \u001b[1;32m~\\Anaconda3\\envs\\napari-pymmcore\\lib\\site-packages\\xarray\\core\\variable.py:778\u001b[0m, in \u001b[0;36mVariable.__getitem__\u001b[1;34m(self, key)\u001b[0m\n\u001b[0;32m    <a href='file:///c%3A/Users/Callisto/Anaconda3/envs/napari-pymmcore/lib/site-packages/xarray/core/variable.py?line=764'>765</a>\u001b[0m \u001b[39mdef\u001b[39;00m \u001b[39m__getitem__\u001b[39m(\u001b[39mself\u001b[39m: T_Variable, key) \u001b[39m-\u001b[39m\u001b[39m>\u001b[39m T_Variable:\n\u001b[0;32m    <a href='file:///c%3A/Users/Callisto/Anaconda3/envs/napari-pymmcore/lib/site-packages/xarray/core/variable.py?line=765'>766</a>\u001b[0m     \u001b[39m\"\"\"Return a new Variable object whose contents are consistent with\u001b[39;00m\n\u001b[0;32m    <a href='file:///c%3A/Users/Callisto/Anaconda3/envs/napari-pymmcore/lib/site-packages/xarray/core/variable.py?line=766'>767</a>\u001b[0m \u001b[39m    getting the provided key from the underlying data.\u001b[39;00m\n\u001b[0;32m    <a href='file:///c%3A/Users/Callisto/Anaconda3/envs/napari-pymmcore/lib/site-packages/xarray/core/variable.py?line=767'>768</a>\u001b[0m \n\u001b[1;32m   (...)\u001b[0m\n\u001b[0;32m    <a href='file:///c%3A/Users/Callisto/Anaconda3/envs/napari-pymmcore/lib/site-packages/xarray/core/variable.py?line=775'>776</a>\u001b[0m \u001b[39m    array `x.values` directly.\u001b[39;00m\n\u001b[0;32m    <a href='file:///c%3A/Users/Callisto/Anaconda3/envs/napari-pymmcore/lib/site-packages/xarray/core/variable.py?line=776'>777</a>\u001b[0m \u001b[39m    \"\"\"\u001b[39;00m\n\u001b[1;32m--> <a href='file:///c%3A/Users/Callisto/Anaconda3/envs/napari-pymmcore/lib/site-packages/xarray/core/variable.py?line=777'>778</a>\u001b[0m     dims, indexer, new_order \u001b[39m=\u001b[39m \u001b[39mself\u001b[39;49m\u001b[39m.\u001b[39;49m_broadcast_indexes(key)\n\u001b[0;32m    <a href='file:///c%3A/Users/Callisto/Anaconda3/envs/napari-pymmcore/lib/site-packages/xarray/core/variable.py?line=778'>779</a>\u001b[0m     data \u001b[39m=\u001b[39m as_indexable(\u001b[39mself\u001b[39m\u001b[39m.\u001b[39m_data)[indexer]\n\u001b[0;32m    <a href='file:///c%3A/Users/Callisto/Anaconda3/envs/napari-pymmcore/lib/site-packages/xarray/core/variable.py?line=779'>780</a>\u001b[0m     \u001b[39mif\u001b[39;00m new_order:\n",
      "File \u001b[1;32m~\\Anaconda3\\envs\\napari-pymmcore\\lib\\site-packages\\xarray\\core\\variable.py:626\u001b[0m, in \u001b[0;36mVariable._broadcast_indexes\u001b[1;34m(self, key)\u001b[0m\n\u001b[0;32m    <a href='file:///c%3A/Users/Callisto/Anaconda3/envs/napari-pymmcore/lib/site-packages/xarray/core/variable.py?line=621'>622</a>\u001b[0m \u001b[39m# Detect it can be mapped as an outer indexer\u001b[39;00m\n\u001b[0;32m    <a href='file:///c%3A/Users/Callisto/Anaconda3/envs/napari-pymmcore/lib/site-packages/xarray/core/variable.py?line=622'>623</a>\u001b[0m \u001b[39m# If all key is unlabeled, or\u001b[39;00m\n\u001b[0;32m    <a href='file:///c%3A/Users/Callisto/Anaconda3/envs/napari-pymmcore/lib/site-packages/xarray/core/variable.py?line=623'>624</a>\u001b[0m \u001b[39m# key can be mapped as an OuterIndexer.\u001b[39;00m\n\u001b[0;32m    <a href='file:///c%3A/Users/Callisto/Anaconda3/envs/napari-pymmcore/lib/site-packages/xarray/core/variable.py?line=624'>625</a>\u001b[0m \u001b[39mif\u001b[39;00m \u001b[39mall\u001b[39m(\u001b[39mnot\u001b[39;00m \u001b[39misinstance\u001b[39m(k, Variable) \u001b[39mfor\u001b[39;00m k \u001b[39min\u001b[39;00m key):\n\u001b[1;32m--> <a href='file:///c%3A/Users/Callisto/Anaconda3/envs/napari-pymmcore/lib/site-packages/xarray/core/variable.py?line=625'>626</a>\u001b[0m     \u001b[39mreturn\u001b[39;00m \u001b[39mself\u001b[39;49m\u001b[39m.\u001b[39;49m_broadcast_indexes_outer(key)\n\u001b[0;32m    <a href='file:///c%3A/Users/Callisto/Anaconda3/envs/napari-pymmcore/lib/site-packages/xarray/core/variable.py?line=627'>628</a>\u001b[0m \u001b[39m# If all key is 1-dimensional and there are no duplicate labels,\u001b[39;00m\n\u001b[0;32m    <a href='file:///c%3A/Users/Callisto/Anaconda3/envs/napari-pymmcore/lib/site-packages/xarray/core/variable.py?line=628'>629</a>\u001b[0m \u001b[39m# key can be mapped as an OuterIndexer.\u001b[39;00m\n\u001b[0;32m    <a href='file:///c%3A/Users/Callisto/Anaconda3/envs/napari-pymmcore/lib/site-packages/xarray/core/variable.py?line=629'>630</a>\u001b[0m dims \u001b[39m=\u001b[39m []\n",
      "File \u001b[1;32m~\\Anaconda3\\envs\\napari-pymmcore\\lib\\site-packages\\xarray\\core\\variable.py:700\u001b[0m, in \u001b[0;36mVariable._broadcast_indexes_outer\u001b[1;34m(self, key)\u001b[0m\n\u001b[0;32m    <a href='file:///c%3A/Users/Callisto/Anaconda3/envs/napari-pymmcore/lib/site-packages/xarray/core/variable.py?line=696'>697</a>\u001b[0m             (k,) \u001b[39m=\u001b[39m np\u001b[39m.\u001b[39mnonzero(k)\n\u001b[0;32m    <a href='file:///c%3A/Users/Callisto/Anaconda3/envs/napari-pymmcore/lib/site-packages/xarray/core/variable.py?line=697'>698</a>\u001b[0m     new_key\u001b[39m.\u001b[39mappend(k)\n\u001b[1;32m--> <a href='file:///c%3A/Users/Callisto/Anaconda3/envs/napari-pymmcore/lib/site-packages/xarray/core/variable.py?line=699'>700</a>\u001b[0m \u001b[39mreturn\u001b[39;00m dims, OuterIndexer(\u001b[39mtuple\u001b[39;49m(new_key)), \u001b[39mNone\u001b[39;00m\n",
      "File \u001b[1;32m~\\Anaconda3\\envs\\napari-pymmcore\\lib\\site-packages\\xarray\\core\\indexing.py:272\u001b[0m, in \u001b[0;36mOuterIndexer.__init__\u001b[1;34m(self, key)\u001b[0m\n\u001b[0;32m    <a href='file:///c%3A/Users/Callisto/Anaconda3/envs/napari-pymmcore/lib/site-packages/xarray/core/indexing.py?line=269'>270</a>\u001b[0m \u001b[39melif\u001b[39;00m \u001b[39misinstance\u001b[39m(k, np\u001b[39m.\u001b[39mndarray):\n\u001b[0;32m    <a href='file:///c%3A/Users/Callisto/Anaconda3/envs/napari-pymmcore/lib/site-packages/xarray/core/indexing.py?line=270'>271</a>\u001b[0m     \u001b[39mif\u001b[39;00m \u001b[39mnot\u001b[39;00m np\u001b[39m.\u001b[39missubdtype(k\u001b[39m.\u001b[39mdtype, np\u001b[39m.\u001b[39minteger):\n\u001b[1;32m--> <a href='file:///c%3A/Users/Callisto/Anaconda3/envs/napari-pymmcore/lib/site-packages/xarray/core/indexing.py?line=271'>272</a>\u001b[0m         \u001b[39mraise\u001b[39;00m \u001b[39mTypeError\u001b[39;00m(\n\u001b[0;32m    <a href='file:///c%3A/Users/Callisto/Anaconda3/envs/napari-pymmcore/lib/site-packages/xarray/core/indexing.py?line=272'>273</a>\u001b[0m             \u001b[39mf\u001b[39m\u001b[39m\"\u001b[39m\u001b[39minvalid indexer array, does not have integer dtype: \u001b[39m\u001b[39m{\u001b[39;00mk\u001b[39m!r}\u001b[39;00m\u001b[39m\"\u001b[39m\n\u001b[0;32m    <a href='file:///c%3A/Users/Callisto/Anaconda3/envs/napari-pymmcore/lib/site-packages/xarray/core/indexing.py?line=273'>274</a>\u001b[0m         )\n\u001b[0;32m    <a href='file:///c%3A/Users/Callisto/Anaconda3/envs/napari-pymmcore/lib/site-packages/xarray/core/indexing.py?line=274'>275</a>\u001b[0m     \u001b[39mif\u001b[39;00m k\u001b[39m.\u001b[39mndim \u001b[39m!=\u001b[39m \u001b[39m1\u001b[39m:\n\u001b[0;32m    <a href='file:///c%3A/Users/Callisto/Anaconda3/envs/napari-pymmcore/lib/site-packages/xarray/core/indexing.py?line=275'>276</a>\u001b[0m         \u001b[39mraise\u001b[39;00m \u001b[39mTypeError\u001b[39;00m(\n\u001b[0;32m    <a href='file:///c%3A/Users/Callisto/Anaconda3/envs/napari-pymmcore/lib/site-packages/xarray/core/indexing.py?line=276'>277</a>\u001b[0m             \u001b[39mf\u001b[39m\u001b[39m\"\u001b[39m\u001b[39minvalid indexer array for \u001b[39m\u001b[39m{\u001b[39;00m\u001b[39mtype\u001b[39m(\u001b[39mself\u001b[39m)\u001b[39m.\u001b[39m\u001b[39m__name__\u001b[39m\u001b[39m}\u001b[39;00m\u001b[39m; must have \u001b[39m\u001b[39m\"\u001b[39m\n\u001b[0;32m    <a href='file:///c%3A/Users/Callisto/Anaconda3/envs/napari-pymmcore/lib/site-packages/xarray/core/indexing.py?line=277'>278</a>\u001b[0m             \u001b[39mf\u001b[39m\u001b[39m\"\u001b[39m\u001b[39mexactly 1 dimension: \u001b[39m\u001b[39m{\u001b[39;00mk\u001b[39m!r}\u001b[39;00m\u001b[39m\"\u001b[39m\n\u001b[0;32m    <a href='file:///c%3A/Users/Callisto/Anaconda3/envs/napari-pymmcore/lib/site-packages/xarray/core/indexing.py?line=278'>279</a>\u001b[0m         )\n",
      "\u001b[1;31mTypeError\u001b[0m: invalid indexer array, does not have integer dtype: array(None, dtype=object)"
     ]
    }
   ],
   "source": [
    "ij.WindowManager.setWindow(b)\n",
    "a =ij.WindowManager.getCurrentImage()\n",
    "anp = ij.py.from_java(a)\n",
    "print(anp.shape)\n",
    "anp2 = anp[:,:,:,:,np.newaxis]\n",
    "print(anp2.shape)\n",
    "anp2 = np.swapaxes(anp,1,4)\n",
    "anp2.shape\n"
   ]
  },
  {
   "cell_type": "code",
   "execution_count": 48,
   "metadata": {},
   "outputs": [
    {
     "name": "stdout",
     "output_type": "stream",
     "text": [
      "(385, 25, 10, 10)\n"
     ]
    },
    {
     "data": {
      "application/vnd.jupyter.widget-view+json": {
       "model_id": "585b35cdc192450eb26739fcf2924705",
       "version_major": 2,
       "version_minor": 0
      },
      "text/plain": [
       "interactive(children=(IntSlider(value=0, description='stack_idx_1', max=384), IntSlider(value=0, description='…"
      ]
     },
     "metadata": {},
     "output_type": "display_data"
    },
    {
     "data": {
      "text/plain": [
       "<function visual.image_stack_viewer.<locals>.interact_plot_4D(stack_idx_1, stack_idx_2)>"
      ]
     },
     "execution_count": 48,
     "metadata": {},
     "output_type": "execute_result"
    }
   ],
   "source": [
    "print(anp2.shape)\n",
    "visual.image_stack_viewer(anp2)"
   ]
  },
  {
   "cell_type": "code",
   "execution_count": null,
   "metadata": {},
   "outputs": [
    {
     "ename": "SyntaxError",
     "evalue": "invalid syntax (1059654506.py, line 1)",
     "output_type": "error",
     "traceback": [
      "\u001b[1;36m  Input \u001b[1;32mIn [10]\u001b[1;36m\u001b[0m\n",
      "\u001b[1;33m    template = [[192.          12.         365.13870109 405.78316664]\u001b[0m\n",
      "\u001b[1;37m                               ^\u001b[0m\n",
      "\u001b[1;31mSyntaxError\u001b[0m\u001b[1;31m:\u001b[0m invalid syntax\n"
     ]
    }
   ],
   "source": []
  },
  {
   "cell_type": "code",
   "execution_count": 4,
   "metadata": {},
   "outputs": [
    {
     "name": "stderr",
     "output_type": "stream",
     "text": [
      "sys:1: RuntimeWarning: coroutine 'get_msg' was never awaited\n",
      "RuntimeWarning: Enable tracemalloc to get the object allocation traceback\n"
     ]
    }
   ],
   "source": [
    "# def start_imagej():\n",
    "#     global ij\n",
    "#     import imagej\n",
    "#     ij = imagej.init(r'C:\\Users\\Callisto\\Documents\\edhirata\\software\\Fiji.app',mode='interactive')\n",
    "#     ij.ui().showUI()\n",
    "#     print(ij.getVersion())\n",
    "    \n",
    "# QtCore.QTimer.singleShot(0, start_imagej)"
   ]
  },
  {
   "cell_type": "code",
   "execution_count": 19,
   "metadata": {},
   "outputs": [],
   "source": [
    "# os.environ['JAVA_HOME'] = r'C:\\Users\\Callisto\\Anaconda3\\envs\\napari-pymmcore'"
   ]
  }
 ],
 "metadata": {
  "interpreter": {
   "hash": "f50b1b136b84281a212ea9a5d6d43809733f4203708b5ddd6edbf2eda8994f89"
  },
  "kernelspec": {
   "display_name": "Python 3.9.9 64-bit ('napari-env': conda)",
   "language": "python",
   "name": "python3"
  },
  "language_info": {
   "codemirror_mode": {
    "name": "ipython",
    "version": 3
   },
   "file_extension": ".py",
   "mimetype": "text/x-python",
   "name": "python",
   "nbconvert_exporter": "python",
   "pygments_lexer": "ipython3",
   "version": "3.8.12"
  },
  "orig_nbformat": 4
 },
 "nbformat": 4,
 "nbformat_minor": 2
}
