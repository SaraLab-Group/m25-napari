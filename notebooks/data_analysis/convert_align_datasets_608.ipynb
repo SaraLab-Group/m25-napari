{
 "cells": [
  {
   "cell_type": "code",
   "execution_count": 2,
   "metadata": {},
   "outputs": [
    {
     "name": "stdout",
     "output_type": "stream",
     "text": [
      "The Zen of Python, by Tim Peters\n",
      "\n",
      "Beautiful is better than ugly.\n",
      "Explicit is better than implicit.\n",
      "Simple is better than complex.\n",
      "Complex is better than complicated.\n",
      "Flat is better than nested.\n",
      "Sparse is better than dense.\n",
      "Readability counts.\n",
      "Special cases aren't special enough to break the rules.\n",
      "Although practicality beats purity.\n",
      "Errors should never pass silently.\n",
      "Unless explicitly silenced.\n",
      "In the face of ambiguity, refuse the temptation to guess.\n",
      "There should be one-- and preferably only one --obvious way to do it.\n",
      "Although that way may not be obvious at first unless you're Dutch.\n",
      "Now is better than never.\n",
      "Although never is often better than *right* now.\n",
      "If the implementation is hard to explain, it's a bad idea.\n",
      "If the implementation is easy to explain, it may be a good idea.\n",
      "Namespaces are one honking great idea -- let's do more of those!\n"
     ]
    }
   ],
   "source": [
    "from visualizer import calibration\n",
    "#TODO: import from waveorder\n",
    "import visual \n",
    "\n",
    "from PyQt5 import QtCore\n",
    "\n",
    "from skimage.io import imread\n",
    "from skimage.io.collection import alphanumeric_key\n",
    "from dask import delayed\n",
    "from glob import glob\n",
    "import dask.array as da\n",
    "import matplotlib.pyplot as plt\n",
    "import numpy as np\n",
    "import napari\n",
    "from napari import Viewer\n",
    "import os\n",
    "import tifffile\n",
    "\n",
    "from skimage.registration import phase_cross_correlation\n",
    "import cv2 as cv\n",
    "from skimage import io\n",
    "import zarr\n",
    "import cupy as cp \n",
    "# import imagej\n",
    "\n",
    "%gui qt \n",
    "%matplotlib inline\n",
    "plt.style.use('dark_background')\n"
   ]
  },
  {
   "cell_type": "code",
   "execution_count": 3,
   "metadata": {},
   "outputs": [
    {
     "name": "stdout",
     "output_type": "stream",
     "text": [
      "3.8095238095238096e-07\n",
      "0.3333333333333333\n",
      "5.25\n",
      "(25, 3)\n",
      "(735, 25, 608, 608)\n",
      "H:\\ZW495\\20220508_M25_zw495_29/processed_files\\aligned_stack_nohotpx.zarr\n",
      "H:\\ZW495\\20220508_M25_zw495_29/processed_files\\aligned_stack_nohotpx.ome.tif\n"
     ]
    }
   ],
   "source": [
    "# main_folder = r'F:\\DATA\\20220507_M25_Zw495_9'\n",
    "# \n",
    "# main_folder =r'H:\\Test\\20220507_M25_ZW495_Egg_Timelapse'  #DIED \n",
    "# main_folder =r'F:\\DATA\\20220507_M25_ZW495_19'   # 5 worm in all FOV and some movement\n",
    "# main_folder =r'H:\\Test\\20220507_M25_ZW495_18'  #3 starts in FOV but then moves out\n",
    "# main_folder =r'H:\\Test\\20220507_M25_ZW495_17'  # 3 some movement in 3D and some beads are on FOV\n",
    "# main_folder =r'H:\\Test\\20220507_M25_ZW495_16'  #3 thicc one with barely any movement\n",
    "# main_folder =r'H:\\Test\\20220507_M25_ZW495_15'  #3 just the tail\n",
    "# main_folder =r'F:\\DATA\\20220507_M25_ZW495_14' #5 2 worms in FOV.\n",
    "# main_folder =r'H:\\Test\\20220507_M25_ZW495_13' #3 movement at the edge\n",
    "# main_folder =r'H:\\Test\\20220507_M25_ZW495_12'  #3 not focus on center planes\n",
    "# main_folder =r'H:\\Test\\20220507_M25_ZW495_11' #3 not much movement and out of focus on central planes\n",
    "# main_folder =r'H:\\Test\\20220507_M25_ZW495_10'  #4 worth taking a look since they move in 3D\n",
    "# main_folder =r'F:\\DATA\\20220507_M25_ZW495_9' #5 moves in FOV. Curling up and then shooting out\n",
    "# main_folder =r'H:\\Test\\20220507_M25_ZW495_8'  #3 movement out of FOV\n",
    "# main_folder =r'H:\\Test\\20220507_M25_ZW495_7'  # 5 lots of worms in FOV coming in and out.\n",
    "# main_folder =r'F:\\DATA\\20220507_M25_ZW495_6'  # 5 lots of twitching in FOV\n",
    "# main_folder =r'H:\\Test\\20220507_M25_ZW495_5'  #3 out FOV movement\n",
    "# main_folder =r'H:\\Test\\20220507_M25_ZW495_4'  #5 amazing movement in 3D\n",
    "# main_folder =r'F:\\DATA\\20220507_M25_ZW495_3'  #5 movement in 3D\n",
    "# main_folder =r'F:\\DATA\\20220507_M25_ZW495_2'  #5 fast dynamics on second half\n",
    "# main_folder =r'F:\\DATA\\20220507_M25_ZW495_1'  #5 fast dynamics of big worm\n",
    "\n",
    "## Datasets from 05/08\n",
    "# main_folder = r'H:\\ZW495\\20220508_M25_zw495_1'\n",
    "# main_folder = H:\\ZW495\\20220508_M25_zw495_2\n",
    "# main_folder = H:\\ZW495\\20220508_M25_zw495_3\n",
    "# main_folder = r'H:\\ZW495\\20220508_M25_zw495_4'  #3 dead floating\n",
    "# main_folder = r'H:\\ZW495\\20220508_M25_zw495_6'  #3 moves at the lower side of the FOV\n",
    "# main_folder = r'H:\\ZW495\\20220508_M25_zw495_8' # 1 egg sample fluorescence\n",
    "# main_folder = H:\\ZW495\\20220508_M25_zw495_9_WL\n",
    "# main_folder = H:\\ZW495\\20220508_M25_zw495_10_WL\n",
    "# main_folder = r'H:\\ZW495\\20220508_M25_zw495_11'\n",
    "# main_folder = r'H:\\ZW495\\20220508_M25_zw495_12' #4 worms in FOV making it hard to analyze but good for dynamics\n",
    "# main_folder = r'H:\\ZW495\\20220508_M25_zw495_13' #4 some movement aroudn the FOV. not for analysis\n",
    "# main_folder = r'H:\\ZW495\\20220508_M25_zw495_14'  #4 THIS WORM SHOWS THATA MAYBE THERE IS NO CALCIUM ACTIVITY?\n",
    "# main_folder = r'H:\\ZW495\\20220508_M25_zw495_15' #5 worth analyzing. does from around the FOV...\n",
    "# main_folder = r'H:\\ZW495\\20220508_M25_zw495_17'  #2 no swimming in FOV\n",
    "# main_folder = r'H:\\ZW495\\20220508_M25_zw495_18'  #3 Not much movement single worm on the FOV.\n",
    "# main_folder = r'H:\\ZW495\\20220508_M25_zw495_19'  #4 Single worm with some movement. For some reason there is a huge shift in z halfway through\n",
    "# main_folder = r'H:\\ZW495\\20220508_M25_zw495_20' #3 movement in 3D. oscillates int he z dimension\n",
    "# main_folder = r'H:\\ZW495\\20220508_M25_zw495_22' #4 some movement of single worm. not swimming behavior... \n",
    "# main_folder = r'H:\\ZW495\\20220508_M25_zw495_23'  #2 very still worm. not \n",
    "# main_folder = r'H:\\ZW495\\20220508_M25_zw495_24' #2 Z KEEPS SINKING?!\n",
    "# main_folder = r'H:\\ZW495\\20220508_M25_zw495_25' #1 unusabel\n",
    "# main_folder = r'H:\\ZW495\\20220508_M25_zw495_26'\n",
    "# main_folder = H:\\ZW495\\20220508_M25_zw495_27\n",
    "# main_folder = H:\\ZW495\\20220508_M25_zw495_28\n",
    "# main_folder = H:\\ZW495\\20220508_M25_zw495_29\n",
    "\n",
    "\n",
    "\n",
    "# main_folder =r'H:\\Data\\KellerExplant_ian\\20220508_M25_Iansample'  #5 fast dynamics of big worm\n",
    "\n",
    "# main_folder =r'H:\\Data\\OH15265\\20220508_M25_oh15265_1'  #3 first frames are slow\n",
    "# main_folder =r'H:\\Data\\OH15265\\20220508_M25_oh15265_1'   #5 fast dynamics of big worm\n",
    "# main_folder =r'H:\\Data\\OH15265\\20220508_M25_oh15265_1'   #5 fast dynamics of big worm\n",
    "# main_folder =r'H:\\Data\\OH15265\\20220508_M25_oh15265_1'  #5 fast dynamics of big worm\n",
    "# main_folder =r'H:\\Data\\OH15265\\20220508_M25_oh15265_1'   #5 fast dynamics of big worm\n",
    "\n",
    "\n",
    "# main_folder='F:\\DATA\\20220504_M25_celegansOH_late2'\n",
    "\n",
    "### OH15265 WORMS\n",
    "# main_folder =r'F:\\Data\\MBL_ED_ANTONE\\oh15265_2\\20220509_M25_oh15265_1' #2 Nothign in plane. Good for Background Subtractiong?\n",
    "\n",
    "# main_folder =r'F:\\Data\\MBL_ED_ANTONE\\oh15265_2\\20220509_M25_oh15265_2' #3 fast and dynamic but goes out of FOV a lot\n",
    "# main_folder =r'D:\\Data\\MBL_ED_ANTONE\\oh15265_2\\20220509_M25_oh15265_3' #5 head of worm is not moving much. good for neuro\n",
    "# main_folder =r'D:\\Data\\MBL_ED_ANTONE\\oh15265_2\\20220509_M25_oh15265_4' #5 great movement in 3D and across FOV\n",
    "# main_folder =r'F:\\Data\\MBL_ED_ANTONE\\oh15265_2\\20220509_M25_oh15265_5' # *** Are we photobleaching?\n",
    "# main_folder =r'F:\\Data\\MBL_ED_ANTONE\\oh15265_2\\20220509_M25_oh15265_7' #3 at the edge of FOV comes in and out of FOV\n",
    "# main_folder =r'D:\\Data\\MBL_ED_ANTONE\\oh15265_2\\20220509_M25_oh15265_8' #5 3 worms in FOV. good for 3D neuro\n",
    "# main_folder =r'D:\\Data\\MBL_ED_ANTONE\\oh15265_2\\20220509_M25_oh15265_9' #3 very bright worm laying in Z. some dynamics.\n",
    "# main_folder =r'F:\\Data\\MBL_ED_ANTONE\\oh15265_2\\20220509_M25_oh15265_10' #5 starts with worm in FOV. Shoots out off FOV fast\n",
    "# main_folder =r'F:\\Data\\MBL_ED_ANTONE\\oh15265_2\\20220509_M25_oh15265_11' #3 two worms. no moving..\n",
    "# main_folder =r'F:\\Data\\MBL_ED_ANTONE\\oh15265_2\\20220509_M25_oh15265_12' #4 curled up. not much movement.\n",
    "# main_folder =r'D:\\Data\\MBL_ED_ANTONE\\oh15265_2\\20220509_M25_oh15265_13' #5 in FOV, some dynamic. good signal\n",
    "# main_folder =r'F:\\Data\\MBL_ED_ANTONE\\oh15265_2\\20220509_M25_oh15265_14' #5 Very FAST dynamic inside FOV for most capture.\n",
    "# main_folder =r'F:\\Data\\MBL_ED_ANTONE\\oh15265_2\\20220509_M25_oh15265_16' #5 curled up L2. Good for neural segmentation.not much movement\n",
    "# main_folder =r'F:\\Data\\MBL_ED_ANTONE\\oh15265_2\\20220509_M25_oh15265_17' #5 some moving in center of FOV. makes a V shape\n",
    "# main_folder =r'F:\\Data\\MBL_ED_ANTONE\\oh15265_2\\20220509_M25_oh15265_18' #5 amazing moving in 3D. worm is acros the FOV horizontally which works for all planes.\n",
    "# main_folder =r'F:\\Data\\MBL_ED_ANTONE\\oh15265_2\\20220509_M25_oh15265_19' #4 curled up head of worm. good signal.\n",
    "# main_folder =r'F:\\Data\\MBL_ED_ANTONE\\oh15265_2\\20220509_M25_oh15265_20' #4 good swimming. unfortunately goes to lower FOV and one cam crops that field.\n",
    "# main_folder =r'F:\\Data\\MBL_ED_ANTONE\\oh15265_2\\20220509_M25_oh15265_21' #3 noisy\n",
    "# main_folder =r'F:\\Data\\MBL_ED_ANTONE\\oh15265_2\\20220509_M25_oh15265_22' #5 L2 moving. Lots of dynamics in FOV. amazing signal\n",
    "# main_folder =r'E:\\Data\\MBL_ED_ANTONE\\oh15265_2\\20220509_M25_oh15265_23' #5 L1 moving! amazing neurons.\n",
    "# main_folder =r'F:\\Data\\MBL_ED_ANTONE\\oh15265_2\\20220509_M25_oh15265_24' #3 barely in FOV\n",
    "# main_folder =r'F:\\Data\\MBL_ED_ANTONE\\oh15265_2\\20220509_M25_oh15265_25' #4 worm flat on z so hard to tell\n",
    "# main_folder =r'D:\\Data\\MBL_ED_ANTONE\\oh15265_2\\20220509_M25_oh15265_27' #5 if we want tos how multiple curled up worms\n",
    "# main_folder =r'F:\\Data\\MBL_ED_ANTONE\\oh15265_2\\20220509_M25_oh15265_28' #4 most worms leave the FOV\n",
    "# main_folder =r'D:\\Data\\MBL_ED_ANTONE\\oh15265_2\\20220509_M25_oh15265_29' #5 lots of dynamics of single worm!!\n",
    "# main_folder =r'F:\\Data\\MBL_ED_ANTONE\\oh15265_2\\20220509_M25_oh15265_30' #3 lots of worms and 3D dynamics not sure for analysis..\n",
    "# main_folder =r'F:\\Data\\MBL_ED_ANTONE\\oh15265_2\\20220509_M25_oh15265_31' #5 adult worm. half body. nerons bright and big\n",
    "# main_folder =r'F:\\Data\\MBL_ED_ANTONE\\oh15265_2\\20220509_M25_oh15265_32' #5 whole worm in FOV. some movement!\n",
    "\n",
    "# main_folder =r'F:\\Data\\MBL_ED_ANTONE\\oh15265_2\\20220509_M25_oh15265_33'   #3 good signal no movement.\n",
    "# main_folder =r'F:\\Data\\MBL_ED_ANTONE\\oh15265_2\\20220509_M25_oh15265_34' # 3 dynamics of worm spazing in 3D\n",
    "# main_folder =r'F:\\Data\\MBL_ED_ANTONE\\oh15265_2\\20220509_M25_oh15265_35' # 5 good 3D and movement\n",
    "# main_folder =r'F:\\Data\\MBL_ED_ANTONE\\oh15265_2\\20220509_M25_oh15265_36' #5 great signal and movement in 3D\n",
    "# main_folder =r'D:\\Data\\MBL_ED_ANTONE\\oh15265_2\\20220509_M25_oh15265_37'  #5 great 3D and whole worm in FOV\n",
    "# main_folder =r'F:\\Data\\MBL_ED_ANTONE\\oh15265_2\\20220509_M25_oh15265_38' #3 multiple worms in FOV\n",
    "# main_folder =r'F:\\Data\\MBL_ED_ANTONE\\oh15265_2\\20220509_M25_oh15265_39' #4 many worms in FOV. challenging for gracking?\n",
    "# main_folder =r'D:\\Data\\MBL_ED_ANTONE\\oh15265_2\\20220509_M25_oh15265_40' #5 good for neural analysis . good signal\n",
    "# main_folder =r'D:\\Data\\MBL_ED_ANTONE\\oh15265_2\\20220509_M25_oh15265_41' #5 good for neural analysis . good signal\n",
    "# main_folder =r'F:\\Data\\MBL_ED_ANTONE\\oh15265_2\\20220509_M25_oh15265_42' #4 WF imaging of worms\n",
    "# main_folder =r'F:\\Data\\MBL_ED_ANTONE\\oh15265_2\\20220509_M25_oh15265_43' #4 good for neural analysis . good signal\n",
    "# main_folder =r'D:\\Data\\MBL_ED_ANTONE\\oh15265_2\\20220509_M25_oh15265_45' #5 fast 3D movements. good signal\n",
    "# main_folder =r'F:\\Data\\MBL_ED_ANTONE\\oh15265_2\\20220509_M25_oh15265_46' #5 a little high on FOV but good signal\n",
    "# main_folder =r'D:\\Data\\MBL_ED_ANTONE\\oh15265_2\\20220509_M25_oh15265_47' #5 half of the body is in. Worth doing analysis?\n",
    "# main_folder =r'D:\\Data\\MBL_ED_ANTONE\\oh15265_2\\20220509_M25_oh15265_48' #3 exists the FOV\n",
    "# main_folder =r'F:\\Data\\MBL_ED_ANTONE\\oh15265_2\\20220509_M25_oh15265_49' #3 very noisy. moves in 3D\n",
    "# main_folder =r'D:\\Data\\MBL_ED_ANTONE\\oh15265_2\\20220509_M25_oh15265_50' #5 great to see all the neurons.\n",
    "# main_folder =r'D:\\Data\\MBL_ED_ANTONE\\oh15265_2\\20220509_M25_oh15265_51' #5 movement and then curl up\n",
    "main_folder = r'H:\\ZW495\\20220508_M25_zw495_29'\n",
    "\n",
    "\n",
    "# main_folder =r'D:\\Data\\MBL_ED_ANTONE\\oh15265_2\\20220509_M25_oh15265_40' #5 good for neural analysis . good signal\n",
    "\n",
    "\n",
    "#Scope Parameters\n",
    "# FOV = 50e-6\n",
    "cam_px = 6.0e-6\n",
    "totalmag = 15.75\n",
    "px_size_img = cam_px/totalmag\n",
    "zstep = 2e-6\n",
    "z_scale = zstep/px_size_img\n",
    "\n",
    "print(px_size_img)\n",
    "print(zstep/cam_px)\n",
    "print(z_scale)\n",
    "\n",
    "\n",
    "# center_planes = calibration.lazy_dask_stack(main_folder,num_cams=5,px_depth='uint16', height=608, width =608)\n",
    "# # center_planes = calibration.lazy_dask_stack(main_folder,num_cams=3,px_depth='uint8', height=608, width =608)\n",
    "\n",
    "# napari.view_image(center_planes, name='center_planes',scale=[z_scale,1,1],multiscale=False)\n",
    "\n",
    "\n",
    "\n",
    "##LOADING DATSET\n",
    "# stack = calibration.lazy_dask_stack(main_folder,num_cams=25,px_depth='uint8', height=600, width =960)\n",
    "stack = calibration.lazy_dask_stack(main_folder,num_cams=25,px_depth='uint16', height=608, width =608)\n",
    "\n",
    "## LOADING OFFSET\n",
    "# Load offsets from desired folder \n",
    "processed_files = main_folder + '/'+'processed_files'\n",
    "if not os.path.exists(processed_files):\n",
    "    os.makedirs(processed_files)\n",
    "\n",
    "main_folder_offset = r'D:\\Data\\MBL_ED_ANTONE\\PSF\\200nm\\220508_380nmSteps_minusplus_reversed_1'\n",
    "offsets_file_load = os.path.join(main_folder_offset,\"offsets.csv\")\n",
    "with open(offsets_file_load) as file_name:\n",
    "    offsets = np.loadtxt(file_name, delimiter=\",\")\n",
    "\n",
    "\n",
    "### BG SUBTRACTION\n",
    "#TODO: get background images of the whole sensor not just the croped region and at 16 bit\n",
    "###Enter the filepath for background images\n",
    "bg_dir = r'F:\\Test_ignore\\20220513_M25_bg_16bit'\n",
    "bg_stack = calibration.lazy_dask_stack(bg_dir,num_cams=25,px_depth='uint16', height=608, width =608)\n",
    "bg_mean_stack = da.mean(bg_stack,axis=0).compute()\n",
    "\n",
    "with cp.cuda.Device(0):\n",
    "    stack_noBg = []\n",
    "    t,c,h,w = stack.shape\n",
    "    for i in range(c):\n",
    "        cp_stack = cp.array(stack[:,i,:,:],dtype=float)\n",
    "        bg_stack = cp.array(bg_mean_stack[i],dtype=float)\n",
    "        # cp_stack = cp_stack - bg_stack\n",
    "        cp_stack = cp.subtract(cp_stack,bg_stack)\n",
    "        cp_stack[cp_stack<0]=0\n",
    "        # cp_stack[cp_stack>=(2**16-10)]=0 #hot pixel remove\n",
    "        stack_noBg.append(cp.asnumpy(cp_stack.astype(np.uint16)))\n",
    "        cp_stack = None\n",
    "    stack_noBg = np.array(stack_noBg)\n",
    "stack_noBg =  np.moveaxis(stack_noBg,0,1)\n",
    "stack = stack_noBg\n",
    "\n",
    "from cupyx.scipy.ndimage import shift\n",
    "import cupy as cp\n",
    "# Generate our own shifted datset\n",
    "offset_coordinates = offsets\n",
    "with cp.cuda.Device(0):\n",
    "    stack_aligned = []\n",
    "    t,c,h,w = stack.shape\n",
    "    shift_stack_cam = cp.zeros((c,h,w))\n",
    "    columns = cp.zeros((offset_coordinates.shape[0],1))\n",
    "    shift_stack_coord = cp.hstack((columns,offset_coordinates))\n",
    "    print(shift_stack_coord.shape)\n",
    "    print(stack.shape)\n",
    "    for i in range(c):\n",
    "        cp_stack = cp.array(stack[:,i,:,:])\n",
    "        shift_stack_cam= shift(cp_stack,shift_stack_coord[i])\n",
    "        stack_aligned.append(cp.asnumpy(shift_stack_cam))\n",
    "        cp_stack = None\n",
    "        \n",
    "    stack_aligned = np.array(stack_aligned)\n",
    "stack_aligned =  np.moveaxis(stack_aligned,0,1)\n",
    "\n",
    "\n",
    "#Convert numpy to dask?\n",
    "da_stack_align = da.from_array(stack_aligned)\n",
    "da_stack_align[:,12,:,:]= da_stack_align[:,12,:,:]*1.3\n",
    "\n",
    "\n",
    "import zarr\n",
    "filename = 'aligned_stack_nohotpx' + '.zarr'\n",
    "filepath_save = os.path.join(processed_files,filename)\n",
    "print(filepath_save)\n",
    "zarr.save(filepath_save,stack_aligned)\n",
    "\n",
    "import tifffile\n",
    "\n",
    "filename = 'aligned_stack_nohotpx' + '.ome.tif'\n",
    "filepath_save = os.path.join(processed_files,filename)\n",
    "print(filepath_save)\n",
    "tifffile.imwrite(filepath_save,stack_aligned)"
   ]
  },
  {
   "cell_type": "code",
   "execution_count": 4,
   "metadata": {},
   "outputs": [
    {
     "name": "stdout",
     "output_type": "stream",
     "text": [
      "Assistant skips harvesting pyclesperanto as it's not installed.\n"
     ]
    },
    {
     "name": "stderr",
     "output_type": "stream",
     "text": [
      "c:\\ProgramData\\Anaconda3\\envs\\m25-py39\\lib\\site-packages\\napari_tools_menu\\__init__.py:168: FutureWarning: Public access to Window.qt_viewer is deprecated and will be removed in\n",
      "v0.5.0. It is considered an \"implementation detail\" of the napari\n",
      "application, not part of the napari viewer model. If your use case\n",
      "requires access to qt_viewer, please open an issue to discuss.\n",
      "  self.tools_menu = ToolsMenu(self, self.qt_viewer.viewer)\n"
     ]
    },
    {
     "data": {
      "text/plain": [
       "<Image layer 'dask_align' at 0x29f5f38cf10>"
      ]
     },
     "execution_count": 4,
     "metadata": {},
     "output_type": "execute_result"
    }
   ],
   "source": [
    "viewer= napari.Viewer()\n",
    "da_stack_align_partial = da.from_array(stack_aligned[:,5:20,:,:])\n",
    "viewer.add_image(da_stack_align_partial, name='dask_align',scale=[z_scale,1,1], multiscale=False)"
   ]
  },
  {
   "cell_type": "code",
   "execution_count": 41,
   "metadata": {},
   "outputs": [
    {
     "data": {
      "image/png": "[encoded data removed]",
      "image/svg+xml": "<?xml version=\"1.0\" encoding=\"utf-8\" standalone=\"no\"?>\n<!DOCTYPE svg PUBLIC \"-//W3C//DTD SVG 1.1//EN\"\n  \"http://www.w3.org/Graphics/SVG/1.1/DTD/svg11.dtd\">\n<svg xmlns:xlink=\"http://www.w3.org/1999/xlink\" width=\"362.5625pt\" height=\"241.518125pt\" viewBox=\"0 0 362.5625 241.518125\" xmlns=\"http://www.w3.org/2000/svg\" version=\"1.1\">\n <metadata>\n  <rdf:RDF xmlns:dc=\"http://purl.org/dc/elements/1.1/\" xmlns:cc=\"http://creativecommons.org/ns#\" xmlns:rdf=\"http://www.w3.org/1999/02/22-rdf-syntax-ns#\">\n   <cc:Work>\n    <dc:type rdf:resource=\"http://purl.org/dc/dcmitype/StillImage\"/>\n    <dc:date>2022-07-07T13:30:58.086782</dc:date>\n    <dc:format>image/svg+xml</dc:format>\n    <dc:creator>\n     <cc:Agent>\n      <dc:title>Matplotlib v3.5.2, https://matplotlib.org/</dc:title>\n     </cc:Agent>\n    </dc:creator>\n   </cc:Work>\n  </rdf:RDF>\n </metadata>\n <defs>\n  <style type=\"text/css\">*{stroke-linejoin: round; stroke-linecap: butt}</style>\n </defs>\n <g id=\"figure_1\">\n  <g id=\"patch_1\">\n   <path d=\"M 0 241.518125 \nL 362.5625 241.518125 \nL 362.5625 0 \nL 0 0 \nz\n\"/>\n  </g>\n  <g id=\"axes_1\">\n   <g id=\"patch_2\">\n    <path d=\"M 20.5625 180.591946 \nL 142.307955 180.591946 \nL 142.307955 58.846491 \nL 20.5625 58.846491 \nz\n\"/>\n   </g>\n   <g clip-path=\"url(#p8a267dfb48)\">\n    <image xlink:href=\"data:image/png;base64,\niVBORw0KGgoAAAANSUhEUgAAAHoAAAB6CAYAAABwWUfkAAABVUlEQVR4nO3dsQ3DMAwAQSrw/isrC6Rx4Tjx301A4MFGBbVmZg+P97p7AL5D6AihI4SOEDpC6AihI4SOEDpC6AihI4SOEDpC6AihI4SOEDpC6AihI4SOEDpC6AihI4SOEDpC6AihI4SOEDpC6AihI4SOEDpC6AihI4SOEDpC6AihI4SOEDpC6AihI4SOEDpC6AihI4SOEDpC6AihI4SOEDpC6AihI4SOEDpC6AihI4SOOO4e4JO9z/2Luta6aJLnsNERQkcIHSF0hNARQkcIHSF0hNARQkcIHbFm5tzDMn/JRkcIHSF0hNARQkcIHSF0hNARQkcIHSF0hNARQkcIHSF0hNARQkcIHSF0hNARQkcIHSF0hNARP3ms5mrFYzg2OkLoCKEjhI4QOkLoCKEjhI4QOkLoCKEjHKuJsNERQkcIHSF0hNARQkcIHSF0hNARQkcIHfEGlqEJ832WI30AAAAASUVORK5CYII=\" id=\"image96973d77a8\" transform=\"scale(1 -1)translate(0 -122)\" x=\"20.5625\" y=\"-58.591946\" width=\"122\" height=\"122\"/>\n   </g>\n   <g id=\"matplotlib.axis_1\">\n    <g id=\"xtick_1\">\n     <g id=\"line2d_1\">\n      <defs>\n       <path id=\"m29672cd078\" d=\"M 0 0 \nL 0 3.5 \n\" style=\"stroke: #ffffff; stroke-width: 0.8\"/>\n      </defs>\n      <g>\n       <use xlink:href=\"#m29672cd078\" x=\"26.649773\" y=\"180.591946\" style=\"fill: #ffffff; stroke: #ffffff; stroke-width: 0.8\"/>\n      </g>\n     </g>\n     <g id=\"text_1\">\n      <!-- 0.0 -->\n      <g style=\"fill: #ffffff\" transform=\"translate(18.69821 195.190384)scale(0.1 -0.1)\">\n       <defs>\n        <path id=\"DejaVuSans-30\" d=\"M 2034 4250 \nQ 1547 4250 1301 3770 \nQ 1056 3291 1056 2328 \nQ 1056 1369 1301 889 \nQ 1547 409 2034 409 \nQ 2525 409 2770 889 \nQ 3016 1369 3016 2328 \nQ 3016 3291 2770 3770 \nQ 2525 4250 2034 4250 \nz\nM 2034 4750 \nQ 2819 4750 3233 4129 \nQ 3647 3509 3647 2328 \nQ 3647 1150 3233 529 \nQ 2819 -91 2034 -91 \nQ 1250 -91 836 529 \nQ 422 1150 422 2328 \nQ 422 3509 836 4129 \nQ 1250 4750 2034 4750 \nz\n\" transform=\"scale(0.015625)\"/>\n        <path id=\"DejaVuSans-2e\" d=\"M 684 794 \nL 1344 794 \nL 1344 0 \nL 684 0 \nL 684 794 \nz\n\" transform=\"scale(0.015625)\"/>\n       </defs>\n       <use xlink:href=\"#DejaVuSans-30\"/>\n       <use xlink:href=\"#DejaVuSans-2e\" x=\"63.623047\"/>\n       <use xlink:href=\"#DejaVuSans-30\" x=\"95.410156\"/>\n      </g>\n     </g>\n    </g>\n    <g id=\"xtick_2\">\n     <g id=\"line2d_2\">\n      <g>\n       <use xlink:href=\"#m29672cd078\" x=\"57.086136\" y=\"180.591946\" style=\"fill: #ffffff; stroke: #ffffff; stroke-width: 0.8\"/>\n      </g>\n     </g>\n     <g id=\"text_2\">\n      <!-- 2.5 -->\n      <g style=\"fill: #ffffff\" transform=\"translate(49.134574 195.190384)scale(0.1 -0.1)\">\n       <defs>\n        <path id=\"DejaVuSans-32\" d=\"M 1228 531 \nL 3431 531 \nL 3431 0 \nL 469 0 \nL 469 531 \nQ 828 903 1448 1529 \nQ 2069 2156 2228 2338 \nQ 2531 2678 2651 2914 \nQ 2772 3150 2772 3378 \nQ 2772 3750 2511 3984 \nQ 2250 4219 1831 4219 \nQ 1534 4219 1204 4116 \nQ 875 4013 500 3803 \nL 500 4441 \nQ 881 4594 1212 4672 \nQ 1544 4750 1819 4750 \nQ 2544 4750 2975 4387 \nQ 3406 4025 3406 3419 \nQ 3406 3131 3298 2873 \nQ 3191 2616 2906 2266 \nQ 2828 2175 2409 1742 \nQ 1991 1309 1228 531 \nz\n\" transform=\"scale(0.015625)\"/>\n        <path id=\"DejaVuSans-35\" d=\"M 691 4666 \nL 3169 4666 \nL 3169 4134 \nL 1269 4134 \nL 1269 2991 \nQ 1406 3038 1543 3061 \nQ 1681 3084 1819 3084 \nQ 2600 3084 3056 2656 \nQ 3513 2228 3513 1497 \nQ 3513 744 3044 326 \nQ 2575 -91 1722 -91 \nQ 1428 -91 1123 -41 \nQ 819 9 494 109 \nL 494 744 \nQ 775 591 1075 516 \nQ 1375 441 1709 441 \nQ 2250 441 2565 725 \nQ 2881 1009 2881 1497 \nQ 2881 1984 2565 2268 \nQ 2250 2553 1709 2553 \nQ 1456 2553 1204 2497 \nQ 953 2441 691 2322 \nL 691 4666 \nz\n\" transform=\"scale(0.015625)\"/>\n       </defs>\n       <use xlink:href=\"#DejaVuSans-32\"/>\n       <use xlink:href=\"#DejaVuSans-2e\" x=\"63.623047\"/>\n       <use xlink:href=\"#DejaVuSans-35\" x=\"95.410156\"/>\n      </g>\n     </g>\n    </g>\n    <g id=\"xtick_3\">\n     <g id=\"line2d_3\">\n      <g>\n       <use xlink:href=\"#m29672cd078\" x=\"87.5225\" y=\"180.591946\" style=\"fill: #ffffff; stroke: #ffffff; stroke-width: 0.8\"/>\n      </g>\n     </g>\n     <g id=\"text_3\">\n      <!-- 5.0 -->\n      <g style=\"fill: #ffffff\" transform=\"translate(79.570938 195.190384)scale(0.1 -0.1)\">\n       <use xlink:href=\"#DejaVuSans-35\"/>\n       <use xlink:href=\"#DejaVuSans-2e\" x=\"63.623047\"/>\n       <use xlink:href=\"#DejaVuSans-30\" x=\"95.410156\"/>\n      </g>\n     </g>\n    </g>\n    <g id=\"xtick_4\">\n     <g id=\"line2d_4\">\n      <g>\n       <use xlink:href=\"#m29672cd078\" x=\"117.958864\" y=\"180.591946\" style=\"fill: #ffffff; stroke: #ffffff; stroke-width: 0.8\"/>\n      </g>\n     </g>\n     <g id=\"text_4\">\n      <!-- 7.5 -->\n      <g style=\"fill: #ffffff\" transform=\"translate(110.007301 195.190384)scale(0.1 -0.1)\">\n       <defs>\n        <path id=\"DejaVuSans-37\" d=\"M 525 4666 \nL 3525 4666 \nL 3525 4397 \nL 1831 0 \nL 1172 0 \nL 2766 4134 \nL 525 4134 \nL 525 4666 \nz\n\" transform=\"scale(0.015625)\"/>\n       </defs>\n       <use xlink:href=\"#DejaVuSans-37\"/>\n       <use xlink:href=\"#DejaVuSans-2e\" x=\"63.623047\"/>\n       <use xlink:href=\"#DejaVuSans-35\" x=\"95.410156\"/>\n      </g>\n     </g>\n    </g>\n   </g>\n   <g id=\"matplotlib.axis_2\">\n    <g id=\"ytick_1\">\n     <g id=\"line2d_5\">\n      <defs>\n       <path id=\"me76f12359f\" d=\"M 0 0 \nL -3.5 0 \n\" style=\"stroke: #ffffff; stroke-width: 0.8\"/>\n      </defs>\n      <g>\n       <use xlink:href=\"#me76f12359f\" x=\"20.5625\" y=\"64.933764\" style=\"fill: #ffffff; stroke: #ffffff; stroke-width: 0.8\"/>\n      </g>\n     </g>\n     <g id=\"text_5\">\n      <!-- 0 -->\n      <g style=\"fill: #ffffff\" transform=\"translate(7.2 68.732983)scale(0.1 -0.1)\">\n       <use xlink:href=\"#DejaVuSans-30\"/>\n      </g>\n     </g>\n    </g>\n    <g id=\"ytick_2\">\n     <g id=\"line2d_6\">\n      <g>\n       <use xlink:href=\"#me76f12359f\" x=\"20.5625\" y=\"89.282855\" style=\"fill: #ffffff; stroke: #ffffff; stroke-width: 0.8\"/>\n      </g>\n     </g>\n     <g id=\"text_6\">\n      <!-- 2 -->\n      <g style=\"fill: #ffffff\" transform=\"translate(7.2 93.082074)scale(0.1 -0.1)\">\n       <use xlink:href=\"#DejaVuSans-32\"/>\n      </g>\n     </g>\n    </g>\n    <g id=\"ytick_3\">\n     <g id=\"line2d_7\">\n      <g>\n       <use xlink:href=\"#me76f12359f\" x=\"20.5625\" y=\"113.631946\" style=\"fill: #ffffff; stroke: #ffffff; stroke-width: 0.8\"/>\n      </g>\n     </g>\n     <g id=\"text_7\">\n      <!-- 4 -->\n      <g style=\"fill: #ffffff\" transform=\"translate(7.2 117.431165)scale(0.1 -0.1)\">\n       <defs>\n        <path id=\"DejaVuSans-34\" d=\"M 2419 4116 \nL 825 1625 \nL 2419 1625 \nL 2419 4116 \nz\nM 2253 4666 \nL 3047 4666 \nL 3047 1625 \nL 3713 1625 \nL 3713 1100 \nL 3047 1100 \nL 3047 0 \nL 2419 0 \nL 2419 1100 \nL 313 1100 \nL 313 1709 \nL 2253 4666 \nz\n\" transform=\"scale(0.015625)\"/>\n       </defs>\n       <use xlink:href=\"#DejaVuSans-34\"/>\n      </g>\n     </g>\n    </g>\n    <g id=\"ytick_4\">\n     <g id=\"line2d_8\">\n      <g>\n       <use xlink:href=\"#me76f12359f\" x=\"20.5625\" y=\"137.981037\" style=\"fill: #ffffff; stroke: #ffffff; stroke-width: 0.8\"/>\n      </g>\n     </g>\n     <g id=\"text_8\">\n      <!-- 6 -->\n      <g style=\"fill: #ffffff\" transform=\"translate(7.2 141.780256)scale(0.1 -0.1)\">\n       <defs>\n        <path id=\"DejaVuSans-36\" d=\"M 2113 2584 \nQ 1688 2584 1439 2293 \nQ 1191 2003 1191 1497 \nQ 1191 994 1439 701 \nQ 1688 409 2113 409 \nQ 2538 409 2786 701 \nQ 3034 994 3034 1497 \nQ 3034 2003 2786 2293 \nQ 2538 2584 2113 2584 \nz\nM 3366 4563 \nL 3366 3988 \nQ 3128 4100 2886 4159 \nQ 2644 4219 2406 4219 \nQ 1781 4219 1451 3797 \nQ 1122 3375 1075 2522 \nQ 1259 2794 1537 2939 \nQ 1816 3084 2150 3084 \nQ 2853 3084 3261 2657 \nQ 3669 2231 3669 1497 \nQ 3669 778 3244 343 \nQ 2819 -91 2113 -91 \nQ 1303 -91 875 529 \nQ 447 1150 447 2328 \nQ 447 3434 972 4092 \nQ 1497 4750 2381 4750 \nQ 2619 4750 2861 4703 \nQ 3103 4656 3366 4563 \nz\n\" transform=\"scale(0.015625)\"/>\n       </defs>\n       <use xlink:href=\"#DejaVuSans-36\"/>\n      </g>\n     </g>\n    </g>\n    <g id=\"ytick_5\">\n     <g id=\"line2d_9\">\n      <g>\n       <use xlink:href=\"#me76f12359f\" x=\"20.5625\" y=\"162.330128\" style=\"fill: #ffffff; stroke: #ffffff; stroke-width: 0.8\"/>\n      </g>\n     </g>\n     <g id=\"text_9\">\n      <!-- 8 -->\n      <g style=\"fill: #ffffff\" transform=\"translate(7.2 166.129347)scale(0.1 -0.1)\">\n       <defs>\n        <path id=\"DejaVuSans-38\" d=\"M 2034 2216 \nQ 1584 2216 1326 1975 \nQ 1069 1734 1069 1313 \nQ 1069 891 1326 650 \nQ 1584 409 2034 409 \nQ 2484 409 2743 651 \nQ 3003 894 3003 1313 \nQ 3003 1734 2745 1975 \nQ 2488 2216 2034 2216 \nz\nM 1403 2484 \nQ 997 2584 770 2862 \nQ 544 3141 544 3541 \nQ 544 4100 942 4425 \nQ 1341 4750 2034 4750 \nQ 2731 4750 3128 4425 \nQ 3525 4100 3525 3541 \nQ 3525 3141 3298 2862 \nQ 3072 2584 2669 2484 \nQ 3125 2378 3379 2068 \nQ 3634 1759 3634 1313 \nQ 3634 634 3220 271 \nQ 2806 -91 2034 -91 \nQ 1263 -91 848 271 \nQ 434 634 434 1313 \nQ 434 1759 690 2068 \nQ 947 2378 1403 2484 \nz\nM 1172 3481 \nQ 1172 3119 1398 2916 \nQ 1625 2713 2034 2713 \nQ 2441 2713 2670 2916 \nQ 2900 3119 2900 3481 \nQ 2900 3844 2670 4047 \nQ 2441 4250 2034 4250 \nQ 1625 4250 1398 4047 \nQ 1172 3844 1172 3481 \nz\n\" transform=\"scale(0.015625)\"/>\n       </defs>\n       <use xlink:href=\"#DejaVuSans-38\"/>\n      </g>\n     </g>\n    </g>\n   </g>\n   <g id=\"patch_3\">\n    <path d=\"M 20.5625 180.591946 \nL 20.5625 58.846491 \n\" style=\"fill: none; stroke: #ffffff; stroke-width: 0.8; stroke-linejoin: miter; stroke-linecap: square\"/>\n   </g>\n   <g id=\"patch_4\">\n    <path d=\"M 142.307955 180.591946 \nL 142.307955 58.846491 \n\" style=\"fill: none; stroke: #ffffff; stroke-width: 0.8; stroke-linejoin: miter; stroke-linecap: square\"/>\n   </g>\n   <g id=\"patch_5\">\n    <path d=\"M 20.5625 180.591946 \nL 142.307955 180.591946 \n\" style=\"fill: none; stroke: #ffffff; stroke-width: 0.8; stroke-linejoin: miter; stroke-linecap: square\"/>\n   </g>\n   <g id=\"patch_6\">\n    <path d=\"M 20.5625 58.846491 \nL 142.307955 58.846491 \n\" style=\"fill: none; stroke: #ffffff; stroke-width: 0.8; stroke-linejoin: miter; stroke-linecap: square\"/>\n   </g>\n  </g>\n  <g id=\"axes_2\">\n   <g id=\"patch_7\">\n    <path d=\"M 203.180682 195.810128 \nL 355.3625 195.810128 \nL 355.3625 43.62831 \nL 203.180682 43.62831 \nz\n\"/>\n   </g>\n   <g clip-path=\"url(#pf1e995b715)\">\n    <image xlink:href=\"data:image/png;base64,\niVBORw0KGgoAAAANSUhEUgAAAJkAAACZCAYAAAA8XJi6AAABw0lEQVR4nO3dQQpCMQxAwVS8/5XrEZTq46PO7AtZPLIqZM3MHgjdrh6A3ycyciIjJzJyIiMnMnIiIycyciIjJzJyIiMnMnIiIycyciIjJzJyIiMnMnIiIycyciIjJzJyIiMnMnIiIycyciIjJzJyIiMnMnIiIycyciIjJzJyIiMnMnIiIycyciIjJzJyIiMnMnIiIycyciIjJzJyIiMnMnIiIycyciIjJzJyIiMnMnIiIycyciIjJzJyIiMnMnIiIycyciIjJzJyIiMnMnIiIycyciIjJzJyIiMnMnIiIycyciIjJzJy96sHOLX3Pn671vrgJDxjk5ETGTmRkRMZOZGRExk5kZETGTmRkRMZOZGRExk5kZETGbk1M+d/ZuAFNhk5kZETGTmRkRMZOZGRExk5kZETGTmRkRMZOZGRExk5kZETGTmRkRMZOZGRExk5kZETGTmRkRMZOZGRExk5kZETGTmRkRMZua894HWVdw6Hzfzn8TCbjJzIyImMnMjIiYycyMiJjJzIyImMnMjIiYycyMiJjJzIyImMnCtx5GwyciIjJzJyIiMnMnIiIycyciIjJzJyIiMnMnIiIycyciIj9wAQWAoxuKLAgAAAAABJRU5ErkJggg==\" id=\"imageb853923aa7\" transform=\"scale(1 -1)translate(0 -153)\" x=\"203.180682\" y=\"-42.810128\" width=\"153\" height=\"153\"/>\n   </g>\n   <g id=\"matplotlib.axis_3\">\n    <g id=\"xtick_5\">\n     <g id=\"line2d_10\">\n      <g>\n       <use xlink:href=\"#m29672cd078\" x=\"210.789773\" y=\"195.810128\" style=\"fill: #ffffff; stroke: #ffffff; stroke-width: 0.8\"/>\n      </g>\n     </g>\n     <g id=\"text_10\">\n      <!-- 0 -->\n      <g style=\"fill: #ffffff\" transform=\"translate(207.608523 210.408565)scale(0.1 -0.1)\">\n       <use xlink:href=\"#DejaVuSans-30\"/>\n      </g>\n     </g>\n    </g>\n    <g id=\"xtick_6\">\n     <g id=\"line2d_11\">\n      <g>\n       <use xlink:href=\"#m29672cd078\" x=\"241.226136\" y=\"195.810128\" style=\"fill: #ffffff; stroke: #ffffff; stroke-width: 0.8\"/>\n      </g>\n     </g>\n     <g id=\"text_11\">\n      <!-- 2 -->\n      <g style=\"fill: #ffffff\" transform=\"translate(238.044886 210.408565)scale(0.1 -0.1)\">\n       <use xlink:href=\"#DejaVuSans-32\"/>\n      </g>\n     </g>\n    </g>\n    <g id=\"xtick_7\">\n     <g id=\"line2d_12\">\n      <g>\n       <use xlink:href=\"#m29672cd078\" x=\"271.6625\" y=\"195.810128\" style=\"fill: #ffffff; stroke: #ffffff; stroke-width: 0.8\"/>\n      </g>\n     </g>\n     <g id=\"text_12\">\n      <!-- 4 -->\n      <g style=\"fill: #ffffff\" transform=\"translate(268.48125 210.408565)scale(0.1 -0.1)\">\n       <use xlink:href=\"#DejaVuSans-34\"/>\n      </g>\n     </g>\n    </g>\n    <g id=\"xtick_8\">\n     <g id=\"line2d_13\">\n      <g>\n       <use xlink:href=\"#m29672cd078\" x=\"302.098864\" y=\"195.810128\" style=\"fill: #ffffff; stroke: #ffffff; stroke-width: 0.8\"/>\n      </g>\n     </g>\n     <g id=\"text_13\">\n      <!-- 6 -->\n      <g style=\"fill: #ffffff\" transform=\"translate(298.917614 210.408565)scale(0.1 -0.1)\">\n       <use xlink:href=\"#DejaVuSans-36\"/>\n      </g>\n     </g>\n    </g>\n    <g id=\"xtick_9\">\n     <g id=\"line2d_14\">\n      <g>\n       <use xlink:href=\"#m29672cd078\" x=\"332.535227\" y=\"195.810128\" style=\"fill: #ffffff; stroke: #ffffff; stroke-width: 0.8\"/>\n      </g>\n     </g>\n     <g id=\"text_14\">\n      <!-- 8 -->\n      <g style=\"fill: #ffffff\" transform=\"translate(329.353977 210.408565)scale(0.1 -0.1)\">\n       <use xlink:href=\"#DejaVuSans-38\"/>\n      </g>\n     </g>\n    </g>\n   </g>\n   <g id=\"matplotlib.axis_4\">\n    <g id=\"ytick_6\">\n     <g id=\"line2d_15\">\n      <g>\n       <use xlink:href=\"#me76f12359f\" x=\"203.180682\" y=\"51.237401\" style=\"fill: #ffffff; stroke: #ffffff; stroke-width: 0.8\"/>\n      </g>\n     </g>\n     <g id=\"text_15\">\n      <!-- 0 -->\n      <g style=\"fill: #ffffff\" transform=\"translate(189.818182 55.036619)scale(0.1 -0.1)\">\n       <use xlink:href=\"#DejaVuSans-30\"/>\n      </g>\n     </g>\n    </g>\n    <g id=\"ytick_7\">\n     <g id=\"line2d_16\">\n      <g>\n       <use xlink:href=\"#me76f12359f\" x=\"203.180682\" y=\"81.673764\" style=\"fill: #ffffff; stroke: #ffffff; stroke-width: 0.8\"/>\n      </g>\n     </g>\n     <g id=\"text_16\">\n      <!-- 2 -->\n      <g style=\"fill: #ffffff\" transform=\"translate(189.818182 85.472983)scale(0.1 -0.1)\">\n       <use xlink:href=\"#DejaVuSans-32\"/>\n      </g>\n     </g>\n    </g>\n    <g id=\"ytick_8\">\n     <g id=\"line2d_17\">\n      <g>\n       <use xlink:href=\"#me76f12359f\" x=\"203.180682\" y=\"112.110128\" style=\"fill: #ffffff; stroke: #ffffff; stroke-width: 0.8\"/>\n      </g>\n     </g>\n     <g id=\"text_17\">\n      <!-- 4 -->\n      <g style=\"fill: #ffffff\" transform=\"translate(189.818182 115.909347)scale(0.1 -0.1)\">\n       <use xlink:href=\"#DejaVuSans-34\"/>\n      </g>\n     </g>\n    </g>\n    <g id=\"ytick_9\">\n     <g id=\"line2d_18\">\n      <g>\n       <use xlink:href=\"#me76f12359f\" x=\"203.180682\" y=\"142.546491\" style=\"fill: #ffffff; stroke: #ffffff; stroke-width: 0.8\"/>\n      </g>\n     </g>\n     <g id=\"text_18\">\n      <!-- 6 -->\n      <g style=\"fill: #ffffff\" transform=\"translate(189.818182 146.34571)scale(0.1 -0.1)\">\n       <use xlink:href=\"#DejaVuSans-36\"/>\n      </g>\n     </g>\n    </g>\n    <g id=\"ytick_10\">\n     <g id=\"line2d_19\">\n      <g>\n       <use xlink:href=\"#me76f12359f\" x=\"203.180682\" y=\"172.982855\" style=\"fill: #ffffff; stroke: #ffffff; stroke-width: 0.8\"/>\n      </g>\n     </g>\n     <g id=\"text_19\">\n      <!-- 8 -->\n      <g style=\"fill: #ffffff\" transform=\"translate(189.818182 176.782074)scale(0.1 -0.1)\">\n       <use xlink:href=\"#DejaVuSans-38\"/>\n      </g>\n     </g>\n    </g>\n   </g>\n   <g id=\"patch_8\">\n    <path d=\"M 203.180682 195.810128 \nL 203.180682 43.62831 \n\" style=\"fill: none; stroke: #ffffff; stroke-width: 0.8; stroke-linejoin: miter; stroke-linecap: square\"/>\n   </g>\n   <g id=\"patch_9\">\n    <path d=\"M 355.3625 195.810128 \nL 355.3625 43.62831 \n\" style=\"fill: none; stroke: #ffffff; stroke-width: 0.8; stroke-linejoin: miter; stroke-linecap: square\"/>\n   </g>\n   <g id=\"patch_10\">\n    <path d=\"M 203.180682 195.810128 \nL 355.3625 195.810128 \n\" style=\"fill: none; stroke: #ffffff; stroke-width: 0.8; stroke-linejoin: miter; stroke-linecap: square\"/>\n   </g>\n   <g id=\"patch_11\">\n    <path d=\"M 203.180682 43.62831 \nL 355.3625 43.62831 \n\" style=\"fill: none; stroke: #ffffff; stroke-width: 0.8; stroke-linejoin: miter; stroke-linecap: square\"/>\n   </g>\n  </g>\n  <g id=\"axes_3\">\n   <g id=\"patch_12\">\n    <path d=\"M 149.917045 228.439219 \nL 160.789045 228.439219 \nL 160.789045 10.999219 \nL 149.917045 10.999219 \nz\n\"/>\n   </g>\n   <g id=\"patch_13\">\n    <path clip-path=\"url(#pdb95af029a)\" style=\"stroke: #000000; stroke-width: 0.01; stroke-linejoin: miter\"/>\n   </g>\n   <image xlink:href=\"data:image/png;base64,\niVBORw0KGgoAAAANSUhEUgAAAAsAAADaCAYAAABwzrisAAAAgklEQVR4nO3QMQrAUAgEUZXc/8pJa/mzkCLDWA/Cvq6quw7v6u7T9mU8Mx99/mOsxo7xGviBasQxXgM/UI0d4weqEcd4DfxANeIYr4EfqEYc4zXwA9XYMX6gGnGM18APVCOO8Rr4gWrEMV4DP1CNOMZr4AeqsWP8QDXiGK+BH6hGGj/LKgdiFAmJRAAAAABJRU5ErkJggg==\" id=\"image73acfd8439\" transform=\"scale(1 -1)translate(0 -218)\" x=\"150\" y=\"-10\" width=\"11\" height=\"218\"/>\n   <g id=\"matplotlib.axis_5\">\n    <g id=\"ytick_11\">\n     <g id=\"line2d_20\">\n      <defs>\n       <path id=\"mfc086ad793\" d=\"M 0 0 \nL 3.5 0 \n\" style=\"stroke: #ffffff; stroke-width: 0.8\"/>\n      </defs>\n      <g>\n       <use xlink:href=\"#mfc086ad793\" x=\"160.789045\" y=\"228.439219\" style=\"fill: #ffffff; stroke: #ffffff; stroke-width: 0.8\"/>\n      </g>\n     </g>\n     <g id=\"text_20\">\n      <!-- 0.0 -->\n      <g style=\"fill: #ffffff\" transform=\"translate(167.789045 232.238437)scale(0.1 -0.1)\">\n       <use xlink:href=\"#DejaVuSans-30\"/>\n       <use xlink:href=\"#DejaVuSans-2e\" x=\"63.623047\"/>\n       <use xlink:href=\"#DejaVuSans-30\" x=\"95.410156\"/>\n      </g>\n     </g>\n    </g>\n    <g id=\"ytick_12\">\n     <g id=\"line2d_21\">\n      <g>\n       <use xlink:href=\"#mfc086ad793\" x=\"160.789045\" y=\"184.951219\" style=\"fill: #ffffff; stroke: #ffffff; stroke-width: 0.8\"/>\n      </g>\n     </g>\n     <g id=\"text_21\">\n      <!-- 0.2 -->\n      <g style=\"fill: #ffffff\" transform=\"translate(167.789045 188.750437)scale(0.1 -0.1)\">\n       <use xlink:href=\"#DejaVuSans-30\"/>\n       <use xlink:href=\"#DejaVuSans-2e\" x=\"63.623047\"/>\n       <use xlink:href=\"#DejaVuSans-32\" x=\"95.410156\"/>\n      </g>\n     </g>\n    </g>\n    <g id=\"ytick_13\">\n     <g id=\"line2d_22\">\n      <g>\n       <use xlink:href=\"#mfc086ad793\" x=\"160.789045\" y=\"141.463219\" style=\"fill: #ffffff; stroke: #ffffff; stroke-width: 0.8\"/>\n      </g>\n     </g>\n     <g id=\"text_22\">\n      <!-- 0.4 -->\n      <g style=\"fill: #ffffff\" transform=\"translate(167.789045 145.262437)scale(0.1 -0.1)\">\n       <use xlink:href=\"#DejaVuSans-30\"/>\n       <use xlink:href=\"#DejaVuSans-2e\" x=\"63.623047\"/>\n       <use xlink:href=\"#DejaVuSans-34\" x=\"95.410156\"/>\n      </g>\n     </g>\n    </g>\n    <g id=\"ytick_14\">\n     <g id=\"line2d_23\">\n      <g>\n       <use xlink:href=\"#mfc086ad793\" x=\"160.789045\" y=\"97.975219\" style=\"fill: #ffffff; stroke: #ffffff; stroke-width: 0.8\"/>\n      </g>\n     </g>\n     <g id=\"text_23\">\n      <!-- 0.6 -->\n      <g style=\"fill: #ffffff\" transform=\"translate(167.789045 101.774437)scale(0.1 -0.1)\">\n       <use xlink:href=\"#DejaVuSans-30\"/>\n       <use xlink:href=\"#DejaVuSans-2e\" x=\"63.623047\"/>\n       <use xlink:href=\"#DejaVuSans-36\" x=\"95.410156\"/>\n      </g>\n     </g>\n    </g>\n    <g id=\"ytick_15\">\n     <g id=\"line2d_24\">\n      <g>\n       <use xlink:href=\"#mfc086ad793\" x=\"160.789045\" y=\"54.487219\" style=\"fill: #ffffff; stroke: #ffffff; stroke-width: 0.8\"/>\n      </g>\n     </g>\n     <g id=\"text_24\">\n      <!-- 0.8 -->\n      <g style=\"fill: #ffffff\" transform=\"translate(167.789045 58.286437)scale(0.1 -0.1)\">\n       <use xlink:href=\"#DejaVuSans-30\"/>\n       <use xlink:href=\"#DejaVuSans-2e\" x=\"63.623047\"/>\n       <use xlink:href=\"#DejaVuSans-38\" x=\"95.410156\"/>\n      </g>\n     </g>\n    </g>\n    <g id=\"ytick_16\">\n     <g id=\"line2d_25\">\n      <g>\n       <use xlink:href=\"#mfc086ad793\" x=\"160.789045\" y=\"10.999219\" style=\"fill: #ffffff; stroke: #ffffff; stroke-width: 0.8\"/>\n      </g>\n     </g>\n     <g id=\"text_25\">\n      <!-- 1.0 -->\n      <g style=\"fill: #ffffff\" transform=\"translate(167.789045 14.798437)scale(0.1 -0.1)\">\n       <defs>\n        <path id=\"DejaVuSans-31\" d=\"M 794 531 \nL 1825 531 \nL 1825 4091 \nL 703 3866 \nL 703 4441 \nL 1819 4666 \nL 2450 4666 \nL 2450 531 \nL 3481 531 \nL 3481 0 \nL 794 0 \nL 794 531 \nz\n\" transform=\"scale(0.015625)\"/>\n       </defs>\n       <use xlink:href=\"#DejaVuSans-31\"/>\n       <use xlink:href=\"#DejaVuSans-2e\" x=\"63.623047\"/>\n       <use xlink:href=\"#DejaVuSans-30\" x=\"95.410156\"/>\n      </g>\n     </g>\n    </g>\n   </g>\n   <g id=\"LineCollection_1\"/>\n   <g id=\"patch_14\">\n    <path d=\"M 149.917045 228.439219 \nL 155.353045 228.439219 \nL 160.789045 228.439219 \nL 160.789045 10.999219 \nL 155.353045 10.999219 \nL 149.917045 10.999219 \nL 149.917045 228.439219 \nz\n\" style=\"fill: none; stroke: #ffffff; stroke-width: 0.8; stroke-linejoin: miter; stroke-linecap: square\"/>\n   </g>\n  </g>\n </g>\n <defs>\n  <clipPath id=\"p8a267dfb48\">\n   <rect x=\"20.5625\" y=\"58.846491\" width=\"121.745455\" height=\"121.745455\"/>\n  </clipPath>\n  <clipPath id=\"pf1e995b715\">\n   <rect x=\"203.180682\" y=\"43.62831\" width=\"152.181818\" height=\"152.181818\"/>\n  </clipPath>\n  <clipPath id=\"pdb95af029a\">\n   <rect x=\"149.917045\" y=\"10.999219\" width=\"10.872\" height=\"217.44\"/>\n  </clipPath>\n </defs>\n</svg>\n",
      "text/plain": [
       "<Figure size 432x288 with 3 Axes>"
      ]
     },
     "metadata": {},
     "output_type": "display_data"
    }
   ],
   "source": [
    "a = np.ones((10,10),dtype=np.int16)\n",
    "np.random.seed(1)\n",
    "# b = np.random.uniform(low=0,high=255,size=(10,10))\n",
    "b = np.ones((10,10),dtype=np.uint16)\n",
    "b[1,5]=0\n",
    "b[4,3]=0\n",
    "b[5,5]=5\n",
    "c = a-np.minimum(a,b)\n",
    "d = a-b\n",
    "d[d<0]=0\n",
    "\n",
    "fig,ax = plt.subplots(1,2)\n",
    "\n",
    "t= ax[0].imshow(c, cmap='gray')\n",
    "\n",
    "tt = ax[1].imshow(d, cmap='gray')\n",
    "fig.colorbar(tt,ax=ax[0])\n",
    "filepath = r'C:\\Users\\yoshi\\Desktop\\test'\n",
    "file_name =  'test'+'.tif'\n",
    "file_save = os.path.join(filepath,file_name)\n",
    "# tifffile.imwrite(file_save,a.astype(np.uint16))"
   ]
  },
  {
   "cell_type": "code",
   "execution_count": null,
   "metadata": {},
   "outputs": [],
   "source": []
  },
  {
   "cell_type": "markdown",
   "metadata": {},
   "source": [
    "### Read TIFF FILE"
   ]
  },
  {
   "cell_type": "code",
   "execution_count": 1,
   "metadata": {},
   "outputs": [],
   "source": [
    "import tifffile\n",
    "import zarr\n",
    "\n",
    "main_folder =r'D:\\Data\\MBL_ED_ANTONE\\oh15265_2\\20220509_M25_oh15265_50' #5 great to see all the neurons.\n",
    "processed_files = main_folder + '/'+'processed_files'"
   ]
  },
  {
   "cell_type": "code",
   "execution_count": 2,
   "metadata": {},
   "outputs": [
    {
     "name": "stdout",
     "output_type": "stream",
     "text": [
      "D:\\Data\\MBL_ED_ANTONE\\oh15265_2\\20220509_M25_oh15265_50/processed_files\\aligned_stack.zarr\n"
     ]
    }
   ],
   "source": [
    "### For preexisting tiff saved datasets\n",
    "filename = 'aligned_stack.ome.tif'\n",
    "filepath_save = os.path.join(processed_files,filename)\n",
    "tiff_stack = tifffile.imread(filepath_save)\n",
    "\n",
    "##Saving to ZARR\n",
    "zarr_file = 'aligned_stack' + '.zarr'\n",
    "zarr_file_save = os.path.join(processed_files,zarr_file)\n",
    "print(zarr_file_save)\n",
    "zarr.save(zarr_file_save,tiff_stack)"
   ]
  },
  {
   "cell_type": "markdown",
   "metadata": {},
   "source": [
    "### ZARR IMPORT"
   ]
  },
  {
   "cell_type": "code",
   "execution_count": 12,
   "metadata": {},
   "outputs": [],
   "source": [
    "main_folder = r'H:\\Test\\20220504_M25_celegansOH_late1'\n",
    "file_name = main_folder + '/'+'deconvolved_worm' + '.zarr'\n",
    "zarr_stack = zarr.load(file_name)\n",
    "da_stack_deconvolved = da.from_array(zarr_stack)\n"
   ]
  }
 ],
 "metadata": {
  "kernelspec": {
   "display_name": "Python 3.9.12 ('m25-py39')",
   "language": "python",
   "name": "python3"
  },
  "language_info": {
   "codemirror_mode": {
    "name": "ipython",
    "version": 3
   },
   "file_extension": ".py",
   "mimetype": "text/x-python",
   "name": "python",
   "nbconvert_exporter": "python",
   "pygments_lexer": "ipython3",
   "version": "3.9.12"
  },
  "orig_nbformat": 4,
  "vscode": {
   "interpreter": {
    "hash": "878029549b53aa9ebb479ccfe4cbae23294313f8d80180daac9c94068a5c60b8"
   }
  }
 },
 "nbformat": 4,
 "nbformat_minor": 2
}
