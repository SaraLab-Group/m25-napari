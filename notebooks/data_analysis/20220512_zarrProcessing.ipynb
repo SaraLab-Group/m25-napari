{
 "cells": [
  {
   "cell_type": "code",
   "execution_count": 1,
   "metadata": {},
   "outputs": [
    {
     "name": "stdout",
     "output_type": "stream",
     "text": [
      "The Zen of Python, by Tim Peters\n",
      "\n",
      "Beautiful is better than ugly.\n",
      "Explicit is better than implicit.\n",
      "Simple is better than complex.\n",
      "Complex is better than complicated.\n",
      "Flat is better than nested.\n",
      "Sparse is better than dense.\n",
      "Readability counts.\n",
      "Special cases aren't special enough to break the rules.\n",
      "Although practicality beats purity.\n",
      "Errors should never pass silently.\n",
      "Unless explicitly silenced.\n",
      "In the face of ambiguity, refuse the temptation to guess.\n",
      "There should be one-- and preferably only one --obvious way to do it.\n",
      "Although that way may not be obvious at first unless you're Dutch.\n",
      "Now is better than never.\n",
      "Although never is often better than *right* now.\n",
      "If the implementation is hard to explain, it's a bad idea.\n",
      "If the implementation is easy to explain, it may be a good idea.\n",
      "Namespaces are one honking great idea -- let's do more of those!\n"
     ]
    }
   ],
   "source": [
    "from visualizer import calibration\n",
    "#TODO: import from waveorder\n",
    "import visual \n",
    "\n",
    "from PyQt5 import QtCore\n",
    "\n",
    "from skimage.io import imread\n",
    "from skimage.io.collection import alphanumeric_key\n",
    "from dask import delayed\n",
    "from glob import glob\n",
    "import dask.array as da\n",
    "import matplotlib.pyplot as plt\n",
    "import numpy as np\n",
    "import napari\n",
    "from napari import Viewer\n",
    "import os\n",
    "import tifffile\n",
    "\n",
    "from skimage.registration import phase_cross_correlation\n",
    "import cv2 as cv\n",
    "from skimage import io\n",
    "import zarr\n",
    "import cupy as cp \n",
    "import imagej\n",
    "\n",
    "%gui qt \n",
    "%matplotlib inline\n",
    "plt.style.use('dark_background')\n"
   ]
  },
  {
   "cell_type": "code",
   "execution_count": 2,
   "metadata": {},
   "outputs": [],
   "source": [
    "# Load main folder\n",
    "main_folder =r'F:\\Test_ignore\\img' #5 L1 moving! amazing neurons.\n",
    "# Load offsets from desired folder \n",
    "processed_files = main_folder + '/'+'processed_files'\n",
    "\n",
    "#Scope Parameters\n",
    "# FOV = 50e-6\n",
    "cam_px = 6.0e-6\n",
    "totalmag = 15.75\n",
    "px_size_img = cam_px/totalmag\n",
    "zstep = 2e-6\n",
    "z_scale = zstep/px_size_img"
   ]
  },
  {
   "cell_type": "markdown",
   "metadata": {},
   "source": [
    "### ZARR IMPORT"
   ]
  },
  {
   "cell_type": "code",
   "execution_count": 3,
   "metadata": {},
   "outputs": [],
   "source": [
    "file_name = 'aligned_stack.zarr'\n",
    "filepath_save = os.path.join(processed_files,file_name)\n",
    "zarr_stack = zarr.load(filepath_save)\n",
    "da_stack = da.from_array(zarr_stack)"
   ]
  },
  {
   "cell_type": "code",
   "execution_count": 4,
   "metadata": {},
   "outputs": [
    {
     "data": {
      "text/plain": [
       "<Image layer 'da_stack' at 0x1ab53dc63a0>"
      ]
     },
     "execution_count": 4,
     "metadata": {},
     "output_type": "execute_result"
    }
   ],
   "source": [
    "viewer= napari.Viewer()\n",
    "viewer.add_image(da_stack, scale= [z_scale,1,1])"
   ]
  },
  {
   "cell_type": "markdown",
   "metadata": {},
   "source": []
  },
  {
   "cell_type": "markdown",
   "metadata": {},
   "source": [
    "### CROP PSF TO ANALYZE\n"
   ]
  },
  {
   "cell_type": "code",
   "execution_count": 7,
   "metadata": {},
   "outputs": [
    {
     "name": "stdout",
     "output_type": "stream",
     "text": [
      "[[734.          12.         165.05309394  65.14820383]\n",
      " [734.          12.         165.05309394 477.95328513]\n",
      " [734.          12.         482.51744393 477.95328513]\n",
      " [734.          12.         482.51744393  65.14820383]]\n",
      "[[165  65]\n",
      " [483 478]]\n",
      "(2, 2)\n"
     ]
    }
   ],
   "source": [
    "#Go to napari and make a square for alignment by making a 'Shapes' Layer\n",
    "crop_region =viewer.layers['Shapes'].data[0]\n",
    "template = calibration.create_box_ndarray(crop_region)\n",
    "template_box = template[0:4,2:4]\n",
    "print(crop_region)\n",
    "print(template_box)\n",
    "print(template_box.shape)"
   ]
  },
  {
   "cell_type": "code",
   "execution_count": 8,
   "metadata": {},
   "outputs": [
    {
     "name": "stdout",
     "output_type": "stream",
     "text": [
      "734 12\n"
     ]
    },
    {
     "data": {
      "text/plain": [
       "<Image layer 'crop' at 0x2736208f3d0>"
      ]
     },
     "execution_count": 8,
     "metadata": {},
     "output_type": "execute_result"
    }
   ],
   "source": [
    "# Since OpenCV Match Template takes in uint8 || float32. We can change from uint16 to uint8 easily\n",
    "# np_mip_8bit =visual.im_bit_convert(np_mip,bit=8)\n",
    "min_val, max_val = template_box\n",
    "t,c = template[0,0:2]\n",
    "print(t,c)\n",
    "crop_img = da_stack[:,:, min_val[0]:max_val[0],min_val[1]:max_val[1]]\n",
    "# crop_img = np_mip_8bit[t,c, min_val[0]:max_val[0],min_val[1]:max_val[1]]\n",
    "# viewer.add_image(crop_img,name='crop')"
   ]
  },
  {
   "cell_type": "markdown",
   "metadata": {},
   "source": [
    "### Image J Part"
   ]
  },
  {
   "cell_type": "code",
   "execution_count": 3,
   "metadata": {},
   "outputs": [
    {
     "name": "stderr",
     "output_type": "stream",
     "text": [
      "WARNING: QWindowsWindow::setGeometry: Unable to set geometry 4208x2060+1520+178 (frame: 4230x2116+1509+133) on QWidgetWindow/\"_QtMainWindowClassWindow\" on \"\\\\.\\DISPLAY6\". Resulting geometry: 3844x1570+1520+178 (frame: 3866x1626+1509+133) margins: 11, 45, 11, 11 minimum size: 602x538 MINMAXINFO maxSize=0,0 maxpos=0,0 mintrack=1226,1132 maxtrack=0,0)\n"
     ]
    }
   ],
   "source": [
    "viewer= napari.Viewer()"
   ]
  },
  {
   "cell_type": "code",
   "execution_count": 10,
   "metadata": {},
   "outputs": [
    {
     "name": "stderr",
     "output_type": "stream",
     "text": [
      "[java.lang.Enum.toString] [WARNING] 1 exceptions occurred during plugin discovery.\n"
     ]
    },
    {
     "name": "stdout",
     "output_type": "stream",
     "text": [
      "2.0.0-rc-69/Inactive\n"
     ]
    }
   ],
   "source": [
    "def start_imagej():\n",
    "    import imagej\n",
    "    global ij\n",
    "    # ij = imagej.init( mode='interactive')\n",
    "    path = r'C:\\Users\\yoshi\\Documents\\Fiji.app'\n",
    "    ij = imagej.init(path,mode='interactive')\n",
    "    ij.ui().showUI()\n",
    "    print(ij.getVersion())\n",
    "\n",
    "QtCore.QTimer.singleShot(0, start_imagej)"
   ]
  },
  {
   "cell_type": "code",
   "execution_count": 11,
   "metadata": {},
   "outputs": [],
   "source": [
    "image = np.array(da_stack)"
   ]
  },
  {
   "cell_type": "code",
   "execution_count": 12,
   "metadata": {},
   "outputs": [
    {
     "ename": "TypeError",
     "evalue": "No matching overloads found for *static* net.imglib2.img.ImgView.wrap(net.imglib2.python.ReferenceGuardingRandomAccessibleInterval), options are:\n\tpublic static net.imglib2.img.Img net.imglib2.img.ImgView.wrap(net.imglib2.RandomAccessibleInterval,net.imglib2.img.ImgFactory)\n\n",
     "output_type": "error",
     "traceback": [
      "\u001b[1;31m---------------------------------------------------------------------------\u001b[0m",
      "\u001b[1;31mTypeError\u001b[0m                                 Traceback (most recent call last)",
      "\u001b[1;32mc:\\Users\\yoshi\\Documents\\edhirata\\M25\\m25-napari\\notebooks\\data_analysis\\20220512_zarrProcessing.ipynb Cell 14'\u001b[0m in \u001b[0;36m<cell line: 2>\u001b[1;34m()\u001b[0m\n\u001b[0;32m      <a href='vscode-notebook-cell:/c%3A/Users/yoshi/Documents/edhirata/M25/m25-napari/notebooks/data_analysis/20220512_zarrProcessing.ipynb#ch0000025?line=0'>1</a>\u001b[0m \u001b[39m# Align the files\u001b[39;00m\n\u001b[1;32m----> <a href='vscode-notebook-cell:/c%3A/Users/yoshi/Documents/edhirata/M25/m25-napari/notebooks/data_analysis/20220512_zarrProcessing.ipynb#ch0000025?line=1'>2</a>\u001b[0m ij_stack2  \u001b[39m=\u001b[39mij\u001b[39m.\u001b[39;49mpy\u001b[39m.\u001b[39;49mto_java(image)\n\u001b[0;32m      <a href='vscode-notebook-cell:/c%3A/Users/yoshi/Documents/edhirata/M25/m25-napari/notebooks/data_analysis/20220512_zarrProcessing.ipynb#ch0000025?line=2'>3</a>\u001b[0m ij\u001b[39m.\u001b[39mui()\u001b[39m.\u001b[39mshow(\u001b[39m'\u001b[39m\u001b[39mPSF\u001b[39m\u001b[39m'\u001b[39m, ij_stack2)\n",
      "File \u001b[1;32mC:\\ProgramData\\Anaconda3\\envs\\m25-py8\\lib\\site-packages\\imagej\\__init__.py:614\u001b[0m, in \u001b[0;36mImageJPython.to_java\u001b[1;34m(self, data)\u001b[0m\n\u001b[0;32m    <a href='file:///c%3A/ProgramData/Anaconda3/envs/m25-py8/lib/site-packages/imagej/__init__.py?line=604'>605</a>\u001b[0m \u001b[39mdef\u001b[39;00m \u001b[39mto_java\u001b[39m(\u001b[39mself\u001b[39m, data):\n\u001b[0;32m    <a href='file:///c%3A/ProgramData/Anaconda3/envs/m25-py8/lib/site-packages/imagej/__init__.py?line=605'>606</a>\u001b[0m     \u001b[39m\"\"\"Convert supported Python data into Java equivalents.\u001b[39;00m\n\u001b[0;32m    <a href='file:///c%3A/ProgramData/Anaconda3/envs/m25-py8/lib/site-packages/imagej/__init__.py?line=606'>607</a>\u001b[0m \n\u001b[0;32m    <a href='file:///c%3A/ProgramData/Anaconda3/envs/m25-py8/lib/site-packages/imagej/__init__.py?line=607'>608</a>\u001b[0m \u001b[39m    Converts Python objects (e.g. 'xarray.DataArray') into the Java\u001b[39;00m\n\u001b[1;32m   (...)\u001b[0m\n\u001b[0;32m    <a href='file:///c%3A/ProgramData/Anaconda3/envs/m25-py8/lib/site-packages/imagej/__init__.py?line=611'>612</a>\u001b[0m \u001b[39m    :return: A Java object converted from Python.\u001b[39;00m\n\u001b[0;32m    <a href='file:///c%3A/ProgramData/Anaconda3/envs/m25-py8/lib/site-packages/imagej/__init__.py?line=612'>613</a>\u001b[0m \u001b[39m    \"\"\"\u001b[39;00m\n\u001b[1;32m--> <a href='file:///c%3A/ProgramData/Anaconda3/envs/m25-py8/lib/site-packages/imagej/__init__.py?line=613'>614</a>\u001b[0m     \u001b[39mreturn\u001b[39;00m sj\u001b[39m.\u001b[39;49mto_java(data)\n",
      "File \u001b[1;32mC:\\ProgramData\\Anaconda3\\envs\\m25-py8\\lib\\site-packages\\scyjava\\__init__.py:400\u001b[0m, in \u001b[0;36mto_java\u001b[1;34m(obj)\u001b[0m\n\u001b[0;32m    <a href='file:///c%3A/ProgramData/Anaconda3/envs/m25-py8/lib/site-packages/scyjava/__init__.py?line=384'>385</a>\u001b[0m \u001b[39m\"\"\"\u001b[39;00m\n\u001b[0;32m    <a href='file:///c%3A/ProgramData/Anaconda3/envs/m25-py8/lib/site-packages/scyjava/__init__.py?line=385'>386</a>\u001b[0m \u001b[39mRecursively convert a Python object to a Java object.\u001b[39;00m\n\u001b[0;32m    <a href='file:///c%3A/ProgramData/Anaconda3/envs/m25-py8/lib/site-packages/scyjava/__init__.py?line=386'>387</a>\u001b[0m \u001b[39m:param data: The Python object to convert.\u001b[39;00m\n\u001b[1;32m   (...)\u001b[0m\n\u001b[0;32m    <a href='file:///c%3A/ProgramData/Anaconda3/envs/m25-py8/lib/site-packages/scyjava/__init__.py?line=396'>397</a>\u001b[0m \u001b[39m:raises TypeError: if the argument is not one of the aforementioned types.\u001b[39;00m\n\u001b[0;32m    <a href='file:///c%3A/ProgramData/Anaconda3/envs/m25-py8/lib/site-packages/scyjava/__init__.py?line=397'>398</a>\u001b[0m \u001b[39m\"\"\"\u001b[39;00m\n\u001b[0;32m    <a href='file:///c%3A/ProgramData/Anaconda3/envs/m25-py8/lib/site-packages/scyjava/__init__.py?line=398'>399</a>\u001b[0m start_jvm()\n\u001b[1;32m--> <a href='file:///c%3A/ProgramData/Anaconda3/envs/m25-py8/lib/site-packages/scyjava/__init__.py?line=399'>400</a>\u001b[0m \u001b[39mreturn\u001b[39;00m _convert(obj, java_converters)\n",
      "File \u001b[1;32mC:\\ProgramData\\Anaconda3\\envs\\m25-py8\\lib\\site-packages\\scyjava\\__init__.py:266\u001b[0m, in \u001b[0;36m_convert\u001b[1;34m(obj, converters)\u001b[0m\n\u001b[0;32m    <a href='file:///c%3A/ProgramData/Anaconda3/envs/m25-py8/lib/site-packages/scyjava/__init__.py?line=263'>264</a>\u001b[0m suitable_converters \u001b[39m=\u001b[39m \u001b[39mfilter\u001b[39m(\u001b[39mlambda\u001b[39;00m c: c\u001b[39m.\u001b[39mpredicate(obj), converters)\n\u001b[0;32m    <a href='file:///c%3A/ProgramData/Anaconda3/envs/m25-py8/lib/site-packages/scyjava/__init__.py?line=264'>265</a>\u001b[0m prioritized \u001b[39m=\u001b[39m \u001b[39mmax\u001b[39m(suitable_converters, key \u001b[39m=\u001b[39m \u001b[39mlambda\u001b[39;00m c: c\u001b[39m.\u001b[39mpriority)\n\u001b[1;32m--> <a href='file:///c%3A/ProgramData/Anaconda3/envs/m25-py8/lib/site-packages/scyjava/__init__.py?line=265'>266</a>\u001b[0m \u001b[39mreturn\u001b[39;00m prioritized\u001b[39m.\u001b[39;49mconverter(obj)\n",
      "File \u001b[1;32mC:\\ProgramData\\Anaconda3\\envs\\m25-py8\\lib\\site-packages\\imagej\\__init__.py:587\u001b[0m, in \u001b[0;36mImageJPython.to_img\u001b[1;34m(self, data)\u001b[0m\n\u001b[0;32m    <a href='file:///c%3A/ProgramData/Anaconda3/envs/m25-py8/lib/site-packages/imagej/__init__.py?line=584'>585</a>\u001b[0m     \u001b[39mreturn\u001b[39;00m \u001b[39mself\u001b[39m\u001b[39m.\u001b[39m_xarray_to_img(data)\n\u001b[0;32m    <a href='file:///c%3A/ProgramData/Anaconda3/envs/m25-py8/lib/site-packages/imagej/__init__.py?line=585'>586</a>\u001b[0m \u001b[39mif\u001b[39;00m \u001b[39mself\u001b[39m\u001b[39m.\u001b[39m_is_arraylike(data):\n\u001b[1;32m--> <a href='file:///c%3A/ProgramData/Anaconda3/envs/m25-py8/lib/site-packages/imagej/__init__.py?line=586'>587</a>\u001b[0m     \u001b[39mreturn\u001b[39;00m \u001b[39mself\u001b[39;49m\u001b[39m.\u001b[39;49m_numpy_to_img(data)\n\u001b[0;32m    <a href='file:///c%3A/ProgramData/Anaconda3/envs/m25-py8/lib/site-packages/imagej/__init__.py?line=587'>588</a>\u001b[0m \u001b[39mif\u001b[39;00m sj\u001b[39m.\u001b[39misjava(data):\n\u001b[0;32m    <a href='file:///c%3A/ProgramData/Anaconda3/envs/m25-py8/lib/site-packages/imagej/__init__.py?line=588'>589</a>\u001b[0m     \u001b[39mreturn\u001b[39;00m \u001b[39mself\u001b[39m\u001b[39m.\u001b[39m_java_to_img(data)\n",
      "File \u001b[1;32mC:\\ProgramData\\Anaconda3\\envs\\m25-py8\\lib\\site-packages\\imagej\\__init__.py:914\u001b[0m, in \u001b[0;36mImageJPython._numpy_to_img\u001b[1;34m(self, data)\u001b[0m\n\u001b[0;32m    <a href='file:///c%3A/ProgramData/Anaconda3/envs/m25-py8/lib/site-packages/imagej/__init__.py?line=911'>912</a>\u001b[0m \u001b[39massert\u001b[39;00m \u001b[39mself\u001b[39m\u001b[39m.\u001b[39m_is_arraylike(data)\n\u001b[0;32m    <a href='file:///c%3A/ProgramData/Anaconda3/envs/m25-py8/lib/site-packages/imagej/__init__.py?line=912'>913</a>\u001b[0m rai \u001b[39m=\u001b[39m imglyb\u001b[39m.\u001b[39mto_imglib(data)\n\u001b[1;32m--> <a href='file:///c%3A/ProgramData/Anaconda3/envs/m25-py8/lib/site-packages/imagej/__init__.py?line=913'>914</a>\u001b[0m \u001b[39mreturn\u001b[39;00m \u001b[39mself\u001b[39;49m\u001b[39m.\u001b[39;49m_java_to_img(rai)\n",
      "File \u001b[1;32mC:\\ProgramData\\Anaconda3\\envs\\m25-py8\\lib\\site-packages\\imagej\\__init__.py:903\u001b[0m, in \u001b[0;36mImageJPython._java_to_img\u001b[1;34m(self, data)\u001b[0m\n\u001b[0;32m    <a href='file:///c%3A/ProgramData/Anaconda3/envs/m25-py8/lib/site-packages/imagej/__init__.py?line=900'>901</a>\u001b[0m \u001b[39mexcept\u001b[39;00m \u001b[39mException\u001b[39;00m \u001b[39mas\u001b[39;00m exc:\n\u001b[0;32m    <a href='file:///c%3A/ProgramData/Anaconda3/envs/m25-py8/lib/site-packages/imagej/__init__.py?line=901'>902</a>\u001b[0m     _dump_exception(exc)\n\u001b[1;32m--> <a href='file:///c%3A/ProgramData/Anaconda3/envs/m25-py8/lib/site-packages/imagej/__init__.py?line=902'>903</a>\u001b[0m     \u001b[39mraise\u001b[39;00m exc\n\u001b[0;32m    <a href='file:///c%3A/ProgramData/Anaconda3/envs/m25-py8/lib/site-packages/imagej/__init__.py?line=903'>904</a>\u001b[0m \u001b[39mraise\u001b[39;00m \u001b[39mTypeError\u001b[39;00m(\u001b[39m\"\u001b[39m\u001b[39mCannot convert to img: \u001b[39m\u001b[39m\"\u001b[39m \u001b[39m+\u001b[39m \u001b[39mstr\u001b[39m(\u001b[39mtype\u001b[39m(data)))\n",
      "File \u001b[1;32mC:\\ProgramData\\Anaconda3\\envs\\m25-py8\\lib\\site-packages\\imagej\\__init__.py:900\u001b[0m, in \u001b[0;36mImageJPython._java_to_img\u001b[1;34m(self, data)\u001b[0m\n\u001b[0;32m    <a href='file:///c%3A/ProgramData/Anaconda3/envs/m25-py8/lib/site-packages/imagej/__init__.py?line=897'>898</a>\u001b[0m     \u001b[39mif\u001b[39;00m \u001b[39mself\u001b[39m\u001b[39m.\u001b[39m_ij\u001b[39m.\u001b[39mconvert()\u001b[39m.\u001b[39msupports(data, _RandomAccessibleInterval()):\n\u001b[0;32m    <a href='file:///c%3A/ProgramData/Anaconda3/envs/m25-py8/lib/site-packages/imagej/__init__.py?line=898'>899</a>\u001b[0m         rai \u001b[39m=\u001b[39m \u001b[39mself\u001b[39m\u001b[39m.\u001b[39m_ij\u001b[39m.\u001b[39mconvert()\u001b[39m.\u001b[39mconvert(data, _RandomAccessibleInterval())\n\u001b[1;32m--> <a href='file:///c%3A/ProgramData/Anaconda3/envs/m25-py8/lib/site-packages/imagej/__init__.py?line=899'>900</a>\u001b[0m         \u001b[39mreturn\u001b[39;00m _ImgView()\u001b[39m.\u001b[39;49mwrap(rai)\n\u001b[0;32m    <a href='file:///c%3A/ProgramData/Anaconda3/envs/m25-py8/lib/site-packages/imagej/__init__.py?line=900'>901</a>\u001b[0m \u001b[39mexcept\u001b[39;00m \u001b[39mException\u001b[39;00m \u001b[39mas\u001b[39;00m exc:\n\u001b[0;32m    <a href='file:///c%3A/ProgramData/Anaconda3/envs/m25-py8/lib/site-packages/imagej/__init__.py?line=901'>902</a>\u001b[0m     _dump_exception(exc)\n",
      "\u001b[1;31mTypeError\u001b[0m: No matching overloads found for *static* net.imglib2.img.ImgView.wrap(net.imglib2.python.ReferenceGuardingRandomAccessibleInterval), options are:\n\tpublic static net.imglib2.img.Img net.imglib2.img.ImgView.wrap(net.imglib2.RandomAccessibleInterval,net.imglib2.img.ImgFactory)\n\n"
     ]
    }
   ],
   "source": [
    "# Align the files\n",
    "# Retreive the files from Java to Python\n",
    "\n",
    "ij_stack2  =ij.py.to_java(image)\n",
    "ij.ui().show('PSF', ij_stack2)"
   ]
  },
  {
   "cell_type": "code",
   "execution_count": 16,
   "metadata": {},
   "outputs": [
    {
     "name": "stdout",
     "output_type": "stream",
     "text": [
      "(60, 342, 413, 25)\n"
     ]
    }
   ],
   "source": [
    "ij.WindowManager.getActiveWindow()\n",
    "a =ij.WindowManager.getCurrentImage()\n",
    "anp = ij.py.from_java(a)\n",
    "print(anp.shape)\n",
    "# anp2 = anp[:,:,:,np.newaxis]\n",
    "# print(anp2.shape)\n",
    "# anp2 = np.swapaxes(anp,1,4)\n",
    "# anp2.shape"
   ]
  },
  {
   "cell_type": "code",
   "execution_count": 17,
   "metadata": {},
   "outputs": [
    {
     "name": "stdout",
     "output_type": "stream",
     "text": [
      "(60, 25, 413, 342)\n"
     ]
    },
    {
     "data": {
      "text/plain": [
       "<Image layer 'crop' at 0x22682c33220>"
      ]
     },
     "execution_count": 17,
     "metadata": {},
     "output_type": "execute_result"
    }
   ],
   "source": [
    "anp2 = np.swapaxes(anp,1,3)\n",
    "print(anp2.shape)\n",
    "anp2_da = da.asarray(anp2)\n",
    "viewer.add_image(anp2_da, name='crop',scale=[z_scale,1,1],multiscale=False)"
   ]
  }
 ],
 "metadata": {
  "interpreter": {
   "hash": "a7de0d92cd945c8df5a8648c895ab49a01a588925afac562163fae1acef7aadb"
  },
  "kernelspec": {
   "display_name": "Python 3.10.4 ('napari-m25')",
   "language": "python",
   "name": "python3"
  },
  "language_info": {
   "codemirror_mode": {
    "name": "ipython",
    "version": 3
   },
   "file_extension": ".py",
   "mimetype": "text/x-python",
   "name": "python",
   "nbconvert_exporter": "python",
   "pygments_lexer": "ipython3",
   "version": "3.8.13"
  },
  "orig_nbformat": 4
 },
 "nbformat": 4,
 "nbformat_minor": 2
}
