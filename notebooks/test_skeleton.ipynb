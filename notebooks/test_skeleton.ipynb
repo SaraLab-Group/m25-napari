{
 "cells": [
  {
   "cell_type": "code",
   "execution_count": 1,
   "metadata": {},
   "outputs": [
    {
     "name": "stdout",
     "output_type": "stream",
     "text": [
      "The Zen of Python, by Tim Peters\n",
      "\n",
      "Beautiful is better than ugly.\n",
      "Explicit is better than implicit.\n",
      "Simple is better than complex.\n",
      "Complex is better than complicated.\n",
      "Flat is better than nested.\n",
      "Sparse is better than dense.\n",
      "Readability counts.\n",
      "Special cases aren't special enough to break the rules.\n",
      "Although practicality beats purity.\n",
      "Errors should never pass silently.\n",
      "Unless explicitly silenced.\n",
      "In the face of ambiguity, refuse the temptation to guess.\n",
      "There should be one-- and preferably only one --obvious way to do it.\n",
      "Although that way may not be obvious at first unless you're Dutch.\n",
      "Now is better than never.\n",
      "Although never is often better than *right* now.\n",
      "If the implementation is hard to explain, it's a bad idea.\n",
      "If the implementation is easy to explain, it may be a good idea.\n",
      "Namespaces are one honking great idea -- let's do more of those!\n"
     ]
    }
   ],
   "source": [
    "from visualizer import calibration\n",
    "import visual\n",
    "\n",
    "from PyQt5 import QtCore\n",
    "import tifffile\n",
    "from skimage.io import imread\n",
    "from skimage.io.collection import alphanumeric_key\n",
    "from dask import delayed\n",
    "from glob import glob\n",
    "import dask.array as da\n",
    "import matplotlib.pyplot as plt\n",
    "import numpy as np\n",
    "import napari\n",
    "from napari import Viewer\n",
    "import os\n",
    "import zarr\n",
    "from skimage.registration import phase_cross_correlation\n",
    "import cv2 as cv\n",
    "from skimage import io\n",
    "from skimage.morphology import skeletonize\n",
    "from skan import Skeleton\n",
    "import scipy.ndimage as ndi\n",
    "import cupy as cp \n",
    "import waveorder as wo\n",
    "from waveorder.io.multipagetiff import  MicromanagerOmeTiffReader\n",
    "from aicsimageio import AICSImage,imread, imread_dask\n",
    "import cv2 as cv\n",
    "%gui qt \n",
    "%matplotlib inline\n",
    "plt.style.use('dark_background')\n"
   ]
  },
  {
   "cell_type": "code",
   "execution_count": 2,
   "metadata": {},
   "outputs": [],
   "source": [
    "viewer = napari.Viewer()"
   ]
  },
  {
   "cell_type": "code",
   "execution_count": 3,
   "metadata": {},
   "outputs": [
    {
     "name": "stdout",
     "output_type": "stream",
     "text": [
      "loading offsets\n",
      "loading offsets\n"
     ]
    }
   ],
   "source": [
    "### Enter the filepath for the data directory\n",
    "main_dir =r'F:\\DATA\\20220507_M25_ZW495_9'   #5 fast dynamics of big worm\n",
    "###Enter the filepath for background images\n",
    "bg_dir = r'F:\\Test_ignore\\20220513_M25_bg_16bit'\n",
    "### Enter the filepath for Calibration Dataset (PSF) or offset file\n",
    "psf_dir = r'F:\\Test_ignore\\220508_190nmSteps_postitive2negative_1'\n",
    "# psf_dir = r'F:\\Test_ignore\\220508_380nmSteps_minusplus_reversed_1'\n",
    "#Get Folders and files\n",
    "main_dirs = sorted(glob(main_dir + '/CAM*/'), key=alphanumeric_key)\n",
    "bg_folders = sorted(glob(bg_dir + '/CAM*/'), key=alphanumeric_key)\n",
    "\n",
    "# Load offsets from desired folder \n",
    "processed_files = main_dir + '/'+'processed_files'\n",
    "if not os.path.exists(processed_files):\n",
    "    os.makedirs(processed_files)\n",
    "\n",
    "offset_dir = os.path.join(psf_dir + '/'+'processed_files')\n",
    "offsets_file = os.path.join(offset_dir,\"offsets.csv\")\n",
    "offsets_file_pcc = os.path.join(offset_dir,\"offsets_pcc.csv\")\n",
    "\n",
    "if os.path.exists(offsets_file):\n",
    "    with open(offsets_file) as file_name:\n",
    "        print(\"loading offsets\")\n",
    "        offsets = np.loadtxt(file_name, delimiter=\",\")\n",
    "\n",
    "if os.path.exists(offsets_file_pcc):\n",
    "    with open(offsets_file) as file_name:\n",
    "        print(\"loading offsets\")\n",
    "        offsets_pcc = np.loadtxt(file_name, delimiter=\",\")\n",
    "## Quick Visualizer of the selected planes\n",
    "# center_planes = calibration.lazy_dask_stack(main_dir,num_cams=5,px_depth='uint16', height=608, width =608)\n",
    "# napari.add_image(center_planes, name='center_planes',scale=[z_scale,1,1],multiscale=False)"
   ]
  },
  {
   "cell_type": "code",
   "execution_count": 4,
   "metadata": {},
   "outputs": [],
   "source": [
    "# Scope Parameters\n",
    "cam_px = 6.0e-6\n",
    "totalmag = 15.75\n",
    "zstep = 2e-6\n",
    "\n",
    "px_size_img = cam_px/totalmag\n",
    "z_scale = zstep/px_size_img"
   ]
  },
  {
   "cell_type": "code",
   "execution_count": 5,
   "metadata": {},
   "outputs": [
    {
     "data": {
      "text/plain": [
       "(1, 600, 608, 608)"
      ]
     },
     "execution_count": 5,
     "metadata": {},
     "output_type": "execute_result"
    }
   ],
   "source": [
    "folder = main_dirs[12]\n",
    "file_extension = folder + '/' + '*.raw'\n",
    "file_names = sorted(glob(file_extension),key=alphanumeric_key)\n",
    "raw_ds = calibration.dask_raw_ds(folder,px_depth='uint16', width=608,height=608)\n",
    "dask_raw_ds = da.stack(raw_ds,axis=1)\n",
    "dask_raw_ds.shape"
   ]
  },
  {
   "cell_type": "code",
   "execution_count": 6,
   "metadata": {},
   "outputs": [
    {
     "data": {
      "text/plain": [
       "<Image layer 'crop_stack_gauss' at 0x263ad13f940>"
      ]
     },
     "execution_count": 6,
     "metadata": {},
     "output_type": "execute_result"
    }
   ],
   "source": [
    "# apply a gaussian filter\n",
    "crop_stack = dask_raw_ds[:,60:200,:,:]\n",
    "viewer.add_image(crop_stack)\n",
    "crop_stack_gauss = ndi.gaussian_filter(crop_stack,sigma=5)\n",
    "viewer.add_image(crop_stack_gauss)"
   ]
  },
  {
   "cell_type": "code",
   "execution_count": 7,
   "metadata": {},
   "outputs": [
    {
     "data": {
      "text/plain": [
       "<Image layer 'binary_stack' at 0x263b9155d90>"
      ]
     },
     "execution_count": 7,
     "metadata": {},
     "output_type": "execute_result"
    },
    {
     "data": {
      "image/png": "[encoded data removed]",
      "text/plain": [
       "<Figure size 432x288 with 1 Axes>"
      ]
     },
     "metadata": {},
     "output_type": "display_data"
    }
   ],
   "source": [
    "from skimage.filters import threshold_otsu, threshold_yen\n",
    "\n",
    "thresh_otsu = threshold_otsu(crop_stack_gauss)\n",
    "binary_stack = crop_stack_gauss > thresh_otsu\n",
    "\n",
    "plt.hist(crop_stack_gauss.ravel(), bins=256)\n",
    "plt.title('Histogram')\n",
    "plt.axvline(thresh_otsu, color='r')\n",
    "viewer.add_image(binary_stack)"
   ]
  },
  {
   "cell_type": "code",
   "execution_count": 8,
   "metadata": {},
   "outputs": [
    {
     "data": {
      "application/vnd.jupyter.widget-view+json": {
       "model_id": "b6d3576d469140ab99fb0bcb0242fa75",
       "version_major": 2,
       "version_minor": 0
      },
      "text/plain": [
       "interactive(children=(IntSlider(value=0, description='stack_idx_1', max=0), IntSlider(value=0, description='st…"
      ]
     },
     "metadata": {},
     "output_type": "display_data"
    },
    {
     "data": {
      "text/plain": [
       "<function waveorder.visual.image_stack_viewer.<locals>.interact_plot_4D(stack_idx_1, stack_idx_2)>"
      ]
     },
     "execution_count": 8,
     "metadata": {},
     "output_type": "execute_result"
    }
   ],
   "source": [
    "binary_stack_filled = ndi.binary_fill_holes(binary_stack)\n",
    "wo.image_stack_viewer(binary_stack_filled)"
   ]
  },
  {
   "cell_type": "code",
   "execution_count": 9,
   "metadata": {},
   "outputs": [
    {
     "name": "stdout",
     "output_type": "stream",
     "text": [
      "(1, 140, 608, 608)\n",
      "[[0. 0. 0. ... 0. 0. 0.]\n",
      " [0. 0. 0. ... 0. 0. 0.]\n",
      " [0. 0. 0. ... 0. 0. 0.]\n",
      " ...\n",
      " [0. 0. 0. ... 0. 0. 0.]\n",
      " [0. 0. 0. ... 0. 0. 0.]\n",
      " [0. 0. 0. ... 0. 0. 0.]]\n"
     ]
    },
    {
     "data": {
      "text/plain": [
       "(-0.5, 607.5, 607.5, -0.5)"
      ]
     },
     "execution_count": 9,
     "metadata": {},
     "output_type": "execute_result"
    },
    {
     "data": {
      "image/png": "[encoded data removed]",
      "text/plain": [
       "<Figure size 432x288 with 1 Axes>"
      ]
     },
     "metadata": {},
     "output_type": "display_data"
    }
   ],
   "source": [
    "from skimage.morphology import medial_axis\n",
    "print(binary_stack_filled.shape)\n",
    "binary_stack_filled3d = np.squeeze(binary_stack_filled)\n",
    "skel, distance = medial_axis(binary_stack_filled3d[1], return_distance=True)\n",
    "# Distance to the background for pixels of the skeleton\n",
    "dist_on_skel = distance * skel\n",
    "print(dist_on_skel)\n",
    "plt.imshow(dist_on_skel, cmap='magma')\n",
    "plt.contour(binary_stack_filled3d[1], [0.5], colors='w')\n",
    "plt.axis('off')"
   ]
  },
  {
   "cell_type": "code",
   "execution_count": 10,
   "metadata": {},
   "outputs": [
    {
     "name": "stdout",
     "output_type": "stream",
     "text": [
      "(140, 608, 608)\n"
     ]
    },
    {
     "data": {
      "text/plain": [
       "<Image layer 'skeleton' at 0x263b8a1b8e0>"
      ]
     },
     "execution_count": 10,
     "metadata": {},
     "output_type": "execute_result"
    }
   ],
   "source": [
    "# perform skeletonization\n",
    "skeleton =np.array([skeletonize(binary_stack_filled3d[i]) for i in range(binary_stack_filled3d.shape[0])])\n",
    "print(skeleton.shape)\n",
    "viewer.add_image(skeleton, colormap='magenta', blending='additive')"
   ]
  },
  {
   "cell_type": "code",
   "execution_count": 11,
   "metadata": {},
   "outputs": [],
   "source": [
    "from skan import Skeleton\n",
    "sk_skeleton =[Skeleton(skeleton[i]) for i in range(skeleton.shape[0])]"
   ]
  },
  {
   "cell_type": "code",
   "execution_count": 12,
   "metadata": {},
   "outputs": [
    {
     "name": "stdout",
     "output_type": "stream",
     "text": [
      "[[  0.   0.]\n",
      " [ 69. 209.]\n",
      " [ 70. 208.]\n",
      " [ 71. 208.]\n",
      " [ 72. 208.]\n",
      " [ 73. 208.]\n",
      " [ 74. 207.]\n",
      " [ 75. 207.]\n",
      " [ 76. 207.]\n",
      " [ 77. 207.]\n",
      " [ 78. 207.]\n",
      " [ 79. 207.]\n",
      " [ 80. 207.]\n",
      " [ 81. 206.]\n",
      " [ 82. 206.]\n",
      " [ 83. 206.]\n",
      " [ 84. 206.]\n",
      " [ 85. 206.]\n",
      " [ 86. 206.]\n",
      " [ 87. 206.]\n",
      " [ 88. 205.]\n",
      " [ 89. 205.]\n",
      " [ 90. 205.]\n",
      " [ 91. 205.]\n",
      " [ 92. 205.]\n",
      " [ 93. 205.]\n",
      " [ 94. 204.]\n",
      " [ 95. 204.]\n",
      " [ 96. 204.]\n",
      " [ 97. 204.]\n",
      " [ 98. 204.]\n",
      " [ 99. 204.]\n",
      " [100. 204.]\n",
      " [101. 204.]\n",
      " [102. 204.]\n",
      " [103. 204.]\n",
      " [104. 204.]\n",
      " [105. 204.]\n",
      " [106. 203.]\n",
      " [107. 203.]\n",
      " [108. 203.]\n",
      " [109. 202.]\n",
      " [110. 202.]\n",
      " [111. 202.]\n",
      " [112. 202.]\n",
      " [113. 202.]\n",
      " [114. 202.]\n",
      " [115. 202.]\n",
      " [116. 202.]\n",
      " [117. 201.]\n",
      " [118. 201.]\n",
      " [119. 201.]\n",
      " [120. 200.]\n",
      " [121. 200.]\n",
      " [122. 200.]\n",
      " [123. 200.]\n",
      " [124. 200.]\n",
      " [125. 200.]\n",
      " [126. 200.]\n",
      " [127. 199.]\n",
      " [128. 199.]\n",
      " [129. 199.]\n",
      " [130. 199.]\n",
      " [131. 199.]\n",
      " [132. 198.]\n",
      " [133. 198.]\n",
      " [134. 198.]\n",
      " [135. 198.]\n",
      " [136. 198.]\n",
      " [137. 197.]\n",
      " [138. 197.]\n",
      " [139. 197.]\n",
      " [140. 197.]\n",
      " [141. 197.]\n",
      " [142. 197.]\n",
      " [143. 197.]\n",
      " [144. 197.]\n",
      " [145. 196.]\n",
      " [146. 196.]\n",
      " [147. 196.]\n",
      " [148. 196.]\n",
      " [149. 196.]\n",
      " [150. 196.]\n",
      " [151. 196.]\n",
      " [152. 196.]\n",
      " [153. 195.]\n",
      " [154. 195.]\n",
      " [155. 195.]\n",
      " [156. 195.]\n",
      " [157. 195.]\n",
      " [158. 195.]\n",
      " [159. 195.]\n",
      " [160. 195.]\n",
      " [161. 194.]\n",
      " [162. 194.]\n",
      " [163. 194.]\n",
      " [164. 194.]\n",
      " [165. 194.]\n",
      " [166. 194.]\n",
      " [167. 194.]\n",
      " [168. 194.]\n",
      " [169. 194.]\n",
      " [170. 193.]\n",
      " [171. 193.]\n",
      " [172. 193.]\n",
      " [173. 194.]\n",
      " [174. 194.]\n",
      " [175. 194.]\n",
      " [176. 194.]\n",
      " [177. 194.]\n",
      " [178. 194.]\n",
      " [179. 194.]\n",
      " [180. 194.]\n",
      " [181. 194.]\n",
      " [182. 194.]\n",
      " [183. 195.]\n",
      " [184. 195.]\n",
      " [185. 195.]\n",
      " [186. 195.]\n",
      " [187. 195.]\n",
      " [188. 195.]\n",
      " [189. 195.]\n",
      " [190. 196.]\n",
      " [191. 196.]\n",
      " [192. 196.]\n",
      " [193. 196.]\n",
      " [194. 197.]\n",
      " [195. 197.]\n",
      " [196. 197.]\n",
      " [197. 197.]\n",
      " [198. 197.]\n",
      " [199. 197.]\n",
      " [200. 198.]\n",
      " [201. 198.]\n",
      " [202. 198.]\n",
      " [203. 199.]\n",
      " [204. 199.]\n",
      " [205. 199.]\n",
      " [206. 199.]\n",
      " [207. 200.]\n",
      " [208. 200.]\n",
      " [209. 200.]\n",
      " [210. 201.]\n",
      " [211. 201.]\n",
      " [212. 201.]\n",
      " [213. 202.]\n",
      " [214. 202.]\n",
      " [215. 203.]\n",
      " [216. 203.]\n",
      " [217. 203.]\n",
      " [218. 204.]\n",
      " [219. 204.]\n",
      " [220. 205.]\n",
      " [221. 205.]\n",
      " [222. 206.]\n",
      " [223. 206.]\n",
      " [224. 207.]\n",
      " [225. 207.]\n",
      " [226. 207.]\n",
      " [227. 208.]\n",
      " [228. 209.]\n",
      " [229. 209.]\n",
      " [230. 210.]\n",
      " [231. 210.]\n",
      " [232. 211.]\n",
      " [233. 211.]\n",
      " [234. 212.]\n",
      " [235. 212.]\n",
      " [236. 213.]\n",
      " [237. 213.]\n",
      " [238. 214.]\n",
      " [239. 215.]\n",
      " [240. 215.]\n",
      " [241. 216.]\n",
      " [242. 217.]\n",
      " [243. 217.]\n",
      " [244. 218.]\n",
      " [245. 218.]\n",
      " [246. 219.]\n",
      " [247. 220.]\n",
      " [248. 220.]\n",
      " [249. 221.]\n",
      " [250. 222.]\n",
      " [251. 223.]\n",
      " [252. 224.]\n",
      " [253. 224.]\n",
      " [254. 225.]\n",
      " [255. 226.]\n",
      " [256. 227.]\n",
      " [257. 228.]\n",
      " [258. 229.]\n",
      " [259. 230.]\n",
      " [260. 231.]\n",
      " [261. 232.]\n",
      " [262. 233.]\n",
      " [263. 234.]\n",
      " [264. 235.]\n",
      " [264. 236.]\n",
      " [265. 237.]\n",
      " [266. 238.]\n",
      " [267. 239.]\n",
      " [267. 240.]\n",
      " [268. 241.]\n",
      " [269. 242.]\n",
      " [269. 385.]\n",
      " [270. 243.]\n",
      " [270. 244.]\n",
      " [270. 245.]\n",
      " [270. 378.]\n",
      " [270. 379.]\n",
      " [270. 380.]\n",
      " [270. 381.]\n",
      " [270. 382.]\n",
      " [270. 383.]\n",
      " [270. 384.]\n",
      " [271. 246.]\n",
      " [271. 373.]\n",
      " [271. 374.]\n",
      " [271. 375.]\n",
      " [271. 376.]\n",
      " [271. 377.]\n",
      " [272. 247.]\n",
      " [272. 248.]\n",
      " [272. 370.]\n",
      " [272. 371.]\n",
      " [272. 372.]\n",
      " [273. 249.]\n",
      " [273. 250.]\n",
      " [273. 366.]\n",
      " [273. 367.]\n",
      " [273. 368.]\n",
      " [273. 369.]\n",
      " [274. 251.]\n",
      " [274. 252.]\n",
      " [274. 363.]\n",
      " [274. 364.]\n",
      " [274. 365.]\n",
      " [275. 253.]\n",
      " [275. 254.]\n",
      " [275. 255.]\n",
      " [275. 360.]\n",
      " [275. 361.]\n",
      " [275. 362.]\n",
      " [276. 256.]\n",
      " [276. 358.]\n",
      " [276. 359.]\n",
      " [277. 257.]\n",
      " [277. 258.]\n",
      " [277. 259.]\n",
      " [277. 355.]\n",
      " [277. 356.]\n",
      " [277. 357.]\n",
      " [278. 260.]\n",
      " [278. 261.]\n",
      " [278. 262.]\n",
      " [278. 263.]\n",
      " [278. 351.]\n",
      " [278. 352.]\n",
      " [278. 353.]\n",
      " [278. 354.]\n",
      " [279. 264.]\n",
      " [279. 265.]\n",
      " [279. 347.]\n",
      " [279. 348.]\n",
      " [279. 349.]\n",
      " [279. 350.]\n",
      " [280. 266.]\n",
      " [280. 267.]\n",
      " [280. 268.]\n",
      " [280. 269.]\n",
      " [280. 343.]\n",
      " [280. 344.]\n",
      " [280. 345.]\n",
      " [280. 346.]\n",
      " [281. 270.]\n",
      " [281. 271.]\n",
      " [281. 272.]\n",
      " [281. 273.]\n",
      " [281. 274.]\n",
      " [281. 339.]\n",
      " [281. 340.]\n",
      " [281. 341.]\n",
      " [281. 342.]\n",
      " [282. 275.]\n",
      " [282. 276.]\n",
      " [282. 277.]\n",
      " [282. 278.]\n",
      " [282. 279.]\n",
      " [282. 335.]\n",
      " [282. 336.]\n",
      " [282. 337.]\n",
      " [282. 338.]\n",
      " [283. 280.]\n",
      " [283. 281.]\n",
      " [283. 282.]\n",
      " [283. 331.]\n",
      " [283. 332.]\n",
      " [283. 333.]\n",
      " [283. 334.]\n",
      " [284. 283.]\n",
      " [284. 284.]\n",
      " [284. 285.]\n",
      " [284. 286.]\n",
      " [284. 326.]\n",
      " [284. 327.]\n",
      " [284. 328.]\n",
      " [284. 329.]\n",
      " [284. 330.]\n",
      " [285. 287.]\n",
      " [285. 288.]\n",
      " [285. 289.]\n",
      " [285. 321.]\n",
      " [285. 322.]\n",
      " [285. 323.]\n",
      " [285. 324.]\n",
      " [285. 325.]\n",
      " [286. 290.]\n",
      " [286. 291.]\n",
      " [286. 292.]\n",
      " [286. 293.]\n",
      " [286. 294.]\n",
      " [286. 295.]\n",
      " [286. 316.]\n",
      " [286. 317.]\n",
      " [286. 318.]\n",
      " [286. 319.]\n",
      " [286. 320.]\n",
      " [287. 296.]\n",
      " [287. 297.]\n",
      " [287. 298.]\n",
      " [287. 299.]\n",
      " [287. 300.]\n",
      " [287. 301.]\n",
      " [287. 311.]\n",
      " [287. 312.]\n",
      " [287. 313.]\n",
      " [287. 314.]\n",
      " [287. 315.]\n",
      " [288. 302.]\n",
      " [288. 303.]\n",
      " [288. 304.]\n",
      " [288. 305.]\n",
      " [288. 306.]\n",
      " [288. 307.]\n",
      " [288. 308.]\n",
      " [288. 309.]\n",
      " [288. 310.]]\n",
      "[421.70562748]\n",
      "[421.70562748]\n"
     ]
    }
   ],
   "source": [
    "print((sk_skeleton[1].coordinates))\n",
    "print(sk_skeleton[10].path_lengths())\n",
    "print(sk_skeleton[10].distances)"
   ]
  },
  {
   "cell_type": "code",
   "execution_count": 188,
   "metadata": {},
   "outputs": [],
   "source": [
    "a = [ sk_skeleton[i].coordinates[sk_skeleton[i].degrees == 1] for i in range(len(sk_skeleton))]\n"
   ]
  },
  {
   "cell_type": "code",
   "execution_count": 352,
   "metadata": {},
   "outputs": [
    {
     "name": "stdout",
     "output_type": "stream",
     "text": [
      "(462, 3)\n"
     ]
    }
   ],
   "source": [
    "# Finding the points where we have start/ends\n",
    "end_points =[]\n",
    "for k in range(len(sk_skeleton)):\n",
    "    for i, val in enumerate(sk_skeleton[k].coordinates[sk_skeleton[k].degrees == 1]):\n",
    "      end_points.append([k,val[0],val[1]])\n",
    "\n",
    "np_endPoint = np.array(end_points)\n",
    "print(np_endPoint.shape)\n",
    "viewer.add_points(np_endPoint, face_color='cornflowerblue')\n"
   ]
  },
  {
   "cell_type": "code",
   "execution_count": null,
   "metadata": {},
   "outputs": [],
   "source": []
  },
  {
   "cell_type": "code",
   "execution_count": 132,
   "metadata": {},
   "outputs": [
    {
     "name": "stdout",
     "output_type": "stream",
     "text": [
      "(349, 2)\n",
      "(349, 349, 2)\n",
      "[[  0.   0.]\n",
      " [ 69. 209.]\n",
      " [ 70. 208.]\n",
      " [ 71. 208.]\n",
      " [ 72. 208.]\n",
      " [ 73. 208.]\n",
      " [ 74. 207.]\n",
      " [ 75. 207.]\n",
      " [ 76. 207.]\n",
      " [ 77. 207.]\n",
      " [ 78. 207.]\n",
      " [ 79. 207.]\n",
      " [ 80. 207.]\n",
      " [ 81. 206.]\n",
      " [ 82. 206.]\n",
      " [ 83. 206.]\n",
      " [ 84. 206.]\n",
      " [ 85. 206.]\n",
      " [ 86. 206.]\n",
      " [ 87. 206.]\n",
      " [ 88. 205.]\n",
      " [ 89. 205.]\n",
      " [ 90. 205.]\n",
      " [ 91. 205.]\n",
      " [ 92. 205.]\n",
      " [ 93. 205.]\n",
      " [ 94. 205.]\n",
      " [ 95. 204.]\n",
      " [ 96. 204.]\n",
      " [ 97. 204.]\n",
      " [ 98. 204.]\n",
      " [ 99. 204.]\n",
      " [100. 204.]\n",
      " [101. 204.]\n",
      " [102. 204.]\n",
      " [103. 204.]\n",
      " [104. 204.]\n",
      " [105. 204.]\n",
      " [106. 203.]\n",
      " [107. 203.]\n",
      " [108. 203.]\n",
      " [109. 203.]\n",
      " [110. 202.]\n",
      " [111. 202.]\n",
      " [112. 202.]\n",
      " [113. 202.]\n",
      " [114. 202.]\n",
      " [115. 202.]\n",
      " [116. 202.]\n",
      " [117. 201.]\n",
      " [118. 201.]\n",
      " [119. 201.]\n",
      " [120. 201.]\n",
      " [121. 200.]\n",
      " [122. 200.]\n",
      " [123. 200.]\n",
      " [124. 200.]\n",
      " [125. 200.]\n",
      " [126. 200.]\n",
      " [127. 200.]\n",
      " [128. 199.]\n",
      " [129. 199.]\n",
      " [130. 199.]\n",
      " [131. 199.]\n",
      " [132. 199.]\n",
      " [133. 199.]\n",
      " [134. 198.]\n",
      " [135. 198.]\n",
      " [136. 198.]\n",
      " [137. 197.]\n",
      " [138. 197.]\n",
      " [139. 197.]\n",
      " [140. 197.]\n",
      " [141. 197.]\n",
      " [142. 197.]\n",
      " [143. 197.]\n",
      " [144. 197.]\n",
      " [145. 196.]\n",
      " [146. 196.]\n",
      " [147. 196.]\n",
      " [148. 196.]\n",
      " [149. 196.]\n",
      " [150. 196.]\n",
      " [151. 196.]\n",
      " [152. 196.]\n",
      " [153. 195.]\n",
      " [154. 195.]\n",
      " [155. 195.]\n",
      " [156. 195.]\n",
      " [157. 195.]\n",
      " [158. 195.]\n",
      " [159. 195.]\n",
      " [160. 195.]\n",
      " [161. 195.]\n",
      " [162. 194.]\n",
      " [163. 194.]\n",
      " [164. 194.]\n",
      " [165. 194.]\n",
      " [166. 194.]\n",
      " [167. 194.]\n",
      " [168. 194.]\n",
      " [169. 194.]\n",
      " [170. 194.]\n",
      " [171. 194.]\n",
      " [172. 194.]\n",
      " [173. 194.]\n",
      " [174. 194.]\n",
      " [175. 194.]\n",
      " [176. 194.]\n",
      " [177. 194.]\n",
      " [178. 194.]\n",
      " [179. 194.]\n",
      " [180. 194.]\n",
      " [181. 195.]\n",
      " [182. 195.]\n",
      " [183. 195.]\n",
      " [184. 195.]\n",
      " [185. 195.]\n",
      " [186. 195.]\n",
      " [187. 196.]\n",
      " [188. 196.]\n",
      " [189. 196.]\n",
      " [190. 196.]\n",
      " [191. 196.]\n",
      " [192. 196.]\n",
      " [193. 197.]\n",
      " [194. 197.]\n",
      " [195. 197.]\n",
      " [196. 197.]\n",
      " [197. 197.]\n",
      " [198. 198.]\n",
      " [199. 198.]\n",
      " [200. 198.]\n",
      " [201. 198.]\n",
      " [202. 199.]\n",
      " [203. 199.]\n",
      " [204. 199.]\n",
      " [205. 199.]\n",
      " [206. 200.]\n",
      " [207. 200.]\n",
      " [208. 200.]\n",
      " [209. 201.]\n",
      " [210. 201.]\n",
      " [211. 201.]\n",
      " [212. 202.]\n",
      " [213. 202.]\n",
      " [214. 202.]\n",
      " [215. 203.]\n",
      " [216. 203.]\n",
      " [217. 204.]\n",
      " [218. 204.]\n",
      " [219. 205.]\n",
      " [220. 205.]\n",
      " [221. 206.]\n",
      " [222. 206.]\n",
      " [223. 206.]\n",
      " [224. 207.]\n",
      " [225. 207.]\n",
      " [226. 208.]\n",
      " [227. 208.]\n",
      " [228. 209.]\n",
      " [229. 209.]\n",
      " [230. 210.]\n",
      " [231. 210.]\n",
      " [232. 211.]\n",
      " [233. 211.]\n",
      " [234. 212.]\n",
      " [235. 212.]\n",
      " [236. 213.]\n",
      " [237. 214.]\n",
      " [238. 214.]\n",
      " [239. 215.]\n",
      " [240. 215.]\n",
      " [241. 216.]\n",
      " [242. 217.]\n",
      " [243. 217.]\n",
      " [244. 218.]\n",
      " [245. 219.]\n",
      " [246. 219.]\n",
      " [247. 220.]\n",
      " [248. 221.]\n",
      " [249. 221.]\n",
      " [250. 222.]\n",
      " [251. 223.]\n",
      " [252. 224.]\n",
      " [253. 225.]\n",
      " [254. 225.]\n",
      " [255. 226.]\n",
      " [256. 227.]\n",
      " [257. 228.]\n",
      " [258. 229.]\n",
      " [259. 230.]\n",
      " [260. 231.]\n",
      " [261. 232.]\n",
      " [262. 233.]\n",
      " [263. 234.]\n",
      " [263. 235.]\n",
      " [264. 236.]\n",
      " [265. 237.]\n",
      " [266. 238.]\n",
      " [267. 239.]\n",
      " [267. 240.]\n",
      " [268. 241.]\n",
      " [269. 242.]\n",
      " [269. 243.]\n",
      " [270. 244.]\n",
      " [270. 245.]\n",
      " [270. 380.]\n",
      " [270. 381.]\n",
      " [270. 382.]\n",
      " [270. 383.]\n",
      " [270. 384.]\n",
      " [270. 385.]\n",
      " [271. 246.]\n",
      " [271. 375.]\n",
      " [271. 376.]\n",
      " [271. 377.]\n",
      " [271. 378.]\n",
      " [271. 379.]\n",
      " [271. 386.]\n",
      " [271. 387.]\n",
      " [272. 247.]\n",
      " [272. 248.]\n",
      " [272. 372.]\n",
      " [272. 373.]\n",
      " [272. 374.]\n",
      " [273. 249.]\n",
      " [273. 250.]\n",
      " [273. 369.]\n",
      " [273. 370.]\n",
      " [273. 371.]\n",
      " [274. 251.]\n",
      " [274. 252.]\n",
      " [274. 365.]\n",
      " [274. 366.]\n",
      " [274. 367.]\n",
      " [274. 368.]\n",
      " [275. 253.]\n",
      " [275. 254.]\n",
      " [275. 255.]\n",
      " [275. 362.]\n",
      " [275. 363.]\n",
      " [275. 364.]\n",
      " [276. 256.]\n",
      " [276. 257.]\n",
      " [276. 359.]\n",
      " [276. 360.]\n",
      " [276. 361.]\n",
      " [277. 258.]\n",
      " [277. 259.]\n",
      " [277. 356.]\n",
      " [277. 357.]\n",
      " [277. 358.]\n",
      " [278. 260.]\n",
      " [278. 261.]\n",
      " [278. 262.]\n",
      " [278. 263.]\n",
      " [278. 354.]\n",
      " [278. 355.]\n",
      " [279. 264.]\n",
      " [279. 265.]\n",
      " [279. 350.]\n",
      " [279. 351.]\n",
      " [279. 352.]\n",
      " [279. 353.]\n",
      " [280. 266.]\n",
      " [280. 267.]\n",
      " [280. 268.]\n",
      " [280. 269.]\n",
      " [280. 270.]\n",
      " [280. 346.]\n",
      " [280. 347.]\n",
      " [280. 348.]\n",
      " [280. 349.]\n",
      " [281. 271.]\n",
      " [281. 272.]\n",
      " [281. 342.]\n",
      " [281. 343.]\n",
      " [281. 344.]\n",
      " [281. 345.]\n",
      " [282. 273.]\n",
      " [282. 274.]\n",
      " [282. 275.]\n",
      " [282. 276.]\n",
      " [282. 277.]\n",
      " [282. 338.]\n",
      " [282. 339.]\n",
      " [282. 340.]\n",
      " [282. 341.]\n",
      " [283. 278.]\n",
      " [283. 279.]\n",
      " [283. 280.]\n",
      " [283. 281.]\n",
      " [283. 282.]\n",
      " [283. 334.]\n",
      " [283. 335.]\n",
      " [283. 336.]\n",
      " [283. 337.]\n",
      " [284. 283.]\n",
      " [284. 284.]\n",
      " [284. 329.]\n",
      " [284. 330.]\n",
      " [284. 331.]\n",
      " [284. 332.]\n",
      " [284. 333.]\n",
      " [285. 285.]\n",
      " [285. 286.]\n",
      " [285. 287.]\n",
      " [285. 288.]\n",
      " [285. 324.]\n",
      " [285. 325.]\n",
      " [285. 326.]\n",
      " [285. 327.]\n",
      " [285. 328.]\n",
      " [286. 289.]\n",
      " [286. 290.]\n",
      " [286. 291.]\n",
      " [286. 292.]\n",
      " [286. 320.]\n",
      " [286. 321.]\n",
      " [286. 322.]\n",
      " [286. 323.]\n",
      " [287. 293.]\n",
      " [287. 294.]\n",
      " [287. 295.]\n",
      " [287. 296.]\n",
      " [287. 297.]\n",
      " [287. 314.]\n",
      " [287. 315.]\n",
      " [287. 316.]\n",
      " [287. 317.]\n",
      " [287. 318.]\n",
      " [287. 319.]\n",
      " [288. 298.]\n",
      " [288. 299.]\n",
      " [288. 300.]\n",
      " [288. 301.]\n",
      " [288. 302.]\n",
      " [288. 303.]\n",
      " [288. 309.]\n",
      " [288. 310.]\n",
      " [288. 311.]\n",
      " [288. 312.]\n",
      " [288. 313.]\n",
      " [289. 304.]\n",
      " [289. 305.]\n",
      " [289. 306.]\n",
      " [289. 307.]\n",
      " [289. 308.]]\n"
     ]
    }
   ],
   "source": [
    "i=0\n",
    "coords = sk_skeleton[i].coordinates\n",
    "length = sk_skeleton[i].path_lengths()\n",
    "print(np.array(coords).shape)\n",
    "# coord_test = np.zeros((coords.shape[0],4,))\n",
    "# print(coord_test)\n",
    "coord_test[:,0:] = coords\n",
    "print(coord_test.shape)\n",
    "print(coord_test[1])\n",
    "# print(coords[::10])\n",
    "# print(int(length/5))\n",
    "# print(type(length.astype(int)))\n",
    "# select_coords = sk_skeleton[i].coordinates  #ignore the first and last points\n",
    "# print(select_coords.shape)\n",
    "# print(select_coords[1,:])\n",
    "# x = []\n",
    "# select_coords = select_coords[np.newaxis,:,:]\n",
    "# select_coords[i,:,:] = select_coords[1,:]\n",
    "# x = np.array(x)\n",
    "# print(x.shape)\n",
    "# for k in range(len(sk_skeleton)):\n",
    "#     x = sk_skeleton[k].coordinates[1:-2:70]\n",
    "#     print(x)\n"
   ]
  },
  {
   "cell_type": "code",
   "execution_count": 13,
   "metadata": {},
   "outputs": [],
   "source": [
    "#Borrwing from WormPose\n",
    "# https://github.com/iteal/wormpose/blob/main/wormpose/pose/centerline.py\n",
    "from scipy.interpolate import interp1d\n",
    "def interpolate_skeleton(skeleton: np.ndarray, new_dims: int) -> np.ndarray:\n",
    "    \"\"\"\n",
    "    Interpolates a worm skeleton to have a different number of points\n",
    "    Modify to accept a 4x\n",
    "\n",
    "    \"\"\"\n",
    "    new_pos_dim = []\n",
    "    for dim in range(skeleton.shape[1]):\n",
    "        y = skeleton[:, dim]\n",
    "        x = np.arange(y.size)\n",
    "        if np.any(np.isnan(y)):\n",
    "            new_pos_dim.append([np.nan] * (new_dims + 1))\n",
    "        else:\n",
    "            # Interpolate the data using a cubic spline to \"new_length\" samples\n",
    "            new_length = new_dims + 1\n",
    "            new_x = np.linspace(x.min(), x.max(), new_length)\n",
    "            new_y = interp1d(x, y, kind=\"cubic\")(new_x)\n",
    "            new_pos_dim.append(new_y)\n",
    "    new_pos = np.vstack(new_pos_dim).T\n",
    "    return new_pos"
   ]
  },
  {
   "cell_type": "code",
   "execution_count": 261,
   "metadata": {},
   "outputs": [
    {
     "data": {
      "text/plain": [
       "<Points layer 'select_coords [1]' at 0x26454725ee0>"
      ]
     },
     "execution_count": 261,
     "metadata": {},
     "output_type": "execute_result"
    }
   ],
   "source": [
    "select_coords =[]\n",
    "for k in range(len(sk_skeleton)):\n",
    "    coords =sk_skeleton[k].path_coordinates(0)\n",
    "    interp_coord = interpolate_skeleton(coords,5)\n",
    "    for c_num in range(interp_coord.shape[0]):\n",
    "        select_coords.append([k,interp_coord[c_num,0],interp_coord[c_num,1]])\n",
    "select_coords=np.array(select_coords)\n",
    "viewer.add_points(select_coords, face_color='cornflowerblue')"
   ]
  },
  {
   "cell_type": "code",
   "execution_count": 263,
   "metadata": {},
   "outputs": [
    {
     "name": "stdout",
     "output_type": "stream",
     "text": [
      "(840, 3)\n"
     ]
    },
    {
     "data": {
      "text/plain": [
       "array([  0.,  69., 209.])"
      ]
     },
     "execution_count": 263,
     "metadata": {},
     "output_type": "execute_result"
    }
   ],
   "source": [
    "print(select_coords.shape)\n",
    "select_coords[0]"
   ]
  },
  {
   "cell_type": "code",
   "execution_count": 458,
   "metadata": {},
   "outputs": [],
   "source": [
    "\"\"\"\n",
    "Refresh on vector calc\n",
    "https://stackoverflow.com/questions/7469959/given-2-points-how-do-i-draw-a-line-at-a-right-angle-to-the-line-formed-by-the-t/7470098#7470098\n",
    "The matrix representation of 2D transformation:\n",
    "x' = xcos(t) - ysin(t)\n",
    "y' = xsin(t)  - ycost(t)\n",
    "\n",
    "so if t =90 deg then \n",
    "x'=-y\n",
    "y'= x\n",
    "\n",
    "then normals to line segment would be:\n",
    "(-dy,dx)(dy,-dx)\n",
    "\n",
    "\"\"\"\n",
    "width = 100\n",
    "skel_perp = np.empty((2,), dtype=np.float32)\n",
    "\n",
    "perp_line = [-(coord_b[1]-coord_a[1]), coord_b[0]-coord_a[0]]\n",
    "# Take the magnitude to get the length of the vector \n",
    "norm = np.sqrt(perp_line[0]*perp_line[0]+perp_line[1]*perp_line[1])\n",
    "\n",
    "skel_perp[0] = (perp_line[0] / norm) * (width / 2)\n",
    "skel_perp[1] = (perp_line[1] / norm) * (width / 2)\n",
    "\n",
    "##Box origin is 'lower' instead of upper\n",
    "bot_l = coord_a + skel_perp\n",
    "top_l = coord_b + skel_perp\n",
    "top_r = coord_b - skel_perp # \n",
    "bot_r = coord_a - skel_perp # \n",
    "\n",
    "bbox_rect = np.array(\n",
    "    [bot_l, top_l, top_r, bot_r]\n",
    ")\n"
   ]
  },
  {
   "cell_type": "code",
   "execution_count": 470,
   "metadata": {},
   "outputs": [],
   "source": [
    "#Plotting left and right boxes\n",
    "width = 50\n",
    "skel_perp = np.empty((2,), dtype=np.float32)\n",
    "\n",
    "perp_line = [-(coord_b[1]-coord_a[1]), coord_b[0]-coord_a[0]]\n",
    "# Take the magnitude to get the length of the vector \n",
    "norm = np.sqrt(perp_line[0]*perp_line[0]+perp_line[1]*perp_line[1])\n",
    "\n",
    "#Normal to skeleton\n",
    "skel_perp[0] = (perp_line[0] / norm) * (width / 2)\n",
    "skel_perp[1] = (perp_line[1] / norm) * (width / 2)\n",
    "# skel_perp[1] = (perp_line[1] / norm) \n",
    "\n",
    "##Box origin is 'lower' instead of upper\n",
    "bot_l = coord_a + skel_perp\n",
    "top_l = coord_b + skel_perp\n",
    "top_r = coord_b - skel_perp # \n",
    "bot_r = coord_a - skel_perp # \n",
    "\n",
    "bbox_rect_left = np.array(\n",
    "    [coord_a, coord_b, top_l, bot_l]\n",
    ")\n",
    "\n",
    "bbox_rect_right = np.array(\n",
    "    [coord_a, coord_b, top_r, bot_r]\n",
    ")"
   ]
  },
  {
   "cell_type": "code",
   "execution_count": null,
   "metadata": {},
   "outputs": [],
   "source": []
  },
  {
   "cell_type": "code",
   "execution_count": 610,
   "metadata": {},
   "outputs": [
    {
     "data": {
      "text/plain": [
       "<Points layer 'select_coords [1]' at 0x1242f4a2df0>"
      ]
     },
     "execution_count": 610,
     "metadata": {},
     "output_type": "execute_result"
    }
   ],
   "source": [
    "#Make the skeleton Points\n",
    "select_coords =[]\n",
    "for k in range(len(sk_skeleton)):\n",
    "    coords =sk_skeleton[k].path_coordinates(0)\n",
    "    interp_coord = interpolate_skeleton(coords,50)\n",
    "    for c_num in range(interp_coord.shape[0]):\n",
    "        select_coords.append([k,interp_coord[c_num,0],interp_coord[c_num,1]])\n",
    "select_coords=np.array(select_coords)\n",
    "viewer.add_points(select_coords, face_color='cornflowerblue')"
   ]
  },
  {
   "cell_type": "code",
   "execution_count": 285,
   "metadata": {},
   "outputs": [],
   "source": [
    "def create_skeleton_box(coord_a,coord_b,side,width='100'):\n",
    "    \"\"\"\n",
    "    \n",
    "    Refresh on vector calc\n",
    "    https://stackoverflow.com/questions/7469959/given-2-points-how-do-i-draw-a-line-at-a-right-angle-to-the-line-formed-by-the-t/7470098#7470098\n",
    "    The matrix representation of 2D transformation:\n",
    "    x' = xcos(t) - ysin(t)\n",
    "    y' = xsin(t)  - ycost(t)\n",
    "\n",
    "    so if t =90 deg then \n",
    "    x'=-y\n",
    "    y'= x\n",
    "\n",
    "    then normals to line segment would be:\n",
    "    (-dy,dx)(dy,-dx)\n",
    "\n",
    "    \"\"\"\n",
    "    width = 100\n",
    "    skeleton_norm = np.empty((2,), dtype=np.float32)\n",
    "\n",
    "    perp_line = [-(coord_b[1]-coord_a[1]), coord_b[0]-coord_a[0]]\n",
    "    # Take the magnitude to get the length of the vector \n",
    "    norm = np.sqrt(perp_line[0]*perp_line[0]+perp_line[1]*perp_line[1])\n",
    "\n",
    "    skeleton_norm[0] = (perp_line[0] / norm) * (width / 2)\n",
    "    skeleton_norm[1] = (perp_line[1] / norm) * (width / 2)\n",
    "\n",
    "    ##Box origin is 'lower' instead of upper\n",
    "    bot_l = coord_a + skeleton_norm\n",
    "    top_l = coord_b + skeleton_norm\n",
    "    top_r = coord_b - skeleton_norm # \n",
    "    bot_r = coord_a - skeleton_norm # \n",
    "\n",
    "    if side == 'L':\n",
    "        bbox_rect_left = np.array(\n",
    "            [coord_a, coord_b, top_l, bot_l]\n",
    "        )\n",
    "        return bbox_rect_left\n",
    "    elif side == 'R':\n",
    "        bbox_rect_right = np.array(\n",
    "            [coord_a, coord_b, top_r, bot_r]\n",
    "        )\n",
    "        return bbox_rect_right\n",
    "    elif side == 'LR':\n",
    "        bbox_rect_left =[coord_a, coord_b, top_l, bot_l]\n",
    "        bbox_rect_right =[coord_a, coord_b, top_r, bot_r]\n",
    "        return np.array([bbox_rect_left, bbox_rect_right])\n",
    "    else: \n",
    "        bbox_rect = np.array(\n",
    "            [bot_l, top_l, top_r, bot_r]\n",
    "        )\n",
    "        return bbox_rect\n",
    "\n"
   ]
  },
  {
   "cell_type": "code",
   "execution_count": 143,
   "metadata": {},
   "outputs": [],
   "source": [
    "k=0\n",
    "coords =sk_skeleton[k].path_coordinates(0)\n",
    "interp_coord = interpolate_skeleton(coords,5)"
   ]
  },
  {
   "cell_type": "code",
   "execution_count": 337,
   "metadata": {},
   "outputs": [
    {
     "name": "stdout",
     "output_type": "stream",
     "text": [
      "[[1 1 1 1]\n",
      " [1 2 4 5]]\n",
      "(2, 4)\n"
     ]
    }
   ],
   "source": [
    "a = np.array([[1,1,1,1],[1 ,2 ,4 ,5]])\n",
    "print(a)\n",
    "print(a.shape)"
   ]
  },
  {
   "cell_type": "code",
   "execution_count": 281,
   "metadata": {},
   "outputs": [],
   "source": [
    "# #need interpolation to be in a n, 4,2\n",
    "# print(coords.shape)\n",
    "# print(interp_coord)\n",
    "# print(interp_coord.shape)\n",
    "# print(interp_coord.shape[0])\n",
    "# print(interp_coord.shape[1])\n",
    "# box_test = np.zeros((1,len(sk_skeleton),interp_coord.shape[0],4))\n",
    "# for k in range(len(sk_skeleton)):\n",
    "#     coords =sk_skeleton[k].path_coordinates(0)\n",
    "#     interp_coord = interpolate_skeleton(coords,5)\n",
    "#     for i in range(interp_coord.shape[0]):\n",
    "#         box_test[0,k,i,:]= [0,k, interp_coord[i,0], interp_coord[i,1]]\n",
    "# print(box_test)\n",
    "\n",
    "# print(box_test.shape)\n",
    "# box_test[0,:].shape\n",
    "# viewer.add_points(box_test[0,:])\n"
   ]
  },
  {
   "cell_type": "code",
   "execution_count": 334,
   "metadata": {},
   "outputs": [
    {
     "name": "stdout",
     "output_type": "stream",
     "text": [
      "[[[ 69.         209.        ]\n",
      "  [137.8        197.01114666]\n",
      "  [146.3834837  246.26887524]\n",
      "  [ 77.5834837  258.25772858]]\n",
      "\n",
      " [[ 69.         209.        ]\n",
      "  [137.8        197.01114666]\n",
      "  [129.2165163  147.75341808]\n",
      "  [ 60.4165163  159.74227142]]]\n",
      "(4, 2)\n",
      "[[0. 0.]\n",
      " [0. 0.]\n",
      " [0. 0.]\n",
      " [0. 0.]]\n",
      "(4, 4)\n",
      "[[  0.           1.          69.         209.        ]\n",
      " [  0.           1.         137.8        197.01114666]\n",
      " [  0.           1.         146.3834837  246.26887524]\n",
      " [  0.           1.          77.5834837  258.25772858]]\n"
     ]
    }
   ],
   "source": [
    "i=0\n",
    "left_box, right_box  = create_skeleton_box(interp_coord[i], interp_coord[i+1],side='LR',width=50)\n",
    "a = np.array([left_box , right_box])\n",
    "print(a)\n",
    "print(left_box.shape)\n",
    "z = np.zeros((4,2))\n",
    "left_box = np.hstack((z,left_box))\n",
    "left_box[:,1]= 1\n",
    "print(z)\n",
    "print(left_box.shape)\n",
    "print(left_box)"
   ]
  },
  {
   "cell_type": "code",
   "execution_count": 44,
   "metadata": {},
   "outputs": [
    {
     "name": "stdout",
     "output_type": "stream",
     "text": [
      "(50, 2, 4, 2)\n"
     ]
    }
   ],
   "source": [
    "k=0\n",
    "layer_boxes = []\n",
    "coords =sk_skeleton[k].path_coordinates(0)\n",
    "interp_coord = interpolate_skeleton(coords,50)\n",
    "for i in range(interp_coord.shape[0]-1):\n",
    "    left_box, right_box  = create_skeleton_box(interp_coord[i], interp_coord[i+1],side='LR',width=50)\n",
    "    layer_boxes.append([left_box , right_box])\n",
    "layer_boxes = np.array(layer_boxes)\n",
    "print(layer_boxes.shape)\n",
    "\n",
    "# viewer.add_shapes(layer_boxes[1,0]  ,edge_color='blue')\n"
   ]
  },
  {
   "cell_type": "code",
   "execution_count": 45,
   "metadata": {},
   "outputs": [
    {
     "data": {
      "text/plain": [
       "<Shapes layer 'Shapes [1]' at 0x263aea75850>"
      ]
     },
     "execution_count": 45,
     "metadata": {},
     "output_type": "execute_result"
    }
   ],
   "source": [
    "##Plot the L and R boxes\n",
    "viewer.add_shapes(layer_boxes[:,0,:,:]  ,face_color='blue') # Left boxes\n",
    "viewer.add_shapes(layer_boxes[:,1,:,:]  ,face_color='red') # Right boxes"
   ]
  },
  {
   "cell_type": "code",
   "execution_count": 46,
   "metadata": {},
   "outputs": [
    {
     "data": {
      "text/plain": [
       "51"
      ]
     },
     "execution_count": 46,
     "metadata": {},
     "output_type": "execute_result"
    }
   ],
   "source": [
    "interp_coord.shape[0]"
   ]
  },
  {
   "cell_type": "code",
   "execution_count": 311,
   "metadata": {},
   "outputs": [
    {
     "name": "stdout",
     "output_type": "stream",
     "text": [
      "[[137.8        197.01114666]\n",
      " [206.6        199.11191896]\n",
      " [205.07398722 249.08862641]\n",
      " [136.27398722 246.98785412]]\n"
     ]
    },
    {
     "data": {
      "text/plain": [
       "(4, 2)"
      ]
     },
     "execution_count": 311,
     "metadata": {},
     "output_type": "execute_result"
    }
   ],
   "source": [
    "c_num = 1\n",
    "left_box, right_box  = create_skeleton_box(interp_coord[c_num], interp_coord[c_num+1],side='LR',width=50)\n",
    "print(left_box)\n",
    "left_box.shape"
   ]
  },
  {
   "cell_type": "code",
   "execution_count": 349,
   "metadata": {},
   "outputs": [
    {
     "data": {
      "text/plain": [
       "<Shapes layer 'Shapes [1]' at 0x264528e1640>"
      ]
     },
     "execution_count": 349,
     "metadata": {},
     "output_type": "execute_result"
    }
   ],
   "source": [
    "##Combining both coordinate interpolation with boxes\n",
    "select_coords =[]\n",
    "layer_boxes = []\n",
    "n_interpol = 15\n",
    "for k in range(len(sk_skeleton)):\n",
    "    coords =sk_skeleton[k].path_coordinates(0)\n",
    "    interp_coord = interpolate_skeleton(coords,n_interpol)\n",
    "    for c_num in range(interp_coord.shape[0]):\n",
    "        select_coords.append([k,interp_coord[c_num,0],interp_coord[c_num,1]])\n",
    "        if c_num<(interp_coord.shape[0]-1):\n",
    "            left_box, right_box  = create_skeleton_box(interp_coord[c_num], interp_coord[c_num+1],side='LR',width=50)\n",
    "            two_column = np.zeros((4,2))\n",
    "            left_box = np.hstack((two_column,left_box))\n",
    "            right_box = np.hstack((two_column,right_box))\n",
    "            left_box[:,1]= k\n",
    "            right_box[:,1]=k\n",
    "            layer_boxes.append([left_box , right_box])\n",
    "select_coords=np.array(select_coords)\n",
    "layer_boxes = np.array(layer_boxes)\n",
    "#Plot skeleton interpolation points\n",
    "viewer.add_points(select_coords, face_color='cornflowerblue')\n",
    "##Plot the L and R boxes\n",
    "viewer.add_shapes(layer_boxes[:,0]  ,face_color='blue') # Left boxes\n",
    "viewer.add_shapes(layer_boxes[:,1],face_color='red') # Right boxes\n"
   ]
  },
  {
   "cell_type": "code",
   "execution_count": 471,
   "metadata": {},
   "outputs": [
    {
     "data": {
      "text/plain": [
       "<Shapes layer 'bounding box [3]' at 0x12392eff8b0>"
      ]
     },
     "execution_count": 471,
     "metadata": {},
     "output_type": "execute_result"
    }
   ],
   "source": [
    "viewer.add_shapes(\n",
    "    bbox_rect_left,\n",
    "    name='bounding box',\n",
    "    face_color ='blue'\n",
    ")\n",
    "viewer.add_shapes(\n",
    "    bbox_rect_right,\n",
    "    name='bounding box',\n",
    "    face_color='red'\n",
    ")"
   ]
  },
  {
   "cell_type": "code",
   "execution_count": 485,
   "metadata": {},
   "outputs": [],
   "source": [
    "min_val = bbox_rect_right.min(axis=0)\n",
    "max_val = bbox_rect_right.max(axis=0)\n",
    "tl = np.array([min_val[0], min_val[1]])\n",
    "br = np.array([max_val[0], max_val[1]])\n",
    "box = np.round(np.array([tl, br])).astype(int)"
   ]
  },
  {
   "cell_type": "code",
   "execution_count": 505,
   "metadata": {},
   "outputs": [
    {
     "name": "stdout",
     "output_type": "stream",
     "text": [
      "1248.9526542324247 4304\n"
     ]
    }
   ],
   "source": [
    "# import analysis_utils as au\n",
    "\n",
    "img = crop_stack[:,:,box[0,0]:box[1,0],box[0,1]:box[1,1]]\n",
    "roi_mean = img.mean()\n",
    "roi_max = img.max()\n",
    "print(roi_mean.compute(),roi_max.compute())"
   ]
  },
  {
   "cell_type": "code",
   "execution_count": 301,
   "metadata": {},
   "outputs": [
    {
     "name": "stdout",
     "output_type": "stream",
     "text": [
      "(4, 4, 4)\n",
      "[[[  0.           0.         364.64465881 111.97549114]\n",
      "  [  0.           0.         364.64465881 294.03483038]\n",
      "  [  0.           0.         484.15600421 294.03483038]\n",
      "  [  0.           0.         484.15600421 111.97549114]]\n",
      "\n",
      " [[  0.           0.         160.24675033 424.7154604 ]\n",
      "  [  0.           0.         160.24675033 527.47287887]\n",
      "  [  0.           0.         248.4840988  527.47287887]\n",
      "  [  0.           0.         248.4840988  424.7154604 ]]\n",
      "\n",
      " [[  0.          18.         481.92214729  81.81842267]\n",
      "  [  0.          18.         481.92214729 161.12034345]\n",
      "  [  0.          18.         538.88549883 161.12034345]\n",
      "  [  0.          18.         538.88549883  81.81842267]]\n",
      "\n",
      " [[  0.          18.         423.84186728 227.01912268]\n",
      "  [  0.          18.         423.84186728 372.2198227 ]\n",
      "  [  0.          18.         468.51900575 372.2198227 ]\n",
      "  [  0.          18.         468.51900575 227.01912268]]]\n"
     ]
    }
   ],
   "source": [
    "## Example to show how shapes are stored\n",
    "a =np.array(viewer.layers['Shapes [2]'].data)\n",
    "print(a.shape)\n",
    "print(a)"
   ]
  },
  {
   "cell_type": "code",
   "execution_count": null,
   "metadata": {},
   "outputs": [],
   "source": []
  },
  {
   "cell_type": "markdown",
   "metadata": {},
   "source": [
    "### PLAYGROUND"
   ]
  },
  {
   "cell_type": "code",
   "execution_count": null,
   "metadata": {},
   "outputs": [],
   "source": [
    "## Attempt to get the coordinates of the skeleton however they are already sorted so only way to do this is with interpolation\n",
    "# select_coords =[]\n",
    "# path_length = []\n",
    "# id =[]\n",
    "# for k in range(len(sk_skeleton)):\n",
    "#     length = sk_skeleton[k].path_lengths()\n",
    "#     # path_length.append(length)\n",
    "#     for index,item in enumerate(sk_skeleton[k].coordinates):\n",
    "#         if index%(int(length[0]/5)) ==0:\n",
    "#             # id.append(index)\n",
    "#             select_coords.append([k,item[0],item[1]])\n",
    "# # select_coords = np.array(select_coords)\n",
    "# print(id)\n",
    "# print(path_length)"
   ]
  },
  {
   "cell_type": "code",
   "execution_count": null,
   "metadata": {},
   "outputs": [],
   "source": [
    "from skan import summarize\n",
    "#Attempting to plot multiple points in skeleton\n",
    "i=0\n",
    "branch = summarize(sk_skeleton[i])\n",
    "branch.head()\n",
    "img_t =crop_stack[:,0,:,:]\n",
    "img_t =np.squeeze(img_t)\n",
    "# branch.hist(column='branch-distance', by='branch-type', bins=100);\n",
    "draw.overlay_euclidean_skeleton_2d(img_t, branch,\n",
    "                                   skeleton_color_source='branch-type');"
   ]
  },
  {
   "cell_type": "code",
   "execution_count": null,
   "metadata": {},
   "outputs": [],
   "source": [
    "from scipy.ndimage import distance_transform_edt\n",
    "sk_skeleton[0].coo\n",
    "distance_transform_edt()"
   ]
  },
  {
   "cell_type": "code",
   "execution_count": 402,
   "metadata": {},
   "outputs": [
    {
     "name": "stdout",
     "output_type": "stream",
     "text": [
      "(200, 608, 608)\n"
     ]
    }
   ],
   "source": [
    "binary_stack_filled_1=np.squeeze(binary_stack_filled)\n",
    "print(binary_stack_filled_1.shape)"
   ]
  },
  {
   "cell_type": "code",
   "execution_count": 416,
   "metadata": {},
   "outputs": [],
   "source": [
    "from skimage.measure import label, regionprops_table\n",
    "\n",
    "properties = regionprops_table(\n",
    "    binary_stack_filled_1[0].astype(np.uint8), properties=('label', 'bbox', 'perimeter', 'area')\n",
    ")\n",
    "\n",
    "#Addinc circularity to the table\n",
    "properties['circularity'] = circularity(\n",
    "    properties['perimeter'], properties['area']\n",
    ")\n",
    "\n",
    "bbox_rects = make_bbox([properties[f'bbox-{i}'] for i in range(4)])\n",
    "\n",
    "# specify the display parameters for the text\n",
    "text_parameters = {\n",
    "    'string': 'label: {label}\\ncirc: {circularity:.2f}',\n",
    "    'size': 12,\n",
    "    'color': 'green',\n",
    "    'anchor': 'upper_left',\n",
    "    'translation': [-3, 0],\n",
    "}\n",
    "\n",
    "shapes_layer = viewer.add_shapes(\n",
    "    bbox_rects,\n",
    "    face_color='transparent',\n",
    "    edge_color='green',\n",
    "    properties=properties,\n",
    "    text=text_parameters,\n",
    "    name='bounding box',\n",
    ")"
   ]
  },
  {
   "cell_type": "code",
   "execution_count": 414,
   "metadata": {},
   "outputs": [],
   "source": [
    "def make_bbox(coord_a,coord_b,width):\n",
    "    \"\"\"Get the coordinates of the corners of a\n",
    "    bounding box from the extents\n",
    "\n",
    "    Parameters\n",
    "    ----------\n",
    "    bbox_extents : list (4xN)\n",
    "        List of the extents of the bounding boxes for each of the N regions.\n",
    "        Should be ordered: [min_row, min_column, max_row, max_column]\n",
    "\n",
    "    Returns\n",
    "    -------\n",
    "    bbox_rect : np.ndarray\n",
    "        The corners of the bounding box. Can be input directly into a\n",
    "        napari Shapes layer.\n",
    "    \"\"\"\n",
    "    # preallocates some internal data structures\n",
    "    skel_perp = np.empty((2,), dtype=np.float32)\n",
    "\n",
    "    perp_line = [-(coord_b[1]-coord_a[1]), coord_b[0]-coord_a[0]]\n",
    "    norm = np.sqrt(perp_line[0]*perp_line[0]+perp_line[1]*perp_line[1])\n",
    "\n",
    "    skel_perp[0] = (perp_line[0] / norm) * (width / 2)\n",
    "    skel_perp[1] = (perp_line[1] / norm) * (width / 2)\n",
    "\n",
    "    minr = coord_a + skel_perp\n",
    "    minc = coord_b + skel_perp\n",
    "    maxr = coord_b - skel_perp\n",
    "    maxc = coord_a - skel_perp\n",
    "\n",
    "    bbox_rect = np.array(\n",
    "        [[minr, minc], [maxr, minc], [maxr, maxc], [minr, maxc]]\n",
    "    )\n",
    "    bbox_rect = np.moveaxis(bbox_rect, 2, 0)\n",
    "\n",
    "    return bbox_rect"
   ]
  },
  {
   "cell_type": "code",
   "execution_count": 391,
   "metadata": {},
   "outputs": [
    {
     "data": {
      "text/plain": [
       "<Points layer 'select_coords' at 0x12431f1b910>"
      ]
     },
     "execution_count": 391,
     "metadata": {},
     "output_type": "execute_result"
    }
   ],
   "source": [
    "viewer.add_points(select_coords, face_color='cornflowerblue')"
   ]
  },
  {
   "cell_type": "code",
   "execution_count": 386,
   "metadata": {},
   "outputs": [],
   "source": [
    "import pims\n",
    "import trackpy as tp"
   ]
  },
  {
   "cell_type": "code",
   "execution_count": null,
   "metadata": {},
   "outputs": [],
   "source": [
    "features = tp.locate(np_stack[12], diameter=(7,7,7), threshold =84,minmass=11000, separation= (3,1,1))\n",
    "print('Features found: {0}'.format(len(features)))\n",
    "tp.subpx_bias(features)\n",
    "print('Features found: {0}'.format(len(features)))\n",
    "features.head()"
   ]
  },
  {
   "cell_type": "code",
   "execution_count": null,
   "metadata": {},
   "outputs": [],
   "source": [
    "test =tp.annotate3d(features,np_stack[1],color=None)\n",
    "test3 =np.array(test[:,np.newaxis,:,:,:])\n",
    "test3 = np.swapaxes(test3,1,4)\n",
    "test3 = np.squeeze(test3)\n",
    "\n",
    "wo.image_stack_viewer(np.clip(test3,0,0.5),colormap='viridis')"
   ]
  },
  {
   "cell_type": "code",
   "execution_count": null,
   "metadata": {},
   "outputs": [],
   "source": [
    "volume = tp.batch(np_stack, diameter=(7,7,7), threshold =84,minmass=11000, separation= (3,1,1))\n"
   ]
  },
  {
   "cell_type": "code",
   "execution_count": null,
   "metadata": {},
   "outputs": [
    {
     "data": {
      "text/plain": [
       "<Image layer 'dask_raw_ds [1]' at 0x12432fa3760>"
      ]
     },
     "metadata": {},
     "output_type": "display_data"
    }
   ],
   "source": [
    "linked = tp.link_df(volume, 2.5, pos_columns=['xum', 'yum', 'zum'])\n",
    "msd3D = tp.emsd(linked, mpp=1, fps=40, max_lagtime=20,\n",
    "                pos_columns=['xum', 'yum', 'zum'])\n",
    "ax = msd3D.plot(style='o', label='MSD in 3D')\n",
    "ax.set_ylabel(r'$\\langle \\Delta r^2 \\rangle$ [$\\mu$m$^2$]')\n",
    "ax.set_xlabel('lag time $t$')\n",
    "# ax.set_xlim(0, 16)\n",
    "# ax.set_ylim(0, 20)\n",
    "ax.legend(loc='upper left');"
   ]
  },
  {
   "cell_type": "code",
   "execution_count": null,
   "metadata": {},
   "outputs": [],
   "source": [
    "data = linked.loc[:,['particle','frame','z','y','x']]\n",
    "data = data.dropna(axis=0)\n",
    "data= data.to_numpy()\n",
    "print(data)\n",
    "\n",
    "properties = linked.loc[:,['mass', 'size_z', 'size_y', 'size_x','signal','raw_mass','ep_z','ep_y','ep_x']]"
   ]
  },
  {
   "cell_type": "code",
   "execution_count": null,
   "metadata": {},
   "outputs": [],
   "source": [
    "viewer.add_points(data[:,1:], size=1,name='particles',face_color='white',\n",
    "edge_color= '#ff55ff', scale=[1,z_scale,1,1])"
   ]
  },
  {
   "cell_type": "code",
   "execution_count": null,
   "metadata": {},
   "outputs": [],
   "source": [
    "viewer.add_tracks(data, scale=[z_scale,1,1])"
   ]
  },
  {
   "cell_type": "code",
   "execution_count": null,
   "metadata": {},
   "outputs": [],
   "source": []
  }
 ],
 "metadata": {
  "interpreter": {
   "hash": "878029549b53aa9ebb479ccfe4cbae23294313f8d80180daac9c94068a5c60b8"
  },
  "kernelspec": {
   "display_name": "Python 3.9.12 ('m25-py39')",
   "language": "python",
   "name": "python3"
  },
  "language_info": {
   "codemirror_mode": {
    "name": "ipython",
    "version": 3
   },
   "file_extension": ".py",
   "mimetype": "text/x-python",
   "name": "python",
   "nbconvert_exporter": "python",
   "pygments_lexer": "ipython3",
   "version": "3.9.12"
  },
  "orig_nbformat": 4
 },
 "nbformat": 4,
 "nbformat_minor": 2
}
