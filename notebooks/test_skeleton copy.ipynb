{
 "cells": [
  {
   "cell_type": "code",
   "execution_count": 1,
   "metadata": {},
   "outputs": [
    {
     "name": "stdout",
     "output_type": "stream",
     "text": [
      "The Zen of Python, by Tim Peters\n",
      "\n",
      "Beautiful is better than ugly.\n",
      "Explicit is better than implicit.\n",
      "Simple is better than complex.\n",
      "Complex is better than complicated.\n",
      "Flat is better than nested.\n",
      "Sparse is better than dense.\n",
      "Readability counts.\n",
      "Special cases aren't special enough to break the rules.\n",
      "Although practicality beats purity.\n",
      "Errors should never pass silently.\n",
      "Unless explicitly silenced.\n",
      "In the face of ambiguity, refuse the temptation to guess.\n",
      "There should be one-- and preferably only one --obvious way to do it.\n",
      "Although that way may not be obvious at first unless you're Dutch.\n",
      "Now is better than never.\n",
      "Although never is often better than *right* now.\n",
      "If the implementation is hard to explain, it's a bad idea.\n",
      "If the implementation is easy to explain, it may be a good idea.\n",
      "Namespaces are one honking great idea -- let's do more of those!\n"
     ]
    }
   ],
   "source": [
    "from visualizer import calibration\n",
    "import visual\n",
    "\n",
    "from PyQt5 import QtCore\n",
    "import tifffile\n",
    "from skimage.io import imread\n",
    "from skimage.io.collection import alphanumeric_key\n",
    "from dask import delayed\n",
    "from glob import glob\n",
    "import dask.array as da\n",
    "import matplotlib.pyplot as plt\n",
    "import numpy as np\n",
    "import napari\n",
    "from napari import Viewer\n",
    "import os\n",
    "import zarr\n",
    "from skimage.registration import phase_cross_correlation\n",
    "import cv2 as cv\n",
    "from skimage import io\n",
    "from skimage.morphology import skeletonize\n",
    "from skan import Skeleton\n",
    "import scipy.ndimage as ndi\n",
    "import cupy as cp \n",
    "import waveorder as wo\n",
    "from waveorder.io.multipagetiff import  MicromanagerOmeTiffReader\n",
    "from aicsimageio import AICSImage,imread, imread_dask\n",
    "import cv2 as cv\n",
    "%gui qt \n",
    "%matplotlib inline\n",
    "plt.style.use('dark_background')\n"
   ]
  },
  {
   "cell_type": "code",
   "execution_count": 2,
   "metadata": {},
   "outputs": [
    {
     "name": "stdout",
     "output_type": "stream",
     "text": [
      "Assistant skips harvesting pyclesperanto as it's not installed.\n"
     ]
    },
    {
     "name": "stderr",
     "output_type": "stream",
     "text": [
      "c:\\ProgramData\\Anaconda3\\envs\\m25-py39\\lib\\site-packages\\napari_tools_menu\\__init__.py:168: FutureWarning: Public access to Window.qt_viewer is deprecated and will be removed in\n",
      "v0.5.0. It is considered an \"implementation detail\" of the napari\n",
      "application, not part of the napari viewer model. If your use case\n",
      "requires access to qt_viewer, please open an issue to discuss.\n",
      "  self.tools_menu = ToolsMenu(self, self.qt_viewer.viewer)\n"
     ]
    }
   ],
   "source": [
    "viewer = napari.Viewer()"
   ]
  },
  {
   "cell_type": "code",
   "execution_count": 3,
   "metadata": {},
   "outputs": [],
   "source": [
    "### Enter the filepath for the data directory\n",
    "main_dir =r'F:\\DATA\\20220507_M25_ZW495_9'   #5 fast dynamics of big worm\n",
    "###Enter the filepath for background images\n",
    "bg_dir = r'F:\\Test_ignore\\20220513_M25_bg_16bit'\n",
    "### Enter the filepath for Calibration Dataset (PSF) or offset file\n",
    "psf_dir = r'F:\\Test_ignore\\220508_190nmSteps_postitive2negative_1'\n",
    "# psf_dir = r'F:\\Test_ignore\\220508_380nmSteps_minusplus_reversed_1'\n",
    "#Get Folders and files\n",
    "main_dirs = sorted(glob(main_dir + '/CAM*/'), key=alphanumeric_key)\n",
    "bg_folders = sorted(glob(bg_dir + '/CAM*/'), key=alphanumeric_key)\n",
    "\n",
    "# Load offsets from desired folder \n",
    "processed_files = main_dir + '/'+'processed_files'\n",
    "if not os.path.exists(processed_files):\n",
    "    os.makedirs(processed_files)\n",
    "\n",
    "offset_dir = os.path.join(psf_dir + '/'+'processed_files')\n",
    "offsets_file = os.path.join(offset_dir,\"offsets.csv\")\n",
    "offsets_file_pcc = os.path.join(offset_dir,\"offsets_pcc.csv\")\n",
    "\n",
    "if os.path.exists(offsets_file):\n",
    "    with open(offsets_file) as file_name:\n",
    "        print(\"loading offsets\")\n",
    "        offsets = np.loadtxt(file_name, delimiter=\",\")\n",
    "\n",
    "if os.path.exists(offsets_file_pcc):\n",
    "    with open(offsets_file) as file_name:\n",
    "        print(\"loading offsets\")\n",
    "        offsets_pcc = np.loadtxt(file_name, delimiter=\",\")\n",
    "## Quick Visualizer of the selected planes\n",
    "# center_planes = calibration.lazy_dask_stack(main_dir,num_cams=5,px_depth='uint16', height=608, width =608)\n",
    "# napari.add_image(center_planes, name='center_planes',scale=[z_scale,1,1],multiscale=False)"
   ]
  },
  {
   "cell_type": "code",
   "execution_count": 4,
   "metadata": {},
   "outputs": [],
   "source": [
    "# Scope Parameters\n",
    "cam_px = 6.0e-6\n",
    "totalmag = 15.75\n",
    "zstep = 2e-6\n",
    "\n",
    "px_size_img = cam_px/totalmag\n",
    "z_scale = zstep/px_size_img"
   ]
  },
  {
   "cell_type": "markdown",
   "metadata": {},
   "source": [
    "### LOAD DATASET"
   ]
  },
  {
   "cell_type": "code",
   "execution_count": 5,
   "metadata": {},
   "outputs": [],
   "source": [
    "### For preexisting tiff saved datasets\n",
    "filename = 'aligned_stack.zarr'\n",
    "filepath_save = os.path.join(processed_files,filename)\n",
    "zarr_stack = zarr.load(filepath_save)\n",
    "#Compensate center plane\n",
    "zarr_stack[:,12,:,:]=zarr_stack[:,12,:,:]*1.23077"
   ]
  },
  {
   "cell_type": "code",
   "execution_count": 5,
   "metadata": {},
   "outputs": [
    {
     "data": {
      "text/plain": [
       "(1, 600, 608, 608)"
      ]
     },
     "execution_count": 5,
     "metadata": {},
     "output_type": "execute_result"
    }
   ],
   "source": [
    "#Reading RAW 1 plane\n",
    "folder = main_dirs[12]\n",
    "file_extension = folder + '/' + '*.raw'\n",
    "file_names = sorted(glob(file_extension),key=alphanumeric_key)\n",
    "raw_ds = calibration.dask_raw_ds(folder,px_depth='uint16', width=608,height=608)\n",
    "dask_raw_ds = da.stack(raw_ds,axis=1)\n",
    "dask_raw_ds.shape"
   ]
  },
  {
   "cell_type": "code",
   "execution_count": 8,
   "metadata": {},
   "outputs": [
    {
     "data": {
      "text/plain": [
       "<Image layer 'crop_stack_gauss' at 0x29001729520>"
      ]
     },
     "execution_count": 8,
     "metadata": {},
     "output_type": "execute_result"
    }
   ],
   "source": [
    "#Cropping stack for testing\n",
    "crop_stack = zarr_stack[60:200,12,:,:]\n",
    "# crop_stack = dask_raw_ds[:,60:200,:,:]\n",
    "viewer.add_image(crop_stack)\n",
    "crop_stack_gauss = ndi.gaussian_filter(crop_stack,sigma=5)\n",
    "viewer.add_image(crop_stack_gauss)"
   ]
  },
  {
   "cell_type": "code",
   "execution_count": 12,
   "metadata": {},
   "outputs": [
    {
     "name": "stdout",
     "output_type": "stream",
     "text": [
      "663\n"
     ]
    },
    {
     "data": {
      "text/plain": [
       "<Image layer 'binary_stack [1]' at 0x29019168ac0>"
      ]
     },
     "execution_count": 12,
     "metadata": {},
     "output_type": "execute_result"
    },
    {
     "data": {
      "image/png": "[encoded data removed]",
      "text/plain": [
       "<Figure size 432x288 with 1 Axes>"
      ]
     },
     "metadata": {},
     "output_type": "display_data"
    }
   ],
   "source": [
    "from skimage.filters import threshold_otsu, threshold_yen\n",
    "\n",
    "thresh_otsu = threshold_otsu(crop_stack_gauss)\n",
    "#Ended up tunning the threshold to a higher value\n",
    "binary_stack = crop_stack_gauss > 660\n",
    "print(thresh_otsu)\n",
    "plt.hist(crop_stack_gauss.ravel(), bins=256)\n",
    "plt.title('Histogram')\n",
    "plt.axvline(thresh_otsu, color='r')\n",
    "viewer.add_image(binary_stack)"
   ]
  },
  {
   "cell_type": "code",
   "execution_count": 21,
   "metadata": {},
   "outputs": [
    {
     "name": "stdout",
     "output_type": "stream",
     "text": [
      "(1, 140, 608, 608)\n"
     ]
    },
    {
     "data": {
      "text/plain": [
       "<Image layer 'binary_stack_filled [2]' at 0x29024e66580>"
      ]
     },
     "execution_count": 21,
     "metadata": {},
     "output_type": "execute_result"
    }
   ],
   "source": [
    "# binary_stack2 =ndi.binary_opening(binary_stack,5)\n",
    "binary_stack_filled = ndi.binary_fill_holes(binary_stack)\n",
    "binary_stack_filled = np.expand_dims(binary_stack_filled,axis=0)\n",
    "\n",
    "print(binary_stack_filled.shape)\n",
    "# wo.image_stack_viewer(binary_stack_filled)\n",
    "viewer.add_image(binary_stack_filled)"
   ]
  },
  {
   "cell_type": "code",
   "execution_count": 30,
   "metadata": {},
   "outputs": [
    {
     "name": "stdout",
     "output_type": "stream",
     "text": [
      "(1, 1135, 2)\n",
      "0\n"
     ]
    },
    {
     "data": {
      "image/png": "[encoded data removed]",
      "text/plain": [
       "<Figure size 432x288 with 1 Axes>"
      ]
     },
     "metadata": {},
     "output_type": "display_data"
    }
   ],
   "source": [
    "from skimage.measure import find_contours\n",
    "i=14\n",
    "contours=find_contours(binary_stack_filled[0,i],0.3)\n",
    "print(np.array(contours).shape)\n",
    "# Display the image and plot all contours found\n",
    "fig, ax = plt.subplots()\n",
    "# ax.imshow(contours_stack[i], interpolation='nearest', cmap=plt.cm.gray)\n",
    "\n",
    "for n, contour in enumerate(contours):\n",
    "    print(n)\n",
    "    ax.plot(contour[:, 0], contour[:, 1], linewidth=2)\n",
    "\n",
    "ax.axis('image')\n",
    "ax.set_xticks([])\n",
    "ax.set_yticks([])\n",
    "plt.show()"
   ]
  },
  {
   "cell_type": "code",
   "execution_count": 31,
   "metadata": {},
   "outputs": [
    {
     "name": "stdout",
     "output_type": "stream",
     "text": [
      "[array([[344.7, 251. ],\n",
      "       [344.7, 250. ],\n",
      "       [344.7, 249. ],\n",
      "       ...,\n",
      "       [343.7, 252. ],\n",
      "       [344. , 251.7],\n",
      "       [344.7, 251. ]])]\n",
      "(1, 1135, 2)\n",
      "(1, 2)\n",
      "(1, 2)\n",
      "251.0\n"
     ]
    }
   ],
   "source": [
    "binary_stack_filled[0,2].shape\n",
    "print(contours)\n",
    "contour= np.array(contours)\n",
    "print(contour.shape)\n",
    "# print(contour)\n",
    "print(contour[:,1].shape)\n",
    "print(contour[:,0].shape)\n",
    "print(contour[0,0,1])\n"
   ]
  },
  {
   "cell_type": "code",
   "execution_count": 33,
   "metadata": {},
   "outputs": [
    {
     "name": "stdout",
     "output_type": "stream",
     "text": [
      "(1, 140, 608, 608)\n"
     ]
    },
    {
     "data": {
      "text/plain": [
       "<Points layer 'contour_coords' at 0x29026dae3a0>"
      ]
     },
     "execution_count": 33,
     "metadata": {},
     "output_type": "execute_result"
    }
   ],
   "source": [
    "t,z,y,x =binary_stack_filled.shape\n",
    "print(binary_stack_filled.shape)\n",
    "contour_coords =[]\n",
    "for i in range(t):\n",
    "    contours = find_contours(binary_stack_filled[i,0],0.8)\n",
    "    contours= np.array(contours)\n",
    "    # print(contours.shape)\n",
    "    for n in range(contours.shape[1]):\n",
    "        contour_coords.append([i,contours[0,n,0], contours[0,n,1]])\n",
    "\n",
    "    # contour_coords.append(np.array(contour))\n",
    "    # for k in range(contour.shape[0]):\n",
    "    #     contour_coords[i,:,:] = np.array([0,i,contour[k,0],contour[k,1]])\n",
    "contour_coords=np.array(contour_coords)\n",
    "viewer.add_points(contour_coords,edge_color='pink')"
   ]
  },
  {
   "cell_type": "code",
   "execution_count": 34,
   "metadata": {},
   "outputs": [
    {
     "name": "stdout",
     "output_type": "stream",
     "text": [
      "357.2\n",
      "(1009, 3)\n"
     ]
    }
   ],
   "source": [
    "print(contour_coords[0,1])\n",
    "print(contour_coords.shape)\n",
    "# contour_coords[1]"
   ]
  },
  {
   "cell_type": "code",
   "execution_count": 197,
   "metadata": {},
   "outputs": [
    {
     "name": "stdout",
     "output_type": "stream",
     "text": [
      "(1, 140, 608, 608)\n",
      "[[0. 0. 0. ... 0. 0. 0.]\n",
      " [0. 0. 0. ... 0. 0. 0.]\n",
      " [0. 0. 0. ... 0. 0. 0.]\n",
      " ...\n",
      " [0. 0. 0. ... 0. 0. 0.]\n",
      " [0. 0. 0. ... 0. 0. 0.]\n",
      " [0. 0. 0. ... 0. 0. 0.]]\n"
     ]
    },
    {
     "data": {
      "text/plain": [
       "(-0.5, 607.5, 607.5, -0.5)"
      ]
     },
     "execution_count": 197,
     "metadata": {},
     "output_type": "execute_result"
    },
    {
     "data": {
      "image/png": "[encoded data removed]",
      "text/plain": [
       "<Figure size 432x288 with 1 Axes>"
      ]
     },
     "metadata": {},
     "output_type": "display_data"
    }
   ],
   "source": [
    "from skimage.morphology import medial_axis\n",
    "print(binary_stack_filled.shape)\n",
    "binary_stack_filled3d = np.squeeze(binary_stack_filled)\n",
    "skel, distance = medial_axis(binary_stack_filled3d[1], return_distance=True)\n",
    "# Distance to the background for pixels of the skeleton\n",
    "dist_on_skel = distance * skel\n",
    "print(dist_on_skel)\n",
    "plt.imshow(dist_on_skel, cmap='magma')\n",
    "plt.contour(binary_stack_filled3d[1], [0.5], colors='w')\n",
    "plt.axis('off')"
   ]
  },
  {
   "cell_type": "code",
   "execution_count": 146,
   "metadata": {},
   "outputs": [
    {
     "name": "stdout",
     "output_type": "stream",
     "text": [
      "(1, 1011, 2)\n"
     ]
    },
    {
     "ename": "ValueError",
     "evalue": "operands could not be broadcast together with shapes (1,1009,2) (1009,) ",
     "output_type": "error",
     "traceback": [
      "\u001b[1;31m---------------------------------------------------------------------------\u001b[0m",
      "\u001b[1;31mValueError\u001b[0m                                Traceback (most recent call last)",
      "\u001b[1;32mc:\\Users\\yoshi\\Documents\\edhirata\\M25\\m25-napari\\notebooks\\test_skeleton.ipynb Cell 13'\u001b[0m in \u001b[0;36m<cell line: 4>\u001b[1;34m()\u001b[0m\n\u001b[0;32m      <a href='vscode-notebook-cell:/c%3A/Users/yoshi/Documents/edhirata/M25/m25-napari/notebooks/test_skeleton.ipynb#ch0000066?line=1'>2</a>\u001b[0m \u001b[39mprint\u001b[39m(contour_coords[\u001b[39m1\u001b[39m]\u001b[39m.\u001b[39mshape)\n\u001b[0;32m      <a href='vscode-notebook-cell:/c%3A/Users/yoshi/Documents/edhirata/M25/m25-napari/notebooks/test_skeleton.ipynb#ch0000066?line=2'>3</a>\u001b[0m contour_coords\u001b[39m.\u001b[39mshape\n\u001b[1;32m----> <a href='vscode-notebook-cell:/c%3A/Users/yoshi/Documents/edhirata/M25/m25-napari/notebooks/test_skeleton.ipynb#ch0000066?line=3'>4</a>\u001b[0m viewer\u001b[39m.\u001b[39;49madd_points(contour_coords[\u001b[39m1\u001b[39;49m])\n",
      "File \u001b[1;32mc:\\ProgramData\\Anaconda3\\envs\\m25-py39\\lib\\site-packages\\napari\\components\\viewer_model.py:4\u001b[0m, in \u001b[0;36madd_points\u001b[1;34m(self, data, ndim, features, properties, text, symbol, size, edge_width, edge_color, edge_color_cycle, edge_colormap, edge_contrast_limits, face_color, face_color_cycle, face_colormap, face_contrast_limits, out_of_slice_display, n_dimensional, name, metadata, scale, translate, rotate, shear, affine, opacity, blending, visible, cache, property_choices, experimental_clipping_planes, shading, experimental_canvas_size_limits, shown)\u001b[0m\n\u001b[0;32m      <a href='file:///c%3A/ProgramData/Anaconda3/envs/m25-py39/lib/site-packages/napari/components/viewer_model.py?line=0'>1</a>\u001b[0m \u001b[39mfrom\u001b[39;00m \u001b[39m__future__\u001b[39;00m \u001b[39mimport\u001b[39;00m annotations\n\u001b[0;32m      <a href='file:///c%3A/ProgramData/Anaconda3/envs/m25-py39/lib/site-packages/napari/components/viewer_model.py?line=2'>3</a>\u001b[0m \u001b[39mimport\u001b[39;00m \u001b[39minspect\u001b[39;00m\n\u001b[1;32m----> <a href='file:///c%3A/ProgramData/Anaconda3/envs/m25-py39/lib/site-packages/napari/components/viewer_model.py?line=3'>4</a>\u001b[0m \u001b[39mimport\u001b[39;00m \u001b[39mitertools\u001b[39;00m\n\u001b[0;32m      <a href='file:///c%3A/ProgramData/Anaconda3/envs/m25-py39/lib/site-packages/napari/components/viewer_model.py?line=4'>5</a>\u001b[0m \u001b[39mimport\u001b[39;00m \u001b[39mos\u001b[39;00m\n\u001b[0;32m      <a href='file:///c%3A/ProgramData/Anaconda3/envs/m25-py39/lib/site-packages/napari/components/viewer_model.py?line=5'>6</a>\u001b[0m \u001b[39mimport\u001b[39;00m \u001b[39mwarnings\u001b[39;00m\n",
      "File \u001b[1;32mc:\\ProgramData\\Anaconda3\\envs\\m25-py39\\lib\\site-packages\\napari\\layers\\points\\points.py:440\u001b[0m, in \u001b[0;36mPoints.__init__\u001b[1;34m(self, data, ndim, features, properties, text, symbol, size, edge_width, edge_color, edge_color_cycle, edge_colormap, edge_contrast_limits, face_color, face_color_cycle, face_colormap, face_contrast_limits, out_of_slice_display, n_dimensional, name, metadata, scale, translate, rotate, shear, affine, opacity, blending, visible, cache, property_choices, experimental_clipping_planes, shading, experimental_canvas_size_limits, shown)\u001b[0m\n\u001b[0;32m    <a href='file:///c%3A/ProgramData/Anaconda3/envs/m25-py39/lib/site-packages/napari/layers/points/points.py?line=436'>437</a>\u001b[0m     \u001b[39mself\u001b[39m\u001b[39m.\u001b[39m_out_of_slice_display \u001b[39m=\u001b[39m out_of_slice_display\n\u001b[0;32m    <a href='file:///c%3A/ProgramData/Anaconda3/envs/m25-py39/lib/site-packages/napari/layers/points/points.py?line=438'>439</a>\u001b[0m \u001b[39mself\u001b[39m\u001b[39m.\u001b[39m_shown \u001b[39m=\u001b[39m np\u001b[39m.\u001b[39mempty(\u001b[39m0\u001b[39m)\u001b[39m.\u001b[39mastype(\u001b[39mbool\u001b[39m)\n\u001b[1;32m--> <a href='file:///c%3A/ProgramData/Anaconda3/envs/m25-py39/lib/site-packages/napari/layers/points/points.py?line=439'>440</a>\u001b[0m \u001b[39mself\u001b[39m\u001b[39m.\u001b[39msize \u001b[39m=\u001b[39m size\n\u001b[0;32m    <a href='file:///c%3A/ProgramData/Anaconda3/envs/m25-py39/lib/site-packages/napari/layers/points/points.py?line=440'>441</a>\u001b[0m \u001b[39mself\u001b[39m\u001b[39m.\u001b[39mshown \u001b[39m=\u001b[39m shown\n\u001b[0;32m    <a href='file:///c%3A/ProgramData/Anaconda3/envs/m25-py39/lib/site-packages/napari/layers/points/points.py?line=441'>442</a>\u001b[0m \u001b[39mself\u001b[39m\u001b[39m.\u001b[39mexperimental_canvas_size_limits \u001b[39m=\u001b[39m experimental_canvas_size_limits\n",
      "File \u001b[1;32mc:\\ProgramData\\Anaconda3\\envs\\m25-py39\\lib\\site-packages\\napari\\layers\\points\\points.py:740\u001b[0m, in \u001b[0;36mPoints.size\u001b[1;34m(self, size)\u001b[0m\n\u001b[0;32m    <a href='file:///c%3A/ProgramData/Anaconda3/envs/m25-py39/lib/site-packages/napari/layers/points/points.py?line=732'>733</a>\u001b[0m     \u001b[39mexcept\u001b[39;00m \u001b[39mException\u001b[39;00m:\n\u001b[0;32m    <a href='file:///c%3A/ProgramData/Anaconda3/envs/m25-py39/lib/site-packages/napari/layers/points/points.py?line=733'>734</a>\u001b[0m         \u001b[39mraise\u001b[39;00m \u001b[39mValueError\u001b[39;00m(\n\u001b[0;32m    <a href='file:///c%3A/ProgramData/Anaconda3/envs/m25-py39/lib/site-packages/napari/layers/points/points.py?line=734'>735</a>\u001b[0m             trans\u001b[39m.\u001b[39m_(\n\u001b[0;32m    <a href='file:///c%3A/ProgramData/Anaconda3/envs/m25-py39/lib/site-packages/napari/layers/points/points.py?line=735'>736</a>\u001b[0m                 \u001b[39m\"\u001b[39m\u001b[39mSize is not compatible for broadcasting\u001b[39m\u001b[39m\"\u001b[39m,\n\u001b[0;32m    <a href='file:///c%3A/ProgramData/Anaconda3/envs/m25-py39/lib/site-packages/napari/layers/points/points.py?line=736'>737</a>\u001b[0m                 deferred\u001b[39m=\u001b[39m\u001b[39mTrue\u001b[39;00m,\n\u001b[0;32m    <a href='file:///c%3A/ProgramData/Anaconda3/envs/m25-py39/lib/site-packages/napari/layers/points/points.py?line=737'>738</a>\u001b[0m             )\n\u001b[0;32m    <a href='file:///c%3A/ProgramData/Anaconda3/envs/m25-py39/lib/site-packages/napari/layers/points/points.py?line=738'>739</a>\u001b[0m         )\n\u001b[1;32m--> <a href='file:///c%3A/ProgramData/Anaconda3/envs/m25-py39/lib/site-packages/napari/layers/points/points.py?line=739'>740</a>\u001b[0m \u001b[39mself\u001b[39;49m\u001b[39m.\u001b[39;49mrefresh()\n",
      "File \u001b[1;32mc:\\ProgramData\\Anaconda3\\envs\\m25-py39\\lib\\site-packages\\napari\\layers\\base\\base.py:1172\u001b[0m, in \u001b[0;36mLayer.refresh\u001b[1;34m(self, event)\u001b[0m\n\u001b[0;32m   <a href='file:///c%3A/ProgramData/Anaconda3/envs/m25-py39/lib/site-packages/napari/layers/base/base.py?line=1169'>1170</a>\u001b[0m \u001b[39m\"\"\"Refresh all layer data based on current view slice.\"\"\"\u001b[39;00m\n\u001b[0;32m   <a href='file:///c%3A/ProgramData/Anaconda3/envs/m25-py39/lib/site-packages/napari/layers/base/base.py?line=1170'>1171</a>\u001b[0m \u001b[39mif\u001b[39;00m \u001b[39mself\u001b[39m\u001b[39m.\u001b[39mvisible:\n\u001b[1;32m-> <a href='file:///c%3A/ProgramData/Anaconda3/envs/m25-py39/lib/site-packages/napari/layers/base/base.py?line=1171'>1172</a>\u001b[0m     \u001b[39mself\u001b[39;49m\u001b[39m.\u001b[39;49mset_view_slice()\n\u001b[0;32m   <a href='file:///c%3A/ProgramData/Anaconda3/envs/m25-py39/lib/site-packages/napari/layers/base/base.py?line=1172'>1173</a>\u001b[0m     \u001b[39mself\u001b[39m\u001b[39m.\u001b[39mevents\u001b[39m.\u001b[39mset_data()\n\u001b[0;32m   <a href='file:///c%3A/ProgramData/Anaconda3/envs/m25-py39/lib/site-packages/napari/layers/base/base.py?line=1173'>1174</a>\u001b[0m     \u001b[39mself\u001b[39m\u001b[39m.\u001b[39m_update_thumbnail()\n",
      "File \u001b[1;32mc:\\ProgramData\\Anaconda3\\envs\\m25-py39\\lib\\site-packages\\napari\\layers\\base\\base.py:922\u001b[0m, in \u001b[0;36mLayer.set_view_slice\u001b[1;34m(self)\u001b[0m\n\u001b[0;32m    <a href='file:///c%3A/ProgramData/Anaconda3/envs/m25-py39/lib/site-packages/napari/layers/base/base.py?line=919'>920</a>\u001b[0m \u001b[39mdef\u001b[39;00m \u001b[39mset_view_slice\u001b[39m(\u001b[39mself\u001b[39m):\n\u001b[0;32m    <a href='file:///c%3A/ProgramData/Anaconda3/envs/m25-py39/lib/site-packages/napari/layers/base/base.py?line=920'>921</a>\u001b[0m     \u001b[39mwith\u001b[39;00m \u001b[39mself\u001b[39m\u001b[39m.\u001b[39mdask_optimized_slicing():\n\u001b[1;32m--> <a href='file:///c%3A/ProgramData/Anaconda3/envs/m25-py39/lib/site-packages/napari/layers/base/base.py?line=921'>922</a>\u001b[0m         \u001b[39mself\u001b[39;49m\u001b[39m.\u001b[39;49m_set_view_slice()\n",
      "File \u001b[1;32mc:\\ProgramData\\Anaconda3\\envs\\m25-py39\\lib\\site-packages\\napari\\layers\\points\\points.py:1575\u001b[0m, in \u001b[0;36mPoints._set_view_slice\u001b[1;34m(self)\u001b[0m\n\u001b[0;32m   <a href='file:///c%3A/ProgramData/Anaconda3/envs/m25-py39/lib/site-packages/napari/layers/points/points.py?line=1572'>1573</a>\u001b[0m \u001b[39m\"\"\"Sets the view given the indices to slice with.\"\"\"\u001b[39;00m\n\u001b[0;32m   <a href='file:///c%3A/ProgramData/Anaconda3/envs/m25-py39/lib/site-packages/napari/layers/points/points.py?line=1573'>1574</a>\u001b[0m \u001b[39m# get the indices of points in view\u001b[39;00m\n\u001b[1;32m-> <a href='file:///c%3A/ProgramData/Anaconda3/envs/m25-py39/lib/site-packages/napari/layers/points/points.py?line=1574'>1575</a>\u001b[0m indices, scale \u001b[39m=\u001b[39m \u001b[39mself\u001b[39;49m\u001b[39m.\u001b[39;49m_slice_data(\u001b[39mself\u001b[39;49m\u001b[39m.\u001b[39;49m_slice_indices)\n\u001b[0;32m   <a href='file:///c%3A/ProgramData/Anaconda3/envs/m25-py39/lib/site-packages/napari/layers/points/points.py?line=1575'>1576</a>\u001b[0m \u001b[39mself\u001b[39m\u001b[39m.\u001b[39m_view_size_scale \u001b[39m=\u001b[39m scale\n\u001b[0;32m   <a href='file:///c%3A/ProgramData/Anaconda3/envs/m25-py39/lib/site-packages/napari/layers/points/points.py?line=1576'>1577</a>\u001b[0m \u001b[39mself\u001b[39m\u001b[39m.\u001b[39m_indices_view \u001b[39m=\u001b[39m np\u001b[39m.\u001b[39marray(indices, dtype\u001b[39m=\u001b[39m\u001b[39mint\u001b[39m)\n",
      "File \u001b[1;32mc:\\ProgramData\\Anaconda3\\envs\\m25-py39\\lib\\site-packages\\napari\\layers\\points\\points.py:1393\u001b[0m, in \u001b[0;36mPoints._slice_data\u001b[1;34m(self, dims_indices)\u001b[0m\n\u001b[0;32m   <a href='file:///c%3A/ProgramData/Anaconda3/envs/m25-py39/lib/site-packages/napari/layers/points/points.py?line=1390'>1391</a>\u001b[0m \u001b[39melse\u001b[39;00m:\n\u001b[0;32m   <a href='file:///c%3A/ProgramData/Anaconda3/envs/m25-py39/lib/site-packages/napari/layers/points/points.py?line=1391'>1392</a>\u001b[0m     data \u001b[39m=\u001b[39m \u001b[39mself\u001b[39m\u001b[39m.\u001b[39mdata[:, not_disp]\n\u001b[1;32m-> <a href='file:///c%3A/ProgramData/Anaconda3/envs/m25-py39/lib/site-packages/napari/layers/points/points.py?line=1392'>1393</a>\u001b[0m     distances \u001b[39m=\u001b[39m np\u001b[39m.\u001b[39mabs(data \u001b[39m-\u001b[39;49m indices[not_disp])\n\u001b[0;32m   <a href='file:///c%3A/ProgramData/Anaconda3/envs/m25-py39/lib/site-packages/napari/layers/points/points.py?line=1393'>1394</a>\u001b[0m     matches \u001b[39m=\u001b[39m np\u001b[39m.\u001b[39mall(distances \u001b[39m<\u001b[39m\u001b[39m=\u001b[39m \u001b[39m0.5\u001b[39m, axis\u001b[39m=\u001b[39m\u001b[39m1\u001b[39m)\n\u001b[0;32m   <a href='file:///c%3A/ProgramData/Anaconda3/envs/m25-py39/lib/site-packages/napari/layers/points/points.py?line=1394'>1395</a>\u001b[0m     slice_indices \u001b[39m=\u001b[39m np\u001b[39m.\u001b[39mwhere(matches)[\u001b[39m0\u001b[39m]\u001b[39m.\u001b[39mastype(\u001b[39mint\u001b[39m)\n",
      "\u001b[1;31mValueError\u001b[0m: operands could not be broadcast together with shapes (1,1009,2) (1009,) "
     ]
    }
   ],
   "source": [
    "#countour the stack\n",
    "print(contour_coords[1].shape)\n",
    "contour_coords.shape\n"
   ]
  },
  {
   "cell_type": "code",
   "execution_count": 129,
   "metadata": {},
   "outputs": [
    {
     "name": "stdout",
     "output_type": "stream",
     "text": [
      "(140, 608, 608)\n"
     ]
    },
    {
     "data": {
      "text/plain": [
       "<Image layer 'skeleton [1]' at 0x25736ec2730>"
      ]
     },
     "execution_count": 129,
     "metadata": {},
     "output_type": "execute_result"
    }
   ],
   "source": [
    "# perform skeletonization\n",
    "skeleton =np.array([skeletonize(binary_stack_filled3d[i]) for i in range(binary_stack_filled3d.shape[0])])\n",
    "print(skeleton.shape)\n",
    "viewer.add_image(skeleton, colormap='magenta', blending='additive')"
   ]
  },
  {
   "cell_type": "code",
   "execution_count": 130,
   "metadata": {},
   "outputs": [],
   "source": [
    "from skan import Skeleton\n",
    "sk_skeleton =[Skeleton(skeleton[i]) for i in range(skeleton.shape[0])]"
   ]
  },
  {
   "cell_type": "code",
   "execution_count": 131,
   "metadata": {},
   "outputs": [
    {
     "name": "stdout",
     "output_type": "stream",
     "text": [
      "[[  0.   0.]\n",
      " [ 68. 207.]\n",
      " [ 69. 207.]\n",
      " [ 70. 206.]\n",
      " [ 71. 206.]\n",
      " [ 72. 206.]\n",
      " [ 73. 206.]\n",
      " [ 74. 206.]\n",
      " [ 75. 205.]\n",
      " [ 76. 205.]\n",
      " [ 77. 205.]\n",
      " [ 78. 205.]\n",
      " [ 79. 205.]\n",
      " [ 80. 205.]\n",
      " [ 81. 206.]\n",
      " [ 82. 206.]\n",
      " [ 83. 206.]\n",
      " [ 84. 206.]\n",
      " [ 85. 206.]\n",
      " [ 86. 206.]\n",
      " [ 87. 206.]\n",
      " [ 88. 206.]\n",
      " [ 89. 206.]\n",
      " [ 90. 206.]\n",
      " [ 91. 206.]\n",
      " [ 92. 206.]\n",
      " [ 93. 206.]\n",
      " [ 94. 206.]\n",
      " [ 95. 205.]\n",
      " [ 96. 205.]\n",
      " [ 97. 205.]\n",
      " [ 98. 205.]\n",
      " [ 99. 205.]\n",
      " [100. 205.]\n",
      " [101. 205.]\n",
      " [102. 205.]\n",
      " [103. 205.]\n",
      " [104. 205.]\n",
      " [105. 204.]\n",
      " [106. 204.]\n",
      " [107. 204.]\n",
      " [108. 204.]\n",
      " [109. 204.]\n",
      " [110. 204.]\n",
      " [111. 203.]\n",
      " [112. 203.]\n",
      " [113. 203.]\n",
      " [114. 203.]\n",
      " [115. 202.]\n",
      " [116. 202.]\n",
      " [117. 202.]\n",
      " [118. 202.]\n",
      " [119. 202.]\n",
      " [120. 202.]\n",
      " [121. 202.]\n",
      " [122. 201.]\n",
      " [123. 201.]\n",
      " [124. 201.]\n",
      " [125. 201.]\n",
      " [126. 200.]\n",
      " [127. 200.]\n",
      " [128. 200.]\n",
      " [129. 200.]\n",
      " [130. 200.]\n",
      " [131. 200.]\n",
      " [132. 199.]\n",
      " [133. 199.]\n",
      " [134. 199.]\n",
      " [135. 199.]\n",
      " [136. 199.]\n",
      " [137. 199.]\n",
      " [138. 199.]\n",
      " [139. 199.]\n",
      " [140. 198.]\n",
      " [141. 198.]\n",
      " [142. 198.]\n",
      " [143. 198.]\n",
      " [144. 198.]\n",
      " [145. 198.]\n",
      " [146. 198.]\n",
      " [147. 198.]\n",
      " [148. 198.]\n",
      " [149. 197.]\n",
      " [150. 197.]\n",
      " [151. 197.]\n",
      " [152. 197.]\n",
      " [153. 197.]\n",
      " [154. 197.]\n",
      " [155. 197.]\n",
      " [156. 197.]\n",
      " [157. 197.]\n",
      " [158. 197.]\n",
      " [159. 196.]\n",
      " [160. 196.]\n",
      " [161. 196.]\n",
      " [162. 196.]\n",
      " [163. 196.]\n",
      " [164. 196.]\n",
      " [165. 196.]\n",
      " [166. 196.]\n",
      " [167. 196.]\n",
      " [168. 196.]\n",
      " [169. 196.]\n",
      " [170. 196.]\n",
      " [171. 196.]\n",
      " [172. 196.]\n",
      " [173. 197.]\n",
      " [174. 197.]\n",
      " [175. 197.]\n",
      " [176. 197.]\n",
      " [177. 197.]\n",
      " [178. 197.]\n",
      " [179. 197.]\n",
      " [180. 197.]\n",
      " [181. 197.]\n",
      " [182. 197.]\n",
      " [183. 198.]\n",
      " [184. 198.]\n",
      " [185. 198.]\n",
      " [186. 198.]\n",
      " [187. 198.]\n",
      " [188. 198.]\n",
      " [189. 198.]\n",
      " [190. 198.]\n",
      " [191. 199.]\n",
      " [192. 199.]\n",
      " [193. 199.]\n",
      " [194. 200.]\n",
      " [195. 200.]\n",
      " [196. 200.]\n",
      " [197. 200.]\n",
      " [198. 200.]\n",
      " [199. 200.]\n",
      " [200. 201.]\n",
      " [201. 201.]\n",
      " [202. 201.]\n",
      " [203. 202.]\n",
      " [204. 202.]\n",
      " [205. 202.]\n",
      " [206. 202.]\n",
      " [207. 203.]\n",
      " [208. 203.]\n",
      " [209. 203.]\n",
      " [210. 204.]\n",
      " [211. 204.]\n",
      " [212. 204.]\n",
      " [213. 205.]\n",
      " [214. 205.]\n",
      " [215. 206.]\n",
      " [216. 206.]\n",
      " [217. 206.]\n",
      " [218. 207.]\n",
      " [219. 207.]\n",
      " [220. 208.]\n",
      " [221. 208.]\n",
      " [222. 208.]\n",
      " [223. 209.]\n",
      " [224. 209.]\n",
      " [225. 209.]\n",
      " [226. 210.]\n",
      " [227. 210.]\n",
      " [228. 211.]\n",
      " [229. 212.]\n",
      " [230. 212.]\n",
      " [231. 212.]\n",
      " [232. 213.]\n",
      " [233. 213.]\n",
      " [234. 214.]\n",
      " [235. 215.]\n",
      " [236. 215.]\n",
      " [237. 216.]\n",
      " [238. 216.]\n",
      " [239. 217.]\n",
      " [240. 218.]\n",
      " [241. 218.]\n",
      " [242. 219.]\n",
      " [243. 219.]\n",
      " [244. 220.]\n",
      " [245. 221.]\n",
      " [246. 221.]\n",
      " [247. 222.]\n",
      " [248. 223.]\n",
      " [249. 224.]\n",
      " [250. 224.]\n",
      " [251. 225.]\n",
      " [252. 226.]\n",
      " [253. 227.]\n",
      " [254. 227.]\n",
      " [255. 228.]\n",
      " [256. 229.]\n",
      " [257. 230.]\n",
      " [258. 231.]\n",
      " [259. 232.]\n",
      " [260. 233.]\n",
      " [261. 234.]\n",
      " [261. 235.]\n",
      " [262. 236.]\n",
      " [263. 237.]\n",
      " [264. 238.]\n",
      " [265. 239.]\n",
      " [265. 240.]\n",
      " [266. 241.]\n",
      " [267. 242.]\n",
      " [268. 243.]\n",
      " [268. 244.]\n",
      " [269. 245.]\n",
      " [270. 246.]\n",
      " [270. 247.]\n",
      " [271. 248.]\n",
      " [271. 249.]\n",
      " [272. 250.]\n",
      " [273. 251.]\n",
      " [273. 252.]\n",
      " [274. 253.]\n",
      " [274. 254.]\n",
      " [274. 378.]\n",
      " [274. 379.]\n",
      " [274. 380.]\n",
      " [274. 381.]\n",
      " [274. 382.]\n",
      " [274. 383.]\n",
      " [274. 384.]\n",
      " [274. 385.]\n",
      " [274. 386.]\n",
      " [275. 255.]\n",
      " [275. 256.]\n",
      " [275. 376.]\n",
      " [275. 377.]\n",
      " [275. 387.]\n",
      " [276. 257.]\n",
      " [276. 258.]\n",
      " [276. 374.]\n",
      " [276. 375.]\n",
      " [276. 388.]\n",
      " [276. 389.]\n",
      " [276. 390.]\n",
      " [276. 391.]\n",
      " [277. 259.]\n",
      " [277. 260.]\n",
      " [277. 372.]\n",
      " [277. 373.]\n",
      " [278. 261.]\n",
      " [278. 262.]\n",
      " [278. 370.]\n",
      " [278. 371.]\n",
      " [279. 263.]\n",
      " [279. 264.]\n",
      " [279. 368.]\n",
      " [279. 369.]\n",
      " [280. 265.]\n",
      " [280. 266.]\n",
      " [280. 267.]\n",
      " [280. 366.]\n",
      " [280. 367.]\n",
      " [281. 268.]\n",
      " [281. 269.]\n",
      " [281. 270.]\n",
      " [281. 362.]\n",
      " [281. 363.]\n",
      " [281. 364.]\n",
      " [281. 365.]\n",
      " [282. 271.]\n",
      " [282. 358.]\n",
      " [282. 359.]\n",
      " [282. 360.]\n",
      " [282. 361.]\n",
      " [283. 272.]\n",
      " [283. 273.]\n",
      " [283. 274.]\n",
      " [283. 355.]\n",
      " [283. 356.]\n",
      " [283. 357.]\n",
      " [284. 275.]\n",
      " [284. 276.]\n",
      " [284. 351.]\n",
      " [284. 352.]\n",
      " [284. 353.]\n",
      " [284. 354.]\n",
      " [285. 277.]\n",
      " [285. 278.]\n",
      " [285. 279.]\n",
      " [285. 348.]\n",
      " [285. 349.]\n",
      " [285. 350.]\n",
      " [286. 280.]\n",
      " [286. 281.]\n",
      " [286. 344.]\n",
      " [286. 345.]\n",
      " [286. 346.]\n",
      " [286. 347.]\n",
      " [287. 282.]\n",
      " [287. 283.]\n",
      " [287. 284.]\n",
      " [287. 339.]\n",
      " [287. 340.]\n",
      " [287. 341.]\n",
      " [287. 342.]\n",
      " [287. 343.]\n",
      " [288. 285.]\n",
      " [288. 286.]\n",
      " [288. 287.]\n",
      " [288. 335.]\n",
      " [288. 336.]\n",
      " [288. 337.]\n",
      " [288. 338.]\n",
      " [289. 288.]\n",
      " [289. 289.]\n",
      " [289. 330.]\n",
      " [289. 331.]\n",
      " [289. 332.]\n",
      " [289. 333.]\n",
      " [289. 334.]\n",
      " [290. 290.]\n",
      " [290. 291.]\n",
      " [290. 292.]\n",
      " [290. 325.]\n",
      " [290. 326.]\n",
      " [290. 327.]\n",
      " [290. 328.]\n",
      " [290. 329.]\n",
      " [291. 293.]\n",
      " [291. 294.]\n",
      " [291. 295.]\n",
      " [291. 296.]\n",
      " [291. 320.]\n",
      " [291. 321.]\n",
      " [291. 322.]\n",
      " [291. 323.]\n",
      " [291. 324.]\n",
      " [292. 297.]\n",
      " [292. 298.]\n",
      " [292. 299.]\n",
      " [292. 300.]\n",
      " [292. 301.]\n",
      " [292. 302.]\n",
      " [292. 303.]\n",
      " [292. 314.]\n",
      " [292. 315.]\n",
      " [292. 316.]\n",
      " [292. 317.]\n",
      " [292. 318.]\n",
      " [292. 319.]\n",
      " [293. 304.]\n",
      " [293. 305.]\n",
      " [293. 306.]\n",
      " [293. 307.]\n",
      " [293. 308.]\n",
      " [293. 309.]\n",
      " [293. 310.]\n",
      " [293. 311.]\n",
      " [293. 312.]\n",
      " [293. 313.]]\n",
      "[450.91883092]\n",
      "[450.91883092]\n"
     ]
    }
   ],
   "source": [
    "print((sk_skeleton[1].coordinates))\n",
    "print(sk_skeleton[10].path_lengths())\n",
    "print(sk_skeleton[10].distances)"
   ]
  },
  {
   "cell_type": "code",
   "execution_count": 132,
   "metadata": {},
   "outputs": [
    {
     "name": "stdout",
     "output_type": "stream",
     "text": [
      "(316, 3)\n"
     ]
    },
    {
     "data": {
      "text/plain": [
       "<Points layer 'np_endPoint [1]' at 0x2573a289880>"
      ]
     },
     "execution_count": 132,
     "metadata": {},
     "output_type": "execute_result"
    }
   ],
   "source": [
    "# Finding the points where we have start/ends\n",
    "end_points =[]\n",
    "for k in range(len(sk_skeleton)):\n",
    "    for i, val in enumerate(sk_skeleton[k].coordinates[sk_skeleton[k].degrees == 1]):\n",
    "      end_points.append([k,val[0],val[1]])\n",
    "\n",
    "np_endPoint = np.array(end_points)\n",
    "print(np_endPoint.shape)\n",
    "viewer.add_points(np_endPoint, face_color='cornflowerblue')\n"
   ]
  },
  {
   "cell_type": "code",
   "execution_count": 306,
   "metadata": {},
   "outputs": [],
   "source": [
    "#Borrwing from WormPose\n",
    "# https://github.com/iteal/wormpose/blob/main/wormpose/pose/centerline.py\n",
    "from scipy.interpolate import interp1d\n",
    "def interpolate_skeleton(skeleton: np.ndarray, new_dims: int) -> np.ndarray:\n",
    "    \"\"\"\n",
    "    Interpolates a worm skeleton to have a different number of points\n",
    "    \"\"\"\n",
    "    new_pos_dim = []\n",
    "    for dim in range(skeleton.shape[1]):\n",
    "        y = skeleton[:, dim]\n",
    "        x = np.arange(y.size)\n",
    "        if np.any(np.isnan(y)):\n",
    "            new_pos_dim.append([np.nan] * (new_dims + 1))\n",
    "        else:\n",
    "            # Interpolate the data using a cubic spline to \"new_length\" samples\n",
    "            new_length = new_dims + 1\n",
    "            new_x = np.linspace(x.min(), x.max(), new_length)\n",
    "            new_y = interp1d(x, y, kind=\"cubic\")(new_x)\n",
    "            new_pos_dim.append(new_y)\n",
    "    new_pos = np.vstack(new_pos_dim).T\n",
    "    return new_pos"
   ]
  },
  {
   "cell_type": "code",
   "execution_count": 304,
   "metadata": {},
   "outputs": [
    {
     "name": "stdout",
     "output_type": "stream",
     "text": [
      "(160826, 3)\n",
      "[  0.  325.2 320. ]\n"
     ]
    }
   ],
   "source": [
    "print(contour_coords.shape)\n",
    "print(contour_coords[0])\n"
   ]
  },
  {
   "cell_type": "code",
   "execution_count": 362,
   "metadata": {},
   "outputs": [
    {
     "ename": "TypeError",
     "evalue": "Only integer types are supported for Labels layers, but data contains float64.",
     "output_type": "error",
     "traceback": [
      "\u001b[1;31m---------------------------------------------------------------------------\u001b[0m",
      "\u001b[1;31mTypeError\u001b[0m                                 Traceback (most recent call last)",
      "\u001b[1;32mc:\\Users\\yoshi\\Documents\\edhirata\\M25\\m25-napari\\notebooks\\test_skeleton.ipynb Cell 23'\u001b[0m in \u001b[0;36m<cell line: 11>\u001b[1;34m()\u001b[0m\n\u001b[0;32m      <a href='vscode-notebook-cell:/c%3A/Users/yoshi/Documents/edhirata/M25/m25-napari/notebooks/test_skeleton.ipynb#ch0000075?line=8'>9</a>\u001b[0m         contour_interp\u001b[39m.\u001b[39mappend([k,inter_cont_coord[c_num,\u001b[39m0\u001b[39m],inter_cont_coord[c_num,\u001b[39m1\u001b[39m]])\n\u001b[0;32m     <a href='vscode-notebook-cell:/c%3A/Users/yoshi/Documents/edhirata/M25/m25-napari/notebooks/test_skeleton.ipynb#ch0000075?line=9'>10</a>\u001b[0m contour_interp\u001b[39m=\u001b[39mnp\u001b[39m.\u001b[39marray(contour_interp)\n\u001b[1;32m---> <a href='vscode-notebook-cell:/c%3A/Users/yoshi/Documents/edhirata/M25/m25-napari/notebooks/test_skeleton.ipynb#ch0000075?line=10'>11</a>\u001b[0m viewer\u001b[39m.\u001b[39;49madd_labels(contour_interp)\n",
      "File \u001b[1;32mc:\\ProgramData\\Anaconda3\\envs\\m25-py39\\lib\\site-packages\\napari\\components\\viewer_model.py:4\u001b[0m, in \u001b[0;36madd_labels\u001b[1;34m(self, data, num_colors, features, properties, color, seed, name, metadata, scale, translate, rotate, shear, affine, opacity, blending, rendering, visible, multiscale, cache, experimental_slicing_plane, experimental_clipping_planes)\u001b[0m\n\u001b[0;32m      <a href='file:///c%3A/ProgramData/Anaconda3/envs/m25-py39/lib/site-packages/napari/components/viewer_model.py?line=0'>1</a>\u001b[0m \u001b[39mfrom\u001b[39;00m \u001b[39m__future__\u001b[39;00m \u001b[39mimport\u001b[39;00m annotations\n\u001b[0;32m      <a href='file:///c%3A/ProgramData/Anaconda3/envs/m25-py39/lib/site-packages/napari/components/viewer_model.py?line=2'>3</a>\u001b[0m \u001b[39mimport\u001b[39;00m \u001b[39minspect\u001b[39;00m\n\u001b[1;32m----> <a href='file:///c%3A/ProgramData/Anaconda3/envs/m25-py39/lib/site-packages/napari/components/viewer_model.py?line=3'>4</a>\u001b[0m \u001b[39mimport\u001b[39;00m \u001b[39mitertools\u001b[39;00m\n\u001b[0;32m      <a href='file:///c%3A/ProgramData/Anaconda3/envs/m25-py39/lib/site-packages/napari/components/viewer_model.py?line=4'>5</a>\u001b[0m \u001b[39mimport\u001b[39;00m \u001b[39mos\u001b[39;00m\n\u001b[0;32m      <a href='file:///c%3A/ProgramData/Anaconda3/envs/m25-py39/lib/site-packages/napari/components/viewer_model.py?line=5'>6</a>\u001b[0m \u001b[39mimport\u001b[39;00m \u001b[39mwarnings\u001b[39;00m\n",
      "File \u001b[1;32mc:\\ProgramData\\Anaconda3\\envs\\m25-py39\\lib\\site-packages\\napari\\layers\\labels\\labels.py:255\u001b[0m, in \u001b[0;36mLabels.__init__\u001b[1;34m(self, data, num_colors, features, properties, color, seed, name, metadata, scale, translate, rotate, shear, affine, opacity, blending, rendering, visible, multiscale, cache, experimental_slicing_plane, experimental_clipping_planes)\u001b[0m\n\u001b[0;32m    <a href='file:///c%3A/ProgramData/Anaconda3/envs/m25-py39/lib/site-packages/napari/layers/labels/labels.py?line=251'>252</a>\u001b[0m \u001b[39mself\u001b[39m\u001b[39m.\u001b[39m_show_selected_label \u001b[39m=\u001b[39m \u001b[39mFalse\u001b[39;00m\n\u001b[0;32m    <a href='file:///c%3A/ProgramData/Anaconda3/envs/m25-py39/lib/site-packages/napari/layers/labels/labels.py?line=252'>253</a>\u001b[0m \u001b[39mself\u001b[39m\u001b[39m.\u001b[39m_contour \u001b[39m=\u001b[39m \u001b[39m0\u001b[39m\n\u001b[1;32m--> <a href='file:///c%3A/ProgramData/Anaconda3/envs/m25-py39/lib/site-packages/napari/layers/labels/labels.py?line=254'>255</a>\u001b[0m data \u001b[39m=\u001b[39m \u001b[39mself\u001b[39;49m\u001b[39m.\u001b[39;49m_ensure_int_labels(data)\n\u001b[0;32m    <a href='file:///c%3A/ProgramData/Anaconda3/envs/m25-py39/lib/site-packages/napari/layers/labels/labels.py?line=255'>256</a>\u001b[0m \u001b[39mself\u001b[39m\u001b[39m.\u001b[39m_color_lookup_func \u001b[39m=\u001b[39m \u001b[39mNone\u001b[39;00m\n\u001b[0;32m    <a href='file:///c%3A/ProgramData/Anaconda3/envs/m25-py39/lib/site-packages/napari/layers/labels/labels.py?line=257'>258</a>\u001b[0m \u001b[39msuper\u001b[39m()\u001b[39m.\u001b[39m\u001b[39m__init__\u001b[39m(\n\u001b[0;32m    <a href='file:///c%3A/ProgramData/Anaconda3/envs/m25-py39/lib/site-packages/napari/layers/labels/labels.py?line=258'>259</a>\u001b[0m     data,\n\u001b[0;32m    <a href='file:///c%3A/ProgramData/Anaconda3/envs/m25-py39/lib/site-packages/napari/layers/labels/labels.py?line=259'>260</a>\u001b[0m     rgb\u001b[39m=\u001b[39m\u001b[39mFalse\u001b[39;00m,\n\u001b[1;32m   (...)\u001b[0m\n\u001b[0;32m    <a href='file:///c%3A/ProgramData/Anaconda3/envs/m25-py39/lib/site-packages/napari/layers/labels/labels.py?line=278'>279</a>\u001b[0m     experimental_clipping_planes\u001b[39m=\u001b[39mexperimental_clipping_planes,\n\u001b[0;32m    <a href='file:///c%3A/ProgramData/Anaconda3/envs/m25-py39/lib/site-packages/napari/layers/labels/labels.py?line=279'>280</a>\u001b[0m )\n",
      "File \u001b[1;32mc:\\ProgramData\\Anaconda3\\envs\\m25-py39\\lib\\site-packages\\napari\\layers\\labels\\labels.py:557\u001b[0m, in \u001b[0;36mLabels._ensure_int_labels\u001b[1;34m(self, data)\u001b[0m\n\u001b[0;32m    <a href='file:///c%3A/ProgramData/Anaconda3/envs/m25-py39/lib/site-packages/napari/layers/labels/labels.py?line=552'>553</a>\u001b[0m \u001b[39mfor\u001b[39;00m data_level \u001b[39min\u001b[39;00m data:\n\u001b[0;32m    <a href='file:///c%3A/ProgramData/Anaconda3/envs/m25-py39/lib/site-packages/napari/layers/labels/labels.py?line=553'>554</a>\u001b[0m     \u001b[39m# normalize_dtype turns e.g. tensorstore or torch dtypes into\u001b[39;00m\n\u001b[0;32m    <a href='file:///c%3A/ProgramData/Anaconda3/envs/m25-py39/lib/site-packages/napari/layers/labels/labels.py?line=554'>555</a>\u001b[0m     \u001b[39m# numpy dtypes\u001b[39;00m\n\u001b[0;32m    <a href='file:///c%3A/ProgramData/Anaconda3/envs/m25-py39/lib/site-packages/napari/layers/labels/labels.py?line=555'>556</a>\u001b[0m     \u001b[39mif\u001b[39;00m np\u001b[39m.\u001b[39missubdtype(normalize_dtype(data_level\u001b[39m.\u001b[39mdtype), np\u001b[39m.\u001b[39mfloating):\n\u001b[1;32m--> <a href='file:///c%3A/ProgramData/Anaconda3/envs/m25-py39/lib/site-packages/napari/layers/labels/labels.py?line=556'>557</a>\u001b[0m         \u001b[39mraise\u001b[39;00m \u001b[39mTypeError\u001b[39;00m(\n\u001b[0;32m    <a href='file:///c%3A/ProgramData/Anaconda3/envs/m25-py39/lib/site-packages/napari/layers/labels/labels.py?line=557'>558</a>\u001b[0m             trans\u001b[39m.\u001b[39m_(\n\u001b[0;32m    <a href='file:///c%3A/ProgramData/Anaconda3/envs/m25-py39/lib/site-packages/napari/layers/labels/labels.py?line=558'>559</a>\u001b[0m                 \u001b[39m\"\u001b[39m\u001b[39mOnly integer types are supported for Labels layers, but data contains \u001b[39m\u001b[39m{data_level_type}\u001b[39;00m\u001b[39m.\u001b[39m\u001b[39m\"\u001b[39m,\n\u001b[0;32m    <a href='file:///c%3A/ProgramData/Anaconda3/envs/m25-py39/lib/site-packages/napari/layers/labels/labels.py?line=559'>560</a>\u001b[0m                 data_level_type\u001b[39m=\u001b[39mdata_level\u001b[39m.\u001b[39mdtype,\n\u001b[0;32m    <a href='file:///c%3A/ProgramData/Anaconda3/envs/m25-py39/lib/site-packages/napari/layers/labels/labels.py?line=560'>561</a>\u001b[0m             )\n\u001b[0;32m    <a href='file:///c%3A/ProgramData/Anaconda3/envs/m25-py39/lib/site-packages/napari/layers/labels/labels.py?line=561'>562</a>\u001b[0m         )\n\u001b[0;32m    <a href='file:///c%3A/ProgramData/Anaconda3/envs/m25-py39/lib/site-packages/napari/layers/labels/labels.py?line=562'>563</a>\u001b[0m     \u001b[39mif\u001b[39;00m data_level\u001b[39m.\u001b[39mdtype \u001b[39m==\u001b[39m \u001b[39mbool\u001b[39m:\n\u001b[0;32m    <a href='file:///c%3A/ProgramData/Anaconda3/envs/m25-py39/lib/site-packages/napari/layers/labels/labels.py?line=563'>564</a>\u001b[0m         int_data\u001b[39m.\u001b[39mappend(data_level\u001b[39m.\u001b[39mastype(np\u001b[39m.\u001b[39mint8))\n",
      "\u001b[1;31mTypeError\u001b[0m: Only integer types are supported for Labels layers, but data contains float64."
     ]
    }
   ],
   "source": [
    "#Interpolate Contour\n",
    "contour_interp=[]\n",
    "c,t,y,x = crop_stack.shape\n",
    "for k in range(t):\n",
    "    contours = find_contours(binary_stack_filled[0,k],0.8)\n",
    "    countours=np.array(contours)\n",
    "    inter_cont_coord = interpolate_skeleton(contours[0],50)\n",
    "    for c_num in range(inter_cont_coord.shape[0]):\n",
    "        contour_interp.append([k,inter_cont_coord[c_num,0],inter_cont_coord[c_num,1]])\n",
    "contour_interp=np.array(contour_interp)\n",
    "viewer.add_points(contour_interp, face_color='cornflowerblue')"
   ]
  },
  {
   "cell_type": "code",
   "execution_count": 345,
   "metadata": {},
   "outputs": [
    {
     "data": {
      "text/plain": [
       "array([[320.        , 325.2       ],\n",
       "       [300.63843386, 324.11970578],\n",
       "       [283.27337642, 321.3858939 ],\n",
       "       ...,\n",
       "       [316.95141328, 446.24143119],\n",
       "       [299.18647098, 453.02442191],\n",
       "       [280.        , 457.2       ]])"
      ]
     },
     "execution_count": 345,
     "metadata": {},
     "output_type": "execute_result"
    }
   ],
   "source": [
    "contour_interp[:,1:]"
   ]
  },
  {
   "cell_type": "code",
   "execution_count": 376,
   "metadata": {},
   "outputs": [
    {
     "data": {
      "text/plain": [
       "<Shapes layer 'bbbox_cont' at 0x257428bfa90>"
      ]
     },
     "execution_count": 376,
     "metadata": {},
     "output_type": "execute_result"
    }
   ],
   "source": [
    "i=3\n",
    "bbbox_cont= create_skeleton_box(contour_interp[i,1:], contour_interp[i+1,1:],side='center',width=30)\n",
    "min_val = bbbox_cont.min(axis=0)\n",
    "max_val = bbbox_cont.max(axis=0)\n",
    "tl = np.array([min_val[0], min_val[1]])\n",
    "br = np.array([max_val[0], max_val[1]])\n",
    "img_box = np.round(np.array([tl, br])).astype(int)\n",
    "z = np.zeros((2,2)).astype(int)\n",
    "img_box = np.hstack((z,img_box)).astype(int)\n",
    "\n",
    "viewer.add_shapes(bbbox_cont)"
   ]
  },
  {
   "cell_type": "code",
   "execution_count": 374,
   "metadata": {},
   "outputs": [
    {
     "ename": "NameError",
     "evalue": "name 'bbbox_cont' is not defined",
     "output_type": "error",
     "traceback": [
      "\u001b[1;31m---------------------------------------------------------------------------\u001b[0m",
      "\u001b[1;31mNameError\u001b[0m                                 Traceback (most recent call last)",
      "\u001b[1;32mc:\\Users\\yoshi\\Documents\\edhirata\\M25\\m25-napari\\notebooks\\test_skeleton.ipynb Cell 26'\u001b[0m in \u001b[0;36m<cell line: 1>\u001b[1;34m()\u001b[0m\n\u001b[1;32m----> <a href='vscode-notebook-cell:/c%3A/Users/yoshi/Documents/edhirata/M25/m25-napari/notebooks/test_skeleton.ipynb#ch0000081?line=0'>1</a>\u001b[0m bbbox_cont\u001b[39m.\u001b[39mshape\n",
      "\u001b[1;31mNameError\u001b[0m: name 'bbbox_cont' is not defined"
     ]
    }
   ],
   "source": [
    "bbbox_cont.shape"
   ]
  },
  {
   "cell_type": "code",
   "execution_count": null,
   "metadata": {},
   "outputs": [],
   "source": []
  },
  {
   "cell_type": "code",
   "execution_count": 360,
   "metadata": {},
   "outputs": [
    {
     "ename": "ValueError",
     "evalue": "The number of derivatives at boundaries does not match: expected 1, got 0+0",
     "output_type": "error",
     "traceback": [
      "\u001b[1;31m---------------------------------------------------------------------------\u001b[0m",
      "\u001b[1;31mValueError\u001b[0m                                Traceback (most recent call last)",
      "\u001b[1;32mc:\\Users\\yoshi\\Documents\\edhirata\\M25\\m25-napari\\notebooks\\test_skeleton.ipynb Cell 27'\u001b[0m in \u001b[0;36m<cell line: 2>\u001b[1;34m()\u001b[0m\n\u001b[0;32m      <a href='vscode-notebook-cell:/c%3A/Users/yoshi/Documents/edhirata/M25/m25-napari/notebooks/test_skeleton.ipynb#ch0000017?line=1'>2</a>\u001b[0m \u001b[39mfor\u001b[39;00m k \u001b[39min\u001b[39;00m \u001b[39mrange\u001b[39m(\u001b[39mlen\u001b[39m(sk_skeleton)):\n\u001b[0;32m      <a href='vscode-notebook-cell:/c%3A/Users/yoshi/Documents/edhirata/M25/m25-napari/notebooks/test_skeleton.ipynb#ch0000017?line=2'>3</a>\u001b[0m     coords \u001b[39m=\u001b[39msk_skeleton[k]\u001b[39m.\u001b[39mpath_coordinates(\u001b[39m0\u001b[39m)\n\u001b[1;32m----> <a href='vscode-notebook-cell:/c%3A/Users/yoshi/Documents/edhirata/M25/m25-napari/notebooks/test_skeleton.ipynb#ch0000017?line=3'>4</a>\u001b[0m     interp_coord \u001b[39m=\u001b[39m interpolate_skeleton(coords,\u001b[39m50\u001b[39;49m)\n\u001b[0;32m      <a href='vscode-notebook-cell:/c%3A/Users/yoshi/Documents/edhirata/M25/m25-napari/notebooks/test_skeleton.ipynb#ch0000017?line=4'>5</a>\u001b[0m     \u001b[39mfor\u001b[39;00m c_num \u001b[39min\u001b[39;00m \u001b[39mrange\u001b[39m(interp_coord\u001b[39m.\u001b[39mshape[\u001b[39m0\u001b[39m]):\n\u001b[0;32m      <a href='vscode-notebook-cell:/c%3A/Users/yoshi/Documents/edhirata/M25/m25-napari/notebooks/test_skeleton.ipynb#ch0000017?line=5'>6</a>\u001b[0m         select_coords\u001b[39m.\u001b[39mappend([k,interp_coord[c_num,\u001b[39m0\u001b[39m],interp_coord[c_num,\u001b[39m1\u001b[39m]])\n",
      "\u001b[1;32mc:\\Users\\yoshi\\Documents\\edhirata\\M25\\m25-napari\\notebooks\\test_skeleton.ipynb Cell 21'\u001b[0m in \u001b[0;36minterpolate_skeleton\u001b[1;34m(skeleton, new_dims)\u001b[0m\n\u001b[0;32m     <a href='vscode-notebook-cell:/c%3A/Users/yoshi/Documents/edhirata/M25/m25-napari/notebooks/test_skeleton.ipynb#ch0000016?line=15'>16</a>\u001b[0m         new_length \u001b[39m=\u001b[39m new_dims \u001b[39m+\u001b[39m \u001b[39m1\u001b[39m\n\u001b[0;32m     <a href='vscode-notebook-cell:/c%3A/Users/yoshi/Documents/edhirata/M25/m25-napari/notebooks/test_skeleton.ipynb#ch0000016?line=16'>17</a>\u001b[0m         new_x \u001b[39m=\u001b[39m np\u001b[39m.\u001b[39mlinspace(x\u001b[39m.\u001b[39mmin(), x\u001b[39m.\u001b[39mmax(), new_length)\n\u001b[1;32m---> <a href='vscode-notebook-cell:/c%3A/Users/yoshi/Documents/edhirata/M25/m25-napari/notebooks/test_skeleton.ipynb#ch0000016?line=17'>18</a>\u001b[0m         new_y \u001b[39m=\u001b[39m interp1d(x, y, kind\u001b[39m=\u001b[39;49m\u001b[39m\"\u001b[39;49m\u001b[39mcubic\u001b[39;49m\u001b[39m\"\u001b[39;49m)(new_x)\n\u001b[0;32m     <a href='vscode-notebook-cell:/c%3A/Users/yoshi/Documents/edhirata/M25/m25-napari/notebooks/test_skeleton.ipynb#ch0000016?line=18'>19</a>\u001b[0m         new_pos_dim\u001b[39m.\u001b[39mappend(new_y)\n\u001b[0;32m     <a href='vscode-notebook-cell:/c%3A/Users/yoshi/Documents/edhirata/M25/m25-napari/notebooks/test_skeleton.ipynb#ch0000016?line=19'>20</a>\u001b[0m new_pos \u001b[39m=\u001b[39m np\u001b[39m.\u001b[39mvstack(new_pos_dim)\u001b[39m.\u001b[39mT\n",
      "File \u001b[1;32mc:\\ProgramData\\Anaconda3\\envs\\m25-py39\\lib\\site-packages\\scipy\\interpolate\\_interpolate.py:564\u001b[0m, in \u001b[0;36minterp1d.__init__\u001b[1;34m(***failed resolving arguments***)\u001b[0m\n\u001b[0;32m    <a href='file:///c%3A/ProgramData/Anaconda3/envs/m25-py39/lib/site-packages/scipy/interpolate/_interpolate.py?line=560'>561</a>\u001b[0m         yy \u001b[39m=\u001b[39m np\u001b[39m.\u001b[39mones_like(\u001b[39mself\u001b[39m\u001b[39m.\u001b[39m_y)\n\u001b[0;32m    <a href='file:///c%3A/ProgramData/Anaconda3/envs/m25-py39/lib/site-packages/scipy/interpolate/_interpolate.py?line=561'>562</a>\u001b[0m         rewrite_nan \u001b[39m=\u001b[39m \u001b[39mTrue\u001b[39;00m\n\u001b[1;32m--> <a href='file:///c%3A/ProgramData/Anaconda3/envs/m25-py39/lib/site-packages/scipy/interpolate/_interpolate.py?line=563'>564</a>\u001b[0m \u001b[39mself\u001b[39m\u001b[39m.\u001b[39m_spline \u001b[39m=\u001b[39m make_interp_spline(xx, yy, k\u001b[39m=\u001b[39;49morder,\n\u001b[0;32m    <a href='file:///c%3A/ProgramData/Anaconda3/envs/m25-py39/lib/site-packages/scipy/interpolate/_interpolate.py?line=564'>565</a>\u001b[0m                                   check_finite\u001b[39m=\u001b[39;49m\u001b[39mFalse\u001b[39;49;00m)\n\u001b[0;32m    <a href='file:///c%3A/ProgramData/Anaconda3/envs/m25-py39/lib/site-packages/scipy/interpolate/_interpolate.py?line=565'>566</a>\u001b[0m \u001b[39mif\u001b[39;00m rewrite_nan:\n\u001b[0;32m    <a href='file:///c%3A/ProgramData/Anaconda3/envs/m25-py39/lib/site-packages/scipy/interpolate/_interpolate.py?line=566'>567</a>\u001b[0m     \u001b[39mself\u001b[39m\u001b[39m.\u001b[39m_call \u001b[39m=\u001b[39m \u001b[39mself\u001b[39m\u001b[39m.\u001b[39m\u001b[39m__class__\u001b[39m\u001b[39m.\u001b[39m_call_nan_spline\n",
      "File \u001b[1;32mc:\\ProgramData\\Anaconda3\\envs\\m25-py39\\lib\\site-packages\\scipy\\interpolate\\_bsplines.py:1326\u001b[0m, in \u001b[0;36mmake_interp_spline\u001b[1;34m(x, y, k, t, bc_type, axis, check_finite)\u001b[0m\n\u001b[0;32m   <a href='file:///c%3A/ProgramData/Anaconda3/envs/m25-py39/lib/site-packages/scipy/interpolate/_bsplines.py?line=1322'>1323</a>\u001b[0m nt \u001b[39m=\u001b[39m t\u001b[39m.\u001b[39msize \u001b[39m-\u001b[39m k \u001b[39m-\u001b[39m \u001b[39m1\u001b[39m\n\u001b[0;32m   <a href='file:///c%3A/ProgramData/Anaconda3/envs/m25-py39/lib/site-packages/scipy/interpolate/_bsplines.py?line=1324'>1325</a>\u001b[0m \u001b[39mif\u001b[39;00m nt \u001b[39m-\u001b[39m n \u001b[39m!=\u001b[39m nleft \u001b[39m+\u001b[39m nright:\n\u001b[1;32m-> <a href='file:///c%3A/ProgramData/Anaconda3/envs/m25-py39/lib/site-packages/scipy/interpolate/_bsplines.py?line=1325'>1326</a>\u001b[0m     \u001b[39mraise\u001b[39;00m \u001b[39mValueError\u001b[39;00m(\u001b[39m\"\u001b[39m\u001b[39mThe number of derivatives at boundaries does not \u001b[39m\u001b[39m\"\u001b[39m\n\u001b[0;32m   <a href='file:///c%3A/ProgramData/Anaconda3/envs/m25-py39/lib/site-packages/scipy/interpolate/_bsplines.py?line=1326'>1327</a>\u001b[0m                      \u001b[39m\"\u001b[39m\u001b[39mmatch: expected \u001b[39m\u001b[39m%s\u001b[39;00m\u001b[39m, got \u001b[39m\u001b[39m%s\u001b[39;00m\u001b[39m+\u001b[39m\u001b[39m%s\u001b[39;00m\u001b[39m\"\u001b[39m \u001b[39m%\u001b[39m (nt\u001b[39m-\u001b[39mn, nleft, nright))\n\u001b[0;32m   <a href='file:///c%3A/ProgramData/Anaconda3/envs/m25-py39/lib/site-packages/scipy/interpolate/_bsplines.py?line=1328'>1329</a>\u001b[0m \u001b[39m# set up the LHS: the collocation matrix + derivatives at boundaries\u001b[39;00m\n\u001b[0;32m   <a href='file:///c%3A/ProgramData/Anaconda3/envs/m25-py39/lib/site-packages/scipy/interpolate/_bsplines.py?line=1329'>1330</a>\u001b[0m kl \u001b[39m=\u001b[39m ku \u001b[39m=\u001b[39m k\n",
      "\u001b[1;31mValueError\u001b[0m: The number of derivatives at boundaries does not match: expected 1, got 0+0"
     ]
    }
   ],
   "source": [
    "select_coords =[]\n",
    "for k in range(len(sk_skeleton)):\n",
    "    coords =sk_skeleton[k].path_coordinates(0)\n",
    "    interp_coord = interpolate_skeleton(coords,50)\n",
    "    for c_num in range(interp_coord.shape[0]):\n",
    "        select_coords.append([k,interp_coord[c_num,0],interp_coord[c_num,1]])\n",
    "select_coords=np.array(select_coords)\n",
    "viewer.add_points(select_coords, face_color='cornflowerblue')"
   ]
  },
  {
   "cell_type": "code",
   "execution_count": 321,
   "metadata": {},
   "outputs": [
    {
     "ename": "NameError",
     "evalue": "name 'coord_b' is not defined",
     "output_type": "error",
     "traceback": [
      "\u001b[1;31m---------------------------------------------------------------------------\u001b[0m",
      "\u001b[1;31mNameError\u001b[0m                                 Traceback (most recent call last)",
      "\u001b[1;32mc:\\Users\\yoshi\\Documents\\edhirata\\M25\\m25-napari\\notebooks\\test_skeleton.ipynb Cell 25'\u001b[0m in \u001b[0;36m<cell line: 19>\u001b[1;34m()\u001b[0m\n\u001b[0;32m     <a href='vscode-notebook-cell:/c%3A/Users/yoshi/Documents/edhirata/M25/m25-napari/notebooks/test_skeleton.ipynb#ch0000019?line=15'>16</a>\u001b[0m width \u001b[39m=\u001b[39m \u001b[39m100\u001b[39m\n\u001b[0;32m     <a href='vscode-notebook-cell:/c%3A/Users/yoshi/Documents/edhirata/M25/m25-napari/notebooks/test_skeleton.ipynb#ch0000019?line=16'>17</a>\u001b[0m skel_perp \u001b[39m=\u001b[39m np\u001b[39m.\u001b[39mempty((\u001b[39m2\u001b[39m,), dtype\u001b[39m=\u001b[39mnp\u001b[39m.\u001b[39mfloat32)\n\u001b[1;32m---> <a href='vscode-notebook-cell:/c%3A/Users/yoshi/Documents/edhirata/M25/m25-napari/notebooks/test_skeleton.ipynb#ch0000019?line=18'>19</a>\u001b[0m perp_line \u001b[39m=\u001b[39m [\u001b[39m-\u001b[39m(coord_b[\u001b[39m1\u001b[39m]\u001b[39m-\u001b[39mcoord_a[\u001b[39m1\u001b[39m]), coord_b[\u001b[39m0\u001b[39m]\u001b[39m-\u001b[39mcoord_a[\u001b[39m0\u001b[39m]]\n\u001b[0;32m     <a href='vscode-notebook-cell:/c%3A/Users/yoshi/Documents/edhirata/M25/m25-napari/notebooks/test_skeleton.ipynb#ch0000019?line=19'>20</a>\u001b[0m \u001b[39m# Take the magnitude to get the length of the vector \u001b[39;00m\n\u001b[0;32m     <a href='vscode-notebook-cell:/c%3A/Users/yoshi/Documents/edhirata/M25/m25-napari/notebooks/test_skeleton.ipynb#ch0000019?line=20'>21</a>\u001b[0m norm \u001b[39m=\u001b[39m np\u001b[39m.\u001b[39msqrt(perp_line[\u001b[39m0\u001b[39m]\u001b[39m*\u001b[39mperp_line[\u001b[39m0\u001b[39m]\u001b[39m+\u001b[39mperp_line[\u001b[39m1\u001b[39m]\u001b[39m*\u001b[39mperp_line[\u001b[39m1\u001b[39m])\n",
      "\u001b[1;31mNameError\u001b[0m: name 'coord_b' is not defined"
     ]
    }
   ],
   "source": [
    "\"\"\"\n",
    "Refresh on vector calc\n",
    "https://stackoverflow.com/questions/7469959/given-2-points-how-do-i-draw-a-line-at-a-right-angle-to-the-line-formed-by-the-t/7470098#7470098\n",
    "The matrix representation of 2D transformation:\n",
    "x' = xcos(t) - ysin(t)\n",
    "y' = xsin(t)  - ycost(t)\n",
    "\n",
    "so if t =90 deg then \n",
    "x'=-y\n",
    "y'= x\n",
    "\n",
    "then normals to line segment would be:\n",
    "(-dy,dx)(dy,-dx)\n",
    "\n",
    "\"\"\"\n",
    "width = 100\n",
    "skel_perp = np.empty((2,), dtype=np.float32)\n",
    "\n",
    "perp_line = [-(coord_b[1]-coord_a[1]), coord_b[0]-coord_a[0]]\n",
    "# Take the magnitude to get the length of the vector \n",
    "norm = np.sqrt(perp_line[0]*perp_line[0]+perp_line[1]*perp_line[1])\n",
    "\n",
    "skel_perp[0] = (perp_line[0] / norm) * (width / 2)\n",
    "skel_perp[1] = (perp_line[1] / norm) * (width / 2)\n",
    "\n",
    "##Box origin is 'lower' instead of upper\n",
    "bot_l = coord_a + skel_perp\n",
    "top_l = coord_b + skel_perp\n",
    "top_r = coord_b - skel_perp # \n",
    "bot_r = coord_a - skel_perp # \n",
    "\n",
    "bbox_rect = np.array(\n",
    "    [bot_l, top_l, top_r, bot_r]\n",
    ")\n"
   ]
  },
  {
   "cell_type": "code",
   "execution_count": 470,
   "metadata": {},
   "outputs": [],
   "source": [
    "#Plotting left and right boxes\n",
    "width = 50\n",
    "skel_perp = np.empty((2,), dtype=np.float32)\n",
    "\n",
    "perp_line = [-(coord_b[1]-coord_a[1]), coord_b[0]-coord_a[0]]\n",
    "# Take the magnitude to get the length of the vector \n",
    "norm = np.sqrt(perp_line[0]*perp_line[0]+perp_line[1]*perp_line[1])\n",
    "\n",
    "#Normal to skeleton\n",
    "skel_perp[0] = (perp_line[0] / norm) * (width / 2)\n",
    "skel_perp[1] = (perp_line[1] / norm) * (width / 2)\n",
    "# skel_perp[1] = (perp_line[1] / norm) \n",
    "\n",
    "##Box origin is 'lower' instead of upper\n",
    "bot_l = coord_a + skel_perp\n",
    "top_l = coord_b + skel_perp\n",
    "top_r = coord_b - skel_perp # \n",
    "bot_r = coord_a - skel_perp # \n",
    "\n",
    "bbox_rect_left = np.array(\n",
    "    [coord_a, coord_b, top_l, bot_l]\n",
    ")\n",
    "\n",
    "bbox_rect_right = np.array(\n",
    "    [coord_a, coord_b, top_r, bot_r]\n",
    ")"
   ]
  },
  {
   "cell_type": "code",
   "execution_count": 352,
   "metadata": {},
   "outputs": [
    {
     "ename": "ValueError",
     "evalue": "The number of derivatives at boundaries does not match: expected 1, got 0+0",
     "output_type": "error",
     "traceback": [
      "\u001b[1;31m---------------------------------------------------------------------------\u001b[0m",
      "\u001b[1;31mValueError\u001b[0m                                Traceback (most recent call last)",
      "\u001b[1;32mc:\\Users\\yoshi\\Documents\\edhirata\\M25\\m25-napari\\notebooks\\test_skeleton.ipynb Cell 30'\u001b[0m in \u001b[0;36m<cell line: 3>\u001b[1;34m()\u001b[0m\n\u001b[0;32m      <a href='vscode-notebook-cell:/c%3A/Users/yoshi/Documents/edhirata/M25/m25-napari/notebooks/test_skeleton.ipynb#ch0000022?line=2'>3</a>\u001b[0m \u001b[39mfor\u001b[39;00m k \u001b[39min\u001b[39;00m \u001b[39mrange\u001b[39m(\u001b[39mlen\u001b[39m(sk_skeleton)):\n\u001b[0;32m      <a href='vscode-notebook-cell:/c%3A/Users/yoshi/Documents/edhirata/M25/m25-napari/notebooks/test_skeleton.ipynb#ch0000022?line=3'>4</a>\u001b[0m     coords \u001b[39m=\u001b[39msk_skeleton[k]\u001b[39m.\u001b[39mpath_coordinates(\u001b[39m0\u001b[39m)\n\u001b[1;32m----> <a href='vscode-notebook-cell:/c%3A/Users/yoshi/Documents/edhirata/M25/m25-napari/notebooks/test_skeleton.ipynb#ch0000022?line=4'>5</a>\u001b[0m     interp_coord \u001b[39m=\u001b[39m interpolate_skeleton(coords,\u001b[39m50\u001b[39;49m)\n\u001b[0;32m      <a href='vscode-notebook-cell:/c%3A/Users/yoshi/Documents/edhirata/M25/m25-napari/notebooks/test_skeleton.ipynb#ch0000022?line=5'>6</a>\u001b[0m     \u001b[39mfor\u001b[39;00m c_num \u001b[39min\u001b[39;00m \u001b[39mrange\u001b[39m(interp_coord\u001b[39m.\u001b[39mshape[\u001b[39m0\u001b[39m]):\n\u001b[0;32m      <a href='vscode-notebook-cell:/c%3A/Users/yoshi/Documents/edhirata/M25/m25-napari/notebooks/test_skeleton.ipynb#ch0000022?line=6'>7</a>\u001b[0m         select_coords\u001b[39m.\u001b[39mappend([k,interp_coord[c_num,\u001b[39m0\u001b[39m],interp_coord[c_num,\u001b[39m1\u001b[39m]])\n",
      "\u001b[1;32mc:\\Users\\yoshi\\Documents\\edhirata\\M25\\m25-napari\\notebooks\\test_skeleton.ipynb Cell 21'\u001b[0m in \u001b[0;36minterpolate_skeleton\u001b[1;34m(skeleton, new_dims)\u001b[0m\n\u001b[0;32m     <a href='vscode-notebook-cell:/c%3A/Users/yoshi/Documents/edhirata/M25/m25-napari/notebooks/test_skeleton.ipynb#ch0000016?line=15'>16</a>\u001b[0m         new_length \u001b[39m=\u001b[39m new_dims \u001b[39m+\u001b[39m \u001b[39m1\u001b[39m\n\u001b[0;32m     <a href='vscode-notebook-cell:/c%3A/Users/yoshi/Documents/edhirata/M25/m25-napari/notebooks/test_skeleton.ipynb#ch0000016?line=16'>17</a>\u001b[0m         new_x \u001b[39m=\u001b[39m np\u001b[39m.\u001b[39mlinspace(x\u001b[39m.\u001b[39mmin(), x\u001b[39m.\u001b[39mmax(), new_length)\n\u001b[1;32m---> <a href='vscode-notebook-cell:/c%3A/Users/yoshi/Documents/edhirata/M25/m25-napari/notebooks/test_skeleton.ipynb#ch0000016?line=17'>18</a>\u001b[0m         new_y \u001b[39m=\u001b[39m interp1d(x, y, kind\u001b[39m=\u001b[39;49m\u001b[39m\"\u001b[39;49m\u001b[39mcubic\u001b[39;49m\u001b[39m\"\u001b[39;49m)(new_x)\n\u001b[0;32m     <a href='vscode-notebook-cell:/c%3A/Users/yoshi/Documents/edhirata/M25/m25-napari/notebooks/test_skeleton.ipynb#ch0000016?line=18'>19</a>\u001b[0m         new_pos_dim\u001b[39m.\u001b[39mappend(new_y)\n\u001b[0;32m     <a href='vscode-notebook-cell:/c%3A/Users/yoshi/Documents/edhirata/M25/m25-napari/notebooks/test_skeleton.ipynb#ch0000016?line=19'>20</a>\u001b[0m new_pos \u001b[39m=\u001b[39m np\u001b[39m.\u001b[39mvstack(new_pos_dim)\u001b[39m.\u001b[39mT\n",
      "File \u001b[1;32mc:\\ProgramData\\Anaconda3\\envs\\m25-py39\\lib\\site-packages\\scipy\\interpolate\\_interpolate.py:564\u001b[0m, in \u001b[0;36minterp1d.__init__\u001b[1;34m(***failed resolving arguments***)\u001b[0m\n\u001b[0;32m    <a href='file:///c%3A/ProgramData/Anaconda3/envs/m25-py39/lib/site-packages/scipy/interpolate/_interpolate.py?line=560'>561</a>\u001b[0m         yy \u001b[39m=\u001b[39m np\u001b[39m.\u001b[39mones_like(\u001b[39mself\u001b[39m\u001b[39m.\u001b[39m_y)\n\u001b[0;32m    <a href='file:///c%3A/ProgramData/Anaconda3/envs/m25-py39/lib/site-packages/scipy/interpolate/_interpolate.py?line=561'>562</a>\u001b[0m         rewrite_nan \u001b[39m=\u001b[39m \u001b[39mTrue\u001b[39;00m\n\u001b[1;32m--> <a href='file:///c%3A/ProgramData/Anaconda3/envs/m25-py39/lib/site-packages/scipy/interpolate/_interpolate.py?line=563'>564</a>\u001b[0m \u001b[39mself\u001b[39m\u001b[39m.\u001b[39m_spline \u001b[39m=\u001b[39m make_interp_spline(xx, yy, k\u001b[39m=\u001b[39;49morder,\n\u001b[0;32m    <a href='file:///c%3A/ProgramData/Anaconda3/envs/m25-py39/lib/site-packages/scipy/interpolate/_interpolate.py?line=564'>565</a>\u001b[0m                                   check_finite\u001b[39m=\u001b[39;49m\u001b[39mFalse\u001b[39;49;00m)\n\u001b[0;32m    <a href='file:///c%3A/ProgramData/Anaconda3/envs/m25-py39/lib/site-packages/scipy/interpolate/_interpolate.py?line=565'>566</a>\u001b[0m \u001b[39mif\u001b[39;00m rewrite_nan:\n\u001b[0;32m    <a href='file:///c%3A/ProgramData/Anaconda3/envs/m25-py39/lib/site-packages/scipy/interpolate/_interpolate.py?line=566'>567</a>\u001b[0m     \u001b[39mself\u001b[39m\u001b[39m.\u001b[39m_call \u001b[39m=\u001b[39m \u001b[39mself\u001b[39m\u001b[39m.\u001b[39m\u001b[39m__class__\u001b[39m\u001b[39m.\u001b[39m_call_nan_spline\n",
      "File \u001b[1;32mc:\\ProgramData\\Anaconda3\\envs\\m25-py39\\lib\\site-packages\\scipy\\interpolate\\_bsplines.py:1326\u001b[0m, in \u001b[0;36mmake_interp_spline\u001b[1;34m(x, y, k, t, bc_type, axis, check_finite)\u001b[0m\n\u001b[0;32m   <a href='file:///c%3A/ProgramData/Anaconda3/envs/m25-py39/lib/site-packages/scipy/interpolate/_bsplines.py?line=1322'>1323</a>\u001b[0m nt \u001b[39m=\u001b[39m t\u001b[39m.\u001b[39msize \u001b[39m-\u001b[39m k \u001b[39m-\u001b[39m \u001b[39m1\u001b[39m\n\u001b[0;32m   <a href='file:///c%3A/ProgramData/Anaconda3/envs/m25-py39/lib/site-packages/scipy/interpolate/_bsplines.py?line=1324'>1325</a>\u001b[0m \u001b[39mif\u001b[39;00m nt \u001b[39m-\u001b[39m n \u001b[39m!=\u001b[39m nleft \u001b[39m+\u001b[39m nright:\n\u001b[1;32m-> <a href='file:///c%3A/ProgramData/Anaconda3/envs/m25-py39/lib/site-packages/scipy/interpolate/_bsplines.py?line=1325'>1326</a>\u001b[0m     \u001b[39mraise\u001b[39;00m \u001b[39mValueError\u001b[39;00m(\u001b[39m\"\u001b[39m\u001b[39mThe number of derivatives at boundaries does not \u001b[39m\u001b[39m\"\u001b[39m\n\u001b[0;32m   <a href='file:///c%3A/ProgramData/Anaconda3/envs/m25-py39/lib/site-packages/scipy/interpolate/_bsplines.py?line=1326'>1327</a>\u001b[0m                      \u001b[39m\"\u001b[39m\u001b[39mmatch: expected \u001b[39m\u001b[39m%s\u001b[39;00m\u001b[39m, got \u001b[39m\u001b[39m%s\u001b[39;00m\u001b[39m+\u001b[39m\u001b[39m%s\u001b[39;00m\u001b[39m\"\u001b[39m \u001b[39m%\u001b[39m (nt\u001b[39m-\u001b[39mn, nleft, nright))\n\u001b[0;32m   <a href='file:///c%3A/ProgramData/Anaconda3/envs/m25-py39/lib/site-packages/scipy/interpolate/_bsplines.py?line=1328'>1329</a>\u001b[0m \u001b[39m# set up the LHS: the collocation matrix + derivatives at boundaries\u001b[39;00m\n\u001b[0;32m   <a href='file:///c%3A/ProgramData/Anaconda3/envs/m25-py39/lib/site-packages/scipy/interpolate/_bsplines.py?line=1329'>1330</a>\u001b[0m kl \u001b[39m=\u001b[39m ku \u001b[39m=\u001b[39m k\n",
      "\u001b[1;31mValueError\u001b[0m: The number of derivatives at boundaries does not match: expected 1, got 0+0"
     ]
    }
   ],
   "source": [
    "#Make the skeleton Points\n",
    "select_coords =[]\n",
    "for k in range(len(sk_skeleton)):\n",
    "    coords =sk_skeleton[k].path_coordinates(0)\n",
    "    interp_coord = interpolate_skeleton(coords,50)\n",
    "    for c_num in range(interp_coord.shape[0]):\n",
    "        select_coords.append([k,interp_coord[c_num,0],interp_coord[c_num,1]])\n",
    "select_coords=np.array(select_coords)\n",
    "viewer.add_points(select_coords, face_color='cornflowerblue')"
   ]
  },
  {
   "cell_type": "code",
   "execution_count": 351,
   "metadata": {},
   "outputs": [],
   "source": [
    "def create_skeleton_box(coord_a,coord_b,side='center',width='100'):\n",
    "    \"\"\"\n",
    "    \n",
    "    Refresh on vector calc\n",
    "    https://stackoverflow.com/questions/7469959/given-2-points-how-do-i-draw-a-line-at-a-right-angle-to-the-line-formed-by-the-t/7470098#7470098\n",
    "    The matrix representation of 2D transformation:\n",
    "    x' = xcos(t) - ysin(t)\n",
    "    y' = xsin(t)  - ycost(t)\n",
    "\n",
    "    so if t =90 deg then \n",
    "    x'=-y\n",
    "    y'= x\n",
    "\n",
    "    then normals to line segment would be:\n",
    "    (-dy,dx)(dy,-dx)\n",
    "\n",
    "    \"\"\"\n",
    "    skeleton_norm = np.empty((2,), dtype=np.float32)\n",
    "\n",
    "    perp_line = [-(coord_b[1]-coord_a[1]), coord_b[0]-coord_a[0]]\n",
    "    # Take the magnitude to get the length of the vector \n",
    "    norm = np.sqrt(perp_line[0]*perp_line[0]+perp_line[1]*perp_line[1])\n",
    "\n",
    "    skeleton_norm[0] = (perp_line[0] / norm) * (width / 2)\n",
    "    skeleton_norm[1] = (perp_line[1] / norm) * (width / 2)\n",
    "\n",
    "    ##Box origin is 'lower' instead of upper\n",
    "    bot_l = coord_a + skeleton_norm\n",
    "    top_l = coord_b + skeleton_norm\n",
    "    top_r = coord_b - skeleton_norm # \n",
    "    bot_r = coord_a - skeleton_norm # \n",
    "\n",
    "    if side == 'L':\n",
    "        bbox_rect_left = np.array(\n",
    "            [coord_a, coord_b, top_l, bot_l]\n",
    "        )\n",
    "        return bbox_rect_left\n",
    "    elif side == 'R':\n",
    "        bbox_rect_right = np.array(\n",
    "            [coord_a, coord_b, top_r, bot_r]\n",
    "        )\n",
    "        return bbox_rect_right\n",
    "    elif side == 'LR':\n",
    "        bbox_rect_left =[coord_a, coord_b, top_l, bot_l]\n",
    "        bbox_rect_right =[coord_a, coord_b, top_r, bot_r]\n",
    "        return np.array([bbox_rect_left, bbox_rect_right])\n",
    "    elif side =='center':\n",
    "        bbox_rect = np.array(\n",
    "            [bot_l, top_l, top_r, bot_r]\n",
    "        )\n",
    "        return bbox_rect\n",
    "\n"
   ]
  },
  {
   "cell_type": "code",
   "execution_count": 334,
   "metadata": {},
   "outputs": [
    {
     "name": "stdout",
     "output_type": "stream",
     "text": [
      "[[[ 69.         209.        ]\n",
      "  [137.8        197.01114666]\n",
      "  [146.3834837  246.26887524]\n",
      "  [ 77.5834837  258.25772858]]\n",
      "\n",
      " [[ 69.         209.        ]\n",
      "  [137.8        197.01114666]\n",
      "  [129.2165163  147.75341808]\n",
      "  [ 60.4165163  159.74227142]]]\n",
      "(4, 2)\n",
      "[[0. 0.]\n",
      " [0. 0.]\n",
      " [0. 0.]\n",
      " [0. 0.]]\n",
      "(4, 4)\n",
      "[[  0.           1.          69.         209.        ]\n",
      " [  0.           1.         137.8        197.01114666]\n",
      " [  0.           1.         146.3834837  246.26887524]\n",
      " [  0.           1.          77.5834837  258.25772858]]\n"
     ]
    }
   ],
   "source": [
    "i=0\n",
    "left_box, right_box  = create_skeleton_box(interp_coord[i], interp_coord[i+1],side='LR',width=50)\n",
    "a = np.array([left_box , right_box])\n",
    "print(a)\n",
    "print(left_box.shape)\n",
    "z = np.zeros((4,2))\n",
    "left_box = np.hstack((z,left_box))\n",
    "left_box[:,1]= 1\n",
    "print(z)\n",
    "print(left_box.shape)\n",
    "print(left_box)"
   ]
  },
  {
   "cell_type": "code",
   "execution_count": 140,
   "metadata": {},
   "outputs": [
    {
     "name": "stdout",
     "output_type": "stream",
     "text": [
      "(50, 2, 4, 2)\n"
     ]
    }
   ],
   "source": [
    "k=0\n",
    "layer_boxes = []\n",
    "coords =sk_skeleton[k].path_coordinates(0)\n",
    "interp_coord = interpolate_skeleton(coords,50)\n",
    "for i in range(interp_coord.shape[0]-1):\n",
    "    left_box, right_box  = create_skeleton_box(interp_coord[i], interp_coord[i+1],side='LR',width=50)\n",
    "    layer_boxes.append([left_box , right_box])\n",
    "layer_boxes = np.array(layer_boxes)\n",
    "print(layer_boxes.shape)\n",
    "\n",
    "# viewer.add_shapes(layer_boxes[1,0]  ,edge_color='blue')\n"
   ]
  },
  {
   "cell_type": "code",
   "execution_count": 141,
   "metadata": {},
   "outputs": [
    {
     "data": {
      "text/plain": [
       "<Shapes layer 'Shapes [1]' at 0x25737033eb0>"
      ]
     },
     "execution_count": 141,
     "metadata": {},
     "output_type": "execute_result"
    }
   ],
   "source": [
    "##Plot the L and R boxes\n",
    "viewer.add_shapes(layer_boxes[:,0,:,:]  ,face_color='blue') # Left boxes\n",
    "viewer.add_shapes(layer_boxes[:,1,:,:]  ,face_color='red') # Right boxes"
   ]
  },
  {
   "cell_type": "code",
   "execution_count": 46,
   "metadata": {},
   "outputs": [
    {
     "data": {
      "text/plain": [
       "51"
      ]
     },
     "execution_count": 46,
     "metadata": {},
     "output_type": "execute_result"
    }
   ],
   "source": [
    "interp_coord.shape[0]"
   ]
  },
  {
   "cell_type": "code",
   "execution_count": 311,
   "metadata": {},
   "outputs": [
    {
     "name": "stdout",
     "output_type": "stream",
     "text": [
      "[[137.8        197.01114666]\n",
      " [206.6        199.11191896]\n",
      " [205.07398722 249.08862641]\n",
      " [136.27398722 246.98785412]]\n"
     ]
    },
    {
     "data": {
      "text/plain": [
       "(4, 2)"
      ]
     },
     "execution_count": 311,
     "metadata": {},
     "output_type": "execute_result"
    }
   ],
   "source": [
    "c_num = 1\n",
    "left_box, right_box  = create_skeleton_box(interp_coord[c_num], interp_coord[c_num+1],side='LR',width=50)\n",
    "print(left_box)\n",
    "left_box.shape"
   ]
  },
  {
   "cell_type": "code",
   "execution_count": 142,
   "metadata": {},
   "outputs": [
    {
     "ename": "ValueError",
     "evalue": "The number of derivatives at boundaries does not match: expected 1, got 0+0",
     "output_type": "error",
     "traceback": [
      "\u001b[1;31m---------------------------------------------------------------------------\u001b[0m",
      "\u001b[1;31mValueError\u001b[0m                                Traceback (most recent call last)",
      "\u001b[1;32mc:\\Users\\yoshi\\Documents\\edhirata\\M25\\m25-napari\\notebooks\\test_skeleton.ipynb Cell 29'\u001b[0m in \u001b[0;36m<cell line: 5>\u001b[1;34m()\u001b[0m\n\u001b[0;32m      <a href='vscode-notebook-cell:/c%3A/Users/yoshi/Documents/edhirata/M25/m25-napari/notebooks/test_skeleton.ipynb#ch0000032?line=4'>5</a>\u001b[0m \u001b[39mfor\u001b[39;00m k \u001b[39min\u001b[39;00m \u001b[39mrange\u001b[39m(\u001b[39mlen\u001b[39m(sk_skeleton)):\n\u001b[0;32m      <a href='vscode-notebook-cell:/c%3A/Users/yoshi/Documents/edhirata/M25/m25-napari/notebooks/test_skeleton.ipynb#ch0000032?line=5'>6</a>\u001b[0m     coords \u001b[39m=\u001b[39msk_skeleton[k]\u001b[39m.\u001b[39mpath_coordinates(\u001b[39m0\u001b[39m)\n\u001b[1;32m----> <a href='vscode-notebook-cell:/c%3A/Users/yoshi/Documents/edhirata/M25/m25-napari/notebooks/test_skeleton.ipynb#ch0000032?line=6'>7</a>\u001b[0m     interp_coord \u001b[39m=\u001b[39m interpolate_skeleton(coords,n_interpol)\n\u001b[0;32m      <a href='vscode-notebook-cell:/c%3A/Users/yoshi/Documents/edhirata/M25/m25-napari/notebooks/test_skeleton.ipynb#ch0000032?line=7'>8</a>\u001b[0m     \u001b[39mfor\u001b[39;00m c_num \u001b[39min\u001b[39;00m \u001b[39mrange\u001b[39m(interp_coord\u001b[39m.\u001b[39mshape[\u001b[39m0\u001b[39m]):\n\u001b[0;32m      <a href='vscode-notebook-cell:/c%3A/Users/yoshi/Documents/edhirata/M25/m25-napari/notebooks/test_skeleton.ipynb#ch0000032?line=8'>9</a>\u001b[0m         select_coords\u001b[39m.\u001b[39mappend([k,interp_coord[c_num,\u001b[39m0\u001b[39m],interp_coord[c_num,\u001b[39m1\u001b[39m]])\n",
      "\u001b[1;32mc:\\Users\\yoshi\\Documents\\edhirata\\M25\\m25-napari\\notebooks\\test_skeleton.ipynb Cell 17'\u001b[0m in \u001b[0;36minterpolate_skeleton\u001b[1;34m(skeleton, new_dims)\u001b[0m\n\u001b[0;32m     <a href='vscode-notebook-cell:/c%3A/Users/yoshi/Documents/edhirata/M25/m25-napari/notebooks/test_skeleton.ipynb#ch0000016?line=17'>18</a>\u001b[0m         new_length \u001b[39m=\u001b[39m new_dims \u001b[39m+\u001b[39m \u001b[39m1\u001b[39m\n\u001b[0;32m     <a href='vscode-notebook-cell:/c%3A/Users/yoshi/Documents/edhirata/M25/m25-napari/notebooks/test_skeleton.ipynb#ch0000016?line=18'>19</a>\u001b[0m         new_x \u001b[39m=\u001b[39m np\u001b[39m.\u001b[39mlinspace(x\u001b[39m.\u001b[39mmin(), x\u001b[39m.\u001b[39mmax(), new_length)\n\u001b[1;32m---> <a href='vscode-notebook-cell:/c%3A/Users/yoshi/Documents/edhirata/M25/m25-napari/notebooks/test_skeleton.ipynb#ch0000016?line=19'>20</a>\u001b[0m         new_y \u001b[39m=\u001b[39m interp1d(x, y, kind\u001b[39m=\u001b[39;49m\u001b[39m\"\u001b[39;49m\u001b[39mcubic\u001b[39;49m\u001b[39m\"\u001b[39;49m)(new_x)\n\u001b[0;32m     <a href='vscode-notebook-cell:/c%3A/Users/yoshi/Documents/edhirata/M25/m25-napari/notebooks/test_skeleton.ipynb#ch0000016?line=20'>21</a>\u001b[0m         new_pos_dim\u001b[39m.\u001b[39mappend(new_y)\n\u001b[0;32m     <a href='vscode-notebook-cell:/c%3A/Users/yoshi/Documents/edhirata/M25/m25-napari/notebooks/test_skeleton.ipynb#ch0000016?line=21'>22</a>\u001b[0m new_pos \u001b[39m=\u001b[39m np\u001b[39m.\u001b[39mvstack(new_pos_dim)\u001b[39m.\u001b[39mT\n",
      "File \u001b[1;32mc:\\ProgramData\\Anaconda3\\envs\\m25-py39\\lib\\site-packages\\scipy\\interpolate\\_interpolate.py:564\u001b[0m, in \u001b[0;36minterp1d.__init__\u001b[1;34m(***failed resolving arguments***)\u001b[0m\n\u001b[0;32m    <a href='file:///c%3A/ProgramData/Anaconda3/envs/m25-py39/lib/site-packages/scipy/interpolate/_interpolate.py?line=560'>561</a>\u001b[0m         yy \u001b[39m=\u001b[39m np\u001b[39m.\u001b[39mones_like(\u001b[39mself\u001b[39m\u001b[39m.\u001b[39m_y)\n\u001b[0;32m    <a href='file:///c%3A/ProgramData/Anaconda3/envs/m25-py39/lib/site-packages/scipy/interpolate/_interpolate.py?line=561'>562</a>\u001b[0m         rewrite_nan \u001b[39m=\u001b[39m \u001b[39mTrue\u001b[39;00m\n\u001b[1;32m--> <a href='file:///c%3A/ProgramData/Anaconda3/envs/m25-py39/lib/site-packages/scipy/interpolate/_interpolate.py?line=563'>564</a>\u001b[0m \u001b[39mself\u001b[39m\u001b[39m.\u001b[39m_spline \u001b[39m=\u001b[39m make_interp_spline(xx, yy, k\u001b[39m=\u001b[39;49morder,\n\u001b[0;32m    <a href='file:///c%3A/ProgramData/Anaconda3/envs/m25-py39/lib/site-packages/scipy/interpolate/_interpolate.py?line=564'>565</a>\u001b[0m                                   check_finite\u001b[39m=\u001b[39;49m\u001b[39mFalse\u001b[39;49;00m)\n\u001b[0;32m    <a href='file:///c%3A/ProgramData/Anaconda3/envs/m25-py39/lib/site-packages/scipy/interpolate/_interpolate.py?line=565'>566</a>\u001b[0m \u001b[39mif\u001b[39;00m rewrite_nan:\n\u001b[0;32m    <a href='file:///c%3A/ProgramData/Anaconda3/envs/m25-py39/lib/site-packages/scipy/interpolate/_interpolate.py?line=566'>567</a>\u001b[0m     \u001b[39mself\u001b[39m\u001b[39m.\u001b[39m_call \u001b[39m=\u001b[39m \u001b[39mself\u001b[39m\u001b[39m.\u001b[39m\u001b[39m__class__\u001b[39m\u001b[39m.\u001b[39m_call_nan_spline\n",
      "File \u001b[1;32mc:\\ProgramData\\Anaconda3\\envs\\m25-py39\\lib\\site-packages\\scipy\\interpolate\\_bsplines.py:1326\u001b[0m, in \u001b[0;36mmake_interp_spline\u001b[1;34m(x, y, k, t, bc_type, axis, check_finite)\u001b[0m\n\u001b[0;32m   <a href='file:///c%3A/ProgramData/Anaconda3/envs/m25-py39/lib/site-packages/scipy/interpolate/_bsplines.py?line=1322'>1323</a>\u001b[0m nt \u001b[39m=\u001b[39m t\u001b[39m.\u001b[39msize \u001b[39m-\u001b[39m k \u001b[39m-\u001b[39m \u001b[39m1\u001b[39m\n\u001b[0;32m   <a href='file:///c%3A/ProgramData/Anaconda3/envs/m25-py39/lib/site-packages/scipy/interpolate/_bsplines.py?line=1324'>1325</a>\u001b[0m \u001b[39mif\u001b[39;00m nt \u001b[39m-\u001b[39m n \u001b[39m!=\u001b[39m nleft \u001b[39m+\u001b[39m nright:\n\u001b[1;32m-> <a href='file:///c%3A/ProgramData/Anaconda3/envs/m25-py39/lib/site-packages/scipy/interpolate/_bsplines.py?line=1325'>1326</a>\u001b[0m     \u001b[39mraise\u001b[39;00m \u001b[39mValueError\u001b[39;00m(\u001b[39m\"\u001b[39m\u001b[39mThe number of derivatives at boundaries does not \u001b[39m\u001b[39m\"\u001b[39m\n\u001b[0;32m   <a href='file:///c%3A/ProgramData/Anaconda3/envs/m25-py39/lib/site-packages/scipy/interpolate/_bsplines.py?line=1326'>1327</a>\u001b[0m                      \u001b[39m\"\u001b[39m\u001b[39mmatch: expected \u001b[39m\u001b[39m%s\u001b[39;00m\u001b[39m, got \u001b[39m\u001b[39m%s\u001b[39;00m\u001b[39m+\u001b[39m\u001b[39m%s\u001b[39;00m\u001b[39m\"\u001b[39m \u001b[39m%\u001b[39m (nt\u001b[39m-\u001b[39mn, nleft, nright))\n\u001b[0;32m   <a href='file:///c%3A/ProgramData/Anaconda3/envs/m25-py39/lib/site-packages/scipy/interpolate/_bsplines.py?line=1328'>1329</a>\u001b[0m \u001b[39m# set up the LHS: the collocation matrix + derivatives at boundaries\u001b[39;00m\n\u001b[0;32m   <a href='file:///c%3A/ProgramData/Anaconda3/envs/m25-py39/lib/site-packages/scipy/interpolate/_bsplines.py?line=1329'>1330</a>\u001b[0m kl \u001b[39m=\u001b[39m ku \u001b[39m=\u001b[39m k\n",
      "\u001b[1;31mValueError\u001b[0m: The number of derivatives at boundaries does not match: expected 1, got 0+0"
     ]
    }
   ],
   "source": [
    "##Combining both coordinate interpolation with boxes\n",
    "select_coords =[]\n",
    "layer_boxes = []\n",
    "n_interpol = 15\n",
    "for k in range(len(sk_skeleton)):\n",
    "    coords =sk_skeleton[k].path_coordinates(0)\n",
    "    interp_coord = interpolate_skeleton(coords,n_interpol)\n",
    "    for c_num in range(interp_coord.shape[0]):\n",
    "        select_coords.append([k,interp_coord[c_num,0],interp_coord[c_num,1]])\n",
    "        if c_num<(interp_coord.shape[0]-1):\n",
    "            left_box, right_box  = create_skeleton_box(interp_coord[c_num], interp_coord[c_num+1],side='LR',width=50)\n",
    "            two_column = np.zeros((4,2))\n",
    "            left_box = np.hstack((two_column,left_box))\n",
    "            right_box = np.hstack((two_column,right_box))\n",
    "            left_box[:,1]= k\n",
    "            right_box[:,1]=k\n",
    "            layer_boxes.append([left_box , right_box])\n",
    "select_coords=np.array(select_coords)\n",
    "layer_boxes = np.array(layer_boxes)\n",
    "#Plot skeleton interpolation points\n",
    "viewer.add_points(select_coords, face_color='cornflowerblue')\n",
    "##Plot the L and R boxes\n",
    "viewer.add_shapes(layer_boxes[:,0]  ,face_color='blue') # Left boxes\n",
    "viewer.add_shapes(layer_boxes[:,1],face_color='red') # Right boxes\n"
   ]
  },
  {
   "cell_type": "code",
   "execution_count": 357,
   "metadata": {},
   "outputs": [
    {
     "data": {
      "text/plain": [
       "array([  0.        ,   0.        ,  69.        , 204.99248348])"
      ]
     },
     "execution_count": 357,
     "metadata": {},
     "output_type": "execute_result"
    }
   ],
   "source": [
    "## Retreiving measurements from Boxes\n",
    "left_box_stack = layer_boxes[:,0]\n",
    "left_box_stack[0,:].min(axis=0)\n"
   ]
  },
  {
   "cell_type": "code",
   "execution_count": 363,
   "metadata": {},
   "outputs": [
    {
     "name": "stdout",
     "output_type": "stream",
     "text": [
      "[[[  0.           0.          69.         209.        ]\n",
      "  [  0.           0.          92.13333333 204.99248348]\n",
      "  [  0.           0.          83.59867204 155.72627102]\n",
      "  [  0.           0.          60.46533871 159.73378754]]]\n",
      "[[ 69.         209.        ]\n",
      " [ 92.13333333 204.99248348]\n",
      " [ 83.59867204 155.72627102]\n",
      " [ 60.46533871 159.73378754]]\n"
     ]
    }
   ],
   "source": [
    "print(layer_boxes[0,1:])\n",
    "print(layer_boxes[0,1,0:,2:])"
   ]
  },
  {
   "cell_type": "code",
   "execution_count": null,
   "metadata": {},
   "outputs": [],
   "source": [
    "def make_box(roi_box,image):\n",
    "    num_boxes = roi_box.shape\n",
    "    for i in num_boxes:\n",
    "        min_val = bbox_rect_right.min(axis=0)\n",
    "        max_val = bbox_rect_right.max(axis=0)\n",
    "        tl = np.array([min_val[0], min_val[1]])\n",
    "        br = np.array([max_val[0], max_val[1]])\n",
    "        box = np.round(np.array([tl, br])).astype(int)"
   ]
  },
  {
   "cell_type": "code",
   "execution_count": 385,
   "metadata": {},
   "outputs": [
    {
     "data": {
      "text/plain": [
       "(2100, 2, 4, 4)"
      ]
     },
     "execution_count": 385,
     "metadata": {},
     "output_type": "execute_result"
    }
   ],
   "source": [
    "layer_boxes.shape"
   ]
  },
  {
   "cell_type": "code",
   "execution_count": 383,
   "metadata": {},
   "outputs": [
    {
     "name": "stdout",
     "output_type": "stream",
     "text": [
      "[[ 69.         209.        ]\n",
      " [ 92.13333333 204.99248348]\n",
      " [ 83.59867204 155.72627102]\n",
      " [ 60.46533871 159.73378754]]\n",
      "[ 60.46533871 155.72627102]\n",
      "[ 92.13333333 209.        ]\n",
      "[[ 60 156]\n",
      " [ 92 209]]\n",
      "92\n"
     ]
    }
   ],
   "source": [
    "bbox_rect_right= layer_boxes[0,1,0:,2:]\n",
    "min_val = bbox_rect_right.min(axis=0)\n",
    "max_val = bbox_rect_right.max(axis=0)\n",
    "tl = np.array([min_val[0], min_val[1]])\n",
    "br = np.array([max_val[0], max_val[1]])\n",
    "box = np.round(np.array([tl, br])).astype(int)\n",
    "print(bbox_rect_right)\n",
    "print(tl)\n",
    "print(br)\n",
    "print(box)\n",
    "print(box[1,0])"
   ]
  },
  {
   "cell_type": "code",
   "execution_count": 505,
   "metadata": {},
   "outputs": [
    {
     "name": "stdout",
     "output_type": "stream",
     "text": [
      "1248.9526542324247 4304\n"
     ]
    }
   ],
   "source": [
    "# import analysis_utils as au\n",
    "\n",
    "img = crop_stack[:,:,box[0,0]:box[1,0],box[0,1]:box[1,1]]\n",
    "roi_mean = img.mean()\n",
    "roi_max = img.max()\n",
    "print(roi_mean.compute(),roi_max.compute())"
   ]
  },
  {
   "cell_type": "code",
   "execution_count": 381,
   "metadata": {},
   "outputs": [
    {
     "name": "stdout",
     "output_type": "stream",
     "text": [
      "(2, 4, 4)\n",
      "[[[  0.           0.         330.0198765   69.53220533]\n",
      "  [  0.           0.         330.0198765  202.44669227]\n",
      "  [  0.           0.         437.24500882 202.44669227]\n",
      "  [  0.           0.         437.24500882  69.53220533]]\n",
      "\n",
      " [[  0.           0.         386.98322805 287.33325535]\n",
      "  [  0.           0.         386.98322805 443.70323998]\n",
      "  [  0.           0.         469.63593421 443.70323998]\n",
      "  [  0.           0.         469.63593421 287.33325535]]]\n",
      "[330.0198765  330.0198765  437.24500882 437.24500882] [0. 0. 0. 0.]\n"
     ]
    }
   ],
   "source": [
    "## Example to show how shapes are stored\n",
    "a =np.array(viewer.layers['Shapes [2]'].data)\n",
    "a0= viewer.layers['Shapes [2]'].data[0]\n",
    "print(a.shape)\n",
    "print(a)\n",
    "# print(a0[:,2], a0[:,1])\n"
   ]
  },
  {
   "cell_type": "code",
   "execution_count": null,
   "metadata": {},
   "outputs": [],
   "source": []
  },
  {
   "cell_type": "markdown",
   "metadata": {},
   "source": [
    "### PLAYGROUND"
   ]
  },
  {
   "cell_type": "code",
   "execution_count": null,
   "metadata": {},
   "outputs": [],
   "source": [
    "## Attempt to get the coordinates of the skeleton however they are already sorted so only way to do this is with interpolation\n",
    "# select_coords =[]\n",
    "# path_length = []\n",
    "# id =[]\n",
    "# for k in range(len(sk_skeleton)):\n",
    "#     length = sk_skeleton[k].path_lengths()\n",
    "#     # path_length.append(length)\n",
    "#     for index,item in enumerate(sk_skeleton[k].coordinates):\n",
    "#         if index%(int(length[0]/5)) ==0:\n",
    "#             # id.append(index)\n",
    "#             select_coords.append([k,item[0],item[1]])\n",
    "# # select_coords = np.array(select_coords)\n",
    "# print(id)\n",
    "# print(path_length)"
   ]
  },
  {
   "cell_type": "code",
   "execution_count": null,
   "metadata": {},
   "outputs": [],
   "source": [
    "from skan import summarize\n",
    "#Attempting to plot multiple points in skeleton\n",
    "i=0\n",
    "branch = summarize(sk_skeleton[i])\n",
    "branch.head()\n",
    "img_t =crop_stack[:,0,:,:]\n",
    "img_t =np.squeeze(img_t)\n",
    "# branch.hist(column='branch-distance', by='branch-type', bins=100);\n",
    "draw.overlay_euclidean_skeleton_2d(img_t, branch,\n",
    "                                   skeleton_color_source='branch-type');"
   ]
  },
  {
   "cell_type": "code",
   "execution_count": null,
   "metadata": {},
   "outputs": [],
   "source": [
    "from scipy.ndimage import distance_transform_edt\n",
    "sk_skeleton[0].coo\n",
    "distance_transform_edt()"
   ]
  },
  {
   "cell_type": "code",
   "execution_count": 402,
   "metadata": {},
   "outputs": [
    {
     "name": "stdout",
     "output_type": "stream",
     "text": [
      "(200, 608, 608)\n"
     ]
    }
   ],
   "source": [
    "binary_stack_filled_1=np.squeeze(binary_stack_filled)\n",
    "print(binary_stack_filled_1.shape)"
   ]
  },
  {
   "cell_type": "code",
   "execution_count": 416,
   "metadata": {},
   "outputs": [],
   "source": [
    "from skimage.measure import label, regionprops_table\n",
    "\n",
    "properties = regionprops_table(\n",
    "    binary_stack_filled_1[0].astype(np.uint8), properties=('label', 'bbox', 'perimeter', 'area')\n",
    ")\n",
    "\n",
    "#Addinc circularity to the table\n",
    "properties['circularity'] = circularity(\n",
    "    properties['perimeter'], properties['area']\n",
    ")\n",
    "\n",
    "bbox_rects = make_bbox([properties[f'bbox-{i}'] for i in range(4)])\n",
    "\n",
    "# specify the display parameters for the text\n",
    "text_parameters = {\n",
    "    'string': 'label: {label}\\ncirc: {circularity:.2f}',\n",
    "    'size': 12,\n",
    "    'color': 'green',\n",
    "    'anchor': 'upper_left',\n",
    "    'translation': [-3, 0],\n",
    "}\n",
    "\n",
    "shapes_layer = viewer.add_shapes(\n",
    "    bbox_rects,\n",
    "    face_color='transparent',\n",
    "    edge_color='green',\n",
    "    properties=properties,\n",
    "    text=text_parameters,\n",
    "    name='bounding box',\n",
    ")"
   ]
  },
  {
   "cell_type": "code",
   "execution_count": 414,
   "metadata": {},
   "outputs": [],
   "source": [
    "def make_bbox(coord_a,coord_b,width):\n",
    "    \"\"\"Get the coordinates of the corners of a\n",
    "    bounding box from the extents\n",
    "\n",
    "    Parameters\n",
    "    ----------\n",
    "    bbox_extents : list (4xN)\n",
    "        List of the extents of the bounding boxes for each of the N regions.\n",
    "        Should be ordered: [min_row, min_column, max_row, max_column]\n",
    "\n",
    "    Returns\n",
    "    -------\n",
    "    bbox_rect : np.ndarray\n",
    "        The corners of the bounding box. Can be input directly into a\n",
    "        napari Shapes layer.\n",
    "    \"\"\"\n",
    "    # preallocates some internal data structures\n",
    "    skel_perp = np.empty((2,), dtype=np.float32)\n",
    "\n",
    "    perp_line = [-(coord_b[1]-coord_a[1]), coord_b[0]-coord_a[0]]\n",
    "    norm = np.sqrt(perp_line[0]*perp_line[0]+perp_line[1]*perp_line[1])\n",
    "\n",
    "    skel_perp[0] = (perp_line[0] / norm) * (width / 2)\n",
    "    skel_perp[1] = (perp_line[1] / norm) * (width / 2)\n",
    "\n",
    "    minr = coord_a + skel_perp\n",
    "    minc = coord_b + skel_perp\n",
    "    maxr = coord_b - skel_perp\n",
    "    maxc = coord_a - skel_perp\n",
    "\n",
    "    bbox_rect = np.array(\n",
    "        [[minr, minc], [maxr, minc], [maxr, maxc], [minr, maxc]]\n",
    "    )\n",
    "    bbox_rect = np.moveaxis(bbox_rect, 2, 0)\n",
    "\n",
    "    return bbox_rect"
   ]
  },
  {
   "cell_type": "code",
   "execution_count": 391,
   "metadata": {},
   "outputs": [
    {
     "data": {
      "text/plain": [
       "<Points layer 'select_coords' at 0x12431f1b910>"
      ]
     },
     "execution_count": 391,
     "metadata": {},
     "output_type": "execute_result"
    }
   ],
   "source": [
    "viewer.add_points(select_coords, face_color='cornflowerblue')"
   ]
  },
  {
   "cell_type": "code",
   "execution_count": 386,
   "metadata": {},
   "outputs": [],
   "source": [
    "import pims\n",
    "import trackpy as tp"
   ]
  },
  {
   "cell_type": "code",
   "execution_count": null,
   "metadata": {},
   "outputs": [],
   "source": [
    "features = tp.locate(np_stack[12], diameter=(7,7,7), threshold =84,minmass=11000, separation= (3,1,1))\n",
    "print('Features found: {0}'.format(len(features)))\n",
    "tp.subpx_bias(features)\n",
    "print('Features found: {0}'.format(len(features)))\n",
    "features.head()"
   ]
  },
  {
   "cell_type": "code",
   "execution_count": null,
   "metadata": {},
   "outputs": [],
   "source": [
    "test =tp.annotate3d(features,np_stack[1],color=None)\n",
    "test3 =np.array(test[:,np.newaxis,:,:,:])\n",
    "test3 = np.swapaxes(test3,1,4)\n",
    "test3 = np.squeeze(test3)\n",
    "\n",
    "wo.image_stack_viewer(np.clip(test3,0,0.5),colormap='viridis')"
   ]
  },
  {
   "cell_type": "code",
   "execution_count": null,
   "metadata": {},
   "outputs": [],
   "source": [
    "volume = tp.batch(np_stack, diameter=(7,7,7), threshold =84,minmass=11000, separation= (3,1,1))\n"
   ]
  },
  {
   "cell_type": "code",
   "execution_count": null,
   "metadata": {},
   "outputs": [
    {
     "data": {
      "text/plain": [
       "<Image layer 'dask_raw_ds [1]' at 0x12432fa3760>"
      ]
     },
     "metadata": {},
     "output_type": "display_data"
    }
   ],
   "source": [
    "linked = tp.link_df(volume, 2.5, pos_columns=['xum', 'yum', 'zum'])\n",
    "msd3D = tp.emsd(linked, mpp=1, fps=40, max_lagtime=20,\n",
    "                pos_columns=['xum', 'yum', 'zum'])\n",
    "ax = msd3D.plot(style='o', label='MSD in 3D')\n",
    "ax.set_ylabel(r'$\\langle \\Delta r^2 \\rangle$ [$\\mu$m$^2$]')\n",
    "ax.set_xlabel('lag time $t$')\n",
    "# ax.set_xlim(0, 16)\n",
    "# ax.set_ylim(0, 20)\n",
    "ax.legend(loc='upper left');"
   ]
  },
  {
   "cell_type": "code",
   "execution_count": null,
   "metadata": {},
   "outputs": [],
   "source": [
    "data = linked.loc[:,['particle','frame','z','y','x']]\n",
    "data = data.dropna(axis=0)\n",
    "data= data.to_numpy()\n",
    "print(data)\n",
    "\n",
    "properties = linked.loc[:,['mass', 'size_z', 'size_y', 'size_x','signal','raw_mass','ep_z','ep_y','ep_x']]"
   ]
  },
  {
   "cell_type": "code",
   "execution_count": null,
   "metadata": {},
   "outputs": [],
   "source": [
    "viewer.add_points(data[:,1:], size=1,name='particles',face_color='white',\n",
    "edge_color= '#ff55ff', scale=[1,z_scale,1,1])"
   ]
  },
  {
   "cell_type": "code",
   "execution_count": null,
   "metadata": {},
   "outputs": [],
   "source": [
    "viewer.add_tracks(data, scale=[z_scale,1,1])"
   ]
  },
  {
   "cell_type": "code",
   "execution_count": null,
   "metadata": {},
   "outputs": [],
   "source": []
  }
 ],
 "metadata": {
  "interpreter": {
   "hash": "878029549b53aa9ebb479ccfe4cbae23294313f8d80180daac9c94068a5c60b8"
  },
  "kernelspec": {
   "display_name": "Python 3.9.12 ('m25-py39')",
   "language": "python",
   "name": "python3"
  },
  "language_info": {
   "codemirror_mode": {
    "name": "ipython",
    "version": 3
   },
   "file_extension": ".py",
   "mimetype": "text/x-python",
   "name": "python",
   "nbconvert_exporter": "python",
   "pygments_lexer": "ipython3",
   "version": "3.9.12"
  },
  "orig_nbformat": 4
 },
 "nbformat": 4,
 "nbformat_minor": 2
}
