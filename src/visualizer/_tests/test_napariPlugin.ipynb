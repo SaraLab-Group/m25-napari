{
 "cells": [
  {
   "cell_type": "code",
   "execution_count": 4,
   "id": "d85f975e-5cc6-4d4e-9cfb-e87a9521174c",
   "metadata": {},
   "outputs": [
    {
     "name": "stdout",
     "output_type": "stream",
     "text": [
      "[WinError 123] The filename, directory name, or volume label syntax is incorrect: \"r'C:\\\\Users\\\\Callisto\\\\Documents\\\\edhirata\\\\tutorials\\\\M25_napari'\"\n",
      "C:\\Users\\Callisto\\Documents\\edhirata\\tutorials\\M25_napari\\src\\visualizer\\_tests\n"
     ]
    }
   ],
   "source": [
    "cd r'C:\\Users\\Callisto\\Documents\\edhirata\\tutorials\\M25_napari'"
   ]
  },
  {
   "cell_type": "code",
   "execution_count": 5,
   "id": "65864782-1067-4543-a7b4-8dbf6f3d3476",
   "metadata": {},
   "outputs": [],
   "source": [
    "import napari"
   ]
  },
  {
   "cell_type": "code",
   "execution_count": 6,
   "id": "cb0124e9-d9c5-4c32-bd24-6cd2c0c87cc6",
   "metadata": {},
   "outputs": [
    {
     "ename": "ModuleNotFoundError",
     "evalue": "No module named 'visualizer'",
     "output_type": "error",
     "traceback": [
      "\u001b[1;31m---------------------------------------------------------------------------\u001b[0m",
      "\u001b[1;31mModuleNotFoundError\u001b[0m                       Traceback (most recent call last)",
      "\u001b[1;32m~\\AppData\\Local\\Temp/ipykernel_16256/70956397.py\u001b[0m in \u001b[0;36m<module>\u001b[1;34m\u001b[0m\n\u001b[1;32m----> 1\u001b[1;33m \u001b[1;32mimport\u001b[0m \u001b[0mvisualizer\u001b[0m\u001b[1;33m\u001b[0m\u001b[1;33m\u001b[0m\u001b[0m\n\u001b[0m\u001b[0;32m      2\u001b[0m \u001b[1;32mimport\u001b[0m \u001b[0mpytest\u001b[0m\u001b[1;33m\u001b[0m\u001b[1;33m\u001b[0m\u001b[0m\n\u001b[0;32m      3\u001b[0m \u001b[1;33m\u001b[0m\u001b[0m\n\u001b[0;32m      4\u001b[0m \u001b[1;31m# this is your plugin name declared in your napari.plugins entry point\u001b[0m\u001b[1;33m\u001b[0m\u001b[1;33m\u001b[0m\u001b[1;33m\u001b[0m\u001b[0m\n\u001b[0;32m      5\u001b[0m \u001b[0mMY_PLUGIN_NAME\u001b[0m \u001b[1;33m=\u001b[0m \u001b[1;34m\"m25-napari\"\u001b[0m\u001b[1;33m\u001b[0m\u001b[1;33m\u001b[0m\u001b[0m\n",
      "\u001b[1;31mModuleNotFoundError\u001b[0m: No module named 'visualizer'"
     ]
    }
   ],
   "source": [
    "import visualizer\n",
    "import pytest\n",
    "\n",
    "# this is your plugin name declared in your napari.plugins entry point\n",
    "MY_PLUGIN_NAME = \"m25-napari\"\n",
    "# the name of your widget(s)\n",
    "MY_WIDGET_NAMES = [\"M25Controls\"]\n",
    "\n",
    "\n",
    "@pytest.mark.parametrize(\"widget_name\", MY_WIDGET_NAMES)\n",
    "def test_something_with_viewer(widget_name, make_napari_viewer):\n",
    "    viewer = make_napari_viewer()\n",
    "    num_dw = len(viewer.window._dock_widgets)\n",
    "    viewer.window.add_plugin_dock_widget(\n",
    "        plugin_name=MY_PLUGIN_NAME, widget_name=widget_name\n",
    "    )\n",
    "    assert len(viewer.window._dock_widgets) == num_dw + 1\n",
    "\n"
   ]
  },
  {
   "cell_type": "code",
   "execution_count": 7,
   "id": "023ff075-2b8d-49e7-baa8-b0980f083e57",
   "metadata": {},
   "outputs": [
    {
     "data": {
      "text/plain": [
       "'C:\\\\Users\\\\Callisto\\\\Documents\\\\edhirata\\\\tutorials\\\\M25_napari\\\\src\\\\visualizer\\\\_tests'"
      ]
     },
     "execution_count": 7,
     "metadata": {},
     "output_type": "execute_result"
    }
   ],
   "source": [
    "pwd"
   ]
  },
  {
   "cell_type": "code",
   "execution_count": null,
   "id": "eb31c567-3242-4183-aae6-2e78999a1d40",
   "metadata": {},
   "outputs": [],
   "source": []
  }
 ],
 "metadata": {
  "kernelspec": {
   "display_name": "Python 3 (ipykernel)",
   "language": "python",
   "name": "python3"
  },
  "language_info": {
   "codemirror_mode": {
    "name": "ipython",
    "version": 3
   },
   "file_extension": ".py",
   "mimetype": "text/x-python",
   "name": "python",
   "nbconvert_exporter": "python",
   "pygments_lexer": "ipython3",
   "version": "3.8.12"
  }
 },
 "nbformat": 4,
 "nbformat_minor": 5
}
