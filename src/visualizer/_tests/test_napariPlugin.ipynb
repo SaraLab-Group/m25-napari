{
 "cells": [
  {
   "cell_type": "code",
   "execution_count": 1,
   "id": "65864782-1067-4543-a7b4-8dbf6f3d3476",
   "metadata": {},
   "outputs": [],
   "source": [
    "import napari"
   ]
  },
  {
   "cell_type": "code",
   "execution_count": 3,
   "id": "cb0124e9-d9c5-4c32-bd24-6cd2c0c87cc6",
   "metadata": {},
   "outputs": [],
   "source": [
    "#import visualizer\n",
    "import pytest\n",
    "\n",
    "# this is your plugin name declared in your napari.plugins entry point\n",
    "MY_PLUGIN_NAME = \"m25-napari\"\n",
    "# the name of your widget(s)\n",
    "MY_WIDGET_NAMES = [\"M25Controls\"]\n",
    "\n",
    "\n",
    "@pytest.mark.parametrize(\"widget_name\", MY_WIDGET_NAMES)\n",
    "def test_something_with_viewer(widget_name, make_napari_viewer):\n",
    "    viewer = make_napari_viewer()\n",
    "    num_dw = len(viewer.window._dock_widgets)\n",
    "    viewer.window.add_plugin_dock_widget(\n",
    "        plugin_name=MY_PLUGIN_NAME, widget_name=widget_name\n",
    "    )\n",
    "    assert len(viewer.window._dock_widgets) == num_dw + 1\n",
    "\n"
   ]
  },
  {
   "cell_type": "code",
   "execution_count": 7,
   "id": "023ff075-2b8d-49e7-baa8-b0980f083e57",
   "metadata": {},
   "outputs": [
    {
     "data": {
      "text/plain": [
       "'C:\\\\Users\\\\max.sen\\\\github\\\\m25-napari\\\\src\\\\visualizer\\\\_tests'"
      ]
     },
     "execution_count": 7,
     "metadata": {},
     "output_type": "execute_result"
    }
   ],
   "source": [
    "pwd"
   ]
  },
  {
   "cell_type": "code",
   "execution_count": null,
   "id": "eb31c567-3242-4183-aae6-2e78999a1d40",
   "metadata": {},
   "outputs": [],
   "source": []
  }
 ],
 "metadata": {
  "kernelspec": {
   "display_name": "Python 3 (ipykernel)",
   "language": "python",
   "name": "python3"
  },
  "language_info": {
   "codemirror_mode": {
    "name": "ipython",
    "version": 3
   },
   "file_extension": ".py",
   "mimetype": "text/x-python",
   "name": "python",
   "nbconvert_exporter": "python",
   "pygments_lexer": "ipython3",
   "version": "3.9.16"
  }
 },
 "nbformat": 4,
 "nbformat_minor": 5
}
